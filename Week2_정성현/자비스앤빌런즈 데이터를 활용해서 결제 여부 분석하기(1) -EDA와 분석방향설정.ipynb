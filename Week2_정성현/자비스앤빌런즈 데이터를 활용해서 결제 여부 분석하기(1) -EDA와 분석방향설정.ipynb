{
 "cells": [
  {
   "cell_type": "markdown",
   "metadata": {},
   "source": [
    "주어진 문제\n",
    "1. 고객의 결제여부에 영향을 미치는 요인들은 무엇인가요?\n",
    "2. 고객의 수수료 결제금액의 합을 높히기 위해서는 어떻게 해야 할까요?"
   ]
  },
  {
   "cell_type": "code",
   "execution_count": 282,
   "metadata": {},
   "outputs": [],
   "source": [
    "import pandas as pd\n",
    "import matplotlib.pyplot as plt\n",
    "import seaborn as sns\n",
    "import numpy as np\n",
    "plt.rc('font', family='Malgun Gothic')\n",
    "plt.rcParams['axes.unicode_minus'] = False"
   ]
  },
  {
   "cell_type": "code",
   "execution_count": 283,
   "metadata": {},
   "outputs": [
    {
     "data": {
      "text/html": [
       "<div>\n",
       "<style scoped>\n",
       "    .dataframe tbody tr th:only-of-type {\n",
       "        vertical-align: middle;\n",
       "    }\n",
       "\n",
       "    .dataframe tbody tr th {\n",
       "        vertical-align: top;\n",
       "    }\n",
       "\n",
       "    .dataframe thead th {\n",
       "        text-align: right;\n",
       "    }\n",
       "</style>\n",
       "<table border=\"1\" class=\"dataframe\">\n",
       "  <thead>\n",
       "    <tr style=\"text-align: right;\">\n",
       "      <th></th>\n",
       "      <th>age</th>\n",
       "      <th>gender</th>\n",
       "      <th>year</th>\n",
       "      <th>refund</th>\n",
       "      <th>fee</th>\n",
       "      <th>has_paid</th>\n",
       "      <th>income_근로</th>\n",
       "      <th>income_사업</th>\n",
       "      <th>income_기타</th>\n",
       "    </tr>\n",
       "  </thead>\n",
       "  <tbody>\n",
       "    <tr>\n",
       "      <th>0</th>\n",
       "      <td>27.0</td>\n",
       "      <td>F</td>\n",
       "      <td>2019</td>\n",
       "      <td>5000.0</td>\n",
       "      <td>400.0</td>\n",
       "      <td>False</td>\n",
       "      <td>10001000.0</td>\n",
       "      <td>61000.0</td>\n",
       "      <td>NaN</td>\n",
       "    </tr>\n",
       "    <tr>\n",
       "      <th>1</th>\n",
       "      <td>34.0</td>\n",
       "      <td>M</td>\n",
       "      <td>2018</td>\n",
       "      <td>100000.0</td>\n",
       "      <td>1700.0</td>\n",
       "      <td>True</td>\n",
       "      <td>18092000.0</td>\n",
       "      <td>NaN</td>\n",
       "      <td>1815000.0</td>\n",
       "    </tr>\n",
       "    <tr>\n",
       "      <th>2</th>\n",
       "      <td>28.0</td>\n",
       "      <td>F</td>\n",
       "      <td>2017</td>\n",
       "      <td>289000.0</td>\n",
       "      <td>11500.0</td>\n",
       "      <td>False</td>\n",
       "      <td>NaN</td>\n",
       "      <td>1461000.0</td>\n",
       "      <td>NaN</td>\n",
       "    </tr>\n",
       "    <tr>\n",
       "      <th>3</th>\n",
       "      <td>27.0</td>\n",
       "      <td>M</td>\n",
       "      <td>2019</td>\n",
       "      <td>410000.0</td>\n",
       "      <td>16200.0</td>\n",
       "      <td>False</td>\n",
       "      <td>NaN</td>\n",
       "      <td>2471000.0</td>\n",
       "      <td>NaN</td>\n",
       "    </tr>\n",
       "    <tr>\n",
       "      <th>4</th>\n",
       "      <td>26.0</td>\n",
       "      <td>F</td>\n",
       "      <td>2016</td>\n",
       "      <td>114000.0</td>\n",
       "      <td>4300.0</td>\n",
       "      <td>True</td>\n",
       "      <td>0.0</td>\n",
       "      <td>689000.0</td>\n",
       "      <td>NaN</td>\n",
       "    </tr>\n",
       "  </tbody>\n",
       "</table>\n",
       "</div>"
      ],
      "text/plain": [
       "    age gender  year    refund      fee  has_paid   income_근로  income_사업  \\\n",
       "0  27.0      F  2019    5000.0    400.0     False  10001000.0    61000.0   \n",
       "1  34.0      M  2018  100000.0   1700.0      True  18092000.0        NaN   \n",
       "2  28.0      F  2017  289000.0  11500.0     False         NaN  1461000.0   \n",
       "3  27.0      M  2019  410000.0  16200.0     False         NaN  2471000.0   \n",
       "4  26.0      F  2016  114000.0   4300.0      True         0.0   689000.0   \n",
       "\n",
       "   income_기타  \n",
       "0        NaN  \n",
       "1  1815000.0  \n",
       "2        NaN  \n",
       "3        NaN  \n",
       "4        NaN  "
      ]
     },
     "execution_count": 283,
     "metadata": {},
     "output_type": "execute_result"
    }
   ],
   "source": [
    "df = pd.read_csv('Jobis_3o3.csv')\n",
    "df.head()"
   ]
  },
  {
   "cell_type": "markdown",
   "metadata": {},
   "source": [
    "# 데이터 탐색"
   ]
  },
  {
   "cell_type": "code",
   "execution_count": 284,
   "metadata": {},
   "outputs": [
    {
     "name": "stdout",
     "output_type": "stream",
     "text": [
      "<class 'pandas.core.frame.DataFrame'>\n",
      "RangeIndex: 100000 entries, 0 to 99999\n",
      "Data columns (total 9 columns):\n",
      " #   Column     Non-Null Count   Dtype  \n",
      "---  ------     --------------   -----  \n",
      " 0   age        100000 non-null  float64\n",
      " 1   gender     100000 non-null  object \n",
      " 2   year       100000 non-null  int64  \n",
      " 3   refund     100000 non-null  float64\n",
      " 4   fee        100000 non-null  float64\n",
      " 5   has_paid   100000 non-null  bool   \n",
      " 6   income_근로  40791 non-null   float64\n",
      " 7   income_사업  78227 non-null   float64\n",
      " 8   income_기타  25260 non-null   float64\n",
      "dtypes: bool(1), float64(6), int64(1), object(1)\n",
      "memory usage: 6.2+ MB\n"
     ]
    }
   ],
   "source": [
    "df.info()"
   ]
  },
  {
   "cell_type": "code",
   "execution_count": 285,
   "metadata": {},
   "outputs": [
    {
     "data": {
      "text/html": [
       "<div>\n",
       "<style scoped>\n",
       "    .dataframe tbody tr th:only-of-type {\n",
       "        vertical-align: middle;\n",
       "    }\n",
       "\n",
       "    .dataframe tbody tr th {\n",
       "        vertical-align: top;\n",
       "    }\n",
       "\n",
       "    .dataframe thead th {\n",
       "        text-align: right;\n",
       "    }\n",
       "</style>\n",
       "<table border=\"1\" class=\"dataframe\">\n",
       "  <thead>\n",
       "    <tr style=\"text-align: right;\">\n",
       "      <th></th>\n",
       "      <th>age</th>\n",
       "      <th>year</th>\n",
       "      <th>refund</th>\n",
       "      <th>fee</th>\n",
       "      <th>income_근로</th>\n",
       "      <th>income_사업</th>\n",
       "      <th>income_기타</th>\n",
       "    </tr>\n",
       "  </thead>\n",
       "  <tbody>\n",
       "    <tr>\n",
       "      <th>count</th>\n",
       "      <td>100000.00000</td>\n",
       "      <td>100000.000000</td>\n",
       "      <td>1.000000e+05</td>\n",
       "      <td>100000.000000</td>\n",
       "      <td>4.079100e+04</td>\n",
       "      <td>7.822700e+04</td>\n",
       "      <td>2.526000e+04</td>\n",
       "    </tr>\n",
       "    <tr>\n",
       "      <th>mean</th>\n",
       "      <td>29.00096</td>\n",
       "      <td>2018.111300</td>\n",
       "      <td>2.081422e+05</td>\n",
       "      <td>7247.641000</td>\n",
       "      <td>6.432597e+06</td>\n",
       "      <td>1.511712e+06</td>\n",
       "      <td>6.362834e+05</td>\n",
       "    </tr>\n",
       "    <tr>\n",
       "      <th>std</th>\n",
       "      <td>7.76819</td>\n",
       "      <td>1.495812</td>\n",
       "      <td>3.071744e+05</td>\n",
       "      <td>11926.896979</td>\n",
       "      <td>6.583716e+06</td>\n",
       "      <td>2.449810e+06</td>\n",
       "      <td>1.484947e+06</td>\n",
       "    </tr>\n",
       "    <tr>\n",
       "      <th>min</th>\n",
       "      <td>15.00000</td>\n",
       "      <td>2015.000000</td>\n",
       "      <td>-8.265000e+06</td>\n",
       "      <td>400.000000</td>\n",
       "      <td>0.000000e+00</td>\n",
       "      <td>0.000000e+00</td>\n",
       "      <td>0.000000e+00</td>\n",
       "    </tr>\n",
       "    <tr>\n",
       "      <th>25%</th>\n",
       "      <td>24.00000</td>\n",
       "      <td>2017.000000</td>\n",
       "      <td>3.300000e+04</td>\n",
       "      <td>400.000000</td>\n",
       "      <td>1.616000e+06</td>\n",
       "      <td>1.770000e+05</td>\n",
       "      <td>8.200000e+04</td>\n",
       "    </tr>\n",
       "    <tr>\n",
       "      <th>50%</th>\n",
       "      <td>27.00000</td>\n",
       "      <td>2018.000000</td>\n",
       "      <td>9.900000e+04</td>\n",
       "      <td>4300.000000</td>\n",
       "      <td>4.507000e+06</td>\n",
       "      <td>6.190000e+05</td>\n",
       "      <td>2.130000e+05</td>\n",
       "    </tr>\n",
       "    <tr>\n",
       "      <th>75%</th>\n",
       "      <td>31.00000</td>\n",
       "      <td>2019.000000</td>\n",
       "      <td>2.540000e+05</td>\n",
       "      <td>8500.000000</td>\n",
       "      <td>9.301000e+06</td>\n",
       "      <td>1.601000e+06</td>\n",
       "      <td>5.820000e+05</td>\n",
       "    </tr>\n",
       "    <tr>\n",
       "      <th>max</th>\n",
       "      <td>81.00000</td>\n",
       "      <td>2020.000000</td>\n",
       "      <td>7.725000e+06</td>\n",
       "      <td>307000.000000</td>\n",
       "      <td>1.823350e+08</td>\n",
       "      <td>3.993400e+07</td>\n",
       "      <td>6.281000e+07</td>\n",
       "    </tr>\n",
       "  </tbody>\n",
       "</table>\n",
       "</div>"
      ],
      "text/plain": [
       "                age           year        refund            fee     income_근로  \\\n",
       "count  100000.00000  100000.000000  1.000000e+05  100000.000000  4.079100e+04   \n",
       "mean       29.00096    2018.111300  2.081422e+05    7247.641000  6.432597e+06   \n",
       "std         7.76819       1.495812  3.071744e+05   11926.896979  6.583716e+06   \n",
       "min        15.00000    2015.000000 -8.265000e+06     400.000000  0.000000e+00   \n",
       "25%        24.00000    2017.000000  3.300000e+04     400.000000  1.616000e+06   \n",
       "50%        27.00000    2018.000000  9.900000e+04    4300.000000  4.507000e+06   \n",
       "75%        31.00000    2019.000000  2.540000e+05    8500.000000  9.301000e+06   \n",
       "max        81.00000    2020.000000  7.725000e+06  307000.000000  1.823350e+08   \n",
       "\n",
       "          income_사업     income_기타  \n",
       "count  7.822700e+04  2.526000e+04  \n",
       "mean   1.511712e+06  6.362834e+05  \n",
       "std    2.449810e+06  1.484947e+06  \n",
       "min    0.000000e+00  0.000000e+00  \n",
       "25%    1.770000e+05  8.200000e+04  \n",
       "50%    6.190000e+05  2.130000e+05  \n",
       "75%    1.601000e+06  5.820000e+05  \n",
       "max    3.993400e+07  6.281000e+07  "
      ]
     },
     "execution_count": 285,
     "metadata": {},
     "output_type": "execute_result"
    }
   ],
   "source": [
    "df.describe()"
   ]
  },
  {
   "cell_type": "code",
   "execution_count": 286,
   "metadata": {},
   "outputs": [
    {
     "data": {
      "text/plain": [
       "2020    23782\n",
       "2019    20842\n",
       "2018    19983\n",
       "2017    17495\n",
       "2016    13913\n",
       "2015     3985\n",
       "Name: year, dtype: int64"
      ]
     },
     "execution_count": 286,
     "metadata": {},
     "output_type": "execute_result"
    }
   ],
   "source": [
    "df['year'].value_counts()"
   ]
  },
  {
   "cell_type": "code",
   "execution_count": 287,
   "metadata": {},
   "outputs": [
    {
     "data": {
      "text/html": [
       "<div>\n",
       "<style scoped>\n",
       "    .dataframe tbody tr th:only-of-type {\n",
       "        vertical-align: middle;\n",
       "    }\n",
       "\n",
       "    .dataframe tbody tr th {\n",
       "        vertical-align: top;\n",
       "    }\n",
       "\n",
       "    .dataframe thead th {\n",
       "        text-align: right;\n",
       "    }\n",
       "</style>\n",
       "<table border=\"1\" class=\"dataframe\">\n",
       "  <thead>\n",
       "    <tr style=\"text-align: right;\">\n",
       "      <th></th>\n",
       "      <th>age</th>\n",
       "      <th>gender</th>\n",
       "      <th>year</th>\n",
       "      <th>refund</th>\n",
       "      <th>fee</th>\n",
       "      <th>has_paid</th>\n",
       "      <th>income_근로</th>\n",
       "      <th>income_사업</th>\n",
       "      <th>income_기타</th>\n",
       "    </tr>\n",
       "  </thead>\n",
       "  <tbody>\n",
       "    <tr>\n",
       "      <th>15685</th>\n",
       "      <td>15.0</td>\n",
       "      <td>F</td>\n",
       "      <td>2016</td>\n",
       "      <td>5000.0</td>\n",
       "      <td>400.0</td>\n",
       "      <td>True</td>\n",
       "      <td>NaN</td>\n",
       "      <td>32000.0</td>\n",
       "      <td>NaN</td>\n",
       "    </tr>\n",
       "    <tr>\n",
       "      <th>92509</th>\n",
       "      <td>16.0</td>\n",
       "      <td>M</td>\n",
       "      <td>2020</td>\n",
       "      <td>4000.0</td>\n",
       "      <td>400.0</td>\n",
       "      <td>False</td>\n",
       "      <td>NaN</td>\n",
       "      <td>26000.0</td>\n",
       "      <td>NaN</td>\n",
       "    </tr>\n",
       "    <tr>\n",
       "      <th>36983</th>\n",
       "      <td>16.0</td>\n",
       "      <td>M</td>\n",
       "      <td>2020</td>\n",
       "      <td>21000.0</td>\n",
       "      <td>400.0</td>\n",
       "      <td>True</td>\n",
       "      <td>NaN</td>\n",
       "      <td>127000.0</td>\n",
       "      <td>NaN</td>\n",
       "    </tr>\n",
       "    <tr>\n",
       "      <th>59884</th>\n",
       "      <td>16.0</td>\n",
       "      <td>M</td>\n",
       "      <td>2020</td>\n",
       "      <td>28000.0</td>\n",
       "      <td>400.0</td>\n",
       "      <td>True</td>\n",
       "      <td>NaN</td>\n",
       "      <td>170000.0</td>\n",
       "      <td>NaN</td>\n",
       "    </tr>\n",
       "    <tr>\n",
       "      <th>19722</th>\n",
       "      <td>16.0</td>\n",
       "      <td>F</td>\n",
       "      <td>2018</td>\n",
       "      <td>8000.0</td>\n",
       "      <td>400.0</td>\n",
       "      <td>False</td>\n",
       "      <td>NaN</td>\n",
       "      <td>51000.0</td>\n",
       "      <td>NaN</td>\n",
       "    </tr>\n",
       "    <tr>\n",
       "      <th>...</th>\n",
       "      <td>...</td>\n",
       "      <td>...</td>\n",
       "      <td>...</td>\n",
       "      <td>...</td>\n",
       "      <td>...</td>\n",
       "      <td>...</td>\n",
       "      <td>...</td>\n",
       "      <td>...</td>\n",
       "      <td>...</td>\n",
       "    </tr>\n",
       "    <tr>\n",
       "      <th>31654</th>\n",
       "      <td>78.0</td>\n",
       "      <td>M</td>\n",
       "      <td>2018</td>\n",
       "      <td>229000.0</td>\n",
       "      <td>8500.0</td>\n",
       "      <td>True</td>\n",
       "      <td>NaN</td>\n",
       "      <td>1377000.0</td>\n",
       "      <td>NaN</td>\n",
       "    </tr>\n",
       "    <tr>\n",
       "      <th>18809</th>\n",
       "      <td>79.0</td>\n",
       "      <td>M</td>\n",
       "      <td>2019</td>\n",
       "      <td>32000.0</td>\n",
       "      <td>400.0</td>\n",
       "      <td>True</td>\n",
       "      <td>957000.0</td>\n",
       "      <td>191000.0</td>\n",
       "      <td>NaN</td>\n",
       "    </tr>\n",
       "    <tr>\n",
       "      <th>91695</th>\n",
       "      <td>81.0</td>\n",
       "      <td>F</td>\n",
       "      <td>2019</td>\n",
       "      <td>85000.0</td>\n",
       "      <td>4300.0</td>\n",
       "      <td>True</td>\n",
       "      <td>NaN</td>\n",
       "      <td>510000.0</td>\n",
       "      <td>NaN</td>\n",
       "    </tr>\n",
       "    <tr>\n",
       "      <th>58645</th>\n",
       "      <td>81.0</td>\n",
       "      <td>F</td>\n",
       "      <td>2017</td>\n",
       "      <td>56000.0</td>\n",
       "      <td>400.0</td>\n",
       "      <td>True</td>\n",
       "      <td>NaN</td>\n",
       "      <td>340000.0</td>\n",
       "      <td>NaN</td>\n",
       "    </tr>\n",
       "    <tr>\n",
       "      <th>58266</th>\n",
       "      <td>81.0</td>\n",
       "      <td>F</td>\n",
       "      <td>2018</td>\n",
       "      <td>42000.0</td>\n",
       "      <td>400.0</td>\n",
       "      <td>True</td>\n",
       "      <td>NaN</td>\n",
       "      <td>255000.0</td>\n",
       "      <td>NaN</td>\n",
       "    </tr>\n",
       "  </tbody>\n",
       "</table>\n",
       "<p>100000 rows × 9 columns</p>\n",
       "</div>"
      ],
      "text/plain": [
       "        age gender  year    refund     fee  has_paid  income_근로  income_사업  \\\n",
       "15685  15.0      F  2016    5000.0   400.0      True        NaN    32000.0   \n",
       "92509  16.0      M  2020    4000.0   400.0     False        NaN    26000.0   \n",
       "36983  16.0      M  2020   21000.0   400.0      True        NaN   127000.0   \n",
       "59884  16.0      M  2020   28000.0   400.0      True        NaN   170000.0   \n",
       "19722  16.0      F  2018    8000.0   400.0     False        NaN    51000.0   \n",
       "...     ...    ...   ...       ...     ...       ...        ...        ...   \n",
       "31654  78.0      M  2018  229000.0  8500.0      True        NaN  1377000.0   \n",
       "18809  79.0      M  2019   32000.0   400.0      True   957000.0   191000.0   \n",
       "91695  81.0      F  2019   85000.0  4300.0      True        NaN   510000.0   \n",
       "58645  81.0      F  2017   56000.0   400.0      True        NaN   340000.0   \n",
       "58266  81.0      F  2018   42000.0   400.0      True        NaN   255000.0   \n",
       "\n",
       "       income_기타  \n",
       "15685        NaN  \n",
       "92509        NaN  \n",
       "36983        NaN  \n",
       "59884        NaN  \n",
       "19722        NaN  \n",
       "...          ...  \n",
       "31654        NaN  \n",
       "18809        NaN  \n",
       "91695        NaN  \n",
       "58645        NaN  \n",
       "58266        NaN  \n",
       "\n",
       "[100000 rows x 9 columns]"
      ]
     },
     "execution_count": 287,
     "metadata": {},
     "output_type": "execute_result"
    }
   ],
   "source": [
    "df.sort_values(by='age')"
   ]
  },
  {
   "cell_type": "code",
   "execution_count": 288,
   "metadata": {},
   "outputs": [],
   "source": [
    "# 수수료를 지불한 사람은 1, 그렇지 않은 사람은 0\n",
    "df['has_paid'] = df['has_paid'].apply(lambda x: 1 if x else 0)"
   ]
  },
  {
   "cell_type": "code",
   "execution_count": 289,
   "metadata": {},
   "outputs": [
    {
     "data": {
      "text/plain": [
       "1    64643\n",
       "0    35357\n",
       "Name: has_paid, dtype: int64"
      ]
     },
     "execution_count": 289,
     "metadata": {},
     "output_type": "execute_result"
    }
   ],
   "source": [
    "df['has_paid'].value_counts()"
   ]
  },
  {
   "cell_type": "code",
   "execution_count": 290,
   "metadata": {},
   "outputs": [
    {
     "data": {
      "text/html": [
       "<div>\n",
       "<style scoped>\n",
       "    .dataframe tbody tr th:only-of-type {\n",
       "        vertical-align: middle;\n",
       "    }\n",
       "\n",
       "    .dataframe tbody tr th {\n",
       "        vertical-align: top;\n",
       "    }\n",
       "\n",
       "    .dataframe thead th {\n",
       "        text-align: right;\n",
       "    }\n",
       "</style>\n",
       "<table border=\"1\" class=\"dataframe\">\n",
       "  <thead>\n",
       "    <tr style=\"text-align: right;\">\n",
       "      <th></th>\n",
       "      <th>age</th>\n",
       "      <th>gender</th>\n",
       "      <th>year</th>\n",
       "      <th>refund</th>\n",
       "      <th>fee</th>\n",
       "      <th>has_paid</th>\n",
       "      <th>income_근로</th>\n",
       "      <th>income_사업</th>\n",
       "      <th>income_기타</th>\n",
       "    </tr>\n",
       "  </thead>\n",
       "  <tbody>\n",
       "    <tr>\n",
       "      <th>0</th>\n",
       "      <td>27.0</td>\n",
       "      <td>F</td>\n",
       "      <td>2019</td>\n",
       "      <td>5000.0</td>\n",
       "      <td>400.0</td>\n",
       "      <td>0</td>\n",
       "      <td>10001000.0</td>\n",
       "      <td>61000.0</td>\n",
       "      <td>NaN</td>\n",
       "    </tr>\n",
       "    <tr>\n",
       "      <th>1</th>\n",
       "      <td>34.0</td>\n",
       "      <td>M</td>\n",
       "      <td>2018</td>\n",
       "      <td>100000.0</td>\n",
       "      <td>1700.0</td>\n",
       "      <td>1</td>\n",
       "      <td>18092000.0</td>\n",
       "      <td>NaN</td>\n",
       "      <td>1815000.0</td>\n",
       "    </tr>\n",
       "    <tr>\n",
       "      <th>2</th>\n",
       "      <td>28.0</td>\n",
       "      <td>F</td>\n",
       "      <td>2017</td>\n",
       "      <td>289000.0</td>\n",
       "      <td>11500.0</td>\n",
       "      <td>0</td>\n",
       "      <td>NaN</td>\n",
       "      <td>1461000.0</td>\n",
       "      <td>NaN</td>\n",
       "    </tr>\n",
       "    <tr>\n",
       "      <th>3</th>\n",
       "      <td>27.0</td>\n",
       "      <td>M</td>\n",
       "      <td>2019</td>\n",
       "      <td>410000.0</td>\n",
       "      <td>16200.0</td>\n",
       "      <td>0</td>\n",
       "      <td>NaN</td>\n",
       "      <td>2471000.0</td>\n",
       "      <td>NaN</td>\n",
       "    </tr>\n",
       "    <tr>\n",
       "      <th>4</th>\n",
       "      <td>26.0</td>\n",
       "      <td>F</td>\n",
       "      <td>2016</td>\n",
       "      <td>114000.0</td>\n",
       "      <td>4300.0</td>\n",
       "      <td>1</td>\n",
       "      <td>0.0</td>\n",
       "      <td>689000.0</td>\n",
       "      <td>NaN</td>\n",
       "    </tr>\n",
       "  </tbody>\n",
       "</table>\n",
       "</div>"
      ],
      "text/plain": [
       "    age gender  year    refund      fee  has_paid   income_근로  income_사업  \\\n",
       "0  27.0      F  2019    5000.0    400.0         0  10001000.0    61000.0   \n",
       "1  34.0      M  2018  100000.0   1700.0         1  18092000.0        NaN   \n",
       "2  28.0      F  2017  289000.0  11500.0         0         NaN  1461000.0   \n",
       "3  27.0      M  2019  410000.0  16200.0         0         NaN  2471000.0   \n",
       "4  26.0      F  2016  114000.0   4300.0         1         0.0   689000.0   \n",
       "\n",
       "   income_기타  \n",
       "0        NaN  \n",
       "1  1815000.0  \n",
       "2        NaN  \n",
       "3        NaN  \n",
       "4        NaN  "
      ]
     },
     "execution_count": 290,
     "metadata": {},
     "output_type": "execute_result"
    }
   ],
   "source": [
    "df.head()"
   ]
  },
  {
   "cell_type": "code",
   "execution_count": 291,
   "metadata": {},
   "outputs": [],
   "source": [
    "# 결측값을 0으로 변환\n",
    "df.fillna(0, inplace=True)"
   ]
  },
  {
   "cell_type": "code",
   "execution_count": 292,
   "metadata": {},
   "outputs": [
    {
     "data": {
      "text/html": [
       "<div>\n",
       "<style scoped>\n",
       "    .dataframe tbody tr th:only-of-type {\n",
       "        vertical-align: middle;\n",
       "    }\n",
       "\n",
       "    .dataframe tbody tr th {\n",
       "        vertical-align: top;\n",
       "    }\n",
       "\n",
       "    .dataframe thead th {\n",
       "        text-align: right;\n",
       "    }\n",
       "</style>\n",
       "<table border=\"1\" class=\"dataframe\">\n",
       "  <thead>\n",
       "    <tr style=\"text-align: right;\">\n",
       "      <th></th>\n",
       "      <th>age</th>\n",
       "      <th>gender</th>\n",
       "      <th>year</th>\n",
       "      <th>refund</th>\n",
       "      <th>fee</th>\n",
       "      <th>has_paid</th>\n",
       "      <th>income_근로</th>\n",
       "      <th>income_사업</th>\n",
       "      <th>income_기타</th>\n",
       "    </tr>\n",
       "  </thead>\n",
       "  <tbody>\n",
       "    <tr>\n",
       "      <th>0</th>\n",
       "      <td>27.0</td>\n",
       "      <td>F</td>\n",
       "      <td>2019</td>\n",
       "      <td>5000.0</td>\n",
       "      <td>400.0</td>\n",
       "      <td>0</td>\n",
       "      <td>10001000.0</td>\n",
       "      <td>61000.0</td>\n",
       "      <td>0.0</td>\n",
       "    </tr>\n",
       "    <tr>\n",
       "      <th>1</th>\n",
       "      <td>34.0</td>\n",
       "      <td>M</td>\n",
       "      <td>2018</td>\n",
       "      <td>100000.0</td>\n",
       "      <td>1700.0</td>\n",
       "      <td>1</td>\n",
       "      <td>18092000.0</td>\n",
       "      <td>0.0</td>\n",
       "      <td>1815000.0</td>\n",
       "    </tr>\n",
       "    <tr>\n",
       "      <th>2</th>\n",
       "      <td>28.0</td>\n",
       "      <td>F</td>\n",
       "      <td>2017</td>\n",
       "      <td>289000.0</td>\n",
       "      <td>11500.0</td>\n",
       "      <td>0</td>\n",
       "      <td>0.0</td>\n",
       "      <td>1461000.0</td>\n",
       "      <td>0.0</td>\n",
       "    </tr>\n",
       "    <tr>\n",
       "      <th>3</th>\n",
       "      <td>27.0</td>\n",
       "      <td>M</td>\n",
       "      <td>2019</td>\n",
       "      <td>410000.0</td>\n",
       "      <td>16200.0</td>\n",
       "      <td>0</td>\n",
       "      <td>0.0</td>\n",
       "      <td>2471000.0</td>\n",
       "      <td>0.0</td>\n",
       "    </tr>\n",
       "    <tr>\n",
       "      <th>4</th>\n",
       "      <td>26.0</td>\n",
       "      <td>F</td>\n",
       "      <td>2016</td>\n",
       "      <td>114000.0</td>\n",
       "      <td>4300.0</td>\n",
       "      <td>1</td>\n",
       "      <td>0.0</td>\n",
       "      <td>689000.0</td>\n",
       "      <td>0.0</td>\n",
       "    </tr>\n",
       "  </tbody>\n",
       "</table>\n",
       "</div>"
      ],
      "text/plain": [
       "    age gender  year    refund      fee  has_paid   income_근로  income_사업  \\\n",
       "0  27.0      F  2019    5000.0    400.0         0  10001000.0    61000.0   \n",
       "1  34.0      M  2018  100000.0   1700.0         1  18092000.0        0.0   \n",
       "2  28.0      F  2017  289000.0  11500.0         0         0.0  1461000.0   \n",
       "3  27.0      M  2019  410000.0  16200.0         0         0.0  2471000.0   \n",
       "4  26.0      F  2016  114000.0   4300.0         1         0.0   689000.0   \n",
       "\n",
       "   income_기타  \n",
       "0        0.0  \n",
       "1  1815000.0  \n",
       "2        0.0  \n",
       "3        0.0  \n",
       "4        0.0  "
      ]
     },
     "execution_count": 292,
     "metadata": {},
     "output_type": "execute_result"
    }
   ],
   "source": [
    "df.head()"
   ]
  },
  {
   "cell_type": "markdown",
   "metadata": {},
   "source": [
    "## 칼럼별로 살펴보기 (문자형)"
   ]
  },
  {
   "cell_type": "code",
   "execution_count": 293,
   "metadata": {},
   "outputs": [
    {
     "data": {
      "image/png": "[encoded data removed]",
      "text/plain": [
       "<Figure size 1080x720 with 3 Axes>"
      ]
     },
     "metadata": {
      "needs_background": "light"
     },
     "output_type": "display_data"
    }
   ],
   "source": [
    "plt.figure(figsize=(15,10))\n",
    "plt.subplot(311)\n",
    "df.groupby('age')['has_paid'].mean().sort_index().plot(kind='bar')\n",
    "plt.subplot(312)\n",
    "df.groupby('gender')['has_paid'].mean().sort_values().plot(kind='bar')\n",
    "plt.subplot(313)\n",
    "df.groupby('year')['has_paid'].mean().sort_index().plot(kind='bar')\n",
    "plt.show()"
   ]
  },
  {
   "cell_type": "markdown",
   "metadata": {},
   "source": [
    "- 72세가 유독 환급을 받지 않음.-> 몇 명이나 있는지?\n",
    "- 성별에 결측치가 있음 -> 어떻게 판단할 것인가?\n",
    "- 2020년에 발생한 수익에 대한 세금을 유독 환급 받지 않음"
   ]
  },
  {
   "cell_type": "code",
   "execution_count": 294,
   "metadata": {},
   "outputs": [
    {
     "data": {
      "text/plain": [
       "70.0    13\n",
       "76.0     7\n",
       "74.0     5\n",
       "71.0     5\n",
       "78.0     4\n",
       "72.0     4\n",
       "81.0     3\n",
       "77.0     2\n",
       "73.0     1\n",
       "79.0     1\n",
       "Name: age, dtype: int64"
      ]
     },
     "execution_count": 294,
     "metadata": {},
     "output_type": "execute_result"
    }
   ],
   "source": [
    "# 70대는 몇명?\n",
    "df[df['age']>=70]['age'].value_counts()"
   ]
  },
  {
   "cell_type": "code",
   "execution_count": 295,
   "metadata": {},
   "outputs": [
    {
     "data": {
      "text/plain": [
       "M    50477\n",
       "F    49501\n",
       "-       22\n",
       "Name: gender, dtype: int64"
      ]
     },
     "execution_count": 295,
     "metadata": {},
     "output_type": "execute_result"
    }
   ],
   "source": [
    "df['gender'].value_counts()"
   ]
  },
  {
   "cell_type": "markdown",
   "metadata": {},
   "source": [
    "- 성별 결측치 22개를 어떻게 판단할 것인가?\n",
    "1. 나머지 99978개의 data를 이용해서 남성인지 여성인지 predict한 값으로 대체하기\n",
    "2. 22개 정도는 drop"
   ]
  },
  {
   "cell_type": "markdown",
   "metadata": {},
   "source": [
    "## 칼럼별로 살펴보기 (숫자형)"
   ]
  },
  {
   "cell_type": "code",
   "execution_count": 296,
   "metadata": {},
   "outputs": [
    {
     "name": "stderr",
     "output_type": "stream",
     "text": [
      "C:\\ProgramData\\Anaconda3\\lib\\site-packages\\seaborn\\distributions.py:2551: FutureWarning: `distplot` is a deprecated function and will be removed in a future version. Please adapt your code to use either `displot` (a figure-level function with similar flexibility) or `histplot` (an axes-level function for histograms).\n",
      "  warnings.warn(msg, FutureWarning)\n",
      "C:\\ProgramData\\Anaconda3\\lib\\site-packages\\seaborn\\distributions.py:2551: FutureWarning: `distplot` is a deprecated function and will be removed in a future version. Please adapt your code to use either `displot` (a figure-level function with similar flexibility) or `histplot` (an axes-level function for histograms).\n",
      "  warnings.warn(msg, FutureWarning)\n",
      "C:\\ProgramData\\Anaconda3\\lib\\site-packages\\seaborn\\distributions.py:2551: FutureWarning: `distplot` is a deprecated function and will be removed in a future version. Please adapt your code to use either `displot` (a figure-level function with similar flexibility) or `histplot` (an axes-level function for histograms).\n",
      "  warnings.warn(msg, FutureWarning)\n",
      "C:\\ProgramData\\Anaconda3\\lib\\site-packages\\seaborn\\distributions.py:2551: FutureWarning: `distplot` is a deprecated function and will be removed in a future version. Please adapt your code to use either `displot` (a figure-level function with similar flexibility) or `histplot` (an axes-level function for histograms).\n",
      "  warnings.warn(msg, FutureWarning)\n",
      "C:\\ProgramData\\Anaconda3\\lib\\site-packages\\seaborn\\distributions.py:2551: FutureWarning: `distplot` is a deprecated function and will be removed in a future version. Please adapt your code to use either `displot` (a figure-level function with similar flexibility) or `histplot` (an axes-level function for histograms).\n",
      "  warnings.warn(msg, FutureWarning)\n",
      "C:\\ProgramData\\Anaconda3\\lib\\site-packages\\seaborn\\distributions.py:2551: FutureWarning: `distplot` is a deprecated function and will be removed in a future version. Please adapt your code to use either `displot` (a figure-level function with similar flexibility) or `histplot` (an axes-level function for histograms).\n",
      "  warnings.warn(msg, FutureWarning)\n"
     ]
    },
    {
     "data": {
      "text/plain": [
       "<AxesSubplot:xlabel='income_기타', ylabel='Density'>"
      ]
     },
     "execution_count": 296,
     "metadata": {},
     "output_type": "execute_result"
    },
    {
     "data": {
      "image/png": "[encoded data removed]",
      "text/plain": [
       "<Figure size 864x576 with 6 Axes>"
      ]
     },
     "metadata": {
      "needs_background": "light"
     },
     "output_type": "display_data"
    }
   ],
   "source": [
    "plt.figure(figsize=(12,8))\n",
    "plt.subplot(231)\n",
    "sns.distplot(df['age'])\n",
    "plt.subplot(232)\n",
    "sns.distplot(df['refund'])\n",
    "plt.subplot(233)\n",
    "sns.distplot(df['fee'])\n",
    "plt.subplot(234)\n",
    "sns.distplot(df['income_근로'])\n",
    "plt.subplot(235)\n",
    "sns.distplot(df['income_사업'])\n",
    "plt.subplot(236)\n",
    "sns.distplot(df['income_기타'])"
   ]
  },
  {
   "cell_type": "code",
   "execution_count": 297,
   "metadata": {},
   "outputs": [
    {
     "data": {
      "text/html": [
       "<div>\n",
       "<style scoped>\n",
       "    .dataframe tbody tr th:only-of-type {\n",
       "        vertical-align: middle;\n",
       "    }\n",
       "\n",
       "    .dataframe tbody tr th {\n",
       "        vertical-align: top;\n",
       "    }\n",
       "\n",
       "    .dataframe thead th {\n",
       "        text-align: right;\n",
       "    }\n",
       "</style>\n",
       "<table border=\"1\" class=\"dataframe\">\n",
       "  <thead>\n",
       "    <tr style=\"text-align: right;\">\n",
       "      <th></th>\n",
       "      <th>age</th>\n",
       "      <th>gender</th>\n",
       "      <th>year</th>\n",
       "      <th>refund</th>\n",
       "      <th>fee</th>\n",
       "      <th>has_paid</th>\n",
       "      <th>income_근로</th>\n",
       "      <th>income_사업</th>\n",
       "      <th>income_기타</th>\n",
       "    </tr>\n",
       "  </thead>\n",
       "  <tbody>\n",
       "    <tr>\n",
       "      <th>98352</th>\n",
       "      <td>33.0</td>\n",
       "      <td>M</td>\n",
       "      <td>2018</td>\n",
       "      <td>-8265000.0</td>\n",
       "      <td>4300.0</td>\n",
       "      <td>1</td>\n",
       "      <td>0.0</td>\n",
       "      <td>690000.0</td>\n",
       "      <td>0.0</td>\n",
       "    </tr>\n",
       "    <tr>\n",
       "      <th>52858</th>\n",
       "      <td>34.0</td>\n",
       "      <td>M</td>\n",
       "      <td>2017</td>\n",
       "      <td>-2328000.0</td>\n",
       "      <td>400.0</td>\n",
       "      <td>0</td>\n",
       "      <td>16759000.0</td>\n",
       "      <td>28000.0</td>\n",
       "      <td>441000.0</td>\n",
       "    </tr>\n",
       "    <tr>\n",
       "      <th>55168</th>\n",
       "      <td>28.0</td>\n",
       "      <td>F</td>\n",
       "      <td>2020</td>\n",
       "      <td>-1658000.0</td>\n",
       "      <td>1700.0</td>\n",
       "      <td>0</td>\n",
       "      <td>10509000.0</td>\n",
       "      <td>570000.0</td>\n",
       "      <td>0.0</td>\n",
       "    </tr>\n",
       "    <tr>\n",
       "      <th>54256</th>\n",
       "      <td>48.0</td>\n",
       "      <td>F</td>\n",
       "      <td>2018</td>\n",
       "      <td>-948000.0</td>\n",
       "      <td>3000.0</td>\n",
       "      <td>1</td>\n",
       "      <td>8157000.0</td>\n",
       "      <td>3975000.0</td>\n",
       "      <td>0.0</td>\n",
       "    </tr>\n",
       "    <tr>\n",
       "      <th>94281</th>\n",
       "      <td>39.0</td>\n",
       "      <td>F</td>\n",
       "      <td>2020</td>\n",
       "      <td>-683000.0</td>\n",
       "      <td>39100.0</td>\n",
       "      <td>0</td>\n",
       "      <td>6082000.0</td>\n",
       "      <td>10649000.0</td>\n",
       "      <td>0.0</td>\n",
       "    </tr>\n",
       "  </tbody>\n",
       "</table>\n",
       "</div>"
      ],
      "text/plain": [
       "        age gender  year     refund      fee  has_paid   income_근로  \\\n",
       "98352  33.0      M  2018 -8265000.0   4300.0         1         0.0   \n",
       "52858  34.0      M  2017 -2328000.0    400.0         0  16759000.0   \n",
       "55168  28.0      F  2020 -1658000.0   1700.0         0  10509000.0   \n",
       "54256  48.0      F  2018  -948000.0   3000.0         1   8157000.0   \n",
       "94281  39.0      F  2020  -683000.0  39100.0         0   6082000.0   \n",
       "\n",
       "        income_사업  income_기타  \n",
       "98352    690000.0        0.0  \n",
       "52858     28000.0   441000.0  \n",
       "55168    570000.0        0.0  \n",
       "54256   3975000.0        0.0  \n",
       "94281  10649000.0        0.0  "
      ]
     },
     "execution_count": 297,
     "metadata": {},
     "output_type": "execute_result"
    }
   ],
   "source": [
    "df.sort_values(by='refund').head()"
   ]
  },
  {
   "cell_type": "code",
   "execution_count": 298,
   "metadata": {},
   "outputs": [
    {
     "data": {
      "text/html": [
       "<div>\n",
       "<style scoped>\n",
       "    .dataframe tbody tr th:only-of-type {\n",
       "        vertical-align: middle;\n",
       "    }\n",
       "\n",
       "    .dataframe tbody tr th {\n",
       "        vertical-align: top;\n",
       "    }\n",
       "\n",
       "    .dataframe thead th {\n",
       "        text-align: right;\n",
       "    }\n",
       "</style>\n",
       "<table border=\"1\" class=\"dataframe\">\n",
       "  <thead>\n",
       "    <tr style=\"text-align: right;\">\n",
       "      <th></th>\n",
       "      <th>age</th>\n",
       "      <th>gender</th>\n",
       "      <th>year</th>\n",
       "      <th>refund</th>\n",
       "      <th>fee</th>\n",
       "      <th>has_paid</th>\n",
       "      <th>income_근로</th>\n",
       "      <th>income_사업</th>\n",
       "      <th>income_기타</th>\n",
       "    </tr>\n",
       "  </thead>\n",
       "  <tbody>\n",
       "    <tr>\n",
       "      <th>1857</th>\n",
       "      <td>26.0</td>\n",
       "      <td>F</td>\n",
       "      <td>2019</td>\n",
       "      <td>-0.0</td>\n",
       "      <td>12800.0</td>\n",
       "      <td>0</td>\n",
       "      <td>0.0</td>\n",
       "      <td>0.0</td>\n",
       "      <td>0.0</td>\n",
       "    </tr>\n",
       "    <tr>\n",
       "      <th>2642</th>\n",
       "      <td>26.0</td>\n",
       "      <td>M</td>\n",
       "      <td>2015</td>\n",
       "      <td>-0.0</td>\n",
       "      <td>4300.0</td>\n",
       "      <td>0</td>\n",
       "      <td>0.0</td>\n",
       "      <td>0.0</td>\n",
       "      <td>0.0</td>\n",
       "    </tr>\n",
       "    <tr>\n",
       "      <th>2674</th>\n",
       "      <td>22.0</td>\n",
       "      <td>F</td>\n",
       "      <td>2019</td>\n",
       "      <td>-0.0</td>\n",
       "      <td>5100.0</td>\n",
       "      <td>1</td>\n",
       "      <td>0.0</td>\n",
       "      <td>0.0</td>\n",
       "      <td>349000.0</td>\n",
       "    </tr>\n",
       "    <tr>\n",
       "      <th>5131</th>\n",
       "      <td>25.0</td>\n",
       "      <td>F</td>\n",
       "      <td>2015</td>\n",
       "      <td>-0.0</td>\n",
       "      <td>4300.0</td>\n",
       "      <td>1</td>\n",
       "      <td>0.0</td>\n",
       "      <td>0.0</td>\n",
       "      <td>0.0</td>\n",
       "    </tr>\n",
       "    <tr>\n",
       "      <th>5253</th>\n",
       "      <td>31.0</td>\n",
       "      <td>M</td>\n",
       "      <td>2015</td>\n",
       "      <td>-0.0</td>\n",
       "      <td>400.0</td>\n",
       "      <td>1</td>\n",
       "      <td>0.0</td>\n",
       "      <td>0.0</td>\n",
       "      <td>0.0</td>\n",
       "    </tr>\n",
       "    <tr>\n",
       "      <th>...</th>\n",
       "      <td>...</td>\n",
       "      <td>...</td>\n",
       "      <td>...</td>\n",
       "      <td>...</td>\n",
       "      <td>...</td>\n",
       "      <td>...</td>\n",
       "      <td>...</td>\n",
       "      <td>...</td>\n",
       "      <td>...</td>\n",
       "    </tr>\n",
       "    <tr>\n",
       "      <th>97757</th>\n",
       "      <td>32.0</td>\n",
       "      <td>M</td>\n",
       "      <td>2015</td>\n",
       "      <td>-0.0</td>\n",
       "      <td>4300.0</td>\n",
       "      <td>0</td>\n",
       "      <td>0.0</td>\n",
       "      <td>0.0</td>\n",
       "      <td>0.0</td>\n",
       "    </tr>\n",
       "    <tr>\n",
       "      <th>98352</th>\n",
       "      <td>33.0</td>\n",
       "      <td>M</td>\n",
       "      <td>2018</td>\n",
       "      <td>-8265000.0</td>\n",
       "      <td>4300.0</td>\n",
       "      <td>1</td>\n",
       "      <td>0.0</td>\n",
       "      <td>690000.0</td>\n",
       "      <td>0.0</td>\n",
       "    </tr>\n",
       "    <tr>\n",
       "      <th>98408</th>\n",
       "      <td>26.0</td>\n",
       "      <td>M</td>\n",
       "      <td>2015</td>\n",
       "      <td>-0.0</td>\n",
       "      <td>8500.0</td>\n",
       "      <td>0</td>\n",
       "      <td>0.0</td>\n",
       "      <td>0.0</td>\n",
       "      <td>0.0</td>\n",
       "    </tr>\n",
       "    <tr>\n",
       "      <th>98731</th>\n",
       "      <td>28.0</td>\n",
       "      <td>M</td>\n",
       "      <td>2015</td>\n",
       "      <td>-0.0</td>\n",
       "      <td>12800.0</td>\n",
       "      <td>0</td>\n",
       "      <td>0.0</td>\n",
       "      <td>0.0</td>\n",
       "      <td>0.0</td>\n",
       "    </tr>\n",
       "    <tr>\n",
       "      <th>99497</th>\n",
       "      <td>24.0</td>\n",
       "      <td>M</td>\n",
       "      <td>2015</td>\n",
       "      <td>-0.0</td>\n",
       "      <td>400.0</td>\n",
       "      <td>0</td>\n",
       "      <td>0.0</td>\n",
       "      <td>0.0</td>\n",
       "      <td>0.0</td>\n",
       "    </tr>\n",
       "  </tbody>\n",
       "</table>\n",
       "<p>76 rows × 9 columns</p>\n",
       "</div>"
      ],
      "text/plain": [
       "        age gender  year     refund      fee  has_paid  income_근로  income_사업  \\\n",
       "1857   26.0      F  2019       -0.0  12800.0         0        0.0        0.0   \n",
       "2642   26.0      M  2015       -0.0   4300.0         0        0.0        0.0   \n",
       "2674   22.0      F  2019       -0.0   5100.0         1        0.0        0.0   \n",
       "5131   25.0      F  2015       -0.0   4300.0         1        0.0        0.0   \n",
       "5253   31.0      M  2015       -0.0    400.0         1        0.0        0.0   \n",
       "...     ...    ...   ...        ...      ...       ...        ...        ...   \n",
       "97757  32.0      M  2015       -0.0   4300.0         0        0.0        0.0   \n",
       "98352  33.0      M  2018 -8265000.0   4300.0         1        0.0   690000.0   \n",
       "98408  26.0      M  2015       -0.0   8500.0         0        0.0        0.0   \n",
       "98731  28.0      M  2015       -0.0  12800.0         0        0.0        0.0   \n",
       "99497  24.0      M  2015       -0.0    400.0         0        0.0        0.0   \n",
       "\n",
       "       income_기타  \n",
       "1857         0.0  \n",
       "2642         0.0  \n",
       "2674    349000.0  \n",
       "5131         0.0  \n",
       "5253         0.0  \n",
       "...          ...  \n",
       "97757        0.0  \n",
       "98352        0.0  \n",
       "98408        0.0  \n",
       "98731        0.0  \n",
       "99497        0.0  \n",
       "\n",
       "[76 rows x 9 columns]"
      ]
     },
     "execution_count": 298,
     "metadata": {},
     "output_type": "execute_result"
    }
   ],
   "source": [
    "df[df['refund']<=0]"
   ]
  },
  {
   "cell_type": "markdown",
   "metadata": {},
   "source": [
    "- 예상 환급액이 마이너스인 경우는 뭘까?\n",
    "- refund가 음수인 경우 제거할지, 아니면 시스템 오류로 +인데 -로 잘못 표기되지는 않았을지\n",
    "- data가 skewed된 경우가 많으므로 변환할 필요가 있음\n",
    "1) 표준화\n",
    "2) 정규화\n",
    "3) 로그변환"
   ]
  },
  {
   "cell_type": "markdown",
   "metadata": {},
   "source": [
    "## 각 칼럼들의 상관관계"
   ]
  },
  {
   "cell_type": "code",
   "execution_count": 299,
   "metadata": {},
   "outputs": [
    {
     "data": {
      "text/html": [
       "<div>\n",
       "<style scoped>\n",
       "    .dataframe tbody tr th:only-of-type {\n",
       "        vertical-align: middle;\n",
       "    }\n",
       "\n",
       "    .dataframe tbody tr th {\n",
       "        vertical-align: top;\n",
       "    }\n",
       "\n",
       "    .dataframe thead th {\n",
       "        text-align: right;\n",
       "    }\n",
       "</style>\n",
       "<table border=\"1\" class=\"dataframe\">\n",
       "  <thead>\n",
       "    <tr style=\"text-align: right;\">\n",
       "      <th></th>\n",
       "      <th>age</th>\n",
       "      <th>year</th>\n",
       "      <th>refund</th>\n",
       "      <th>fee</th>\n",
       "      <th>has_paid</th>\n",
       "      <th>income_근로</th>\n",
       "      <th>income_사업</th>\n",
       "      <th>income_기타</th>\n",
       "    </tr>\n",
       "  </thead>\n",
       "  <tbody>\n",
       "    <tr>\n",
       "      <th>age</th>\n",
       "      <td>1.000000</td>\n",
       "      <td>-0.113500</td>\n",
       "      <td>0.078485</td>\n",
       "      <td>0.072135</td>\n",
       "      <td>-0.022918</td>\n",
       "      <td>0.217894</td>\n",
       "      <td>0.069412</td>\n",
       "      <td>0.054130</td>\n",
       "    </tr>\n",
       "    <tr>\n",
       "      <th>year</th>\n",
       "      <td>-0.113500</td>\n",
       "      <td>1.000000</td>\n",
       "      <td>0.140977</td>\n",
       "      <td>0.169537</td>\n",
       "      <td>-0.136060</td>\n",
       "      <td>0.124501</td>\n",
       "      <td>0.153693</td>\n",
       "      <td>0.036665</td>\n",
       "    </tr>\n",
       "    <tr>\n",
       "      <th>refund</th>\n",
       "      <td>0.078485</td>\n",
       "      <td>0.140977</td>\n",
       "      <td>1.000000</td>\n",
       "      <td>0.969427</td>\n",
       "      <td>-0.094061</td>\n",
       "      <td>-0.079797</td>\n",
       "      <td>0.610592</td>\n",
       "      <td>0.507695</td>\n",
       "    </tr>\n",
       "    <tr>\n",
       "      <th>fee</th>\n",
       "      <td>0.072135</td>\n",
       "      <td>0.169537</td>\n",
       "      <td>0.969427</td>\n",
       "      <td>1.000000</td>\n",
       "      <td>-0.117695</td>\n",
       "      <td>-0.079523</td>\n",
       "      <td>0.601112</td>\n",
       "      <td>0.531414</td>\n",
       "    </tr>\n",
       "    <tr>\n",
       "      <th>has_paid</th>\n",
       "      <td>-0.022918</td>\n",
       "      <td>-0.136060</td>\n",
       "      <td>-0.094061</td>\n",
       "      <td>-0.117695</td>\n",
       "      <td>1.000000</td>\n",
       "      <td>0.048247</td>\n",
       "      <td>-0.014917</td>\n",
       "      <td>-0.044802</td>\n",
       "    </tr>\n",
       "    <tr>\n",
       "      <th>income_근로</th>\n",
       "      <td>0.217894</td>\n",
       "      <td>0.124501</td>\n",
       "      <td>-0.079797</td>\n",
       "      <td>-0.079523</td>\n",
       "      <td>0.048247</td>\n",
       "      <td>1.000000</td>\n",
       "      <td>-0.086807</td>\n",
       "      <td>0.098044</td>\n",
       "    </tr>\n",
       "    <tr>\n",
       "      <th>income_사업</th>\n",
       "      <td>0.069412</td>\n",
       "      <td>0.153693</td>\n",
       "      <td>0.610592</td>\n",
       "      <td>0.601112</td>\n",
       "      <td>-0.014917</td>\n",
       "      <td>-0.086807</td>\n",
       "      <td>1.000000</td>\n",
       "      <td>-0.049067</td>\n",
       "    </tr>\n",
       "    <tr>\n",
       "      <th>income_기타</th>\n",
       "      <td>0.054130</td>\n",
       "      <td>0.036665</td>\n",
       "      <td>0.507695</td>\n",
       "      <td>0.531414</td>\n",
       "      <td>-0.044802</td>\n",
       "      <td>0.098044</td>\n",
       "      <td>-0.049067</td>\n",
       "      <td>1.000000</td>\n",
       "    </tr>\n",
       "  </tbody>\n",
       "</table>\n",
       "</div>"
      ],
      "text/plain": [
       "                age      year    refund       fee  has_paid  income_근로  \\\n",
       "age        1.000000 -0.113500  0.078485  0.072135 -0.022918   0.217894   \n",
       "year      -0.113500  1.000000  0.140977  0.169537 -0.136060   0.124501   \n",
       "refund     0.078485  0.140977  1.000000  0.969427 -0.094061  -0.079797   \n",
       "fee        0.072135  0.169537  0.969427  1.000000 -0.117695  -0.079523   \n",
       "has_paid  -0.022918 -0.136060 -0.094061 -0.117695  1.000000   0.048247   \n",
       "income_근로  0.217894  0.124501 -0.079797 -0.079523  0.048247   1.000000   \n",
       "income_사업  0.069412  0.153693  0.610592  0.601112 -0.014917  -0.086807   \n",
       "income_기타  0.054130  0.036665  0.507695  0.531414 -0.044802   0.098044   \n",
       "\n",
       "           income_사업  income_기타  \n",
       "age         0.069412   0.054130  \n",
       "year        0.153693   0.036665  \n",
       "refund      0.610592   0.507695  \n",
       "fee         0.601112   0.531414  \n",
       "has_paid   -0.014917  -0.044802  \n",
       "income_근로  -0.086807   0.098044  \n",
       "income_사업   1.000000  -0.049067  \n",
       "income_기타  -0.049067   1.000000  "
      ]
     },
     "execution_count": 299,
     "metadata": {},
     "output_type": "execute_result"
    }
   ],
   "source": [
    "df.corr()"
   ]
  },
  {
   "cell_type": "code",
   "execution_count": 300,
   "metadata": {},
   "outputs": [
    {
     "data": {
      "text/plain": [
       "<AxesSubplot:>"
      ]
     },
     "execution_count": 300,
     "metadata": {},
     "output_type": "execute_result"
    },
    {
     "data": {
      "image/png": "[encoded data removed]",
      "text/plain": [
       "<Figure size 720x576 with 2 Axes>"
      ]
     },
     "metadata": {
      "needs_background": "light"
     },
     "output_type": "display_data"
    }
   ],
   "source": [
    "plt.figure(figsize=(10,8))\n",
    "sns.heatmap(data = df.corr(), annot=True, cmap='Reds',vmin=-1,vmax=1)"
   ]
  },
  {
   "cell_type": "markdown",
   "metadata": {},
   "source": [
    "- refund(예상환금액)과 상관관계가 있는 요소: fee(수수료), 사업소득, 기타소득\n",
    "- has_paid(수수료 결제여부)와 그나마 상관관계가 있는 요소: year, fee"
   ]
  },
  {
   "cell_type": "code",
   "execution_count": 158,
   "metadata": {},
   "outputs": [
    {
     "data": {
      "text/plain": [
       "<AxesSubplot:xlabel='fee', ylabel='refund'>"
      ]
     },
     "execution_count": 158,
     "metadata": {},
     "output_type": "execute_result"
    },
    {
     "data": {
      "image/png": "[encoded data removed]",
      "text/plain": [
       "<Figure size 432x288 with 1 Axes>"
      ]
     },
     "metadata": {
      "needs_background": "light"
     },
     "output_type": "display_data"
    }
   ],
   "source": [
    "sns.scatterplot(data=df, x='fee', y='refund')"
   ]
  },
  {
   "cell_type": "code",
   "execution_count": 159,
   "metadata": {},
   "outputs": [
    {
     "data": {
      "text/plain": [
       "<AxesSubplot:xlabel='fee', ylabel='refund'>"
      ]
     },
     "execution_count": 159,
     "metadata": {},
     "output_type": "execute_result"
    },
    {
     "data": {
      "image/png": "[encoded data removed]",
      "text/plain": [
       "<Figure size 432x288 with 1 Axes>"
      ]
     },
     "metadata": {
      "needs_background": "light"
     },
     "output_type": "display_data"
    }
   ],
   "source": [
    "sns.scatterplot(data=df[(df['fee']<=100000) & (df['refund']>=-1)], x='fee', y='refund')"
   ]
  },
  {
   "cell_type": "markdown",
   "metadata": {},
   "source": [
    "# 데이터 전처리\n",
    "<탐색 결과 정리>\n",
    "### 1. 성별 결측치 22개를 어떻게 판단할 것인가?\n",
    "1. 나머지 99978개의 data를 이용해서 남성인지 여성인지 predict한 값으로 대체하기\n",
    "2. 22개 정도는 drop\n",
    "3. 성별이 결제 여부에 중요할까?\n",
    "\n",
    "### 2. 예상 환급액이 0원이하인 경우는 뭘까?\n",
    "- 뱉어내야하는 돈이라고 봐야하나?\n",
    "- 예상환급액이 0원이하인데 수수료를 지급한 사람은 이유가 있나?\n",
    "1. 76개 제거\n",
    "2. 0원 이하임에도 수수료를 지불한 경우가 있으므로 살리기\n",
    "\n",
    "### 3. data가 skewed된 경우: (refund), fee, 근로소득, 사업소득, 기타소득\n",
    "1. 표준화\n",
    "2. 정규화\n",
    "3. **로그변환**\n",
    "\n",
    "### 4. 데이터 결합\n",
    "1. refund와 fee를 이용해 하나의 칼럼 만들기 ex. fee/refund, refund-fee\n",
    "2. 나이 segment를 어떤 기준으로 나눌 것인가\n",
    "- 먼저 단순히 연령대로 나눈다. ex) 20-23세는 20대초반, 24-26세는 20대 중반 ... 30대까지만.\n",
    "- 40대부터는 나이가 초반이냐 중반이냐 후반이냐의 의미가 퇴색될 것으로 생각함. 40대는 40대로, 50대는 50대로...\n",
    "- 나눈 나이대별로 나의 소득의 합으로 등급을 나눠 어디에 해당하는지 칼럼 추가 [A등급_B등급_C등급]\n",
    "\n",
    "### 5. 근로소득, 사업소득, 기타소득을 하나의 칼럼으로 만들어야 하는가?\n",
    "1. 세금이 어떤 과정으로 부과되고, 환급되는 것인지 도메인 지식이 필요\n",
    "\n",
    "### 6. 이상치 제거\n",
    "1. IQR을 활용, 이상치 인덱스 제거 (fee/refund 칼럼)"
   ]
  },
  {
   "cell_type": "markdown",
   "metadata": {},
   "source": [
    "# 분석 순서\n",
    "\n",
    "<주어진 문제>\n",
    "1. 고객의 결제여부에 영향을 미치는 요인들은 무엇인가요? -> 최대한 전처리하여 과적합을 줄인다.\n",
    "2. 고객의 수수료 결제금액의 합을 높히기 위해서는 어떻게 해야 할까요? -> 최대한 segment를 나눠보며 action plan을 제시한다.\n",
    "\n",
    "먼저 세그먼트를 최대한 나누고, 2번 질문의 답에 대해 답 찾기.\n",
    "\n",
    "이후 이상치 제거, 로그변환 등 전처리하여 모델 만들고 1번 문제에 대해 답 찾기."
   ]
  },
  {
   "cell_type": "code",
   "execution_count": 212,
   "metadata": {},
   "outputs": [],
   "source": [
    "# 예상환급액-수수료가 0원 이하인데 수수료를 지불한 사람들 확인\n",
    "df['예상환급액-수수료'] = df['refund'] - df['fee']"
   ]
  },
  {
   "cell_type": "code",
   "execution_count": 217,
   "metadata": {},
   "outputs": [
    {
     "data": {
      "text/html": [
       "<div>\n",
       "<style scoped>\n",
       "    .dataframe tbody tr th:only-of-type {\n",
       "        vertical-align: middle;\n",
       "    }\n",
       "\n",
       "    .dataframe tbody tr th {\n",
       "        vertical-align: top;\n",
       "    }\n",
       "\n",
       "    .dataframe thead th {\n",
       "        text-align: right;\n",
       "    }\n",
       "</style>\n",
       "<table border=\"1\" class=\"dataframe\">\n",
       "  <thead>\n",
       "    <tr style=\"text-align: right;\">\n",
       "      <th></th>\n",
       "      <th>age</th>\n",
       "      <th>gender</th>\n",
       "      <th>year</th>\n",
       "      <th>refund</th>\n",
       "      <th>fee</th>\n",
       "      <th>has_paid</th>\n",
       "      <th>income_근로</th>\n",
       "      <th>income_사업</th>\n",
       "      <th>income_기타</th>\n",
       "      <th>예상환급액-수수료</th>\n",
       "    </tr>\n",
       "  </thead>\n",
       "  <tbody>\n",
       "    <tr>\n",
       "      <th>1765</th>\n",
       "      <td>20.0</td>\n",
       "      <td>F</td>\n",
       "      <td>2019</td>\n",
       "      <td>4000.0</td>\n",
       "      <td>8900.0</td>\n",
       "      <td>1</td>\n",
       "      <td>0.0</td>\n",
       "      <td>26000.0</td>\n",
       "      <td>169000.0</td>\n",
       "      <td>-4900.0</td>\n",
       "    </tr>\n",
       "    <tr>\n",
       "      <th>2674</th>\n",
       "      <td>22.0</td>\n",
       "      <td>F</td>\n",
       "      <td>2019</td>\n",
       "      <td>-0.0</td>\n",
       "      <td>5100.0</td>\n",
       "      <td>1</td>\n",
       "      <td>0.0</td>\n",
       "      <td>0.0</td>\n",
       "      <td>349000.0</td>\n",
       "      <td>-5100.0</td>\n",
       "    </tr>\n",
       "    <tr>\n",
       "      <th>5131</th>\n",
       "      <td>25.0</td>\n",
       "      <td>F</td>\n",
       "      <td>2015</td>\n",
       "      <td>-0.0</td>\n",
       "      <td>4300.0</td>\n",
       "      <td>1</td>\n",
       "      <td>0.0</td>\n",
       "      <td>0.0</td>\n",
       "      <td>0.0</td>\n",
       "      <td>-4300.0</td>\n",
       "    </tr>\n",
       "    <tr>\n",
       "      <th>5253</th>\n",
       "      <td>31.0</td>\n",
       "      <td>M</td>\n",
       "      <td>2015</td>\n",
       "      <td>-0.0</td>\n",
       "      <td>400.0</td>\n",
       "      <td>1</td>\n",
       "      <td>0.0</td>\n",
       "      <td>0.0</td>\n",
       "      <td>0.0</td>\n",
       "      <td>-400.0</td>\n",
       "    </tr>\n",
       "    <tr>\n",
       "      <th>5809</th>\n",
       "      <td>51.0</td>\n",
       "      <td>M</td>\n",
       "      <td>2017</td>\n",
       "      <td>3000.0</td>\n",
       "      <td>8500.0</td>\n",
       "      <td>1</td>\n",
       "      <td>23645000.0</td>\n",
       "      <td>1553000.0</td>\n",
       "      <td>264000.0</td>\n",
       "      <td>-5500.0</td>\n",
       "    </tr>\n",
       "    <tr>\n",
       "      <th>...</th>\n",
       "      <td>...</td>\n",
       "      <td>...</td>\n",
       "      <td>...</td>\n",
       "      <td>...</td>\n",
       "      <td>...</td>\n",
       "      <td>...</td>\n",
       "      <td>...</td>\n",
       "      <td>...</td>\n",
       "      <td>...</td>\n",
       "      <td>...</td>\n",
       "    </tr>\n",
       "    <tr>\n",
       "      <th>90522</th>\n",
       "      <td>30.0</td>\n",
       "      <td>F</td>\n",
       "      <td>2019</td>\n",
       "      <td>8000.0</td>\n",
       "      <td>11100.0</td>\n",
       "      <td>1</td>\n",
       "      <td>8208000.0</td>\n",
       "      <td>51000.0</td>\n",
       "      <td>255000.0</td>\n",
       "      <td>-3100.0</td>\n",
       "    </tr>\n",
       "    <tr>\n",
       "      <th>90988</th>\n",
       "      <td>26.0</td>\n",
       "      <td>M</td>\n",
       "      <td>2019</td>\n",
       "      <td>10000.0</td>\n",
       "      <td>12800.0</td>\n",
       "      <td>1</td>\n",
       "      <td>0.0</td>\n",
       "      <td>0.0</td>\n",
       "      <td>0.0</td>\n",
       "      <td>-2800.0</td>\n",
       "    </tr>\n",
       "    <tr>\n",
       "      <th>92723</th>\n",
       "      <td>50.0</td>\n",
       "      <td>F</td>\n",
       "      <td>2016</td>\n",
       "      <td>6000.0</td>\n",
       "      <td>6800.0</td>\n",
       "      <td>1</td>\n",
       "      <td>0.0</td>\n",
       "      <td>1059000.0</td>\n",
       "      <td>0.0</td>\n",
       "      <td>-800.0</td>\n",
       "    </tr>\n",
       "    <tr>\n",
       "      <th>96795</th>\n",
       "      <td>31.0</td>\n",
       "      <td>F</td>\n",
       "      <td>2015</td>\n",
       "      <td>-0.0</td>\n",
       "      <td>12800.0</td>\n",
       "      <td>1</td>\n",
       "      <td>0.0</td>\n",
       "      <td>0.0</td>\n",
       "      <td>0.0</td>\n",
       "      <td>-12800.0</td>\n",
       "    </tr>\n",
       "    <tr>\n",
       "      <th>98352</th>\n",
       "      <td>33.0</td>\n",
       "      <td>M</td>\n",
       "      <td>2018</td>\n",
       "      <td>-8265000.0</td>\n",
       "      <td>4300.0</td>\n",
       "      <td>1</td>\n",
       "      <td>0.0</td>\n",
       "      <td>690000.0</td>\n",
       "      <td>0.0</td>\n",
       "      <td>-8269300.0</td>\n",
       "    </tr>\n",
       "  </tbody>\n",
       "</table>\n",
       "<p>73 rows × 10 columns</p>\n",
       "</div>"
      ],
      "text/plain": [
       "        age gender  year     refund      fee  has_paid   income_근로  income_사업  \\\n",
       "1765   20.0      F  2019     4000.0   8900.0         1         0.0    26000.0   \n",
       "2674   22.0      F  2019       -0.0   5100.0         1         0.0        0.0   \n",
       "5131   25.0      F  2015       -0.0   4300.0         1         0.0        0.0   \n",
       "5253   31.0      M  2015       -0.0    400.0         1         0.0        0.0   \n",
       "5809   51.0      M  2017     3000.0   8500.0         1  23645000.0  1553000.0   \n",
       "...     ...    ...   ...        ...      ...       ...         ...        ...   \n",
       "90522  30.0      F  2019     8000.0  11100.0         1   8208000.0    51000.0   \n",
       "90988  26.0      M  2019    10000.0  12800.0         1         0.0        0.0   \n",
       "92723  50.0      F  2016     6000.0   6800.0         1         0.0  1059000.0   \n",
       "96795  31.0      F  2015       -0.0  12800.0         1         0.0        0.0   \n",
       "98352  33.0      M  2018 -8265000.0   4300.0         1         0.0   690000.0   \n",
       "\n",
       "       income_기타  예상환급액-수수료  \n",
       "1765    169000.0    -4900.0  \n",
       "2674    349000.0    -5100.0  \n",
       "5131         0.0    -4300.0  \n",
       "5253         0.0     -400.0  \n",
       "5809    264000.0    -5500.0  \n",
       "...          ...        ...  \n",
       "90522   255000.0    -3100.0  \n",
       "90988        0.0    -2800.0  \n",
       "92723        0.0     -800.0  \n",
       "96795        0.0   -12800.0  \n",
       "98352        0.0 -8269300.0  \n",
       "\n",
       "[73 rows x 10 columns]"
      ]
     },
     "execution_count": 217,
     "metadata": {},
     "output_type": "execute_result"
    }
   ],
   "source": [
    "df[(df['예상환급액-수수료']<=0) & (df['has_paid']==1)]"
   ]
  },
  {
   "cell_type": "markdown",
   "metadata": {},
   "source": [
    "### 해당 연도 소득 기준으로는 수수료가 예상환급액보다 많지만, 다른 연도와 합쳐서 환급받을 때는 +가 되는 경우가 있을 수 있음\n",
    "그런데 아무리 그래도 소득의 합이 0인데 어떻게 예상 환급 급액이 있을 수 있지?"
   ]
  },
  {
   "cell_type": "markdown",
   "metadata": {},
   "source": [
    "- 그룹을 셋으로 나누자. \n",
    "1. 예상환급액이 수수료보다 큰 그룹\n",
    "2. 예상환급액이 수수료보다 적은데 수수료를 결제한 사람들의 그룹\n",
    "3. 예상환급액이 수수료보다 적거나 같아서, 지불을 하지 않은 그룹\n",
    "\n",
    "그리고 특성을 파악해보자"
   ]
  },
  {
   "cell_type": "code",
   "execution_count": 218,
   "metadata": {},
   "outputs": [],
   "source": [
    "# 예상환급액 대비 수수료 칼럼 추가\n",
    "df['예상환급액_대비_수수료(%)'] = df['fee'] / df['refund'] * 100"
   ]
  },
  {
   "cell_type": "code",
   "execution_count": 219,
   "metadata": {},
   "outputs": [],
   "source": [
    "# 소득 합계 칼럼 추가\n",
    "df['income_합계'] = df['income_근로'] + df['income_사업'] + df['income_기타']"
   ]
  },
  {
   "cell_type": "code",
   "execution_count": 220,
   "metadata": {},
   "outputs": [
    {
     "data": {
      "text/html": [
       "<div>\n",
       "<style scoped>\n",
       "    .dataframe tbody tr th:only-of-type {\n",
       "        vertical-align: middle;\n",
       "    }\n",
       "\n",
       "    .dataframe tbody tr th {\n",
       "        vertical-align: top;\n",
       "    }\n",
       "\n",
       "    .dataframe thead th {\n",
       "        text-align: right;\n",
       "    }\n",
       "</style>\n",
       "<table border=\"1\" class=\"dataframe\">\n",
       "  <thead>\n",
       "    <tr style=\"text-align: right;\">\n",
       "      <th></th>\n",
       "      <th>age</th>\n",
       "      <th>gender</th>\n",
       "      <th>year</th>\n",
       "      <th>refund</th>\n",
       "      <th>fee</th>\n",
       "      <th>has_paid</th>\n",
       "      <th>income_근로</th>\n",
       "      <th>income_사업</th>\n",
       "      <th>income_기타</th>\n",
       "      <th>예상환급액-수수료</th>\n",
       "      <th>예상환급액_대비_수수료(%)</th>\n",
       "      <th>income_합계</th>\n",
       "    </tr>\n",
       "  </thead>\n",
       "  <tbody>\n",
       "    <tr>\n",
       "      <th>0</th>\n",
       "      <td>27.0</td>\n",
       "      <td>F</td>\n",
       "      <td>2019</td>\n",
       "      <td>5000.0</td>\n",
       "      <td>400.0</td>\n",
       "      <td>0</td>\n",
       "      <td>10001000.0</td>\n",
       "      <td>61000.0</td>\n",
       "      <td>0.0</td>\n",
       "      <td>4600.0</td>\n",
       "      <td>8.000000</td>\n",
       "      <td>10062000.0</td>\n",
       "    </tr>\n",
       "    <tr>\n",
       "      <th>1</th>\n",
       "      <td>34.0</td>\n",
       "      <td>M</td>\n",
       "      <td>2018</td>\n",
       "      <td>100000.0</td>\n",
       "      <td>1700.0</td>\n",
       "      <td>1</td>\n",
       "      <td>18092000.0</td>\n",
       "      <td>0.0</td>\n",
       "      <td>1815000.0</td>\n",
       "      <td>98300.0</td>\n",
       "      <td>1.700000</td>\n",
       "      <td>19907000.0</td>\n",
       "    </tr>\n",
       "    <tr>\n",
       "      <th>2</th>\n",
       "      <td>28.0</td>\n",
       "      <td>F</td>\n",
       "      <td>2017</td>\n",
       "      <td>289000.0</td>\n",
       "      <td>11500.0</td>\n",
       "      <td>0</td>\n",
       "      <td>0.0</td>\n",
       "      <td>1461000.0</td>\n",
       "      <td>0.0</td>\n",
       "      <td>277500.0</td>\n",
       "      <td>3.979239</td>\n",
       "      <td>1461000.0</td>\n",
       "    </tr>\n",
       "    <tr>\n",
       "      <th>3</th>\n",
       "      <td>27.0</td>\n",
       "      <td>M</td>\n",
       "      <td>2019</td>\n",
       "      <td>410000.0</td>\n",
       "      <td>16200.0</td>\n",
       "      <td>0</td>\n",
       "      <td>0.0</td>\n",
       "      <td>2471000.0</td>\n",
       "      <td>0.0</td>\n",
       "      <td>393800.0</td>\n",
       "      <td>3.951220</td>\n",
       "      <td>2471000.0</td>\n",
       "    </tr>\n",
       "    <tr>\n",
       "      <th>4</th>\n",
       "      <td>26.0</td>\n",
       "      <td>F</td>\n",
       "      <td>2016</td>\n",
       "      <td>114000.0</td>\n",
       "      <td>4300.0</td>\n",
       "      <td>1</td>\n",
       "      <td>0.0</td>\n",
       "      <td>689000.0</td>\n",
       "      <td>0.0</td>\n",
       "      <td>109700.0</td>\n",
       "      <td>3.771930</td>\n",
       "      <td>689000.0</td>\n",
       "    </tr>\n",
       "    <tr>\n",
       "      <th>...</th>\n",
       "      <td>...</td>\n",
       "      <td>...</td>\n",
       "      <td>...</td>\n",
       "      <td>...</td>\n",
       "      <td>...</td>\n",
       "      <td>...</td>\n",
       "      <td>...</td>\n",
       "      <td>...</td>\n",
       "      <td>...</td>\n",
       "      <td>...</td>\n",
       "      <td>...</td>\n",
       "      <td>...</td>\n",
       "    </tr>\n",
       "    <tr>\n",
       "      <th>99995</th>\n",
       "      <td>27.0</td>\n",
       "      <td>F</td>\n",
       "      <td>2019</td>\n",
       "      <td>301000.0</td>\n",
       "      <td>11900.0</td>\n",
       "      <td>1</td>\n",
       "      <td>0.0</td>\n",
       "      <td>0.0</td>\n",
       "      <td>680000.0</td>\n",
       "      <td>289100.0</td>\n",
       "      <td>3.953488</td>\n",
       "      <td>680000.0</td>\n",
       "    </tr>\n",
       "    <tr>\n",
       "      <th>99996</th>\n",
       "      <td>62.0</td>\n",
       "      <td>F</td>\n",
       "      <td>2019</td>\n",
       "      <td>77000.0</td>\n",
       "      <td>1300.0</td>\n",
       "      <td>1</td>\n",
       "      <td>0.0</td>\n",
       "      <td>463000.0</td>\n",
       "      <td>0.0</td>\n",
       "      <td>75700.0</td>\n",
       "      <td>1.688312</td>\n",
       "      <td>463000.0</td>\n",
       "    </tr>\n",
       "    <tr>\n",
       "      <th>99997</th>\n",
       "      <td>24.0</td>\n",
       "      <td>M</td>\n",
       "      <td>2020</td>\n",
       "      <td>9000.0</td>\n",
       "      <td>400.0</td>\n",
       "      <td>0</td>\n",
       "      <td>7923000.0</td>\n",
       "      <td>54000.0</td>\n",
       "      <td>0.0</td>\n",
       "      <td>8600.0</td>\n",
       "      <td>4.444444</td>\n",
       "      <td>7977000.0</td>\n",
       "    </tr>\n",
       "    <tr>\n",
       "      <th>99998</th>\n",
       "      <td>24.0</td>\n",
       "      <td>M</td>\n",
       "      <td>2019</td>\n",
       "      <td>34000.0</td>\n",
       "      <td>400.0</td>\n",
       "      <td>1</td>\n",
       "      <td>0.0</td>\n",
       "      <td>204000.0</td>\n",
       "      <td>0.0</td>\n",
       "      <td>33600.0</td>\n",
       "      <td>1.176471</td>\n",
       "      <td>204000.0</td>\n",
       "    </tr>\n",
       "    <tr>\n",
       "      <th>99999</th>\n",
       "      <td>23.0</td>\n",
       "      <td>F</td>\n",
       "      <td>2019</td>\n",
       "      <td>34000.0</td>\n",
       "      <td>400.0</td>\n",
       "      <td>1</td>\n",
       "      <td>7344000.0</td>\n",
       "      <td>205000.0</td>\n",
       "      <td>0.0</td>\n",
       "      <td>33600.0</td>\n",
       "      <td>1.176471</td>\n",
       "      <td>7549000.0</td>\n",
       "    </tr>\n",
       "  </tbody>\n",
       "</table>\n",
       "<p>100000 rows × 12 columns</p>\n",
       "</div>"
      ],
      "text/plain": [
       "        age gender  year    refund      fee  has_paid   income_근로  income_사업  \\\n",
       "0      27.0      F  2019    5000.0    400.0         0  10001000.0    61000.0   \n",
       "1      34.0      M  2018  100000.0   1700.0         1  18092000.0        0.0   \n",
       "2      28.0      F  2017  289000.0  11500.0         0         0.0  1461000.0   \n",
       "3      27.0      M  2019  410000.0  16200.0         0         0.0  2471000.0   \n",
       "4      26.0      F  2016  114000.0   4300.0         1         0.0   689000.0   \n",
       "...     ...    ...   ...       ...      ...       ...         ...        ...   \n",
       "99995  27.0      F  2019  301000.0  11900.0         1         0.0        0.0   \n",
       "99996  62.0      F  2019   77000.0   1300.0         1         0.0   463000.0   \n",
       "99997  24.0      M  2020    9000.0    400.0         0   7923000.0    54000.0   \n",
       "99998  24.0      M  2019   34000.0    400.0         1         0.0   204000.0   \n",
       "99999  23.0      F  2019   34000.0    400.0         1   7344000.0   205000.0   \n",
       "\n",
       "       income_기타  예상환급액-수수료  예상환급액_대비_수수료(%)   income_합계  \n",
       "0            0.0     4600.0         8.000000  10062000.0  \n",
       "1      1815000.0    98300.0         1.700000  19907000.0  \n",
       "2            0.0   277500.0         3.979239   1461000.0  \n",
       "3            0.0   393800.0         3.951220   2471000.0  \n",
       "4            0.0   109700.0         3.771930    689000.0  \n",
       "...          ...        ...              ...         ...  \n",
       "99995   680000.0   289100.0         3.953488    680000.0  \n",
       "99996        0.0    75700.0         1.688312    463000.0  \n",
       "99997        0.0     8600.0         4.444444   7977000.0  \n",
       "99998        0.0    33600.0         1.176471    204000.0  \n",
       "99999        0.0    33600.0         1.176471   7549000.0  \n",
       "\n",
       "[100000 rows x 12 columns]"
      ]
     },
     "execution_count": 220,
     "metadata": {},
     "output_type": "execute_result"
    }
   ],
   "source": [
    "df"
   ]
  },
  {
   "cell_type": "code",
   "execution_count": 232,
   "metadata": {},
   "outputs": [],
   "source": [
    "group1 = df[df['예상환급액-수수료']>0] # 보통의 경우\n",
    "group2 = df[(df['예상환급액-수수료']<=0) & (df['has_paid']==1)] # 적자 혹은 수익이 없는데도 수수료를 결제한 경우 \n",
    "group3 = df[(df['예상환급액-수수료']<=0) & (df['has_paid']==0)] # 적자 혹은 수익이 없기 때문에 수수료를 미결제한 경우"
   ]
  },
  {
   "cell_type": "markdown",
   "metadata": {},
   "source": [
    "## 연령대별 income_합계 시각화"
   ]
  },
  {
   "cell_type": "code",
   "execution_count": 236,
   "metadata": {},
   "outputs": [
    {
     "data": {
      "text/plain": [
       "<AxesSubplot:xlabel='age', ylabel='income_합계'>"
      ]
     },
     "execution_count": 236,
     "metadata": {},
     "output_type": "execute_result"
    },
    {
     "data": {
      "image/png": "[encoded data removed]",
      "text/plain": [
       "<Figure size 720x360 with 1 Axes>"
      ]
     },
     "metadata": {
      "needs_background": "light"
     },
     "output_type": "display_data"
    }
   ],
   "source": [
    "# 10대\n",
    "plt.figure(figsize=(10,5))\n",
    "sns.boxplot(data = group1[group1['age']<20], x ='age',y='income_합계')"
   ]
  },
  {
   "cell_type": "code",
   "execution_count": 237,
   "metadata": {},
   "outputs": [
    {
     "data": {
      "text/plain": [
       "<AxesSubplot:xlabel='age', ylabel='income_합계'>"
      ]
     },
     "execution_count": 237,
     "metadata": {},
     "output_type": "execute_result"
    },
    {
     "data": {
      "image/png": "[encoded data removed]",
      "text/plain": [
       "<Figure size 720x360 with 1 Axes>"
      ]
     },
     "metadata": {
      "needs_background": "light"
     },
     "output_type": "display_data"
    }
   ],
   "source": [
    "# 20대~30대\n",
    "plt.figure(figsize=(10,5))\n",
    "sns.boxplot(data = group1[(group1['age'] >= 20) & (group1['age']<40)], x ='age',y='income_합계')"
   ]
  },
  {
   "cell_type": "code",
   "execution_count": 167,
   "metadata": {},
   "outputs": [
    {
     "data": {
      "text/plain": [
       "<AxesSubplot:xlabel='age', ylabel='income_합계'>"
      ]
     },
     "execution_count": 167,
     "metadata": {},
     "output_type": "execute_result"
    },
    {
     "data": {
      "image/png": "[encoded data removed]",
      "text/plain": [
       "<Figure size 720x360 with 1 Axes>"
      ]
     },
     "metadata": {
      "needs_background": "light"
     },
     "output_type": "display_data"
    }
   ],
   "source": [
    "# 40대\n",
    "plt.figure(figsize=(10,5))\n",
    "sns.boxplot(data = group1[(group1['age'] >= 40) & (group1['age']<50)], x ='age',y='income_합계')"
   ]
  },
  {
   "cell_type": "code",
   "execution_count": 238,
   "metadata": {},
   "outputs": [
    {
     "data": {
      "text/plain": [
       "<AxesSubplot:xlabel='age', ylabel='income_합계'>"
      ]
     },
     "execution_count": 238,
     "metadata": {},
     "output_type": "execute_result"
    },
    {
     "data": {
      "image/png": "[encoded data removed]",
      "text/plain": [
       "<Figure size 720x360 with 1 Axes>"
      ]
     },
     "metadata": {
      "needs_background": "light"
     },
     "output_type": "display_data"
    }
   ],
   "source": [
    "# 40대~50대\n",
    "plt.figure(figsize=(10,5))\n",
    "sns.boxplot(data = group1[(group1['age'] >= 40) & (group1['age']<60)], x ='age',y='income_합계')"
   ]
  },
  {
   "cell_type": "code",
   "execution_count": 239,
   "metadata": {},
   "outputs": [
    {
     "data": {
      "text/plain": [
       "<AxesSubplot:xlabel='age', ylabel='income_합계'>"
      ]
     },
     "execution_count": 239,
     "metadata": {},
     "output_type": "execute_result"
    },
    {
     "data": {
      "image/png": "[encoded data removed]",
      "text/plain": [
       "<Figure size 1440x720 with 1 Axes>"
      ]
     },
     "metadata": {
      "needs_background": "light"
     },
     "output_type": "display_data"
    }
   ],
   "source": [
    "# 전체\n",
    "plt.figure(figsize=(20,10))\n",
    "sns.boxplot(data = group1, x ='age',y='income_합계')"
   ]
  },
  {
   "cell_type": "code",
   "execution_count": 240,
   "metadata": {},
   "outputs": [],
   "source": [
    "def age_category(age):\n",
    "    category =''\n",
    "    if age < 20:\n",
    "        category = '10대'\n",
    "    elif 20 <= age <= 23:\n",
    "        category = '20대초반'\n",
    "    elif 24 <= age <= 26:\n",
    "        category = '20대중반'\n",
    "    elif 27 <= age <= 29:\n",
    "        category = '20대후반'\n",
    "    elif 30 <= age <= 33:\n",
    "        category = '30대초반'\n",
    "    elif 34 <= age <= 36:\n",
    "        category = '30대중반'\n",
    "    elif 37 <= age <= 39:\n",
    "        category = '30대후반'\n",
    "    elif age < 50:\n",
    "        category = '40대'\n",
    "    elif age < 60:\n",
    "        category = '50대'\n",
    "    elif age < 70:\n",
    "        category = '60대'\n",
    "    else:\n",
    "        category = '70대이상'\n",
    "    return category"
   ]
  },
  {
   "cell_type": "code",
   "execution_count": 241,
   "metadata": {},
   "outputs": [
    {
     "name": "stderr",
     "output_type": "stream",
     "text": [
      "<ipython-input-241-6f8f8f33bf2b>:1: SettingWithCopyWarning: \n",
      "A value is trying to be set on a copy of a slice from a DataFrame.\n",
      "Try using .loc[row_indexer,col_indexer] = value instead\n",
      "\n",
      "See the caveats in the documentation: https://pandas.pydata.org/pandas-docs/stable/user_guide/indexing.html#returning-a-view-versus-a-copy\n",
      "  group1['연령대'] = group1['age'].apply(age_category)\n"
     ]
    }
   ],
   "source": [
    "group1['연령대'] = group1['age'].apply(age_category)"
   ]
  },
  {
   "cell_type": "code",
   "execution_count": 244,
   "metadata": {},
   "outputs": [
    {
     "data": {
      "text/html": [
       "<div>\n",
       "<style scoped>\n",
       "    .dataframe tbody tr th:only-of-type {\n",
       "        vertical-align: middle;\n",
       "    }\n",
       "\n",
       "    .dataframe tbody tr th {\n",
       "        vertical-align: top;\n",
       "    }\n",
       "\n",
       "    .dataframe thead th {\n",
       "        text-align: right;\n",
       "    }\n",
       "</style>\n",
       "<table border=\"1\" class=\"dataframe\">\n",
       "  <thead>\n",
       "    <tr style=\"text-align: right;\">\n",
       "      <th></th>\n",
       "      <th>age</th>\n",
       "      <th>gender</th>\n",
       "      <th>year</th>\n",
       "      <th>refund</th>\n",
       "      <th>fee</th>\n",
       "      <th>has_paid</th>\n",
       "      <th>income_근로</th>\n",
       "      <th>income_사업</th>\n",
       "      <th>income_기타</th>\n",
       "      <th>예상환급액-수수료</th>\n",
       "      <th>예상환급액_대비_수수료(%)</th>\n",
       "      <th>income_합계</th>\n",
       "      <th>연령대</th>\n",
       "    </tr>\n",
       "  </thead>\n",
       "  <tbody>\n",
       "    <tr>\n",
       "      <th>0</th>\n",
       "      <td>27.0</td>\n",
       "      <td>F</td>\n",
       "      <td>2019</td>\n",
       "      <td>5000.0</td>\n",
       "      <td>400.0</td>\n",
       "      <td>0</td>\n",
       "      <td>10001000.0</td>\n",
       "      <td>61000.0</td>\n",
       "      <td>0.0</td>\n",
       "      <td>4600.0</td>\n",
       "      <td>8.000000</td>\n",
       "      <td>10062000.0</td>\n",
       "      <td>20대후반</td>\n",
       "    </tr>\n",
       "    <tr>\n",
       "      <th>1</th>\n",
       "      <td>34.0</td>\n",
       "      <td>M</td>\n",
       "      <td>2018</td>\n",
       "      <td>100000.0</td>\n",
       "      <td>1700.0</td>\n",
       "      <td>1</td>\n",
       "      <td>18092000.0</td>\n",
       "      <td>0.0</td>\n",
       "      <td>1815000.0</td>\n",
       "      <td>98300.0</td>\n",
       "      <td>1.700000</td>\n",
       "      <td>19907000.0</td>\n",
       "      <td>30대중반</td>\n",
       "    </tr>\n",
       "    <tr>\n",
       "      <th>2</th>\n",
       "      <td>28.0</td>\n",
       "      <td>F</td>\n",
       "      <td>2017</td>\n",
       "      <td>289000.0</td>\n",
       "      <td>11500.0</td>\n",
       "      <td>0</td>\n",
       "      <td>0.0</td>\n",
       "      <td>1461000.0</td>\n",
       "      <td>0.0</td>\n",
       "      <td>277500.0</td>\n",
       "      <td>3.979239</td>\n",
       "      <td>1461000.0</td>\n",
       "      <td>20대후반</td>\n",
       "    </tr>\n",
       "    <tr>\n",
       "      <th>3</th>\n",
       "      <td>27.0</td>\n",
       "      <td>M</td>\n",
       "      <td>2019</td>\n",
       "      <td>410000.0</td>\n",
       "      <td>16200.0</td>\n",
       "      <td>0</td>\n",
       "      <td>0.0</td>\n",
       "      <td>2471000.0</td>\n",
       "      <td>0.0</td>\n",
       "      <td>393800.0</td>\n",
       "      <td>3.951220</td>\n",
       "      <td>2471000.0</td>\n",
       "      <td>20대후반</td>\n",
       "    </tr>\n",
       "    <tr>\n",
       "      <th>4</th>\n",
       "      <td>26.0</td>\n",
       "      <td>F</td>\n",
       "      <td>2016</td>\n",
       "      <td>114000.0</td>\n",
       "      <td>4300.0</td>\n",
       "      <td>1</td>\n",
       "      <td>0.0</td>\n",
       "      <td>689000.0</td>\n",
       "      <td>0.0</td>\n",
       "      <td>109700.0</td>\n",
       "      <td>3.771930</td>\n",
       "      <td>689000.0</td>\n",
       "      <td>20대중반</td>\n",
       "    </tr>\n",
       "  </tbody>\n",
       "</table>\n",
       "</div>"
      ],
      "text/plain": [
       "    age gender  year    refund      fee  has_paid   income_근로  income_사업  \\\n",
       "0  27.0      F  2019    5000.0    400.0         0  10001000.0    61000.0   \n",
       "1  34.0      M  2018  100000.0   1700.0         1  18092000.0        0.0   \n",
       "2  28.0      F  2017  289000.0  11500.0         0         0.0  1461000.0   \n",
       "3  27.0      M  2019  410000.0  16200.0         0         0.0  2471000.0   \n",
       "4  26.0      F  2016  114000.0   4300.0         1         0.0   689000.0   \n",
       "\n",
       "   income_기타  예상환급액-수수료  예상환급액_대비_수수료(%)   income_합계    연령대  \n",
       "0        0.0     4600.0         8.000000  10062000.0  20대후반  \n",
       "1  1815000.0    98300.0         1.700000  19907000.0  30대중반  \n",
       "2        0.0   277500.0         3.979239   1461000.0  20대후반  \n",
       "3        0.0   393800.0         3.951220   2471000.0  20대후반  \n",
       "4        0.0   109700.0         3.771930    689000.0  20대중반  "
      ]
     },
     "execution_count": 244,
     "metadata": {},
     "output_type": "execute_result"
    }
   ],
   "source": [
    "group1.head()"
   ]
  },
  {
   "cell_type": "code",
   "execution_count": 245,
   "metadata": {},
   "outputs": [
    {
     "data": {
      "text/plain": [
       "<AxesSubplot:xlabel='연령대'>"
      ]
     },
     "execution_count": 245,
     "metadata": {},
     "output_type": "execute_result"
    },
    {
     "data": {
      "image/png": "[encoded data removed]",
      "text/plain": [
       "<Figure size 432x288 with 1 Axes>"
      ]
     },
     "metadata": {
      "needs_background": "light"
     },
     "output_type": "display_data"
    }
   ],
   "source": [
    "# 연령대별 환급\n",
    "group1.groupby('연령대')['has_paid'].mean().sort_values(ascending=False).plot(kind='bar')"
   ]
  },
  {
   "cell_type": "code",
   "execution_count": 310,
   "metadata": {},
   "outputs": [
    {
     "data": {
      "text/plain": [
       "<AxesSubplot:xlabel='연령대,gender'>"
      ]
     },
     "execution_count": 310,
     "metadata": {},
     "output_type": "execute_result"
    },
    {
     "data": {
      "image/png": "[encoded data removed]",
      "text/plain": [
       "<Figure size 720x360 with 1 Axes>"
      ]
     },
     "metadata": {
      "needs_background": "light"
     },
     "output_type": "display_data"
    }
   ],
   "source": [
    "# 연령대별, 성별별 환급\n",
    "plt.figure(figsize=(10,5))\n",
    "group1.groupby(['연령대','gender'])['has_paid'].mean().sort_values(ascending=False).plot(kind='bar')"
   ]
  },
  {
   "cell_type": "code",
   "execution_count": 246,
   "metadata": {},
   "outputs": [
    {
     "data": {
      "text/plain": [
       "70155     0.563380\n",
       "18917     0.563380\n",
       "62406     0.563380\n",
       "28089     0.563380\n",
       "63367     0.563380\n",
       "           ...    \n",
       "81476    90.000000\n",
       "53570    92.222222\n",
       "41047    94.444444\n",
       "74187    96.800000\n",
       "45219    98.000000\n",
       "Name: 예상환급액_대비_수수료(%), Length: 99870, dtype: float64"
      ]
     },
     "execution_count": 246,
     "metadata": {},
     "output_type": "execute_result"
    }
   ],
   "source": [
    "group1['예상환급액_대비_수수료(%)'].sort_values()"
   ]
  },
  {
   "cell_type": "code",
   "execution_count": 248,
   "metadata": {},
   "outputs": [
    {
     "data": {
      "text/plain": [
       "<AxesSubplot:xlabel='예상환급액_대비_수수료(%)', ylabel='has_paid'>"
      ]
     },
     "execution_count": 248,
     "metadata": {},
     "output_type": "execute_result"
    },
    {
     "data": {
      "image/png": "[encoded data removed]",
      "text/plain": [
       "<Figure size 432x288 with 1 Axes>"
      ]
     },
     "metadata": {
      "needs_background": "light"
     },
     "output_type": "display_data"
    }
   ],
   "source": [
    "sns.scatterplot(data=group1, x='예상환급액_대비_수수료(%)',y='has_paid')"
   ]
  },
  {
   "cell_type": "code",
   "execution_count": 269,
   "metadata": {},
   "outputs": [
    {
     "data": {
      "text/plain": [
       "<AxesSubplot:xlabel='has_paid', ylabel='예상환급액_대비_수수료(%)'>"
      ]
     },
     "execution_count": 269,
     "metadata": {},
     "output_type": "execute_result"
    },
    {
     "data": {
      "image/png": "[encoded data removed]",
      "text/plain": [
       "<Figure size 1080x576 with 1 Axes>"
      ]
     },
     "metadata": {
      "needs_background": "light"
     },
     "output_type": "display_data"
    }
   ],
   "source": [
    "plt.figure(figsize=(15,8))\n",
    "sns.barplot(data=group1, x='has_paid',y='예상환급액_대비_수수료(%)',\n",
    "            hue='연령대',hue_order=['10대','20대초반','20대중반','20대후반','30대초반','30대중반','30대후반','40대',\n",
    "                                '50대','60대','70대이상'])"
   ]
  },
  {
   "cell_type": "markdown",
   "metadata": {},
   "source": [
    "- 예상환급액 대비 수수료가 낮을수록 수수료를 결제함 (당연한 결과)\n",
    "- 10대,60대,70대는 다른 연령대 대비 지불여부의 차이가 다소 있음"
   ]
  },
  {
   "cell_type": "code",
   "execution_count": 304,
   "metadata": {},
   "outputs": [
    {
     "data": {
      "text/plain": [
       "<AxesSubplot:xlabel='has_paid', ylabel='예상환급액_대비_수수료(%)'>"
      ]
     },
     "execution_count": 304,
     "metadata": {},
     "output_type": "execute_result"
    },
    {
     "data": {
      "image/png": "[encoded data removed]",
      "text/plain": [
       "<Figure size 1080x576 with 1 Axes>"
      ]
     },
     "metadata": {
      "needs_background": "light"
     },
     "output_type": "display_data"
    }
   ],
   "source": [
    "# 중앙값\n",
    "plt.figure(figsize=(15,8))\n",
    "sns.barplot(data=group1, x='has_paid',y='예상환급액_대비_수수료(%)',estimator=np.median,\n",
    "            hue='연령대',hue_order=['10대','20대초반','20대중반','20대후반','30대초반','30대중반','30대후반','40대',\n",
    "                                '50대','60대','70대이상'])"
   ]
  },
  {
   "cell_type": "code",
   "execution_count": 305,
   "metadata": {},
   "outputs": [
    {
     "data": {
      "text/plain": [
       "<AxesSubplot:xlabel='has_paid', ylabel='예상환급액-수수료'>"
      ]
     },
     "execution_count": 305,
     "metadata": {},
     "output_type": "execute_result"
    },
    {
     "data": {
      "image/png": "[encoded data removed]",
      "text/plain": [
       "<Figure size 1080x576 with 1 Axes>"
      ]
     },
     "metadata": {
      "needs_background": "light"
     },
     "output_type": "display_data"
    }
   ],
   "source": [
    "plt.figure(figsize=(15,8))\n",
    "sns.barplot(data=group1, x='has_paid',y='예상환급액-수수료',\n",
    "            hue='연령대',hue_order=['10대','20대초반','20대중반','20대후반','30대초반','30대중반','30대후반','40대',\n",
    "                                '50대','60대','70대이상'])"
   ]
  },
  {
   "cell_type": "code",
   "execution_count": 307,
   "metadata": {},
   "outputs": [
    {
     "data": {
      "text/plain": [
       "<AxesSubplot:xlabel='has_paid', ylabel='예상환급액-수수료'>"
      ]
     },
     "execution_count": 307,
     "metadata": {},
     "output_type": "execute_result"
    },
    {
     "data": {
      "image/png": "[encoded data removed]",
      "text/plain": [
       "<Figure size 1080x576 with 1 Axes>"
      ]
     },
     "metadata": {
      "needs_background": "light"
     },
     "output_type": "display_data"
    }
   ],
   "source": [
    "plt.figure(figsize=(15,8))\n",
    "sns.barplot(data=group1, x='has_paid',y='예상환급액-수수료', estimator=np.median,\n",
    "            hue='연령대',hue_order=['10대','20대초반','20대중반','20대후반','30대초반','30대중반','30대후반','40대',\n",
    "                                '50대','60대','70대이상'])"
   ]
  },
  {
   "cell_type": "markdown",
   "metadata": {},
   "source": [
    "- 대부부의 연령대에서 수수료를 지불한 사람들의 [예상환급금액-수수료]의 금액이 더 적음\n",
    "- 지급받을 금액이 적음에도 불구하고 이런 차이를 보인 이유가 있나?\n",
    "- has_paid = 1인 사람들의 특성을 분석해봐야함"
   ]
  },
  {
   "cell_type": "code",
   "execution_count": 311,
   "metadata": {},
   "outputs": [
    {
     "data": {
      "text/plain": [
       "<AxesSubplot:>"
      ]
     },
     "execution_count": 311,
     "metadata": {},
     "output_type": "execute_result"
    },
    {
     "data": {
      "image/png": "[encoded data removed]",
      "text/plain": [
       "<Figure size 720x720 with 2 Axes>"
      ]
     },
     "metadata": {
      "needs_background": "light"
     },
     "output_type": "display_data"
    }
   ],
   "source": [
    "mask = np.triu(np.ones_like(group1.corr(), dtype=np.bool))\n",
    "plt.figure(figsize=(10,10))\n",
    "sns.heatmap(data = group1.corr(),\n",
    "            annot=True,\n",
    "           mask=mask,\n",
    "           vmin=-1,\n",
    "           vmax=1)"
   ]
  },
  {
   "cell_type": "markdown",
   "metadata": {},
   "source": [
    "# 팀플 방향\n",
    "## 1. 질문1을 푸는 그룹\n",
    "(고객의 결제여부에 영향을 미치는 요인들은 무엇인가요?)\n",
    "### 결제 여부를 예측하는 머신러닝 모델을 만들고 feature_importance별로 영향을 미치는 요인(칼럼) 순위별로 제시\n",
    "\n",
    "\n",
    "## 2. 질문2를 푸는 그룹\n",
    "(고객의 수수료 결제금액의 합을 높히기 위해서는 어떻게 해야 할까요?)\n",
    "\n",
    "\n",
    "### 질문2를 푸는 그룹에서 각 segment별로 자기 분량을 나눠서 책임지고 분석\n",
    "\n",
    "#### 연령대별, 성별별로 몇 그룹씩 묶어서 분석하기\n",
    "- 10대 남성\n",
    "- 10대 여성\n",
    "\n",
    "- 20대초반 남성\n",
    "- 20대초반 여성\n",
    "- 20대중반 남성\n",
    "- 20대중반 여성\n",
    "- 20대후반 남성\n",
    "- 20대후반 여성\n",
    "\n",
    "- 30대초반 남성\n",
    "- 30대초반 여성\n",
    "- 30대중반 남성\n",
    "- 30대중반 여성\n",
    "- 30대후반 남성\n",
    "- 30대후반 여성\n",
    "\n",
    "- 40대 남성\n",
    "- 40대 여성\n",
    "\n",
    "- 50대 남성\n",
    "- 50대 여성\n",
    "\n",
    "- 60대 남성\n",
    "- 60대 여성\n",
    "\n",
    "- 70대이상 남성\n",
    "- 70대이상 여성\n",
    "\n",
    "#### 그룹2 담당자들이 제안해야하는 문구 예시\n",
    "예를 들어, 내가 30대를 맡기로 한 담당자라면\n",
    "- 30대초반 남성:\n",
    "        예상환급액-수수료가 10,000원 이상인 사람의 결제율이 그렇지 않은 사람보다 더 높으므로, 예상환급액-수수료가 10,000원 이하의 사람들을 대상으로 수수료를 다소 인하하여 10,000원 이상을 만들어 결제를 유도한다.\n",
    "- 30대후반 여성:\n",
    "        전체 소득 대비 사업소득의 비율이 30% 이상인 경우 그렇지 않은 사람들보다 결제율이 높으므로 그들에게 결제를 유도하는 push 메시지를 보낸다."
   ]
  },
  {
   "cell_type": "code",
   "execution_count": null,
   "metadata": {},
   "outputs": [],
   "source": []
  }
 ],
 "metadata": {
  "kernelspec": {
   "display_name": "Python 3",
   "language": "python",
   "name": "python3"
  },
  "language_info": {
   "codemirror_mode": {
    "name": "ipython",
    "version": 3
   },
   "file_extension": ".py",
   "mimetype": "text/x-python",
   "name": "python",
   "nbconvert_exporter": "python",
   "pygments_lexer": "ipython3",
   "version": "3.8.5"
  }
 },
 "nbformat": 4,
 "nbformat_minor": 4
}
