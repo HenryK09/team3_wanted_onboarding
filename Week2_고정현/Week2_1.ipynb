{
 "cells": [
  {
   "cell_type": "markdown",
   "id": "df165db6",
   "metadata": {},
   "source": [
    "## 테이블의 내용은 아래의 내용을 담고 있습니다.\n",
    "1. 고객이 각 귀속년도별\n",
    "1. 근로 / 사업 / 기타 소득에 대한 예상환급액과 수수료를 조회한 뒤\n",
    "1. 결제를 하거나 하지 않은 여부를 저장\n",
    "\n",
    "## 컬럼 정보는 다음과 같습니다.\n",
    "- age: 고객의 만 나이입니다. \n",
    "- gender: 고객의 성별입니다.\n",
    "- year: 소득이 발생한 연도(귀속년도)입니다.\n",
    "- refund: 예상환급액입니다.\n",
    "- fee: 수수료입니다.\n",
    "- has_paid: 수수료를 결제했는지의 여부\n",
    "- income_근로: 고객의 근로소득(월급/일용직급여)\n",
    "- income_사업: 고객의 사업소득(프리랜서 소득)\n",
    "- income_기타: 고객의 기타소득(그외 기타 소득)\n",
    "\n",
    "## 아래의 질문에 나름의 방식으로 답을 찾아주세요.\n",
    "(정답은 없습니다. 문제를 정의하고, 해답에 이르게 된 과정과 그 해석을 잘 설득/설명해 주시는 것이 중요합니다.)\n",
    "\n",
    "- 고객의 결제여부에 영향을 미치는 요인들은 무엇인가요? \n",
    "- 고객의 수수료 결제금액의 합을 높히기 위해서는 어떻게 해야 할까요?"
   ]
  },
  {
   "cell_type": "markdown",
   "id": "48140401",
   "metadata": {},
   "source": [
    "#### 설정, import "
   ]
  },
  {
   "cell_type": "code",
   "execution_count": 1,
   "id": "d341d851",
   "metadata": {},
   "outputs": [],
   "source": [
    "import pandas as pd"
   ]
  },
  {
   "cell_type": "code",
   "execution_count": 8,
   "id": "553ada0b",
   "metadata": {},
   "outputs": [],
   "source": [
    "\n",
    "import matplotlib.pyplot as plt\n",
    "%matplotlib inline\n",
    "\n",
    "from matplotlib import font_manager, rc\n",
    "plt.rcParams['axes.unicode_minus'] = False\n",
    "\n",
    "import platform\n",
    "\n",
    "if platform.system() == 'Windows':\n",
    "    path = \"c:/Windows/Fonts/malgun.ttf\"\n",
    "    font_name = font_manager.FontProperties(fname=path).get_name()\n",
    "    rc('font', family=font_name)\n",
    "elif platform.system() == 'Darwin':\n",
    "    rc('font', family='AppleGothic')\n",
    "elif platform.system() == 'Linux':\n",
    "    rc('font', family='NanumBarunGothic')\n",
    "else:\n",
    "    print('Unknown system... sorry~~')\n",
    "\n",
    "import seaborn as sns"
   ]
  },
  {
   "cell_type": "code",
   "execution_count": 3,
   "id": "4d7942d3",
   "metadata": {},
   "outputs": [],
   "source": [
    "df = pd.read_csv(\"data/Jobis_3o3.csv\")"
   ]
  },
  {
   "cell_type": "markdown",
   "id": "0472f829",
   "metadata": {},
   "source": [
    "#### 기본정보 "
   ]
  },
  {
   "cell_type": "code",
   "execution_count": 4,
   "id": "2c953884",
   "metadata": {},
   "outputs": [
    {
     "data": {
      "text/html": [
       "<div>\n",
       "<style scoped>\n",
       "    .dataframe tbody tr th:only-of-type {\n",
       "        vertical-align: middle;\n",
       "    }\n",
       "\n",
       "    .dataframe tbody tr th {\n",
       "        vertical-align: top;\n",
       "    }\n",
       "\n",
       "    .dataframe thead th {\n",
       "        text-align: right;\n",
       "    }\n",
       "</style>\n",
       "<table border=\"1\" class=\"dataframe\">\n",
       "  <thead>\n",
       "    <tr style=\"text-align: right;\">\n",
       "      <th></th>\n",
       "      <th>age</th>\n",
       "      <th>gender</th>\n",
       "      <th>year</th>\n",
       "      <th>refund</th>\n",
       "      <th>fee</th>\n",
       "      <th>has_paid</th>\n",
       "      <th>income_근로</th>\n",
       "      <th>income_사업</th>\n",
       "      <th>income_기타</th>\n",
       "    </tr>\n",
       "  </thead>\n",
       "  <tbody>\n",
       "    <tr>\n",
       "      <th>0</th>\n",
       "      <td>27.0</td>\n",
       "      <td>F</td>\n",
       "      <td>2019</td>\n",
       "      <td>5000.0</td>\n",
       "      <td>400.0</td>\n",
       "      <td>False</td>\n",
       "      <td>10001000.0</td>\n",
       "      <td>61000.0</td>\n",
       "      <td>NaN</td>\n",
       "    </tr>\n",
       "    <tr>\n",
       "      <th>1</th>\n",
       "      <td>34.0</td>\n",
       "      <td>M</td>\n",
       "      <td>2018</td>\n",
       "      <td>100000.0</td>\n",
       "      <td>1700.0</td>\n",
       "      <td>True</td>\n",
       "      <td>18092000.0</td>\n",
       "      <td>NaN</td>\n",
       "      <td>1815000.0</td>\n",
       "    </tr>\n",
       "    <tr>\n",
       "      <th>2</th>\n",
       "      <td>28.0</td>\n",
       "      <td>F</td>\n",
       "      <td>2017</td>\n",
       "      <td>289000.0</td>\n",
       "      <td>11500.0</td>\n",
       "      <td>False</td>\n",
       "      <td>NaN</td>\n",
       "      <td>1461000.0</td>\n",
       "      <td>NaN</td>\n",
       "    </tr>\n",
       "    <tr>\n",
       "      <th>3</th>\n",
       "      <td>27.0</td>\n",
       "      <td>M</td>\n",
       "      <td>2019</td>\n",
       "      <td>410000.0</td>\n",
       "      <td>16200.0</td>\n",
       "      <td>False</td>\n",
       "      <td>NaN</td>\n",
       "      <td>2471000.0</td>\n",
       "      <td>NaN</td>\n",
       "    </tr>\n",
       "    <tr>\n",
       "      <th>4</th>\n",
       "      <td>26.0</td>\n",
       "      <td>F</td>\n",
       "      <td>2016</td>\n",
       "      <td>114000.0</td>\n",
       "      <td>4300.0</td>\n",
       "      <td>True</td>\n",
       "      <td>0.0</td>\n",
       "      <td>689000.0</td>\n",
       "      <td>NaN</td>\n",
       "    </tr>\n",
       "  </tbody>\n",
       "</table>\n",
       "</div>"
      ],
      "text/plain": [
       "    age gender  year    refund      fee  has_paid   income_근로  income_사업  \\\n",
       "0  27.0      F  2019    5000.0    400.0     False  10001000.0    61000.0   \n",
       "1  34.0      M  2018  100000.0   1700.0      True  18092000.0        NaN   \n",
       "2  28.0      F  2017  289000.0  11500.0     False         NaN  1461000.0   \n",
       "3  27.0      M  2019  410000.0  16200.0     False         NaN  2471000.0   \n",
       "4  26.0      F  2016  114000.0   4300.0      True         0.0   689000.0   \n",
       "\n",
       "   income_기타  \n",
       "0        NaN  \n",
       "1  1815000.0  \n",
       "2        NaN  \n",
       "3        NaN  \n",
       "4        NaN  "
      ]
     },
     "execution_count": 4,
     "metadata": {},
     "output_type": "execute_result"
    }
   ],
   "source": [
    "df.head()"
   ]
  },
  {
   "cell_type": "code",
   "execution_count": 6,
   "id": "51029276",
   "metadata": {},
   "outputs": [
    {
     "name": "stdout",
     "output_type": "stream",
     "text": [
      "<class 'pandas.core.frame.DataFrame'>\n",
      "RangeIndex: 100000 entries, 0 to 99999\n",
      "Data columns (total 9 columns):\n",
      " #   Column     Non-Null Count   Dtype  \n",
      "---  ------     --------------   -----  \n",
      " 0   age        100000 non-null  float64\n",
      " 1   gender     100000 non-null  object \n",
      " 2   year       100000 non-null  int64  \n",
      " 3   refund     100000 non-null  float64\n",
      " 4   fee        100000 non-null  float64\n",
      " 5   has_paid   100000 non-null  bool   \n",
      " 6   income_근로  40791 non-null   float64\n",
      " 7   income_사업  78227 non-null   float64\n",
      " 8   income_기타  25260 non-null   float64\n",
      "dtypes: bool(1), float64(6), int64(1), object(1)\n",
      "memory usage: 6.2+ MB\n"
     ]
    }
   ],
   "source": [
    "df.info()\n",
    "#기타소득이 가장 많고, 그 다음으로 근로소득, 사업소득 순 \n",
    "#소득이 Nan인 것은 결국 0이라는 거니까, 소득의 결측값은 0으로 처리해도 무방함 "
   ]
  },
  {
   "cell_type": "code",
   "execution_count": 7,
   "id": "46f56c9a",
   "metadata": {},
   "outputs": [
    {
     "data": {
      "text/html": [
       "<div>\n",
       "<style scoped>\n",
       "    .dataframe tbody tr th:only-of-type {\n",
       "        vertical-align: middle;\n",
       "    }\n",
       "\n",
       "    .dataframe tbody tr th {\n",
       "        vertical-align: top;\n",
       "    }\n",
       "\n",
       "    .dataframe thead th {\n",
       "        text-align: right;\n",
       "    }\n",
       "</style>\n",
       "<table border=\"1\" class=\"dataframe\">\n",
       "  <thead>\n",
       "    <tr style=\"text-align: right;\">\n",
       "      <th></th>\n",
       "      <th>age</th>\n",
       "      <th>year</th>\n",
       "      <th>refund</th>\n",
       "      <th>fee</th>\n",
       "      <th>income_근로</th>\n",
       "      <th>income_사업</th>\n",
       "      <th>income_기타</th>\n",
       "    </tr>\n",
       "  </thead>\n",
       "  <tbody>\n",
       "    <tr>\n",
       "      <th>count</th>\n",
       "      <td>100000.00000</td>\n",
       "      <td>100000.000000</td>\n",
       "      <td>1.000000e+05</td>\n",
       "      <td>100000.000000</td>\n",
       "      <td>4.079100e+04</td>\n",
       "      <td>7.822700e+04</td>\n",
       "      <td>2.526000e+04</td>\n",
       "    </tr>\n",
       "    <tr>\n",
       "      <th>mean</th>\n",
       "      <td>29.00096</td>\n",
       "      <td>2018.111300</td>\n",
       "      <td>2.081422e+05</td>\n",
       "      <td>7247.641000</td>\n",
       "      <td>6.432597e+06</td>\n",
       "      <td>1.511712e+06</td>\n",
       "      <td>6.362834e+05</td>\n",
       "    </tr>\n",
       "    <tr>\n",
       "      <th>std</th>\n",
       "      <td>7.76819</td>\n",
       "      <td>1.495812</td>\n",
       "      <td>3.071744e+05</td>\n",
       "      <td>11926.896979</td>\n",
       "      <td>6.583716e+06</td>\n",
       "      <td>2.449810e+06</td>\n",
       "      <td>1.484947e+06</td>\n",
       "    </tr>\n",
       "    <tr>\n",
       "      <th>min</th>\n",
       "      <td>15.00000</td>\n",
       "      <td>2015.000000</td>\n",
       "      <td>-8.265000e+06</td>\n",
       "      <td>400.000000</td>\n",
       "      <td>0.000000e+00</td>\n",
       "      <td>0.000000e+00</td>\n",
       "      <td>0.000000e+00</td>\n",
       "    </tr>\n",
       "    <tr>\n",
       "      <th>25%</th>\n",
       "      <td>24.00000</td>\n",
       "      <td>2017.000000</td>\n",
       "      <td>3.300000e+04</td>\n",
       "      <td>400.000000</td>\n",
       "      <td>1.616000e+06</td>\n",
       "      <td>1.770000e+05</td>\n",
       "      <td>8.200000e+04</td>\n",
       "    </tr>\n",
       "    <tr>\n",
       "      <th>50%</th>\n",
       "      <td>27.00000</td>\n",
       "      <td>2018.000000</td>\n",
       "      <td>9.900000e+04</td>\n",
       "      <td>4300.000000</td>\n",
       "      <td>4.507000e+06</td>\n",
       "      <td>6.190000e+05</td>\n",
       "      <td>2.130000e+05</td>\n",
       "    </tr>\n",
       "    <tr>\n",
       "      <th>75%</th>\n",
       "      <td>31.00000</td>\n",
       "      <td>2019.000000</td>\n",
       "      <td>2.540000e+05</td>\n",
       "      <td>8500.000000</td>\n",
       "      <td>9.301000e+06</td>\n",
       "      <td>1.601000e+06</td>\n",
       "      <td>5.820000e+05</td>\n",
       "    </tr>\n",
       "    <tr>\n",
       "      <th>max</th>\n",
       "      <td>81.00000</td>\n",
       "      <td>2020.000000</td>\n",
       "      <td>7.725000e+06</td>\n",
       "      <td>307000.000000</td>\n",
       "      <td>1.823350e+08</td>\n",
       "      <td>3.993400e+07</td>\n",
       "      <td>6.281000e+07</td>\n",
       "    </tr>\n",
       "  </tbody>\n",
       "</table>\n",
       "</div>"
      ],
      "text/plain": [
       "                age           year        refund            fee     income_근로  \\\n",
       "count  100000.00000  100000.000000  1.000000e+05  100000.000000  4.079100e+04   \n",
       "mean       29.00096    2018.111300  2.081422e+05    7247.641000  6.432597e+06   \n",
       "std         7.76819       1.495812  3.071744e+05   11926.896979  6.583716e+06   \n",
       "min        15.00000    2015.000000 -8.265000e+06     400.000000  0.000000e+00   \n",
       "25%        24.00000    2017.000000  3.300000e+04     400.000000  1.616000e+06   \n",
       "50%        27.00000    2018.000000  9.900000e+04    4300.000000  4.507000e+06   \n",
       "75%        31.00000    2019.000000  2.540000e+05    8500.000000  9.301000e+06   \n",
       "max        81.00000    2020.000000  7.725000e+06  307000.000000  1.823350e+08   \n",
       "\n",
       "          income_사업     income_기타  \n",
       "count  7.822700e+04  2.526000e+04  \n",
       "mean   1.511712e+06  6.362834e+05  \n",
       "std    2.449810e+06  1.484947e+06  \n",
       "min    0.000000e+00  0.000000e+00  \n",
       "25%    1.770000e+05  8.200000e+04  \n",
       "50%    6.190000e+05  2.130000e+05  \n",
       "75%    1.601000e+06  5.820000e+05  \n",
       "max    3.993400e+07  6.281000e+07  "
      ]
     },
     "execution_count": 7,
     "metadata": {},
     "output_type": "execute_result"
    }
   ],
   "source": [
    "df.describe()"
   ]
  },
  {
   "cell_type": "code",
   "execution_count": 9,
   "id": "ec3ba056",
   "metadata": {},
   "outputs": [
    {
     "data": {
      "text/plain": [
       "Index(['age', 'gender', 'year', 'refund', 'fee', 'has_paid', 'income_근로',\n",
       "       'income_사업', 'income_기타'],\n",
       "      dtype='object')"
      ]
     },
     "execution_count": 9,
     "metadata": {},
     "output_type": "execute_result"
    }
   ],
   "source": [
    "df.columns"
   ]
  },
  {
   "cell_type": "code",
   "execution_count": 11,
   "id": "4ac90bf6",
   "metadata": {},
   "outputs": [
    {
     "data": {
      "text/plain": [
       "<AxesSubplot:>"
      ]
     },
     "execution_count": 11,
     "metadata": {},
     "output_type": "execute_result"
    },
    {
     "data": {
      "image/png": "[encoded data removed]",
      "text/plain": [
       "<Figure size 432x288 with 2 Axes>"
      ]
     },
     "metadata": {
      "needs_background": "light"
     },
     "output_type": "display_data"
    }
   ],
   "source": [
    "sns.heatmap(df[['age', 'gender', 'year', 'refund', 'fee', 'has_paid', 'income_근로',\n",
    "       'income_사업', 'income_기타']].corr(), \n",
    "           annot=True)"
   ]
  },
  {
   "cell_type": "code",
   "execution_count": 12,
   "id": "c097d52f",
   "metadata": {},
   "outputs": [],
   "source": [
    "#환급액에 비례해서 수수료를 지불하기 때문에 수수료 - 환급액의 양의 상관관계가 강하다 \n",
    "#연령과 근로소득에는 상관관계 존재. 연차 때문이겠고 \n",
    "#환급액, 수수료와 상관관계를 강하게 보이는 유형은 income 중에서도 사업 및 기타소득 -> 근로소득은 연말정산으로 하니까?"
   ]
  },
  {
   "cell_type": "code",
   "execution_count": null,
   "id": "5f4155b0",
   "metadata": {},
   "outputs": [],
   "source": []
  }
 ],
 "metadata": {
  "kernelspec": {
   "display_name": "Python 3.8.6 64-bit ('m1': conda)",
   "language": "python",
   "name": "python386jvsc74a57bd07918b9be9029ed4a26abb1e3f55c1f59c9a25fcca3de584c39fa0974acb148d7"
  },
  "language_info": {
   "codemirror_mode": {
    "name": "ipython",
    "version": 3
   },
   "file_extension": ".py",
   "mimetype": "text/x-python",
   "name": "python",
   "nbconvert_exporter": "python",
   "pygments_lexer": "ipython3",
   "version": "3.8.10"
  }
 },
 "nbformat": 4,
 "nbformat_minor": 5
}
