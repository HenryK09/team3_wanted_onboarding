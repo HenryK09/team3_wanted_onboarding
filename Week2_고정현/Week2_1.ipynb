{
 "cells": [
  {
   "cell_type": "markdown",
   "id": "df165db6",
   "metadata": {},
   "source": [
    "## 테이블의 내용은 아래의 내용을 담고 있습니다.\n",
    "1. 고객이 각 귀속년도별\n",
    "1. 근로 / 사업 / 기타 소득에 대한 예상환급액과 수수료를 조회한 뒤\n",
    "1. 결제를 하거나 하지 않은 여부를 저장\n",
    "\n",
    "## 컬럼 정보는 다음과 같습니다.\n",
    "- age: 고객의 만 나이입니다. \n",
    "- gender: 고객의 성별입니다.\n",
    "- year: 소득이 발생한 연도(귀속년도)입니다.\n",
    "- refund: 예상환급액입니다.\n",
    "- fee: 수수료입니다.\n",
    "- has_paid: 수수료를 결제했는지의 여부\n",
    "- income_근로: 고객의 근로소득(월급/일용직급여)\n",
    "- income_사업: 고객의 사업소득(프리랜서 소득)\n",
    "- income_기타: 고객의 기타소득(그외 기타 소득)\n",
    "\n",
    "## 아래의 질문에 나름의 방식으로 답을 찾아주세요.\n",
    "(정답은 없습니다. 문제를 정의하고, 해답에 이르게 된 과정과 그 해석을 잘 설득/설명해 주시는 것이 중요합니다.)\n",
    "\n",
    "- 고객의 결제여부에 영향을 미치는 요인들은 무엇인가요? \n",
    "- 고객의 수수료 결제금액의 합을 높히기 위해서는 어떻게 해야 할까요?"
   ]
  },
  {
   "cell_type": "markdown",
   "id": "48140401",
   "metadata": {},
   "source": [
    "#### 설정, import "
   ]
  },
  {
   "cell_type": "code",
   "execution_count": 2,
   "id": "d341d851",
   "metadata": {},
   "outputs": [],
   "source": [
    "import pandas as pd"
   ]
  },
  {
   "cell_type": "code",
   "execution_count": 55,
   "id": "553ada0b",
   "metadata": {},
   "outputs": [],
   "source": [
    "\n",
    "import matplotlib.pyplot as plt\n",
    "%matplotlib inline\n",
    "\n",
    "from matplotlib import font_manager, rc\n",
    "plt.rcParams['axes.unicode_minus'] = False\n",
    "\n",
    "import platform\n",
    "\n",
    "if platform.system() == 'Windows':\n",
    "    path = \"c:/Windows/Fonts/malgun.ttf\"\n",
    "    font_name = font_manager.FontProperties(fname=path).get_name()\n",
    "    rc('font', family=font_name)\n",
    "elif platform.system() == 'Darwin':\n",
    "    rc('font', family='AppleGothic')\n",
    "elif platform.system() == 'Linux':\n",
    "    rc('font', family='NanumBarunGothic')\n",
    "else:\n",
    "    print('Unknown system... sorry~~')\n",
    "\n",
    "import seaborn as sns"
   ]
  },
  {
   "cell_type": "code",
   "execution_count": 4,
   "id": "4d7942d3",
   "metadata": {},
   "outputs": [],
   "source": [
    "df = pd.read_csv(\"data/Jobis_3o3.csv\")"
   ]
  },
  {
   "cell_type": "markdown",
   "id": "0472f829",
   "metadata": {},
   "source": [
    "#### 기본정보 "
   ]
  },
  {
   "cell_type": "code",
   "execution_count": 5,
   "id": "2c953884",
   "metadata": {},
   "outputs": [
    {
     "data": {
      "text/html": [
       "<div>\n",
       "<style scoped>\n",
       "    .dataframe tbody tr th:only-of-type {\n",
       "        vertical-align: middle;\n",
       "    }\n",
       "\n",
       "    .dataframe tbody tr th {\n",
       "        vertical-align: top;\n",
       "    }\n",
       "\n",
       "    .dataframe thead th {\n",
       "        text-align: right;\n",
       "    }\n",
       "</style>\n",
       "<table border=\"1\" class=\"dataframe\">\n",
       "  <thead>\n",
       "    <tr style=\"text-align: right;\">\n",
       "      <th></th>\n",
       "      <th>age</th>\n",
       "      <th>gender</th>\n",
       "      <th>year</th>\n",
       "      <th>refund</th>\n",
       "      <th>fee</th>\n",
       "      <th>has_paid</th>\n",
       "      <th>income_근로</th>\n",
       "      <th>income_사업</th>\n",
       "      <th>income_기타</th>\n",
       "    </tr>\n",
       "  </thead>\n",
       "  <tbody>\n",
       "    <tr>\n",
       "      <th>0</th>\n",
       "      <td>27.0</td>\n",
       "      <td>F</td>\n",
       "      <td>2019</td>\n",
       "      <td>5000.0</td>\n",
       "      <td>400.0</td>\n",
       "      <td>False</td>\n",
       "      <td>10001000.0</td>\n",
       "      <td>61000.0</td>\n",
       "      <td>NaN</td>\n",
       "    </tr>\n",
       "    <tr>\n",
       "      <th>1</th>\n",
       "      <td>34.0</td>\n",
       "      <td>M</td>\n",
       "      <td>2018</td>\n",
       "      <td>100000.0</td>\n",
       "      <td>1700.0</td>\n",
       "      <td>True</td>\n",
       "      <td>18092000.0</td>\n",
       "      <td>NaN</td>\n",
       "      <td>1815000.0</td>\n",
       "    </tr>\n",
       "    <tr>\n",
       "      <th>2</th>\n",
       "      <td>28.0</td>\n",
       "      <td>F</td>\n",
       "      <td>2017</td>\n",
       "      <td>289000.0</td>\n",
       "      <td>11500.0</td>\n",
       "      <td>False</td>\n",
       "      <td>NaN</td>\n",
       "      <td>1461000.0</td>\n",
       "      <td>NaN</td>\n",
       "    </tr>\n",
       "    <tr>\n",
       "      <th>3</th>\n",
       "      <td>27.0</td>\n",
       "      <td>M</td>\n",
       "      <td>2019</td>\n",
       "      <td>410000.0</td>\n",
       "      <td>16200.0</td>\n",
       "      <td>False</td>\n",
       "      <td>NaN</td>\n",
       "      <td>2471000.0</td>\n",
       "      <td>NaN</td>\n",
       "    </tr>\n",
       "    <tr>\n",
       "      <th>4</th>\n",
       "      <td>26.0</td>\n",
       "      <td>F</td>\n",
       "      <td>2016</td>\n",
       "      <td>114000.0</td>\n",
       "      <td>4300.0</td>\n",
       "      <td>True</td>\n",
       "      <td>0.0</td>\n",
       "      <td>689000.0</td>\n",
       "      <td>NaN</td>\n",
       "    </tr>\n",
       "  </tbody>\n",
       "</table>\n",
       "</div>"
      ],
      "text/plain": [
       "    age gender  year    refund      fee  has_paid   income_근로  income_사업  \\\n",
       "0  27.0      F  2019    5000.0    400.0     False  10001000.0    61000.0   \n",
       "1  34.0      M  2018  100000.0   1700.0      True  18092000.0        NaN   \n",
       "2  28.0      F  2017  289000.0  11500.0     False         NaN  1461000.0   \n",
       "3  27.0      M  2019  410000.0  16200.0     False         NaN  2471000.0   \n",
       "4  26.0      F  2016  114000.0   4300.0      True         0.0   689000.0   \n",
       "\n",
       "   income_기타  \n",
       "0        NaN  \n",
       "1  1815000.0  \n",
       "2        NaN  \n",
       "3        NaN  \n",
       "4        NaN  "
      ]
     },
     "execution_count": 5,
     "metadata": {},
     "output_type": "execute_result"
    }
   ],
   "source": [
    "df.head()"
   ]
  },
  {
   "cell_type": "code",
   "execution_count": 6,
   "id": "51029276",
   "metadata": {},
   "outputs": [
    {
     "name": "stdout",
     "output_type": "stream",
     "text": [
      "<class 'pandas.core.frame.DataFrame'>\n",
      "RangeIndex: 100000 entries, 0 to 99999\n",
      "Data columns (total 9 columns):\n",
      " #   Column     Non-Null Count   Dtype  \n",
      "---  ------     --------------   -----  \n",
      " 0   age        100000 non-null  float64\n",
      " 1   gender     100000 non-null  object \n",
      " 2   year       100000 non-null  int64  \n",
      " 3   refund     100000 non-null  float64\n",
      " 4   fee        100000 non-null  float64\n",
      " 5   has_paid   100000 non-null  bool   \n",
      " 6   income_근로  40791 non-null   float64\n",
      " 7   income_사업  78227 non-null   float64\n",
      " 8   income_기타  25260 non-null   float64\n",
      "dtypes: bool(1), float64(6), int64(1), object(1)\n",
      "memory usage: 6.2+ MB\n"
     ]
    }
   ],
   "source": [
    "df.info()\n",
    "#기타소득이 가장 많고, 그 다음으로 근로소득, 사업소득 순 \n",
    "#소득이 Nan인 것은 결국 0이라는 거니까, 소득의 결측값은 0으로 처리해도 무방함 "
   ]
  },
  {
   "cell_type": "code",
   "execution_count": 7,
   "id": "46f56c9a",
   "metadata": {},
   "outputs": [
    {
     "data": {
      "text/html": [
       "<div>\n",
       "<style scoped>\n",
       "    .dataframe tbody tr th:only-of-type {\n",
       "        vertical-align: middle;\n",
       "    }\n",
       "\n",
       "    .dataframe tbody tr th {\n",
       "        vertical-align: top;\n",
       "    }\n",
       "\n",
       "    .dataframe thead th {\n",
       "        text-align: right;\n",
       "    }\n",
       "</style>\n",
       "<table border=\"1\" class=\"dataframe\">\n",
       "  <thead>\n",
       "    <tr style=\"text-align: right;\">\n",
       "      <th></th>\n",
       "      <th>age</th>\n",
       "      <th>year</th>\n",
       "      <th>refund</th>\n",
       "      <th>fee</th>\n",
       "      <th>income_근로</th>\n",
       "      <th>income_사업</th>\n",
       "      <th>income_기타</th>\n",
       "    </tr>\n",
       "  </thead>\n",
       "  <tbody>\n",
       "    <tr>\n",
       "      <th>count</th>\n",
       "      <td>100000.00000</td>\n",
       "      <td>100000.000000</td>\n",
       "      <td>1.000000e+05</td>\n",
       "      <td>100000.000000</td>\n",
       "      <td>4.079100e+04</td>\n",
       "      <td>7.822700e+04</td>\n",
       "      <td>2.526000e+04</td>\n",
       "    </tr>\n",
       "    <tr>\n",
       "      <th>mean</th>\n",
       "      <td>29.00096</td>\n",
       "      <td>2018.111300</td>\n",
       "      <td>2.081422e+05</td>\n",
       "      <td>7247.641000</td>\n",
       "      <td>6.432597e+06</td>\n",
       "      <td>1.511712e+06</td>\n",
       "      <td>6.362834e+05</td>\n",
       "    </tr>\n",
       "    <tr>\n",
       "      <th>std</th>\n",
       "      <td>7.76819</td>\n",
       "      <td>1.495812</td>\n",
       "      <td>3.071744e+05</td>\n",
       "      <td>11926.896979</td>\n",
       "      <td>6.583716e+06</td>\n",
       "      <td>2.449810e+06</td>\n",
       "      <td>1.484947e+06</td>\n",
       "    </tr>\n",
       "    <tr>\n",
       "      <th>min</th>\n",
       "      <td>15.00000</td>\n",
       "      <td>2015.000000</td>\n",
       "      <td>-8.265000e+06</td>\n",
       "      <td>400.000000</td>\n",
       "      <td>0.000000e+00</td>\n",
       "      <td>0.000000e+00</td>\n",
       "      <td>0.000000e+00</td>\n",
       "    </tr>\n",
       "    <tr>\n",
       "      <th>25%</th>\n",
       "      <td>24.00000</td>\n",
       "      <td>2017.000000</td>\n",
       "      <td>3.300000e+04</td>\n",
       "      <td>400.000000</td>\n",
       "      <td>1.616000e+06</td>\n",
       "      <td>1.770000e+05</td>\n",
       "      <td>8.200000e+04</td>\n",
       "    </tr>\n",
       "    <tr>\n",
       "      <th>50%</th>\n",
       "      <td>27.00000</td>\n",
       "      <td>2018.000000</td>\n",
       "      <td>9.900000e+04</td>\n",
       "      <td>4300.000000</td>\n",
       "      <td>4.507000e+06</td>\n",
       "      <td>6.190000e+05</td>\n",
       "      <td>2.130000e+05</td>\n",
       "    </tr>\n",
       "    <tr>\n",
       "      <th>75%</th>\n",
       "      <td>31.00000</td>\n",
       "      <td>2019.000000</td>\n",
       "      <td>2.540000e+05</td>\n",
       "      <td>8500.000000</td>\n",
       "      <td>9.301000e+06</td>\n",
       "      <td>1.601000e+06</td>\n",
       "      <td>5.820000e+05</td>\n",
       "    </tr>\n",
       "    <tr>\n",
       "      <th>max</th>\n",
       "      <td>81.00000</td>\n",
       "      <td>2020.000000</td>\n",
       "      <td>7.725000e+06</td>\n",
       "      <td>307000.000000</td>\n",
       "      <td>1.823350e+08</td>\n",
       "      <td>3.993400e+07</td>\n",
       "      <td>6.281000e+07</td>\n",
       "    </tr>\n",
       "  </tbody>\n",
       "</table>\n",
       "</div>"
      ],
      "text/plain": [
       "                age           year        refund            fee     income_근로  \\\n",
       "count  100000.00000  100000.000000  1.000000e+05  100000.000000  4.079100e+04   \n",
       "mean       29.00096    2018.111300  2.081422e+05    7247.641000  6.432597e+06   \n",
       "std         7.76819       1.495812  3.071744e+05   11926.896979  6.583716e+06   \n",
       "min        15.00000    2015.000000 -8.265000e+06     400.000000  0.000000e+00   \n",
       "25%        24.00000    2017.000000  3.300000e+04     400.000000  1.616000e+06   \n",
       "50%        27.00000    2018.000000  9.900000e+04    4300.000000  4.507000e+06   \n",
       "75%        31.00000    2019.000000  2.540000e+05    8500.000000  9.301000e+06   \n",
       "max        81.00000    2020.000000  7.725000e+06  307000.000000  1.823350e+08   \n",
       "\n",
       "          income_사업     income_기타  \n",
       "count  7.822700e+04  2.526000e+04  \n",
       "mean   1.511712e+06  6.362834e+05  \n",
       "std    2.449810e+06  1.484947e+06  \n",
       "min    0.000000e+00  0.000000e+00  \n",
       "25%    1.770000e+05  8.200000e+04  \n",
       "50%    6.190000e+05  2.130000e+05  \n",
       "75%    1.601000e+06  5.820000e+05  \n",
       "max    3.993400e+07  6.281000e+07  "
      ]
     },
     "execution_count": 7,
     "metadata": {},
     "output_type": "execute_result"
    }
   ],
   "source": [
    "df.describe()"
   ]
  },
  {
   "cell_type": "code",
   "execution_count": 8,
   "id": "ec3ba056",
   "metadata": {},
   "outputs": [
    {
     "data": {
      "text/plain": [
       "Index(['age', 'gender', 'year', 'refund', 'fee', 'has_paid', 'income_근로',\n",
       "       'income_사업', 'income_기타'],\n",
       "      dtype='object')"
      ]
     },
     "execution_count": 8,
     "metadata": {},
     "output_type": "execute_result"
    }
   ],
   "source": [
    "df.columns"
   ]
  },
  {
   "cell_type": "code",
   "execution_count": 9,
   "id": "4ac90bf6",
   "metadata": {},
   "outputs": [
    {
     "data": {
      "text/plain": [
       "<AxesSubplot:>"
      ]
     },
     "execution_count": 9,
     "metadata": {},
     "output_type": "execute_result"
    },
    {
     "data": {
      "image/png": "[encoded data removed]",
      "text/plain": [
       "<Figure size 432x288 with 2 Axes>"
      ]
     },
     "metadata": {
      "needs_background": "light"
     },
     "output_type": "display_data"
    }
   ],
   "source": [
    "sns.heatmap(df[['age', 'gender', 'year', 'refund', 'fee', 'has_paid', 'income_근로',\n",
    "       'income_사업', 'income_기타']].corr(), \n",
    "           annot=True)"
   ]
  },
  {
   "cell_type": "code",
   "execution_count": 10,
   "id": "c097d52f",
   "metadata": {},
   "outputs": [],
   "source": [
    "#환급액에 비례해서 수수료를 지불하기 때문에 수수료 - 환급액의 양의 상관관계가 강하다 \n",
    "#연령과 근로소득에는 상관관계 존재. 연차 때문이겠고 \n",
    "#환급액, 수수료와 상관관계를 강하게 보이는 유형은 income 중에서도 사업 및 기타소득 -> 근로소득은 연말정산으로 하니까?"
   ]
  },
  {
   "cell_type": "code",
   "execution_count": 21,
   "id": "2a4b2c04",
   "metadata": {},
   "outputs": [],
   "source": [
    "df[\"income_근로\"].fillna(0.0, inplace=True)\n",
    "df[\"income_사업\"].fillna(0.0, inplace=True)\n",
    "df[\"income_기타\"].fillna(0.0, inplace=True)"
   ]
  },
  {
   "cell_type": "code",
   "execution_count": 22,
   "id": "30ef0711",
   "metadata": {},
   "outputs": [
    {
     "data": {
      "text/html": [
       "<div>\n",
       "<style scoped>\n",
       "    .dataframe tbody tr th:only-of-type {\n",
       "        vertical-align: middle;\n",
       "    }\n",
       "\n",
       "    .dataframe tbody tr th {\n",
       "        vertical-align: top;\n",
       "    }\n",
       "\n",
       "    .dataframe thead th {\n",
       "        text-align: right;\n",
       "    }\n",
       "</style>\n",
       "<table border=\"1\" class=\"dataframe\">\n",
       "  <thead>\n",
       "    <tr style=\"text-align: right;\">\n",
       "      <th></th>\n",
       "      <th>age</th>\n",
       "      <th>gender</th>\n",
       "      <th>year</th>\n",
       "      <th>refund</th>\n",
       "      <th>fee</th>\n",
       "      <th>has_paid</th>\n",
       "      <th>income_근로</th>\n",
       "      <th>income_사업</th>\n",
       "      <th>income_기타</th>\n",
       "    </tr>\n",
       "  </thead>\n",
       "  <tbody>\n",
       "    <tr>\n",
       "      <th>0</th>\n",
       "      <td>27.0</td>\n",
       "      <td>F</td>\n",
       "      <td>2019</td>\n",
       "      <td>5000.0</td>\n",
       "      <td>400.0</td>\n",
       "      <td>False</td>\n",
       "      <td>10001000.0</td>\n",
       "      <td>61000.0</td>\n",
       "      <td>0.0</td>\n",
       "    </tr>\n",
       "    <tr>\n",
       "      <th>1</th>\n",
       "      <td>34.0</td>\n",
       "      <td>M</td>\n",
       "      <td>2018</td>\n",
       "      <td>100000.0</td>\n",
       "      <td>1700.0</td>\n",
       "      <td>True</td>\n",
       "      <td>18092000.0</td>\n",
       "      <td>0.0</td>\n",
       "      <td>1815000.0</td>\n",
       "    </tr>\n",
       "    <tr>\n",
       "      <th>2</th>\n",
       "      <td>28.0</td>\n",
       "      <td>F</td>\n",
       "      <td>2017</td>\n",
       "      <td>289000.0</td>\n",
       "      <td>11500.0</td>\n",
       "      <td>False</td>\n",
       "      <td>0.0</td>\n",
       "      <td>1461000.0</td>\n",
       "      <td>0.0</td>\n",
       "    </tr>\n",
       "    <tr>\n",
       "      <th>3</th>\n",
       "      <td>27.0</td>\n",
       "      <td>M</td>\n",
       "      <td>2019</td>\n",
       "      <td>410000.0</td>\n",
       "      <td>16200.0</td>\n",
       "      <td>False</td>\n",
       "      <td>0.0</td>\n",
       "      <td>2471000.0</td>\n",
       "      <td>0.0</td>\n",
       "    </tr>\n",
       "    <tr>\n",
       "      <th>4</th>\n",
       "      <td>26.0</td>\n",
       "      <td>F</td>\n",
       "      <td>2016</td>\n",
       "      <td>114000.0</td>\n",
       "      <td>4300.0</td>\n",
       "      <td>True</td>\n",
       "      <td>0.0</td>\n",
       "      <td>689000.0</td>\n",
       "      <td>0.0</td>\n",
       "    </tr>\n",
       "  </tbody>\n",
       "</table>\n",
       "</div>"
      ],
      "text/plain": [
       "    age gender  year    refund      fee  has_paid   income_근로  income_사업  \\\n",
       "0  27.0      F  2019    5000.0    400.0     False  10001000.0    61000.0   \n",
       "1  34.0      M  2018  100000.0   1700.0      True  18092000.0        0.0   \n",
       "2  28.0      F  2017  289000.0  11500.0     False         0.0  1461000.0   \n",
       "3  27.0      M  2019  410000.0  16200.0     False         0.0  2471000.0   \n",
       "4  26.0      F  2016  114000.0   4300.0      True         0.0   689000.0   \n",
       "\n",
       "   income_기타  \n",
       "0        0.0  \n",
       "1  1815000.0  \n",
       "2        0.0  \n",
       "3        0.0  \n",
       "4        0.0  "
      ]
     },
     "execution_count": 22,
     "metadata": {},
     "output_type": "execute_result"
    }
   ],
   "source": [
    "df.head()"
   ]
  },
  {
   "cell_type": "code",
   "execution_count": 23,
   "id": "5f4155b0",
   "metadata": {},
   "outputs": [],
   "source": [
    "#랜덤 포레스트 classifier 고고 "
   ]
  },
  {
   "cell_type": "code",
   "execution_count": 24,
   "id": "99d3338c",
   "metadata": {},
   "outputs": [
    {
     "data": {
      "image/png": "[encoded data removed]",
      "text/plain": [
       "<Figure size 864x288 with 1 Axes>"
      ]
     },
     "metadata": {
      "needs_background": "light"
     },
     "output_type": "display_data"
    }
   ],
   "source": [
    "plt.figure(figsize=(12,4))\n",
    "plt.boxplot(x=df[[\"income_근로\", \"income_사업\", \"income_기타\"]], labels = [\"income_근로\", \"income_사업\", \"income_기타\"])\n",
    "plt.show()"
   ]
  },
  {
   "cell_type": "code",
   "execution_count": 25,
   "id": "805cf54e",
   "metadata": {},
   "outputs": [
    {
     "data": {
      "image/png": "[encoded data removed]",
      "text/plain": [
       "<Figure size 864x288 with 1 Axes>"
      ]
     },
     "metadata": {
      "needs_background": "light"
     },
     "output_type": "display_data"
    }
   ],
   "source": [
    "plt.figure(figsize=(12,4))\n",
    "plt.boxplot(x=df[df[\"has_paid\"]==True][[\"income_근로\", \"income_사업\", \"income_기타\"]], labels = [\"income_근로\", \"income_사업\", \"income_기타\"])\n",
    "plt.show()"
   ]
  },
  {
   "cell_type": "code",
   "execution_count": 52,
   "id": "f0705143",
   "metadata": {},
   "outputs": [
    {
     "name": "stderr",
     "output_type": "stream",
     "text": [
      "/Users/jh/miniforge3/envs/m1/lib/python3.8/site-packages/matplotlib/backends/backend_agg.py:240: RuntimeWarning: Glyph 49324 missing from current font.\n",
      "  font.set_text(s, 0.0, flags=flags)\n",
      "/Users/jh/miniforge3/envs/m1/lib/python3.8/site-packages/matplotlib/backends/backend_agg.py:240: RuntimeWarning: Glyph 50629 missing from current font.\n",
      "  font.set_text(s, 0.0, flags=flags)\n",
      "/Users/jh/miniforge3/envs/m1/lib/python3.8/site-packages/matplotlib/backends/backend_agg.py:203: RuntimeWarning: Glyph 49324 missing from current font.\n",
      "  font.set_text(s, 0, flags=flags)\n",
      "/Users/jh/miniforge3/envs/m1/lib/python3.8/site-packages/matplotlib/backends/backend_agg.py:203: RuntimeWarning: Glyph 50629 missing from current font.\n",
      "  font.set_text(s, 0, flags=flags)\n"
     ]
    },
    {
     "data": {
      "image/png": "[encoded data removed]",
      "text/plain": [
       "<Figure size 720x360 with 1 Axes>"
      ]
     },
     "metadata": {},
     "output_type": "display_data"
    }
   ],
   "source": [
    "plt.figure(figsize=(10, 5))\n",
    "sns.boxplot(x = \"has_paid\", y =\"income_근로\", data = df)\n",
    "\n",
    "plt.show()"
   ]
  },
  {
   "cell_type": "code",
   "execution_count": 57,
   "id": "7c38591b",
   "metadata": {},
   "outputs": [
    {
     "data": {
      "image/png": "[encoded data removed]",
      "text/plain": [
       "<Figure size 864x432 with 6 Axes>"
      ]
     },
     "metadata": {},
     "output_type": "display_data"
    }
   ],
   "source": [
    "sns.set_style(\"white\")\n",
    "plt.rcParams['axes.unicode_minus'] = False\n",
    "plt.rcParams['font.family'] = 'AppleGothic'\n",
    "\n",
    "plt.figure(figsize=(12,6))\n",
    "plt.subplots_adjust(left=0.125, bottom=0.1,  right=0.9, top=0.9, wspace=0.2, hspace=0.35)\n",
    "\n",
    "ax1 = plt.subplot(321)\n",
    "ax1.boxplot(df[df[\"has_paid\"] == True][\"income_근로\"], vert=False)\n",
    "ax1.legend([\"income_근로\"])\n",
    "plt.xlabel(\"결제한 경우의 근로소득\")\n",
    "\n",
    "ax2 = plt.subplot(322)\n",
    "ax2.boxplot(df[df[\"has_paid\"] == False][\"income_근로\"], vert=False)\n",
    "ax2.legend([\"income_근로\"])\n",
    "plt.xlabel(\"결제하지 않은 경우의 근로소득\")\n",
    "\n",
    "ax3 = plt.subplot(323)\n",
    "ax3.boxplot(df[df[\"has_paid\"] == True][\"income_사업\"], vert=False)\n",
    "ax3.legend([\"income_사업\"])\n",
    "plt.xlabel(\"결제한 경우의 사업소득\")\n",
    "\n",
    "ax4 = plt.subplot(324)\n",
    "ax4.boxplot(df[df[\"has_paid\"] == False][\"income_사업\"], vert=False)\n",
    "ax4.legend([\"income_사업\"])\n",
    "plt.xlabel(\"결제하지 않은 경우의 사업소득\")\n",
    "\n",
    "ax5 = plt.subplot(325)\n",
    "ax5.boxplot(df[df[\"has_paid\"] == True][\"income_기타\"], vert=False)\n",
    "ax5.legend([\"income_기타\"])\n",
    "plt.xlabel(\"결제한 경우의 기타소득\")\n",
    "\n",
    "ax6 = plt.subplot(326)\n",
    "ax6.boxplot(df[df[\"has_paid\"] == False][\"income_기타\"], vert=False)\n",
    "ax6.legend([\"income_기타\"])\n",
    "plt.xlabel(\"결제하지 않은 경우의 기타소득\")\n",
    "\n",
    "plt.show()"
   ]
  },
  {
   "cell_type": "code",
   "execution_count": 59,
   "id": "874be18e",
   "metadata": {},
   "outputs": [
    {
     "data": {
      "text/plain": [
       "Index(['age', 'gender', 'year', 'refund', 'fee', 'has_paid', 'income_근로',\n",
       "       'income_사업', 'income_기타'],\n",
       "      dtype='object')"
      ]
     },
     "execution_count": 59,
     "metadata": {},
     "output_type": "execute_result"
    }
   ],
   "source": [
    "#refund, fee도 드랍해야됨 특성에서 \n",
    "df.columns\n",
    "# feature -> 'age', 'gender', 'year', 'refund', 'fee', 'has_paid', 'income_근로',\n",
    "#       'income_사업', 'income_기타'\n",
    "# label -> has_paid"
   ]
  },
  {
   "cell_type": "code",
   "execution_count": 60,
   "id": "3895fb39",
   "metadata": {},
   "outputs": [],
   "source": [
    "X = df.drop([\"refund\", \"fee\", \"has_paid\"], axis=1)\n",
    "y = df[\"has_paid\"]"
   ]
  },
  {
   "cell_type": "code",
   "execution_count": 64,
   "id": "d0aab4a6",
   "metadata": {},
   "outputs": [],
   "source": [
    "y = [0.0 if x==False else 1.0 for x in y ]"
   ]
  },
  {
   "cell_type": "code",
   "execution_count": 66,
   "id": "52c1dafc",
   "metadata": {},
   "outputs": [
    {
     "data": {
      "text/plain": [
       "[0.0, 1.0, 0.0, 0.0, 1.0]"
      ]
     },
     "execution_count": 66,
     "metadata": {},
     "output_type": "execute_result"
    }
   ],
   "source": [
    "y[:5]"
   ]
  },
  {
   "cell_type": "code",
   "execution_count": 72,
   "id": "f167116a",
   "metadata": {},
   "outputs": [],
   "source": [
    "#성별 데이터타입 변경 (여자 1, 남자 0)\n",
    "X[\"gender\"] = X[\"gender\"].apply(lambda x: 1 if x==\"F\" else 0)"
   ]
  },
  {
   "cell_type": "code",
   "execution_count": 73,
   "id": "cada466c",
   "metadata": {},
   "outputs": [
    {
     "data": {
      "text/plain": [
       "0.49501"
      ]
     },
     "execution_count": 73,
     "metadata": {},
     "output_type": "execute_result"
    }
   ],
   "source": [
    "X[\"gender\"].mean() #성비는 거의 비슷~"
   ]
  },
  {
   "cell_type": "code",
   "execution_count": 61,
   "id": "6a35f0aa",
   "metadata": {},
   "outputs": [
    {
     "data": {
      "text/plain": [
       "(100000, 9)"
      ]
     },
     "execution_count": 61,
     "metadata": {},
     "output_type": "execute_result"
    }
   ],
   "source": [
    "df.shape"
   ]
  },
  {
   "cell_type": "code",
   "execution_count": 75,
   "id": "a6fc3c77",
   "metadata": {},
   "outputs": [],
   "source": [
    "from sklearn.model_selection import train_test_split\n",
    "import numpy as np\n",
    "\n",
    "X_train, X_test, y_train, y_test = train_test_split(X, y, \n",
    "                                                   test_size=0.3, \n",
    "                                                   random_state=13)\n"
   ]
  },
  {
   "cell_type": "code",
   "execution_count": 78,
   "id": "451c94a8",
   "metadata": {},
   "outputs": [
    {
     "data": {
      "text/plain": [
       "DecisionTreeClassifier(max_depth=3, random_state=13)"
      ]
     },
     "execution_count": 78,
     "metadata": {},
     "output_type": "execute_result"
    }
   ],
   "source": [
    "from sklearn.tree import DecisionTreeClassifier\n",
    "\n",
    "df_tree = DecisionTreeClassifier(max_depth=3, random_state=13)\n",
    "df_tree.fit(X_train, y_train)"
   ]
  },
  {
   "cell_type": "code",
   "execution_count": 79,
   "id": "fdf6a6c3",
   "metadata": {},
   "outputs": [
    {
     "name": "stdout",
     "output_type": "stream",
     "text": [
      "Train Acc :  0.7240428571428571\n",
      "Test Acc :  0.7212\n"
     ]
    }
   ],
   "source": [
    "from sklearn.metrics import accuracy_score\n",
    "\n",
    "y_pred_tr = df_tree.predict(X_train)\n",
    "y_pred_test = df_tree.predict(X_test)\n",
    "\n",
    "print(\"Train Acc : \", accuracy_score(y_train, y_pred_tr))\n",
    "\n",
    "print(\"Test Acc : \", accuracy_score(y_test, y_pred_test))\n",
    "\n",
    "#결정나무는 약 70퍼의 정확도..."
   ]
  },
  {
   "cell_type": "code",
   "execution_count": 81,
   "id": "b9ffbc11",
   "metadata": {},
   "outputs": [],
   "source": [
    "## income 정규화 \n",
    "\n",
    "X[\"income_근로\"] = (X[\"income_근로\"] - X[\"income_근로\"].mean())/X[\"income_근로\"].std()\n",
    "X[\"income_기타\"] = (X[\"income_기타\"] - X[\"income_기타\"].mean())/X[\"income_근로\"].std()\n",
    "\n",
    "X[\"income_사업\"] = (X[\"income_사업\"] - X[\"income_사업\"].mean())/X[\"income_근로\"].std()"
   ]
  },
  {
   "cell_type": "code",
   "execution_count": 83,
   "id": "b3b74356",
   "metadata": {},
   "outputs": [],
   "source": [
    "\n",
    "X_train, X_test, y_train, y_test = train_test_split(X, y, \n",
    "                                                   test_size=0.3, \n",
    "                                                   random_state=13)\n",
    "\n"
   ]
  },
  {
   "cell_type": "code",
   "execution_count": 84,
   "id": "aa154705",
   "metadata": {},
   "outputs": [
    {
     "data": {
      "text/plain": [
       "DecisionTreeClassifier(max_depth=3, random_state=13)"
      ]
     },
     "execution_count": 84,
     "metadata": {},
     "output_type": "execute_result"
    }
   ],
   "source": [
    "df_tree = DecisionTreeClassifier(max_depth=3, random_state=13)\n",
    "df_tree.fit(X_train, y_train)"
   ]
  },
  {
   "cell_type": "code",
   "execution_count": 85,
   "id": "9c63baf3",
   "metadata": {},
   "outputs": [
    {
     "name": "stdout",
     "output_type": "stream",
     "text": [
      "Train Acc :  0.7240428571428571\n",
      "Test Acc :  0.7212\n"
     ]
    }
   ],
   "source": [
    "#정규화를 했다고 해서 accuracy가 크게 상승하지는 않는다 \n",
    "y_pred_tr = df_tree.predict(X_train)\n",
    "y_pred_test = df_tree.predict(X_test)\n",
    "\n",
    "print(\"Train Acc : \", accuracy_score(y_train, y_pred_tr))\n",
    "\n",
    "print(\"Test Acc : \", accuracy_score(y_test, y_pred_test))"
   ]
  },
  {
   "cell_type": "code",
   "execution_count": 91,
   "id": "5d39248c",
   "metadata": {},
   "outputs": [
    {
     "data": {
      "text/plain": [
       "DecisionTreeClassifier(max_depth=3, random_state=13)"
      ]
     },
     "execution_count": 91,
     "metadata": {},
     "output_type": "execute_result"
    }
   ],
   "source": [
    "#다시 시도하고 그래프 그려보기 \n",
    "X = df.drop([\"refund\", \"fee\", \"has_paid\"], axis=1)\n",
    "y = df[\"has_paid\"]\n",
    "\n",
    "y = [0.0 if x==False else 1.0 for x in y ]\n",
    "X[\"gender\"] = X[\"gender\"].apply(lambda x: 1 if x==\"F\" else 0)\n",
    "X_train, X_test, y_train, y_test = train_test_split(X, y, \n",
    "                                                   test_size=0.3, \n",
    "                                                   random_state=13)\n",
    "\n",
    "df_tree = DecisionTreeClassifier(max_depth=3, random_state=13)\n",
    "df_tree.fit(X_train, y_train)"
   ]
  },
  {
   "cell_type": "code",
   "execution_count": 92,
   "id": "4953c496",
   "metadata": {},
   "outputs": [
    {
     "data": {
      "image/svg+xml": [
       "<?xml version=\"1.0\" encoding=\"UTF-8\" standalone=\"no\"?>\n",
       "<!DOCTYPE svg PUBLIC \"-//W3C//DTD SVG 1.1//EN\"\n",
       " \"http://www.w3.org/Graphics/SVG/1.1/DTD/svg11.dtd\">\n",
       "<!-- Generated by graphviz version 2.48.0 (20210717.1556)\n",
       " -->\n",
       "<!-- Title: Tree Pages: 1 -->\n",
       "<svg width=\"1230pt\" height=\"433pt\"\n",
       " viewBox=\"0.00 0.00 1230.00 433.00\" xmlns=\"http://www.w3.org/2000/svg\" xmlns:xlink=\"http://www.w3.org/1999/xlink\">\n",
       "<g id=\"graph0\" class=\"graph\" transform=\"scale(1 1) rotate(0) translate(4 429)\">\n",
       "<title>Tree</title>\n",
       "<polygon fill=\"white\" stroke=\"transparent\" points=\"-4,4 -4,-429 1226,-429 1226,4 -4,4\"/>\n",
       "<!-- 0 -->\n",
       "<g id=\"node1\" class=\"node\">\n",
       "<title>0</title>\n",
       "<path fill=\"#a5d2f3\" stroke=\"black\" d=\"M643.5,-425C643.5,-425 506.5,-425 506.5,-425 500.5,-425 494.5,-419 494.5,-413 494.5,-413 494.5,-354 494.5,-354 494.5,-348 500.5,-342 506.5,-342 506.5,-342 643.5,-342 643.5,-342 649.5,-342 655.5,-348 655.5,-354 655.5,-354 655.5,-413 655.5,-413 655.5,-419 649.5,-425 643.5,-425\"/>\n",
       "<text text-anchor=\"middle\" x=\"575\" y=\"-409.8\" font-family=\"Helvetica,sans-Serif\" font-size=\"14.00\">income_사업 &lt;= 2500.0</text>\n",
       "<text text-anchor=\"middle\" x=\"575\" y=\"-394.8\" font-family=\"Helvetica,sans-Serif\" font-size=\"14.00\">gini = 0.457</text>\n",
       "<text text-anchor=\"middle\" x=\"575\" y=\"-379.8\" font-family=\"Helvetica,sans-Serif\" font-size=\"14.00\">samples = 70000</text>\n",
       "<text text-anchor=\"middle\" x=\"575\" y=\"-364.8\" font-family=\"Helvetica,sans-Serif\" font-size=\"14.00\">value = [24707, 45293]</text>\n",
       "<text text-anchor=\"middle\" x=\"575\" y=\"-349.8\" font-family=\"Helvetica,sans-Serif\" font-size=\"14.00\">class = True</text>\n",
       "</g>\n",
       "<!-- 1 -->\n",
       "<g id=\"node2\" class=\"node\">\n",
       "<title>1</title>\n",
       "<path fill=\"#f8ddc9\" stroke=\"black\" d=\"M554,-306C554,-306 410,-306 410,-306 404,-306 398,-300 398,-294 398,-294 398,-235 398,-235 398,-229 404,-223 410,-223 410,-223 554,-223 554,-223 560,-223 566,-229 566,-235 566,-235 566,-294 566,-294 566,-300 560,-306 554,-306\"/>\n",
       "<text text-anchor=\"middle\" x=\"482\" y=\"-290.8\" font-family=\"Helvetica,sans-Serif\" font-size=\"14.00\">income_기타 &lt;= 20500.0</text>\n",
       "<text text-anchor=\"middle\" x=\"482\" y=\"-275.8\" font-family=\"Helvetica,sans-Serif\" font-size=\"14.00\">gini = 0.488</text>\n",
       "<text text-anchor=\"middle\" x=\"482\" y=\"-260.8\" font-family=\"Helvetica,sans-Serif\" font-size=\"14.00\">samples = 15239</text>\n",
       "<text text-anchor=\"middle\" x=\"482\" y=\"-245.8\" font-family=\"Helvetica,sans-Serif\" font-size=\"14.00\">value = [8812, 6427]</text>\n",
       "<text text-anchor=\"middle\" x=\"482\" y=\"-230.8\" font-family=\"Helvetica,sans-Serif\" font-size=\"14.00\">class = False</text>\n",
       "</g>\n",
       "<!-- 0&#45;&gt;1 -->\n",
       "<g id=\"edge1\" class=\"edge\">\n",
       "<title>0&#45;&gt;1</title>\n",
       "<path fill=\"none\" stroke=\"black\" d=\"M542.73,-341.91C535.59,-332.92 527.96,-323.32 520.59,-314.05\"/>\n",
       "<polygon fill=\"black\" stroke=\"black\" points=\"523.17,-311.67 514.21,-306.02 517.69,-316.03 523.17,-311.67\"/>\n",
       "<text text-anchor=\"middle\" x=\"511.37\" y=\"-327.16\" font-family=\"Helvetica,sans-Serif\" font-size=\"14.00\">True</text>\n",
       "</g>\n",
       "<!-- 8 -->\n",
       "<g id=\"node9\" class=\"node\">\n",
       "<title>8</title>\n",
       "<path fill=\"#8ac5f0\" stroke=\"black\" d=\"M778.5,-306C778.5,-306 643.5,-306 643.5,-306 637.5,-306 631.5,-300 631.5,-294 631.5,-294 631.5,-235 631.5,-235 631.5,-229 637.5,-223 643.5,-223 643.5,-223 778.5,-223 778.5,-223 784.5,-223 790.5,-229 790.5,-235 790.5,-235 790.5,-294 790.5,-294 790.5,-300 784.5,-306 778.5,-306\"/>\n",
       "<text text-anchor=\"middle\" x=\"711\" y=\"-290.8\" font-family=\"Helvetica,sans-Serif\" font-size=\"14.00\">year &lt;= 2019.5</text>\n",
       "<text text-anchor=\"middle\" x=\"711\" y=\"-275.8\" font-family=\"Helvetica,sans-Serif\" font-size=\"14.00\">gini = 0.412</text>\n",
       "<text text-anchor=\"middle\" x=\"711\" y=\"-260.8\" font-family=\"Helvetica,sans-Serif\" font-size=\"14.00\">samples = 54761</text>\n",
       "<text text-anchor=\"middle\" x=\"711\" y=\"-245.8\" font-family=\"Helvetica,sans-Serif\" font-size=\"14.00\">value = [15895, 38866]</text>\n",
       "<text text-anchor=\"middle\" x=\"711\" y=\"-230.8\" font-family=\"Helvetica,sans-Serif\" font-size=\"14.00\">class = True</text>\n",
       "</g>\n",
       "<!-- 0&#45;&gt;8 -->\n",
       "<g id=\"edge8\" class=\"edge\">\n",
       "<title>0&#45;&gt;8</title>\n",
       "<path fill=\"none\" stroke=\"black\" d=\"M622.18,-341.91C633.16,-332.47 644.93,-322.34 656.19,-312.65\"/>\n",
       "<polygon fill=\"black\" stroke=\"black\" points=\"658.6,-315.2 663.9,-306.02 654.04,-309.89 658.6,-315.2\"/>\n",
       "<text text-anchor=\"middle\" x=\"662.03\" y=\"-327.25\" font-family=\"Helvetica,sans-Serif\" font-size=\"14.00\">False</text>\n",
       "</g>\n",
       "<!-- 2 -->\n",
       "<g id=\"node3\" class=\"node\">\n",
       "<title>2</title>\n",
       "<path fill=\"#ea9b62\" stroke=\"black\" d=\"M273.5,-187C273.5,-187 154.5,-187 154.5,-187 148.5,-187 142.5,-181 142.5,-175 142.5,-175 142.5,-116 142.5,-116 142.5,-110 148.5,-104 154.5,-104 154.5,-104 273.5,-104 273.5,-104 279.5,-104 285.5,-110 285.5,-116 285.5,-116 285.5,-175 285.5,-175 285.5,-181 279.5,-187 273.5,-187\"/>\n",
       "<text text-anchor=\"middle\" x=\"214\" y=\"-171.8\" font-family=\"Helvetica,sans-Serif\" font-size=\"14.00\">year &lt;= 2015.5</text>\n",
       "<text text-anchor=\"middle\" x=\"214\" y=\"-156.8\" font-family=\"Helvetica,sans-Serif\" font-size=\"14.00\">gini = 0.286</text>\n",
       "<text text-anchor=\"middle\" x=\"214\" y=\"-141.8\" font-family=\"Helvetica,sans-Serif\" font-size=\"14.00\">samples = 6510</text>\n",
       "<text text-anchor=\"middle\" x=\"214\" y=\"-126.8\" font-family=\"Helvetica,sans-Serif\" font-size=\"14.00\">value = [5384, 1126]</text>\n",
       "<text text-anchor=\"middle\" x=\"214\" y=\"-111.8\" font-family=\"Helvetica,sans-Serif\" font-size=\"14.00\">class = False</text>\n",
       "</g>\n",
       "<!-- 1&#45;&gt;2 -->\n",
       "<g id=\"edge2\" class=\"edge\">\n",
       "<title>1&#45;&gt;2</title>\n",
       "<path fill=\"none\" stroke=\"black\" d=\"M397.94,-226.8C365.11,-212.47 327.6,-196.1 295.07,-181.89\"/>\n",
       "<polygon fill=\"black\" stroke=\"black\" points=\"296.15,-178.54 285.58,-177.75 293.35,-184.96 296.15,-178.54\"/>\n",
       "</g>\n",
       "<!-- 5 -->\n",
       "<g id=\"node6\" class=\"node\">\n",
       "<title>5</title>\n",
       "<path fill=\"#b9dcf6\" stroke=\"black\" d=\"M561.5,-187C561.5,-187 402.5,-187 402.5,-187 396.5,-187 390.5,-181 390.5,-175 390.5,-175 390.5,-116 390.5,-116 390.5,-110 396.5,-104 402.5,-104 402.5,-104 561.5,-104 561.5,-104 567.5,-104 573.5,-110 573.5,-116 573.5,-116 573.5,-175 573.5,-175 573.5,-181 567.5,-187 561.5,-187\"/>\n",
       "<text text-anchor=\"middle\" x=\"482\" y=\"-171.8\" font-family=\"Helvetica,sans-Serif\" font-size=\"14.00\">income_기타 &lt;= 1124500.0</text>\n",
       "<text text-anchor=\"middle\" x=\"482\" y=\"-156.8\" font-family=\"Helvetica,sans-Serif\" font-size=\"14.00\">gini = 0.477</text>\n",
       "<text text-anchor=\"middle\" x=\"482\" y=\"-141.8\" font-family=\"Helvetica,sans-Serif\" font-size=\"14.00\">samples = 8729</text>\n",
       "<text text-anchor=\"middle\" x=\"482\" y=\"-126.8\" font-family=\"Helvetica,sans-Serif\" font-size=\"14.00\">value = [3428, 5301]</text>\n",
       "<text text-anchor=\"middle\" x=\"482\" y=\"-111.8\" font-family=\"Helvetica,sans-Serif\" font-size=\"14.00\">class = True</text>\n",
       "</g>\n",
       "<!-- 1&#45;&gt;5 -->\n",
       "<g id=\"edge5\" class=\"edge\">\n",
       "<title>1&#45;&gt;5</title>\n",
       "<path fill=\"none\" stroke=\"black\" d=\"M482,-222.91C482,-214.65 482,-205.86 482,-197.3\"/>\n",
       "<polygon fill=\"black\" stroke=\"black\" points=\"485.5,-197.02 482,-187.02 478.5,-197.02 485.5,-197.02\"/>\n",
       "</g>\n",
       "<!-- 3 -->\n",
       "<g id=\"node4\" class=\"node\">\n",
       "<title>3</title>\n",
       "<path fill=\"#efb286\" stroke=\"black\" d=\"M116,-68C116,-68 12,-68 12,-68 6,-68 0,-62 0,-56 0,-56 0,-12 0,-12 0,-6 6,0 12,0 12,0 116,0 116,0 122,0 128,-6 128,-12 128,-12 128,-56 128,-56 128,-62 122,-68 116,-68\"/>\n",
       "<text text-anchor=\"middle\" x=\"64\" y=\"-52.8\" font-family=\"Helvetica,sans-Serif\" font-size=\"14.00\">gini = 0.403</text>\n",
       "<text text-anchor=\"middle\" x=\"64\" y=\"-37.8\" font-family=\"Helvetica,sans-Serif\" font-size=\"14.00\">samples = 1109</text>\n",
       "<text text-anchor=\"middle\" x=\"64\" y=\"-22.8\" font-family=\"Helvetica,sans-Serif\" font-size=\"14.00\">value = [799, 310]</text>\n",
       "<text text-anchor=\"middle\" x=\"64\" y=\"-7.8\" font-family=\"Helvetica,sans-Serif\" font-size=\"14.00\">class = False</text>\n",
       "</g>\n",
       "<!-- 2&#45;&gt;3 -->\n",
       "<g id=\"edge3\" class=\"edge\">\n",
       "<title>2&#45;&gt;3</title>\n",
       "<path fill=\"none\" stroke=\"black\" d=\"M158.15,-103.73C145.03,-94.15 131.07,-83.96 118.03,-74.44\"/>\n",
       "<polygon fill=\"black\" stroke=\"black\" points=\"119.76,-71.37 109.62,-68.3 115.63,-77.02 119.76,-71.37\"/>\n",
       "</g>\n",
       "<!-- 4 -->\n",
       "<g id=\"node5\" class=\"node\">\n",
       "<title>4</title>\n",
       "<path fill=\"#ea975c\" stroke=\"black\" d=\"M270,-68C270,-68 158,-68 158,-68 152,-68 146,-62 146,-56 146,-56 146,-12 146,-12 146,-6 152,0 158,0 158,0 270,0 270,0 276,0 282,-6 282,-12 282,-12 282,-56 282,-56 282,-62 276,-68 270,-68\"/>\n",
       "<text text-anchor=\"middle\" x=\"214\" y=\"-52.8\" font-family=\"Helvetica,sans-Serif\" font-size=\"14.00\">gini = 0.257</text>\n",
       "<text text-anchor=\"middle\" x=\"214\" y=\"-37.8\" font-family=\"Helvetica,sans-Serif\" font-size=\"14.00\">samples = 5401</text>\n",
       "<text text-anchor=\"middle\" x=\"214\" y=\"-22.8\" font-family=\"Helvetica,sans-Serif\" font-size=\"14.00\">value = [4585, 816]</text>\n",
       "<text text-anchor=\"middle\" x=\"214\" y=\"-7.8\" font-family=\"Helvetica,sans-Serif\" font-size=\"14.00\">class = False</text>\n",
       "</g>\n",
       "<!-- 2&#45;&gt;4 -->\n",
       "<g id=\"edge4\" class=\"edge\">\n",
       "<title>2&#45;&gt;4</title>\n",
       "<path fill=\"none\" stroke=\"black\" d=\"M214,-103.73C214,-95.52 214,-86.86 214,-78.56\"/>\n",
       "<polygon fill=\"black\" stroke=\"black\" points=\"217.5,-78.3 214,-68.3 210.5,-78.3 217.5,-78.3\"/>\n",
       "</g>\n",
       "<!-- 6 -->\n",
       "<g id=\"node7\" class=\"node\">\n",
       "<title>6</title>\n",
       "<path fill=\"#abd5f4\" stroke=\"black\" d=\"M432,-68C432,-68 312,-68 312,-68 306,-68 300,-62 300,-56 300,-56 300,-12 300,-12 300,-6 306,0 312,0 312,0 432,0 432,0 438,0 444,-6 444,-12 444,-12 444,-56 444,-56 444,-62 438,-68 432,-68\"/>\n",
       "<text text-anchor=\"middle\" x=\"372\" y=\"-52.8\" font-family=\"Helvetica,sans-Serif\" font-size=\"14.00\">gini = 0.464</text>\n",
       "<text text-anchor=\"middle\" x=\"372\" y=\"-37.8\" font-family=\"Helvetica,sans-Serif\" font-size=\"14.00\">samples = 7260</text>\n",
       "<text text-anchor=\"middle\" x=\"372\" y=\"-22.8\" font-family=\"Helvetica,sans-Serif\" font-size=\"14.00\">value = [2650, 4610]</text>\n",
       "<text text-anchor=\"middle\" x=\"372\" y=\"-7.8\" font-family=\"Helvetica,sans-Serif\" font-size=\"14.00\">class = True</text>\n",
       "</g>\n",
       "<!-- 5&#45;&gt;6 -->\n",
       "<g id=\"edge6\" class=\"edge\">\n",
       "<title>5&#45;&gt;6</title>\n",
       "<path fill=\"none\" stroke=\"black\" d=\"M441.04,-103.73C431.79,-94.51 421.96,-84.74 412.72,-75.53\"/>\n",
       "<polygon fill=\"black\" stroke=\"black\" points=\"415.01,-72.87 405.45,-68.3 410.07,-77.84 415.01,-72.87\"/>\n",
       "</g>\n",
       "<!-- 7 -->\n",
       "<g id=\"node8\" class=\"node\">\n",
       "<title>7</title>\n",
       "<path fill=\"#fcf1e9\" stroke=\"black\" d=\"M578,-68C578,-68 474,-68 474,-68 468,-68 462,-62 462,-56 462,-56 462,-12 462,-12 462,-6 468,0 474,0 474,0 578,0 578,0 584,0 590,-6 590,-12 590,-12 590,-56 590,-56 590,-62 584,-68 578,-68\"/>\n",
       "<text text-anchor=\"middle\" x=\"526\" y=\"-52.8\" font-family=\"Helvetica,sans-Serif\" font-size=\"14.00\">gini = 0.498</text>\n",
       "<text text-anchor=\"middle\" x=\"526\" y=\"-37.8\" font-family=\"Helvetica,sans-Serif\" font-size=\"14.00\">samples = 1469</text>\n",
       "<text text-anchor=\"middle\" x=\"526\" y=\"-22.8\" font-family=\"Helvetica,sans-Serif\" font-size=\"14.00\">value = [778, 691]</text>\n",
       "<text text-anchor=\"middle\" x=\"526\" y=\"-7.8\" font-family=\"Helvetica,sans-Serif\" font-size=\"14.00\">class = False</text>\n",
       "</g>\n",
       "<!-- 5&#45;&gt;7 -->\n",
       "<g id=\"edge7\" class=\"edge\">\n",
       "<title>5&#45;&gt;7</title>\n",
       "<path fill=\"none\" stroke=\"black\" d=\"M498.38,-103.73C501.79,-95.24 505.39,-86.28 508.83,-77.73\"/>\n",
       "<polygon fill=\"black\" stroke=\"black\" points=\"512.14,-78.88 512.62,-68.3 505.64,-76.27 512.14,-78.88\"/>\n",
       "</g>\n",
       "<!-- 9 -->\n",
       "<g id=\"node10\" class=\"node\">\n",
       "<title>9</title>\n",
       "<path fill=\"#6db7ec\" stroke=\"black\" d=\"M775,-187C775,-187 647,-187 647,-187 641,-187 635,-181 635,-175 635,-175 635,-116 635,-116 635,-110 641,-104 647,-104 647,-104 775,-104 775,-104 781,-104 787,-110 787,-116 787,-116 787,-175 787,-175 787,-181 781,-187 775,-187\"/>\n",
       "<text text-anchor=\"middle\" x=\"711\" y=\"-171.8\" font-family=\"Helvetica,sans-Serif\" font-size=\"14.00\">year &lt;= 2015.5</text>\n",
       "<text text-anchor=\"middle\" x=\"711\" y=\"-156.8\" font-family=\"Helvetica,sans-Serif\" font-size=\"14.00\">gini = 0.331</text>\n",
       "<text text-anchor=\"middle\" x=\"711\" y=\"-141.8\" font-family=\"Helvetica,sans-Serif\" font-size=\"14.00\">samples = 40490</text>\n",
       "<text text-anchor=\"middle\" x=\"711\" y=\"-126.8\" font-family=\"Helvetica,sans-Serif\" font-size=\"14.00\">value = [8467, 32023]</text>\n",
       "<text text-anchor=\"middle\" x=\"711\" y=\"-111.8\" font-family=\"Helvetica,sans-Serif\" font-size=\"14.00\">class = True</text>\n",
       "</g>\n",
       "<!-- 8&#45;&gt;9 -->\n",
       "<g id=\"edge9\" class=\"edge\">\n",
       "<title>8&#45;&gt;9</title>\n",
       "<path fill=\"none\" stroke=\"black\" d=\"M711,-222.91C711,-214.65 711,-205.86 711,-197.3\"/>\n",
       "<polygon fill=\"black\" stroke=\"black\" points=\"714.5,-197.02 711,-187.02 707.5,-197.02 714.5,-197.02\"/>\n",
       "</g>\n",
       "<!-- 12 -->\n",
       "<g id=\"node13\" class=\"node\">\n",
       "<title>12</title>\n",
       "<path fill=\"#fdf5ef\" stroke=\"black\" d=\"M1068,-187C1068,-187 908,-187 908,-187 902,-187 896,-181 896,-175 896,-175 896,-116 896,-116 896,-110 902,-104 908,-104 908,-104 1068,-104 1068,-104 1074,-104 1080,-110 1080,-116 1080,-116 1080,-175 1080,-175 1080,-181 1074,-187 1068,-187\"/>\n",
       "<text text-anchor=\"middle\" x=\"988\" y=\"-171.8\" font-family=\"Helvetica,sans-Serif\" font-size=\"14.00\">income_사업 &lt;= 1965000.0</text>\n",
       "<text text-anchor=\"middle\" x=\"988\" y=\"-156.8\" font-family=\"Helvetica,sans-Serif\" font-size=\"14.00\">gini = 0.499</text>\n",
       "<text text-anchor=\"middle\" x=\"988\" y=\"-141.8\" font-family=\"Helvetica,sans-Serif\" font-size=\"14.00\">samples = 14271</text>\n",
       "<text text-anchor=\"middle\" x=\"988\" y=\"-126.8\" font-family=\"Helvetica,sans-Serif\" font-size=\"14.00\">value = [7428, 6843]</text>\n",
       "<text text-anchor=\"middle\" x=\"988\" y=\"-111.8\" font-family=\"Helvetica,sans-Serif\" font-size=\"14.00\">class = False</text>\n",
       "</g>\n",
       "<!-- 8&#45;&gt;12 -->\n",
       "<g id=\"edge12\" class=\"edge\">\n",
       "<title>8&#45;&gt;12</title>\n",
       "<path fill=\"none\" stroke=\"black\" d=\"M790.75,-229.82C820.57,-217.22 854.85,-202.74 886.38,-189.42\"/>\n",
       "<polygon fill=\"black\" stroke=\"black\" points=\"887.78,-192.63 895.63,-185.51 885.06,-186.18 887.78,-192.63\"/>\n",
       "</g>\n",
       "<!-- 10 -->\n",
       "<g id=\"node11\" class=\"node\">\n",
       "<title>10</title>\n",
       "<path fill=\"#399de5\" stroke=\"black\" d=\"M716,-68C716,-68 620,-68 620,-68 614,-68 608,-62 608,-56 608,-56 608,-12 608,-12 608,-6 614,0 620,0 620,0 716,0 716,0 722,0 728,-6 728,-12 728,-12 728,-56 728,-56 728,-62 722,-68 716,-68\"/>\n",
       "<text text-anchor=\"middle\" x=\"668\" y=\"-52.8\" font-family=\"Helvetica,sans-Serif\" font-size=\"14.00\">gini = 0.0</text>\n",
       "<text text-anchor=\"middle\" x=\"668\" y=\"-37.8\" font-family=\"Helvetica,sans-Serif\" font-size=\"14.00\">samples = 1720</text>\n",
       "<text text-anchor=\"middle\" x=\"668\" y=\"-22.8\" font-family=\"Helvetica,sans-Serif\" font-size=\"14.00\">value = [0, 1720]</text>\n",
       "<text text-anchor=\"middle\" x=\"668\" y=\"-7.8\" font-family=\"Helvetica,sans-Serif\" font-size=\"14.00\">class = True</text>\n",
       "</g>\n",
       "<!-- 9&#45;&gt;10 -->\n",
       "<g id=\"edge10\" class=\"edge\">\n",
       "<title>9&#45;&gt;10</title>\n",
       "<path fill=\"none\" stroke=\"black\" d=\"M694.99,-103.73C691.66,-95.24 688.14,-86.28 684.78,-77.73\"/>\n",
       "<polygon fill=\"black\" stroke=\"black\" points=\"687.99,-76.33 681.08,-68.3 681.47,-78.89 687.99,-76.33\"/>\n",
       "</g>\n",
       "<!-- 11 -->\n",
       "<g id=\"node12\" class=\"node\">\n",
       "<title>11</title>\n",
       "<path fill=\"#70b8ec\" stroke=\"black\" d=\"M886,-68C886,-68 758,-68 758,-68 752,-68 746,-62 746,-56 746,-56 746,-12 746,-12 746,-6 752,0 758,0 758,0 886,0 886,0 892,0 898,-6 898,-12 898,-12 898,-56 898,-56 898,-62 892,-68 886,-68\"/>\n",
       "<text text-anchor=\"middle\" x=\"822\" y=\"-52.8\" font-family=\"Helvetica,sans-Serif\" font-size=\"14.00\">gini = 0.341</text>\n",
       "<text text-anchor=\"middle\" x=\"822\" y=\"-37.8\" font-family=\"Helvetica,sans-Serif\" font-size=\"14.00\">samples = 38770</text>\n",
       "<text text-anchor=\"middle\" x=\"822\" y=\"-22.8\" font-family=\"Helvetica,sans-Serif\" font-size=\"14.00\">value = [8467, 30303]</text>\n",
       "<text text-anchor=\"middle\" x=\"822\" y=\"-7.8\" font-family=\"Helvetica,sans-Serif\" font-size=\"14.00\">class = True</text>\n",
       "</g>\n",
       "<!-- 9&#45;&gt;11 -->\n",
       "<g id=\"edge11\" class=\"edge\">\n",
       "<title>9&#45;&gt;11</title>\n",
       "<path fill=\"none\" stroke=\"black\" d=\"M752.33,-103.73C761.67,-94.51 771.58,-84.74 780.91,-75.53\"/>\n",
       "<polygon fill=\"black\" stroke=\"black\" points=\"783.58,-77.81 788.24,-68.3 778.67,-72.83 783.58,-77.81\"/>\n",
       "</g>\n",
       "<!-- 13 -->\n",
       "<g id=\"node14\" class=\"node\">\n",
       "<title>13</title>\n",
       "<path fill=\"#edf6fd\" stroke=\"black\" d=\"M1048,-68C1048,-68 928,-68 928,-68 922,-68 916,-62 916,-56 916,-56 916,-12 916,-12 916,-6 922,0 928,0 928,0 1048,0 1048,0 1054,0 1060,-6 1060,-12 1060,-12 1060,-56 1060,-56 1060,-62 1054,-68 1048,-68\"/>\n",
       "<text text-anchor=\"middle\" x=\"988\" y=\"-52.8\" font-family=\"Helvetica,sans-Serif\" font-size=\"14.00\">gini = 0.499</text>\n",
       "<text text-anchor=\"middle\" x=\"988\" y=\"-37.8\" font-family=\"Helvetica,sans-Serif\" font-size=\"14.00\">samples = 9388</text>\n",
       "<text text-anchor=\"middle\" x=\"988\" y=\"-22.8\" font-family=\"Helvetica,sans-Serif\" font-size=\"14.00\">value = [4464, 4924]</text>\n",
       "<text text-anchor=\"middle\" x=\"988\" y=\"-7.8\" font-family=\"Helvetica,sans-Serif\" font-size=\"14.00\">class = True</text>\n",
       "</g>\n",
       "<!-- 12&#45;&gt;13 -->\n",
       "<g id=\"edge13\" class=\"edge\">\n",
       "<title>12&#45;&gt;13</title>\n",
       "<path fill=\"none\" stroke=\"black\" d=\"M988,-103.73C988,-95.52 988,-86.86 988,-78.56\"/>\n",
       "<polygon fill=\"black\" stroke=\"black\" points=\"991.5,-78.3 988,-68.3 984.5,-78.3 991.5,-78.3\"/>\n",
       "</g>\n",
       "<!-- 14 -->\n",
       "<g id=\"node15\" class=\"node\">\n",
       "<title>14</title>\n",
       "<path fill=\"#f6d3b9\" stroke=\"black\" d=\"M1210,-68C1210,-68 1090,-68 1090,-68 1084,-68 1078,-62 1078,-56 1078,-56 1078,-12 1078,-12 1078,-6 1084,0 1090,0 1090,0 1210,0 1210,0 1216,0 1222,-6 1222,-12 1222,-12 1222,-56 1222,-56 1222,-62 1216,-68 1210,-68\"/>\n",
       "<text text-anchor=\"middle\" x=\"1150\" y=\"-52.8\" font-family=\"Helvetica,sans-Serif\" font-size=\"14.00\">gini = 0.477</text>\n",
       "<text text-anchor=\"middle\" x=\"1150\" y=\"-37.8\" font-family=\"Helvetica,sans-Serif\" font-size=\"14.00\">samples = 4883</text>\n",
       "<text text-anchor=\"middle\" x=\"1150\" y=\"-22.8\" font-family=\"Helvetica,sans-Serif\" font-size=\"14.00\">value = [2964, 1919]</text>\n",
       "<text text-anchor=\"middle\" x=\"1150\" y=\"-7.8\" font-family=\"Helvetica,sans-Serif\" font-size=\"14.00\">class = False</text>\n",
       "</g>\n",
       "<!-- 12&#45;&gt;14 -->\n",
       "<g id=\"edge14\" class=\"edge\">\n",
       "<title>12&#45;&gt;14</title>\n",
       "<path fill=\"none\" stroke=\"black\" d=\"M1048.32,-103.73C1062.84,-93.92 1078.3,-83.46 1092.67,-73.75\"/>\n",
       "<polygon fill=\"black\" stroke=\"black\" points=\"1094.67,-76.62 1100.99,-68.13 1090.75,-70.83 1094.67,-76.62\"/>\n",
       "</g>\n",
       "</g>\n",
       "</svg>\n"
      ],
      "text/plain": [
       "<graphviz.files.Source at 0x16a049c70>"
      ]
     },
     "execution_count": 92,
     "metadata": {},
     "output_type": "execute_result"
    }
   ],
   "source": [
    "from graphviz import Source\n",
    "from sklearn.tree import export_graphviz\n",
    "\n",
    "Source(export_graphviz(df_tree, feature_names=X_train.columns, \n",
    "                      class_names=[\"False\", \"True\"], \n",
    "                      rounded=True, filled=True))\n",
    "\n"
   ]
  },
  {
   "cell_type": "code",
   "execution_count": 93,
   "id": "b8e9fc44",
   "metadata": {},
   "outputs": [
    {
     "data": {
      "text/plain": [
       "{'age': 0.0,\n",
       " 'gender': 0.0,\n",
       " 'year': 0.3854265228361309,\n",
       " 'income_근로': 0.0,\n",
       " 'income_사업': 0.36039717592294124,\n",
       " 'income_기타': 0.2541763012409278}"
      ]
     },
     "execution_count": 93,
     "metadata": {},
     "output_type": "execute_result"
    }
   ],
   "source": [
    "#중요 특성 보기 \n",
    "\n",
    "dict(zip(X_train.columns, df_tree.feature_importances_))"
   ]
  },
  {
   "cell_type": "code",
   "execution_count": null,
   "id": "0756e6e5",
   "metadata": {},
   "outputs": [],
   "source": []
  }
 ],
 "metadata": {
  "kernelspec": {
   "display_name": "Python 3.8.6 64-bit ('m1': conda)",
   "language": "python",
   "name": "python386jvsc74a57bd07918b9be9029ed4a26abb1e3f55c1f59c9a25fcca3de584c39fa0974acb148d7"
  },
  "language_info": {
   "codemirror_mode": {
    "name": "ipython",
    "version": 3
   },
   "file_extension": ".py",
   "mimetype": "text/x-python",
   "name": "python",
   "nbconvert_exporter": "python",
   "pygments_lexer": "ipython3",
   "version": "3.8.10"
  }
 },
 "nbformat": 4,
 "nbformat_minor": 5
}
