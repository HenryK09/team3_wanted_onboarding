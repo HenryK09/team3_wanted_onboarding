{
  "nbformat": 4,
  "nbformat_minor": 0,
  "metadata": {
    "colab": {
      "name": "Week3_EDA.ipynb",
      "provenance": [],
      "collapsed_sections": []
    },
    "kernelspec": {
      "name": "python3",
      "display_name": "Python 3"
    },
    "language_info": {
      "name": "python"
    }
  },
  "cells": [
    {
      "cell_type": "code",
      "metadata": {
        "colab": {
          "base_uri": "https://localhost:8080/"
        },
        "id": "yEBUyWDAZEtP",
        "outputId": "34987c5f-e3fd-4da2-9159-4320d39b6668"
      },
      "source": [
        "from google.colab import drive\n",
        "drive.mount('./MyDrive')"
      ],
      "execution_count": 1,
      "outputs": [
        {
          "output_type": "stream",
          "text": [
            "Drive already mounted at ./MyDrive; to attempt to forcibly remount, call drive.mount(\"./MyDrive\", force_remount=True).\n"
          ],
          "name": "stdout"
        }
      ]
    },
    {
      "cell_type": "code",
      "metadata": {
        "id": "is_AW5R7ZNv2"
      },
      "source": [
        "import pandas as pd\n",
        "import numpy as np\n",
        "import matplotlib.pyplot as plt\n",
        "import seaborn as sns\n",
        "from datetime import datetime"
      ],
      "execution_count": 2,
      "outputs": []
    },
    {
      "cell_type": "code",
      "metadata": {
        "id": "67V3YDF5ZTYe"
      },
      "source": [
        "parking_df = pd.read_csv('/content/MyDrive/MyDrive/실전db.csv')\n",
        "weather_df = pd.read_csv('/content/MyDrive/MyDrive/서울시_기상데이터.csv', encoding=\"cp949\")"
      ],
      "execution_count": 3,
      "outputs": []
    },
    {
      "cell_type": "code",
      "metadata": {
        "colab": {
          "base_uri": "https://localhost:8080/",
          "height": 419
        },
        "id": "VFFbfIg4ZeYP",
        "outputId": "5195fe15-8817-4f01-8c7d-6de72b99b362"
      },
      "source": [
        "parking_df"
      ],
      "execution_count": 4,
      "outputs": [
        {
          "output_type": "execute_result",
          "data": {
            "text/html": [
              "<div>\n",
              "<style scoped>\n",
              "    .dataframe tbody tr th:only-of-type {\n",
              "        vertical-align: middle;\n",
              "    }\n",
              "\n",
              "    .dataframe tbody tr th {\n",
              "        vertical-align: top;\n",
              "    }\n",
              "\n",
              "    .dataframe thead th {\n",
              "        text-align: right;\n",
              "    }\n",
              "</style>\n",
              "<table border=\"1\" class=\"dataframe\">\n",
              "  <thead>\n",
              "    <tr style=\"text-align: right;\">\n",
              "      <th></th>\n",
              "      <th>USER_ID</th>\n",
              "      <th>JOIN_DATE</th>\n",
              "      <th>D_TYPE</th>\n",
              "      <th>STORE_ID</th>\n",
              "      <th>GOODS_TYPE</th>\n",
              "      <th>DATE</th>\n",
              "      <th>COUNT</th>\n",
              "      <th>AD1</th>\n",
              "    </tr>\n",
              "  </thead>\n",
              "  <tbody>\n",
              "    <tr>\n",
              "      <th>0</th>\n",
              "      <td>2858</td>\n",
              "      <td>2014-01-07</td>\n",
              "      <td>AA</td>\n",
              "      <td>1892</td>\n",
              "      <td>A</td>\n",
              "      <td>2020-01-01</td>\n",
              "      <td>1</td>\n",
              "      <td>GN</td>\n",
              "    </tr>\n",
              "    <tr>\n",
              "      <th>1</th>\n",
              "      <td>5647</td>\n",
              "      <td>2014-02-14</td>\n",
              "      <td>BB</td>\n",
              "      <td>182009</td>\n",
              "      <td>A</td>\n",
              "      <td>2020-01-01</td>\n",
              "      <td>1</td>\n",
              "      <td>J</td>\n",
              "    </tr>\n",
              "    <tr>\n",
              "      <th>2</th>\n",
              "      <td>33314</td>\n",
              "      <td>2014-11-20</td>\n",
              "      <td>BB</td>\n",
              "      <td>82431</td>\n",
              "      <td>A</td>\n",
              "      <td>2020-01-01</td>\n",
              "      <td>1</td>\n",
              "      <td>SC</td>\n",
              "    </tr>\n",
              "    <tr>\n",
              "      <th>3</th>\n",
              "      <td>37001</td>\n",
              "      <td>2014-12-04</td>\n",
              "      <td>BB</td>\n",
              "      <td>725</td>\n",
              "      <td>C</td>\n",
              "      <td>2020-01-01</td>\n",
              "      <td>1</td>\n",
              "      <td>MP</td>\n",
              "    </tr>\n",
              "    <tr>\n",
              "      <th>4</th>\n",
              "      <td>37819</td>\n",
              "      <td>2014-12-07</td>\n",
              "      <td>AA</td>\n",
              "      <td>220691</td>\n",
              "      <td>C</td>\n",
              "      <td>2020-01-01</td>\n",
              "      <td>1</td>\n",
              "      <td>JRR</td>\n",
              "    </tr>\n",
              "    <tr>\n",
              "      <th>...</th>\n",
              "      <td>...</td>\n",
              "      <td>...</td>\n",
              "      <td>...</td>\n",
              "      <td>...</td>\n",
              "      <td>...</td>\n",
              "      <td>...</td>\n",
              "      <td>...</td>\n",
              "      <td>...</td>\n",
              "    </tr>\n",
              "    <tr>\n",
              "      <th>879266</th>\n",
              "      <td>1830551</td>\n",
              "      <td>2020-12-31</td>\n",
              "      <td>BB</td>\n",
              "      <td>219886</td>\n",
              "      <td>B</td>\n",
              "      <td>2020-12-31</td>\n",
              "      <td>1</td>\n",
              "      <td>GN</td>\n",
              "    </tr>\n",
              "    <tr>\n",
              "      <th>879267</th>\n",
              "      <td>1830570</td>\n",
              "      <td>2020-12-31</td>\n",
              "      <td>BB</td>\n",
              "      <td>82433</td>\n",
              "      <td>B</td>\n",
              "      <td>2020-12-31</td>\n",
              "      <td>1</td>\n",
              "      <td>CY</td>\n",
              "    </tr>\n",
              "    <tr>\n",
              "      <th>879268</th>\n",
              "      <td>1830580</td>\n",
              "      <td>2020-12-31</td>\n",
              "      <td>AA</td>\n",
              "      <td>92020</td>\n",
              "      <td>B</td>\n",
              "      <td>2020-12-31</td>\n",
              "      <td>1</td>\n",
              "      <td>JRR</td>\n",
              "    </tr>\n",
              "    <tr>\n",
              "      <th>879269</th>\n",
              "      <td>1830589</td>\n",
              "      <td>2020-12-31</td>\n",
              "      <td>BB</td>\n",
              "      <td>92437</td>\n",
              "      <td>B</td>\n",
              "      <td>2020-12-31</td>\n",
              "      <td>1</td>\n",
              "      <td>J</td>\n",
              "    </tr>\n",
              "    <tr>\n",
              "      <th>879270</th>\n",
              "      <td>1830598</td>\n",
              "      <td>2020-12-31</td>\n",
              "      <td>AA</td>\n",
              "      <td>220959</td>\n",
              "      <td>B</td>\n",
              "      <td>2020-12-31</td>\n",
              "      <td>1</td>\n",
              "      <td>SC</td>\n",
              "    </tr>\n",
              "  </tbody>\n",
              "</table>\n",
              "<p>879271 rows × 8 columns</p>\n",
              "</div>"
            ],
            "text/plain": [
              "        USER_ID   JOIN_DATE D_TYPE  STORE_ID GOODS_TYPE        DATE  COUNT  AD1\n",
              "0          2858  2014-01-07     AA      1892          A  2020-01-01      1   GN\n",
              "1          5647  2014-02-14     BB    182009          A  2020-01-01      1    J\n",
              "2         33314  2014-11-20     BB     82431          A  2020-01-01      1   SC\n",
              "3         37001  2014-12-04     BB       725          C  2020-01-01      1   MP\n",
              "4         37819  2014-12-07     AA    220691          C  2020-01-01      1  JRR\n",
              "...         ...         ...    ...       ...        ...         ...    ...  ...\n",
              "879266  1830551  2020-12-31     BB    219886          B  2020-12-31      1   GN\n",
              "879267  1830570  2020-12-31     BB     82433          B  2020-12-31      1   CY\n",
              "879268  1830580  2020-12-31     AA     92020          B  2020-12-31      1  JRR\n",
              "879269  1830589  2020-12-31     BB     92437          B  2020-12-31      1    J\n",
              "879270  1830598  2020-12-31     AA    220959          B  2020-12-31      1   SC\n",
              "\n",
              "[879271 rows x 8 columns]"
            ]
          },
          "metadata": {
            "tags": []
          },
          "execution_count": 4
        }
      ]
    },
    {
      "cell_type": "code",
      "metadata": {
        "colab": {
          "base_uri": "https://localhost:8080/",
          "height": 419
        },
        "id": "uMpeXRTK8Ojr",
        "outputId": "0f2ed2c3-6f1b-4db1-8d35-d33ab66064d4"
      },
      "source": [
        "weather_df"
      ],
      "execution_count": 5,
      "outputs": [
        {
          "output_type": "execute_result",
          "data": {
            "text/html": [
              "<div>\n",
              "<style scoped>\n",
              "    .dataframe tbody tr th:only-of-type {\n",
              "        vertical-align: middle;\n",
              "    }\n",
              "\n",
              "    .dataframe tbody tr th {\n",
              "        vertical-align: top;\n",
              "    }\n",
              "\n",
              "    .dataframe thead th {\n",
              "        text-align: right;\n",
              "    }\n",
              "</style>\n",
              "<table border=\"1\" class=\"dataframe\">\n",
              "  <thead>\n",
              "    <tr style=\"text-align: right;\">\n",
              "      <th></th>\n",
              "      <th>지점</th>\n",
              "      <th>일시</th>\n",
              "      <th>기온</th>\n",
              "      <th>강수량</th>\n",
              "      <th>풍속</th>\n",
              "      <th>습도</th>\n",
              "      <th>일조시간</th>\n",
              "      <th>적설량</th>\n",
              "      <th>지면온도</th>\n",
              "      <th>지중온도</th>\n",
              "    </tr>\n",
              "  </thead>\n",
              "  <tbody>\n",
              "    <tr>\n",
              "      <th>0</th>\n",
              "      <td>108</td>\n",
              "      <td>2020-01-01 1:00</td>\n",
              "      <td>-5.9</td>\n",
              "      <td>NaN</td>\n",
              "      <td>1.7</td>\n",
              "      <td>40</td>\n",
              "      <td>NaN</td>\n",
              "      <td>NaN</td>\n",
              "      <td>-2.4</td>\n",
              "      <td>3.2</td>\n",
              "    </tr>\n",
              "    <tr>\n",
              "      <th>1</th>\n",
              "      <td>108</td>\n",
              "      <td>2020-01-01 2:00</td>\n",
              "      <td>-5.7</td>\n",
              "      <td>NaN</td>\n",
              "      <td>0.1</td>\n",
              "      <td>42</td>\n",
              "      <td>NaN</td>\n",
              "      <td>NaN</td>\n",
              "      <td>-2.4</td>\n",
              "      <td>3.1</td>\n",
              "    </tr>\n",
              "    <tr>\n",
              "      <th>2</th>\n",
              "      <td>108</td>\n",
              "      <td>2020-01-01 3:00</td>\n",
              "      <td>-5.6</td>\n",
              "      <td>0.0</td>\n",
              "      <td>0.0</td>\n",
              "      <td>46</td>\n",
              "      <td>NaN</td>\n",
              "      <td>NaN</td>\n",
              "      <td>-2.7</td>\n",
              "      <td>3.1</td>\n",
              "    </tr>\n",
              "    <tr>\n",
              "      <th>3</th>\n",
              "      <td>108</td>\n",
              "      <td>2020-01-01 4:00</td>\n",
              "      <td>-5.4</td>\n",
              "      <td>NaN</td>\n",
              "      <td>0.0</td>\n",
              "      <td>50</td>\n",
              "      <td>NaN</td>\n",
              "      <td>NaN</td>\n",
              "      <td>-2.5</td>\n",
              "      <td>3.0</td>\n",
              "    </tr>\n",
              "    <tr>\n",
              "      <th>4</th>\n",
              "      <td>108</td>\n",
              "      <td>2020-01-01 5:00</td>\n",
              "      <td>-5.2</td>\n",
              "      <td>NaN</td>\n",
              "      <td>0.0</td>\n",
              "      <td>55</td>\n",
              "      <td>NaN</td>\n",
              "      <td>NaN</td>\n",
              "      <td>-2.2</td>\n",
              "      <td>3.0</td>\n",
              "    </tr>\n",
              "    <tr>\n",
              "      <th>...</th>\n",
              "      <td>...</td>\n",
              "      <td>...</td>\n",
              "      <td>...</td>\n",
              "      <td>...</td>\n",
              "      <td>...</td>\n",
              "      <td>...</td>\n",
              "      <td>...</td>\n",
              "      <td>...</td>\n",
              "      <td>...</td>\n",
              "      <td>...</td>\n",
              "    </tr>\n",
              "    <tr>\n",
              "      <th>8755</th>\n",
              "      <td>108</td>\n",
              "      <td>2020-12-30 20:00</td>\n",
              "      <td>-11.8</td>\n",
              "      <td>NaN</td>\n",
              "      <td>4.8</td>\n",
              "      <td>54</td>\n",
              "      <td>NaN</td>\n",
              "      <td>NaN</td>\n",
              "      <td>-6.5</td>\n",
              "      <td>2.2</td>\n",
              "    </tr>\n",
              "    <tr>\n",
              "      <th>8756</th>\n",
              "      <td>108</td>\n",
              "      <td>2020-12-30 21:00</td>\n",
              "      <td>-12.4</td>\n",
              "      <td>NaN</td>\n",
              "      <td>3.2</td>\n",
              "      <td>58</td>\n",
              "      <td>NaN</td>\n",
              "      <td>NaN</td>\n",
              "      <td>-6.9</td>\n",
              "      <td>2.2</td>\n",
              "    </tr>\n",
              "    <tr>\n",
              "      <th>8757</th>\n",
              "      <td>108</td>\n",
              "      <td>2020-12-30 22:00</td>\n",
              "      <td>-12.7</td>\n",
              "      <td>NaN</td>\n",
              "      <td>2.8</td>\n",
              "      <td>56</td>\n",
              "      <td>NaN</td>\n",
              "      <td>NaN</td>\n",
              "      <td>-7.1</td>\n",
              "      <td>2.1</td>\n",
              "    </tr>\n",
              "    <tr>\n",
              "      <th>8758</th>\n",
              "      <td>108</td>\n",
              "      <td>2020-12-30 23:00</td>\n",
              "      <td>-12.9</td>\n",
              "      <td>NaN</td>\n",
              "      <td>2.2</td>\n",
              "      <td>54</td>\n",
              "      <td>NaN</td>\n",
              "      <td>NaN</td>\n",
              "      <td>-7.3</td>\n",
              "      <td>2.1</td>\n",
              "    </tr>\n",
              "    <tr>\n",
              "      <th>8759</th>\n",
              "      <td>108</td>\n",
              "      <td>2020-12-31 0:00</td>\n",
              "      <td>-12.7</td>\n",
              "      <td>NaN</td>\n",
              "      <td>3.4</td>\n",
              "      <td>52</td>\n",
              "      <td>NaN</td>\n",
              "      <td>NaN</td>\n",
              "      <td>-7.6</td>\n",
              "      <td>2.1</td>\n",
              "    </tr>\n",
              "  </tbody>\n",
              "</table>\n",
              "<p>8760 rows × 10 columns</p>\n",
              "</div>"
            ],
            "text/plain": [
              "       지점                일시    기온  강수량   풍속  습도  일조시간  적설량  지면온도  지중온도\n",
              "0     108   2020-01-01 1:00  -5.9  NaN  1.7  40   NaN  NaN  -2.4   3.2\n",
              "1     108   2020-01-01 2:00  -5.7  NaN  0.1  42   NaN  NaN  -2.4   3.1\n",
              "2     108   2020-01-01 3:00  -5.6  0.0  0.0  46   NaN  NaN  -2.7   3.1\n",
              "3     108   2020-01-01 4:00  -5.4  NaN  0.0  50   NaN  NaN  -2.5   3.0\n",
              "4     108   2020-01-01 5:00  -5.2  NaN  0.0  55   NaN  NaN  -2.2   3.0\n",
              "...   ...               ...   ...  ...  ...  ..   ...  ...   ...   ...\n",
              "8755  108  2020-12-30 20:00 -11.8  NaN  4.8  54   NaN  NaN  -6.5   2.2\n",
              "8756  108  2020-12-30 21:00 -12.4  NaN  3.2  58   NaN  NaN  -6.9   2.2\n",
              "8757  108  2020-12-30 22:00 -12.7  NaN  2.8  56   NaN  NaN  -7.1   2.1\n",
              "8758  108  2020-12-30 23:00 -12.9  NaN  2.2  54   NaN  NaN  -7.3   2.1\n",
              "8759  108   2020-12-31 0:00 -12.7  NaN  3.4  52   NaN  NaN  -7.6   2.1\n",
              "\n",
              "[8760 rows x 10 columns]"
            ]
          },
          "metadata": {
            "tags": []
          },
          "execution_count": 5
        }
      ]
    },
    {
      "cell_type": "markdown",
      "metadata": {
        "id": "h6OKUcnqnKKq"
      },
      "source": [
        "# 데이터 컬럼의미\n",
        "\n",
        "\n",
        "1.   USER_ID: 유저ID\n",
        "\n",
        "2.   JOIN_DATE: 가입일이라고 생각했는데 1970-01-01 이런식으로 70년대도 있어가지고 정확히 뭔지 모르겠음 주차장 운영시작일일수도 있음\n",
        "\n",
        "3.   D_TYPE: \n",
        "\n",
        "4.   STORE_ID: 상점ID\n",
        "\n",
        "5.   GOODS_TYPE: 주차장관련 어플이니깐 주차권타입???\n",
        "\n",
        "6.   DATE: 결제일\n",
        "\n",
        "7.   COUNT: 결제건수\n",
        "\n",
        "8.   AD1: 매장 지역코드\n",
        "\n"
      ]
    },
    {
      "cell_type": "code",
      "metadata": {
        "colab": {
          "base_uri": "https://localhost:8080/"
        },
        "id": "JecdJEaO3kek",
        "outputId": "88bda2e5-928c-4cc7-b36b-afa0b061ecbe"
      },
      "source": [
        "parking_df['JOIN_DATE'].sort_values()"
      ],
      "execution_count": 6,
      "outputs": [
        {
          "output_type": "execute_result",
          "data": {
            "text/plain": [
              "176320    1970-01-01\n",
              "625539    1970-01-01\n",
              "226658    1970-01-01\n",
              "226415    1970-01-01\n",
              "226042    1970-01-01\n",
              "             ...    \n",
              "879214    2020-12-31\n",
              "879213    2020-12-31\n",
              "879212    2020-12-31\n",
              "879230    2020-12-31\n",
              "879270    2020-12-31\n",
              "Name: JOIN_DATE, Length: 879271, dtype: object"
            ]
          },
          "metadata": {
            "tags": []
          },
          "execution_count": 6
        }
      ]
    },
    {
      "cell_type": "code",
      "metadata": {
        "colab": {
          "base_uri": "https://localhost:8080/",
          "height": 49
        },
        "id": "I_Ygz5B6JJlo",
        "outputId": "3e15edcd-ab88-4606-8de2-e9817b273375"
      },
      "source": [
        "parking_df[parking_df['JOIN_DATE']=='1970-01-02'] # 1970-01-01 에러일 가능성이 높음"
      ],
      "execution_count": 7,
      "outputs": [
        {
          "output_type": "execute_result",
          "data": {
            "text/html": [
              "<div>\n",
              "<style scoped>\n",
              "    .dataframe tbody tr th:only-of-type {\n",
              "        vertical-align: middle;\n",
              "    }\n",
              "\n",
              "    .dataframe tbody tr th {\n",
              "        vertical-align: top;\n",
              "    }\n",
              "\n",
              "    .dataframe thead th {\n",
              "        text-align: right;\n",
              "    }\n",
              "</style>\n",
              "<table border=\"1\" class=\"dataframe\">\n",
              "  <thead>\n",
              "    <tr style=\"text-align: right;\">\n",
              "      <th></th>\n",
              "      <th>USER_ID</th>\n",
              "      <th>JOIN_DATE</th>\n",
              "      <th>D_TYPE</th>\n",
              "      <th>STORE_ID</th>\n",
              "      <th>GOODS_TYPE</th>\n",
              "      <th>DATE</th>\n",
              "      <th>COUNT</th>\n",
              "      <th>AD1</th>\n",
              "    </tr>\n",
              "  </thead>\n",
              "  <tbody>\n",
              "  </tbody>\n",
              "</table>\n",
              "</div>"
            ],
            "text/plain": [
              "Empty DataFrame\n",
              "Columns: [USER_ID, JOIN_DATE, D_TYPE, STORE_ID, GOODS_TYPE, DATE, COUNT, AD1]\n",
              "Index: []"
            ]
          },
          "metadata": {
            "tags": []
          },
          "execution_count": 7
        }
      ]
    },
    {
      "cell_type": "code",
      "metadata": {
        "colab": {
          "base_uri": "https://localhost:8080/"
        },
        "id": "njXjGi4fctro",
        "outputId": "d1675a4e-51f7-4d3f-b6b5-b989c6906530"
      },
      "source": [
        "print(parking_df.shape) # 데이터의 행, 열 개수 출력\n",
        "print(parking_df.dtypes) # 데이터의 타입 출력"
      ],
      "execution_count": 8,
      "outputs": [
        {
          "output_type": "stream",
          "text": [
            "(879271, 8)\n",
            "USER_ID        int64\n",
            "JOIN_DATE     object\n",
            "D_TYPE        object\n",
            "STORE_ID       int64\n",
            "GOODS_TYPE    object\n",
            "DATE          object\n",
            "COUNT          int64\n",
            "AD1           object\n",
            "dtype: object\n"
          ],
          "name": "stdout"
        }
      ]
    },
    {
      "cell_type": "code",
      "metadata": {
        "colab": {
          "base_uri": "https://localhost:8080/"
        },
        "id": "8N1iBNwhc52m",
        "outputId": "19373879-ac41-4fce-d13a-fc98759613b5"
      },
      "source": [
        "parking_df.isna().sum() # NaN은 없음"
      ],
      "execution_count": 9,
      "outputs": [
        {
          "output_type": "execute_result",
          "data": {
            "text/plain": [
              "USER_ID       0\n",
              "JOIN_DATE     0\n",
              "D_TYPE        0\n",
              "STORE_ID      0\n",
              "GOODS_TYPE    0\n",
              "DATE          0\n",
              "COUNT         0\n",
              "AD1           0\n",
              "dtype: int64"
            ]
          },
          "metadata": {
            "tags": []
          },
          "execution_count": 9
        }
      ]
    },
    {
      "cell_type": "code",
      "metadata": {
        "colab": {
          "base_uri": "https://localhost:8080/",
          "height": 297
        },
        "id": "5uUJ2TdLc9yv",
        "outputId": "09f8b68a-c19f-46e7-d5d5-1758889cffb7"
      },
      "source": [
        "parking_df.describe() # 컬럼별 요약 통계 지표 출력"
      ],
      "execution_count": 10,
      "outputs": [
        {
          "output_type": "execute_result",
          "data": {
            "text/html": [
              "<div>\n",
              "<style scoped>\n",
              "    .dataframe tbody tr th:only-of-type {\n",
              "        vertical-align: middle;\n",
              "    }\n",
              "\n",
              "    .dataframe tbody tr th {\n",
              "        vertical-align: top;\n",
              "    }\n",
              "\n",
              "    .dataframe thead th {\n",
              "        text-align: right;\n",
              "    }\n",
              "</style>\n",
              "<table border=\"1\" class=\"dataframe\">\n",
              "  <thead>\n",
              "    <tr style=\"text-align: right;\">\n",
              "      <th></th>\n",
              "      <th>USER_ID</th>\n",
              "      <th>STORE_ID</th>\n",
              "      <th>COUNT</th>\n",
              "    </tr>\n",
              "  </thead>\n",
              "  <tbody>\n",
              "    <tr>\n",
              "      <th>count</th>\n",
              "      <td>8.792710e+05</td>\n",
              "      <td>879271.000000</td>\n",
              "      <td>879271.000000</td>\n",
              "    </tr>\n",
              "    <tr>\n",
              "      <th>mean</th>\n",
              "      <td>1.206566e+06</td>\n",
              "      <td>149599.960642</td>\n",
              "      <td>1.029079</td>\n",
              "    </tr>\n",
              "    <tr>\n",
              "      <th>std</th>\n",
              "      <td>4.206529e+05</td>\n",
              "      <td>68898.035318</td>\n",
              "      <td>0.512428</td>\n",
              "    </tr>\n",
              "    <tr>\n",
              "      <th>min</th>\n",
              "      <td>2.240000e+02</td>\n",
              "      <td>4.000000</td>\n",
              "      <td>1.000000</td>\n",
              "    </tr>\n",
              "    <tr>\n",
              "      <th>25%</th>\n",
              "      <td>9.005760e+05</td>\n",
              "      <td>92437.000000</td>\n",
              "      <td>1.000000</td>\n",
              "    </tr>\n",
              "    <tr>\n",
              "      <th>50%</th>\n",
              "      <td>1.321440e+06</td>\n",
              "      <td>173059.000000</td>\n",
              "      <td>1.000000</td>\n",
              "    </tr>\n",
              "    <tr>\n",
              "      <th>75%</th>\n",
              "      <td>1.542416e+06</td>\n",
              "      <td>220661.000000</td>\n",
              "      <td>1.000000</td>\n",
              "    </tr>\n",
              "    <tr>\n",
              "      <th>max</th>\n",
              "      <td>1.830598e+06</td>\n",
              "      <td>231465.000000</td>\n",
              "      <td>61.000000</td>\n",
              "    </tr>\n",
              "  </tbody>\n",
              "</table>\n",
              "</div>"
            ],
            "text/plain": [
              "            USER_ID       STORE_ID          COUNT\n",
              "count  8.792710e+05  879271.000000  879271.000000\n",
              "mean   1.206566e+06  149599.960642       1.029079\n",
              "std    4.206529e+05   68898.035318       0.512428\n",
              "min    2.240000e+02       4.000000       1.000000\n",
              "25%    9.005760e+05   92437.000000       1.000000\n",
              "50%    1.321440e+06  173059.000000       1.000000\n",
              "75%    1.542416e+06  220661.000000       1.000000\n",
              "max    1.830598e+06  231465.000000      61.000000"
            ]
          },
          "metadata": {
            "tags": []
          },
          "execution_count": 10
        }
      ]
    },
    {
      "cell_type": "code",
      "metadata": {
        "colab": {
          "base_uri": "https://localhost:8080/",
          "height": 270
        },
        "id": "_SgA6q3LdIqH",
        "outputId": "4943055d-1ef7-4e72-f8a6-062c271445c0"
      },
      "source": [
        "sns.heatmap(parking_df.corr(), annot=True); # 상관관계 1에 가까울수록 연관성이 아주 크다는 의미"
      ],
      "execution_count": 11,
      "outputs": [
        {
          "output_type": "display_data",
          "data": {
            "image/png": "[encoded data removed]",
            "text/plain": [
              "<Figure size 432x288 with 2 Axes>"
            ]
          },
          "metadata": {
            "tags": [],
            "needs_background": "light"
          }
        }
      ]
    },
    {
      "cell_type": "code",
      "metadata": {
        "id": "9oeH4V3pJXWe"
      },
      "source": [
        "parking_df['JOIN_DATE'] = pd.to_datetime(parking_df['JOIN_DATE'])\n",
        "parking_df['DATE'] = pd.to_datetime(parking_df['DATE'])"
      ],
      "execution_count": 12,
      "outputs": []
    },
    {
      "cell_type": "code",
      "metadata": {
        "colab": {
          "base_uri": "https://localhost:8080/",
          "height": 419
        },
        "id": "swTNIVCmJ8C4",
        "outputId": "d1561be5-a709-4b0e-ec97-3c9ac1938bf4"
      },
      "source": [
        "parking_df['Weekday'] = parking_df['DATE'].dt.weekday # 0:월 1:화 2:수 3:목 4:금 5:토 6:일\n",
        "parking_df"
      ],
      "execution_count": 48,
      "outputs": [
        {
          "output_type": "execute_result",
          "data": {
            "text/html": [
              "<div>\n",
              "<style scoped>\n",
              "    .dataframe tbody tr th:only-of-type {\n",
              "        vertical-align: middle;\n",
              "    }\n",
              "\n",
              "    .dataframe tbody tr th {\n",
              "        vertical-align: top;\n",
              "    }\n",
              "\n",
              "    .dataframe thead th {\n",
              "        text-align: right;\n",
              "    }\n",
              "</style>\n",
              "<table border=\"1\" class=\"dataframe\">\n",
              "  <thead>\n",
              "    <tr style=\"text-align: right;\">\n",
              "      <th></th>\n",
              "      <th>USER_ID</th>\n",
              "      <th>JOIN_DATE</th>\n",
              "      <th>D_TYPE</th>\n",
              "      <th>STORE_ID</th>\n",
              "      <th>GOODS_TYPE</th>\n",
              "      <th>DATE</th>\n",
              "      <th>COUNT</th>\n",
              "      <th>AD1</th>\n",
              "      <th>Weekday</th>\n",
              "    </tr>\n",
              "  </thead>\n",
              "  <tbody>\n",
              "    <tr>\n",
              "      <th>0</th>\n",
              "      <td>2858</td>\n",
              "      <td>2014-01-07</td>\n",
              "      <td>AA</td>\n",
              "      <td>1892</td>\n",
              "      <td>A</td>\n",
              "      <td>2020-01-01</td>\n",
              "      <td>1</td>\n",
              "      <td>GN</td>\n",
              "      <td>2</td>\n",
              "    </tr>\n",
              "    <tr>\n",
              "      <th>1</th>\n",
              "      <td>5647</td>\n",
              "      <td>2014-02-14</td>\n",
              "      <td>BB</td>\n",
              "      <td>182009</td>\n",
              "      <td>A</td>\n",
              "      <td>2020-01-01</td>\n",
              "      <td>1</td>\n",
              "      <td>J</td>\n",
              "      <td>2</td>\n",
              "    </tr>\n",
              "    <tr>\n",
              "      <th>2</th>\n",
              "      <td>33314</td>\n",
              "      <td>2014-11-20</td>\n",
              "      <td>BB</td>\n",
              "      <td>82431</td>\n",
              "      <td>A</td>\n",
              "      <td>2020-01-01</td>\n",
              "      <td>1</td>\n",
              "      <td>SC</td>\n",
              "      <td>2</td>\n",
              "    </tr>\n",
              "    <tr>\n",
              "      <th>3</th>\n",
              "      <td>37001</td>\n",
              "      <td>2014-12-04</td>\n",
              "      <td>BB</td>\n",
              "      <td>725</td>\n",
              "      <td>C</td>\n",
              "      <td>2020-01-01</td>\n",
              "      <td>1</td>\n",
              "      <td>MP</td>\n",
              "      <td>2</td>\n",
              "    </tr>\n",
              "    <tr>\n",
              "      <th>4</th>\n",
              "      <td>37819</td>\n",
              "      <td>2014-12-07</td>\n",
              "      <td>AA</td>\n",
              "      <td>220691</td>\n",
              "      <td>C</td>\n",
              "      <td>2020-01-01</td>\n",
              "      <td>1</td>\n",
              "      <td>JRR</td>\n",
              "      <td>2</td>\n",
              "    </tr>\n",
              "    <tr>\n",
              "      <th>...</th>\n",
              "      <td>...</td>\n",
              "      <td>...</td>\n",
              "      <td>...</td>\n",
              "      <td>...</td>\n",
              "      <td>...</td>\n",
              "      <td>...</td>\n",
              "      <td>...</td>\n",
              "      <td>...</td>\n",
              "      <td>...</td>\n",
              "    </tr>\n",
              "    <tr>\n",
              "      <th>879266</th>\n",
              "      <td>1830551</td>\n",
              "      <td>2020-12-31</td>\n",
              "      <td>BB</td>\n",
              "      <td>219886</td>\n",
              "      <td>B</td>\n",
              "      <td>2020-12-31</td>\n",
              "      <td>1</td>\n",
              "      <td>GN</td>\n",
              "      <td>3</td>\n",
              "    </tr>\n",
              "    <tr>\n",
              "      <th>879267</th>\n",
              "      <td>1830570</td>\n",
              "      <td>2020-12-31</td>\n",
              "      <td>BB</td>\n",
              "      <td>82433</td>\n",
              "      <td>B</td>\n",
              "      <td>2020-12-31</td>\n",
              "      <td>1</td>\n",
              "      <td>CY</td>\n",
              "      <td>3</td>\n",
              "    </tr>\n",
              "    <tr>\n",
              "      <th>879268</th>\n",
              "      <td>1830580</td>\n",
              "      <td>2020-12-31</td>\n",
              "      <td>AA</td>\n",
              "      <td>92020</td>\n",
              "      <td>B</td>\n",
              "      <td>2020-12-31</td>\n",
              "      <td>1</td>\n",
              "      <td>JRR</td>\n",
              "      <td>3</td>\n",
              "    </tr>\n",
              "    <tr>\n",
              "      <th>879269</th>\n",
              "      <td>1830589</td>\n",
              "      <td>2020-12-31</td>\n",
              "      <td>BB</td>\n",
              "      <td>92437</td>\n",
              "      <td>B</td>\n",
              "      <td>2020-12-31</td>\n",
              "      <td>1</td>\n",
              "      <td>J</td>\n",
              "      <td>3</td>\n",
              "    </tr>\n",
              "    <tr>\n",
              "      <th>879270</th>\n",
              "      <td>1830598</td>\n",
              "      <td>2020-12-31</td>\n",
              "      <td>AA</td>\n",
              "      <td>220959</td>\n",
              "      <td>B</td>\n",
              "      <td>2020-12-31</td>\n",
              "      <td>1</td>\n",
              "      <td>SC</td>\n",
              "      <td>3</td>\n",
              "    </tr>\n",
              "  </tbody>\n",
              "</table>\n",
              "<p>879271 rows × 9 columns</p>\n",
              "</div>"
            ],
            "text/plain": [
              "        USER_ID  JOIN_DATE D_TYPE  STORE_ID  ...       DATE COUNT  AD1 Weekday\n",
              "0          2858 2014-01-07     AA      1892  ... 2020-01-01     1   GN       2\n",
              "1          5647 2014-02-14     BB    182009  ... 2020-01-01     1    J       2\n",
              "2         33314 2014-11-20     BB     82431  ... 2020-01-01     1   SC       2\n",
              "3         37001 2014-12-04     BB       725  ... 2020-01-01     1   MP       2\n",
              "4         37819 2014-12-07     AA    220691  ... 2020-01-01     1  JRR       2\n",
              "...         ...        ...    ...       ...  ...        ...   ...  ...     ...\n",
              "879266  1830551 2020-12-31     BB    219886  ... 2020-12-31     1   GN       3\n",
              "879267  1830570 2020-12-31     BB     82433  ... 2020-12-31     1   CY       3\n",
              "879268  1830580 2020-12-31     AA     92020  ... 2020-12-31     1  JRR       3\n",
              "879269  1830589 2020-12-31     BB     92437  ... 2020-12-31     1    J       3\n",
              "879270  1830598 2020-12-31     AA    220959  ... 2020-12-31     1   SC       3\n",
              "\n",
              "[879271 rows x 9 columns]"
            ]
          },
          "metadata": {
            "tags": []
          },
          "execution_count": 48
        }
      ]
    },
    {
      "cell_type": "markdown",
      "metadata": {
        "id": "x3QcnCWFmRnt"
      },
      "source": [
        "# 전처리 방향\n",
        "\n",
        "\n",
        "1.   D_TYPE 확실히 뭘 의미하는지 확인\n",
        "\n",
        "2.   AD1 확실히 뭘 의미하는지 확인\n",
        "\n",
        "3.   GOODS_TYPE 확실히 뭘 의미하는지 확인\n",
        "\n",
        "4.   USER_ID 분석\n",
        "\n",
        "5.   STORE_ID 분석\n",
        "\n",
        "6.   COUNT 분석\n"
      ]
    },
    {
      "cell_type": "markdown",
      "metadata": {
        "id": "d2lOoiabo56d"
      },
      "source": [
        "# 1. D_TYPE & AD1 & GOODS_TYPE\n",
        "\n"
      ]
    },
    {
      "cell_type": "markdown",
      "metadata": {
        "id": "CqcUmy7wXGQ-"
      },
      "source": [
        "# 어플을 확인했을 때 결제 방법으로 카드/ 휴대폰결제 / 네이버 페이 3가지 방법이 있었음 AA / BB / CC는 혹시 결제방법 아닐까??"
      ]
    },
    {
      "cell_type": "code",
      "metadata": {
        "colab": {
          "base_uri": "https://localhost:8080/"
        },
        "id": "K0JnEihVMNYy",
        "outputId": "12e25a51-2cf5-4931-85ad-62cecce34fc8"
      },
      "source": [
        "parking_df.groupby(['USER_ID','STORE_ID'])['D_TYPE'].value_counts()"
      ],
      "execution_count": 49,
      "outputs": [
        {
          "output_type": "execute_result",
          "data": {
            "text/plain": [
              "USER_ID  STORE_ID  D_TYPE\n",
              "224      92510     AA        1\n",
              "         181833    AA        1\n",
              "232      28018     BB        8\n",
              "         92144     BB        2\n",
              "         109555    BB        2\n",
              "                            ..\n",
              "1830551  219886    BB        1\n",
              "1830570  82433     BB        1\n",
              "1830580  92020     AA        1\n",
              "1830589  92437     BB        1\n",
              "1830598  220959    AA        1\n",
              "Name: D_TYPE, Length: 321606, dtype: int64"
            ]
          },
          "metadata": {
            "tags": []
          },
          "execution_count": 49
        }
      ]
    },
    {
      "cell_type": "code",
      "metadata": {
        "colab": {
          "base_uri": "https://localhost:8080/"
        },
        "id": "vUQvwzohMpzR",
        "outputId": "1b9764a4-33c2-413e-f914-6b10449d2cc1"
      },
      "source": [
        "parking_df['D_TYPE'].value_counts()"
      ],
      "execution_count": 50,
      "outputs": [
        {
          "output_type": "execute_result",
          "data": {
            "text/plain": [
              "AA    493166\n",
              "BB    384541\n",
              "CC      1564\n",
              "Name: D_TYPE, dtype: int64"
            ]
          },
          "metadata": {
            "tags": []
          },
          "execution_count": 50
        }
      ]
    },
    {
      "cell_type": "code",
      "metadata": {
        "colab": {
          "base_uri": "https://localhost:8080/",
          "height": 485
        },
        "id": "WoZ6k5OGdMc-",
        "outputId": "3071d17b-7cc1-46e4-d580-9c5e49177aad"
      },
      "source": [
        "sns.countplot(data=parking_df, x='D_TYPE'); "
      ],
      "execution_count": 51,
      "outputs": [
        {
          "output_type": "display_data",
          "data": {
            "image/png": "[encoded data removed]",
            "text/plain": [
              "<Figure size 1440x576 with 1 Axes>"
            ]
          },
          "metadata": {
            "tags": []
          }
        }
      ]
    },
    {
      "cell_type": "markdown",
      "metadata": {
        "id": "0SoHF48fxBZh"
      },
      "source": [
        "#USER_ID / STORE_ID가 둘다 D_TYPE에 count가 되는걸 보면 결제방법일 가능성이 높음"
      ]
    },
    {
      "cell_type": "markdown",
      "metadata": {
        "id": "UgnEc6C3ERva"
      },
      "source": [
        "# J / GN / JRR / SC / MP 지역명을 약자로 적은것 같음 중구 강남구 종로구 서초구 마포구 등등"
      ]
    },
    {
      "cell_type": "code",
      "metadata": {
        "colab": {
          "base_uri": "https://localhost:8080/",
          "height": 505
        },
        "id": "sUQvP2hyrD3V",
        "outputId": "e2fe1fc3-85b9-46dd-f52b-284405d8fd86"
      },
      "source": [
        "sns.set(rc={'figure.figsize':(20,8)})\n",
        "plt.xticks(rotation=60)\n",
        "sns.countplot(data=parking_df, x='AD1');"
      ],
      "execution_count": 53,
      "outputs": [
        {
          "output_type": "display_data",
          "data": {
            "image/png": "[encoded data removed]",
            "text/plain": [
              "<Figure size 1440x576 with 1 Axes>"
            ]
          },
          "metadata": {
            "tags": []
          }
        }
      ]
    },
    {
      "cell_type": "code",
      "metadata": {
        "colab": {
          "base_uri": "https://localhost:8080/"
        },
        "id": "YgfElhCwXSal",
        "outputId": "5e85d29f-327c-485b-e74c-d519583d94c2"
      },
      "source": [
        "parking_df.groupby('Weekday')['AD1'].value_counts()\n",
        "# 지역이라면 평일과 주말에 회사지역과 번화가 지역의 주차차이가 있을꺼라고 생각"
      ],
      "execution_count": 58,
      "outputs": [
        {
          "output_type": "execute_result",
          "data": {
            "text/plain": [
              "Weekday  AD1\n",
              "0        J      29250\n",
              "         GN     24235\n",
              "         JRR    17224\n",
              "         SC      9746\n",
              "         MP      8469\n",
              "                ...  \n",
              "6        DIV        1\n",
              "         GR         1\n",
              "         QGI        1\n",
              "         QH         1\n",
              "         VO         1\n",
              "Name: AD1, Length: 534, dtype: int64"
            ]
          },
          "metadata": {
            "tags": []
          },
          "execution_count": 58
        }
      ]
    },
    {
      "cell_type": "code",
      "metadata": {
        "id": "TnCutT8SXTkQ"
      },
      "source": [
        "mon_df = parking_df[parking_df['Weekday']==0]\n",
        "mon_df= mon_df[['COUNT','AD1','Weekday']]\n",
        "\n",
        "wed_df = parking_df[parking_df['Weekday']==2]\n",
        "wed_df = wed_df[['COUNT','AD1','Weekday']]\n",
        "\n",
        "fri_df = parking_df[parking_df['Weekday']==4]\n",
        "fri_df = fri_df[['COUNT','AD1','Weekday']]\n",
        "\n",
        "sat_df = parking_df[parking_df['Weekday']==5]\n",
        "sat_df = sat_df[['COUNT','AD1','Weekday']]\n",
        "\n",
        "sun_df = parking_df[parking_df['Weekday']==6]\n",
        "sun_df = sun_df[['COUNT','AD1','Weekday']]"
      ],
      "execution_count": 84,
      "outputs": []
    },
    {
      "cell_type": "code",
      "metadata": {
        "colab": {
          "base_uri": "https://localhost:8080/",
          "height": 940
        },
        "id": "f_hGHFDlXq_0",
        "outputId": "00e5faff-5231-4517-d24e-39b5f1d6dad5"
      },
      "source": [
        "figure, (ax1, ax2, ax3) = plt.subplots(nrows=3, ncols=1)\n",
        "figure.set_size_inches(25,20)\n",
        "\n",
        "sns.countplot(data=mon_df, x='AD1', ax=ax1).set(title='Mon_AD1')\n",
        "sns.countplot(data=wed_df, x='AD1', ax=ax2).set(title='Wed_AD1')\n",
        "sns.countplot(data=fri_df, x='AD1', ax=ax3).set(title='Fri_AD1')\n"
      ],
      "execution_count": 93,
      "outputs": [
        {
          "output_type": "execute_result",
          "data": {
            "text/plain": [
              "[Text(0.5, 1.0, 'Fri_AD1')]"
            ]
          },
          "metadata": {
            "tags": []
          },
          "execution_count": 93
        },
        {
          "output_type": "display_data",
          "data": {
            "image/png": "[encoded data removed]",
            "text/plain": [
              "<Figure size 1800x1440 with 3 Axes>"
            ]
          },
          "metadata": {
            "tags": []
          }
        }
      ]
    },
    {
      "cell_type": "code",
      "metadata": {
        "colab": {
          "base_uri": "https://localhost:8080/",
          "height": 940
        },
        "id": "eAaM_qixcURY",
        "outputId": "69d99e58-d70c-4e04-d468-59ab3381de23"
      },
      "source": [
        "figure, (ax4, ax5) = plt.subplots(nrows=2, ncols=1)\n",
        "figure.set_size_inches(25,20)\n",
        "\n",
        "sns.countplot(data=sat_df, x='AD1', ax=ax4).set(title='Sat_AD1')\n",
        "sns.countplot(data=sun_df, x='AD1', ax=ax5).set(title='Sun_AD1')"
      ],
      "execution_count": 94,
      "outputs": [
        {
          "output_type": "execute_result",
          "data": {
            "text/plain": [
              "[Text(0.5, 1.0, 'Sun_AD1')]"
            ]
          },
          "metadata": {
            "tags": []
          },
          "execution_count": 94
        },
        {
          "output_type": "display_data",
          "data": {
            "image/png": "[encoded data removed]",
            "text/plain": [
              "<Figure size 1800x1440 with 2 Axes>"
            ]
          },
          "metadata": {
            "tags": []
          }
        }
      ]
    },
    {
      "cell_type": "markdown",
      "metadata": {
        "id": "Ey4qh7G0Enlr"
      },
      "source": [
        "#평일 월수금 주말 나눠서 분석\n",
        "\n",
        "\n",
        "1.   평일 J 1위 주말 3위 --> 평균 값 평일: 30000 주말: 17000\n",
        "\n",
        "2.   평일 GN 2위 주말 1위 --> 평균 값 평일: 25000 주말: 23000\n",
        "\n",
        "3.   평일 JRR 3위 주말 2위 --> 평균 값 평일: 17000 주말: 17000\n",
        "\n",
        "4.   평일 SC 4위 주말 4위 --> 평균 값 평일: 10000 주말: 10000\n",
        "\n",
        "5.   평일 MP 5위 주말 5위 --> 평균 값 평일: 9000 주말: 10000\n",
        "\n",
        "6.   평일 YD 6위 주말 6위 --> 평균 값 평일: 7000 주말: 5000\n",
        "\n",
        "\n",
        "---\n",
        "# 지역을 의미하는것 같지만 평일과 주말에 변동이 크지 않으므로 정확히는 모르겠음\n",
        "\n",
        "\n",
        "\n",
        "\n"
      ]
    },
    {
      "cell_type": "markdown",
      "metadata": {
        "id": "YmP6eklMELuB"
      },
      "source": [
        "# 모두의 주차장 홈페이지에서 예시로 \n",
        "\n",
        "평일 당일권 / 3시간권(시간은 주차장마다 다름) / 평일 심야권 / 휴일 당일권 이렇게 예시를 들고 있음\n",
        "\n",
        "Goods type으로 주차권 타입이 가능성이 높음"
      ]
    },
    {
      "cell_type": "code",
      "metadata": {
        "colab": {
          "base_uri": "https://localhost:8080/"
        },
        "id": "FxYJOMUgsPdf",
        "outputId": "f97b4d12-45a8-46b4-c35e-0ae90e851470"
      },
      "source": [
        "parking_df['GOODS_TYPE'].value_counts()"
      ],
      "execution_count": 54,
      "outputs": [
        {
          "output_type": "execute_result",
          "data": {
            "text/plain": [
              "A    609790\n",
              "C    131163\n",
              "B    118541\n",
              "D     19777\n",
              "Name: GOODS_TYPE, dtype: int64"
            ]
          },
          "metadata": {
            "tags": []
          },
          "execution_count": 54
        }
      ]
    },
    {
      "cell_type": "code",
      "metadata": {
        "colab": {
          "base_uri": "https://localhost:8080/",
          "height": 485
        },
        "id": "Ql7OgdFMSeLI",
        "outputId": "9bb4b30b-4c4c-4354-af70-088979830bbd"
      },
      "source": [
        "sns.countplot(data=parking_df, x='GOODS_TYPE');"
      ],
      "execution_count": 55,
      "outputs": [
        {
          "output_type": "display_data",
          "data": {
            "image/png": "[encoded data removed]",
            "text/plain": [
              "<Figure size 1440x576 with 1 Axes>"
            ]
          },
          "metadata": {
            "tags": []
          }
        }
      ]
    },
    {
      "cell_type": "code",
      "metadata": {
        "colab": {
          "base_uri": "https://localhost:8080/",
          "height": 485
        },
        "id": "K9ssaX6xtcl9",
        "outputId": "55c7ec7f-bd5b-4e4d-f572-0f71d97fa796"
      },
      "source": [
        "sns.countplot(data=parking_df, x='Weekday');"
      ],
      "execution_count": 56,
      "outputs": [
        {
          "output_type": "display_data",
          "data": {
            "image/png": "[encoded data removed]",
            "text/plain": [
              "<Figure size 1440x576 with 1 Axes>"
            ]
          },
          "metadata": {
            "tags": []
          }
        }
      ]
    },
    {
      "cell_type": "code",
      "metadata": {
        "colab": {
          "base_uri": "https://localhost:8080/"
        },
        "id": "rMzB-_mVFiM6",
        "outputId": "5f618c45-c579-4f79-e415-5f67e030c531"
      },
      "source": [
        "parking_df.groupby('Weekday')['GOODS_TYPE'].value_counts()"
      ],
      "execution_count": 57,
      "outputs": [
        {
          "output_type": "execute_result",
          "data": {
            "text/plain": [
              "Weekday  GOODS_TYPE\n",
              "0        A             89099\n",
              "         B             16993\n",
              "         C             16733\n",
              "         D              4227\n",
              "1        A             89400\n",
              "         B             20744\n",
              "         C             17489\n",
              "         D              3048\n",
              "2        A             89360\n",
              "         B             21586\n",
              "         C             18231\n",
              "         D              3108\n",
              "3        A             89246\n",
              "         B             22793\n",
              "         C             18291\n",
              "         D              3286\n",
              "4        A             86662\n",
              "         B             27847\n",
              "         C             19913\n",
              "         D              3495\n",
              "5        A             99048\n",
              "         C             24413\n",
              "         B              6218\n",
              "         D              1801\n",
              "6        A             66975\n",
              "         C             16093\n",
              "         B              2360\n",
              "         D               812\n",
              "Name: GOODS_TYPE, dtype: int64"
            ]
          },
          "metadata": {
            "tags": []
          },
          "execution_count": 57
        }
      ]
    },
    {
      "cell_type": "markdown",
      "metadata": {
        "id": "YKnSR4LzUQbZ"
      },
      "source": [
        "# 요일 비교로 GOODS_TYPE 구분\n",
        "\n",
        "\n",
        "\n",
        "1.   주말에 C가 증가하는걸 보면 C는 휴일 당일권일 가능성이 높음\n",
        "\n",
        "2.   주말에 D가 감소하는걸 보면 D는 평일 심야권일 가능성이 높음\n",
        "\n",
        "3.   주말에 B가 감소하는걸 보면 B는 평일 당일권일 가능성이 높음\n",
        "\n",
        "4.   남은 A는 시간권일 가능성이 높음\n",
        "\n",
        "\n",
        "---\n",
        "\n",
        "# 요일 카운터로 비교\n",
        "\n",
        "금요일까지 증가하다가 주말에 감소하는 경향이 보임\n"
      ]
    },
    {
      "cell_type": "code",
      "metadata": {
        "id": "hYD5dn_mS7Sz"
      },
      "source": [
        ""
      ],
      "execution_count": 57,
      "outputs": []
    }
  ]
}