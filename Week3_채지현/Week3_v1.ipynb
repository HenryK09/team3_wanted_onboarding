{
  "nbformat": 4,
  "nbformat_minor": 0,
  "metadata": {
    "colab": {
      "name": "Week3_v1",
      "provenance": [],
      "collapsed_sections": []
    },
    "kernelspec": {
      "name": "python3",
      "display_name": "Python 3"
    },
    "language_info": {
      "name": "python"
    }
  },
  "cells": [
    {
      "cell_type": "code",
      "metadata": {
        "colab": {
          "base_uri": "https://localhost:8080/"
        },
        "id": "yEBUyWDAZEtP",
        "outputId": "97b9516a-ca56-463c-c686-8db608981c3b"
      },
      "source": [
        "from google.colab import drive\n",
        "drive.mount('./MyDrive')"
      ],
      "execution_count": null,
      "outputs": [
        {
          "output_type": "stream",
          "text": [
            "Drive already mounted at ./MyDrive; to attempt to forcibly remount, call drive.mount(\"./MyDrive\", force_remount=True).\n"
          ],
          "name": "stdout"
        }
      ]
    },
    {
      "cell_type": "code",
      "metadata": {
        "id": "is_AW5R7ZNv2"
      },
      "source": [
        "import pandas as pd\n",
        "import numpy as np\n",
        "import matplotlib.pyplot as plt\n",
        "import seaborn as sns\n",
        "from datetime import datetime"
      ],
      "execution_count": null,
      "outputs": []
    },
    {
      "cell_type": "code",
      "metadata": {
        "id": "67V3YDF5ZTYe"
      },
      "source": [
        "parking_df = pd.read_csv('/content/MyDrive/MyDrive/실전db.csv')\n",
        "weather_df = pd.read_csv('/content/MyDrive/MyDrive/서울시_기상데이터.csv', encoding=\"cp949\")\n",
        "traffic = pd.read_excel('/content/MyDrive/MyDrive/2020교통량통합.xlsx')"
      ],
      "execution_count": null,
      "outputs": []
    },
    {
      "cell_type": "code",
      "metadata": {
        "colab": {
          "base_uri": "https://localhost:8080/",
          "height": 419
        },
        "id": "VFFbfIg4ZeYP",
        "outputId": "187d860e-4375-44c6-dece-d7ac0b6698fb"
      },
      "source": [
        "parking_df"
      ],
      "execution_count": null,
      "outputs": [
        {
          "output_type": "execute_result",
          "data": {
            "text/html": [
              "<div>\n",
              "<style scoped>\n",
              "    .dataframe tbody tr th:only-of-type {\n",
              "        vertical-align: middle;\n",
              "    }\n",
              "\n",
              "    .dataframe tbody tr th {\n",
              "        vertical-align: top;\n",
              "    }\n",
              "\n",
              "    .dataframe thead th {\n",
              "        text-align: right;\n",
              "    }\n",
              "</style>\n",
              "<table border=\"1\" class=\"dataframe\">\n",
              "  <thead>\n",
              "    <tr style=\"text-align: right;\">\n",
              "      <th></th>\n",
              "      <th>USER_ID</th>\n",
              "      <th>JOIN_DATE</th>\n",
              "      <th>D_TYPE</th>\n",
              "      <th>STORE_ID</th>\n",
              "      <th>GOODS_TYPE</th>\n",
              "      <th>DATE</th>\n",
              "      <th>COUNT</th>\n",
              "      <th>AD1</th>\n",
              "    </tr>\n",
              "  </thead>\n",
              "  <tbody>\n",
              "    <tr>\n",
              "      <th>0</th>\n",
              "      <td>2858</td>\n",
              "      <td>2014-01-07</td>\n",
              "      <td>AA</td>\n",
              "      <td>1892</td>\n",
              "      <td>A</td>\n",
              "      <td>2020-01-01</td>\n",
              "      <td>1</td>\n",
              "      <td>GN</td>\n",
              "    </tr>\n",
              "    <tr>\n",
              "      <th>1</th>\n",
              "      <td>5647</td>\n",
              "      <td>2014-02-14</td>\n",
              "      <td>BB</td>\n",
              "      <td>182009</td>\n",
              "      <td>A</td>\n",
              "      <td>2020-01-01</td>\n",
              "      <td>1</td>\n",
              "      <td>J</td>\n",
              "    </tr>\n",
              "    <tr>\n",
              "      <th>2</th>\n",
              "      <td>33314</td>\n",
              "      <td>2014-11-20</td>\n",
              "      <td>BB</td>\n",
              "      <td>82431</td>\n",
              "      <td>A</td>\n",
              "      <td>2020-01-01</td>\n",
              "      <td>1</td>\n",
              "      <td>SC</td>\n",
              "    </tr>\n",
              "    <tr>\n",
              "      <th>3</th>\n",
              "      <td>37001</td>\n",
              "      <td>2014-12-04</td>\n",
              "      <td>BB</td>\n",
              "      <td>725</td>\n",
              "      <td>C</td>\n",
              "      <td>2020-01-01</td>\n",
              "      <td>1</td>\n",
              "      <td>MP</td>\n",
              "    </tr>\n",
              "    <tr>\n",
              "      <th>4</th>\n",
              "      <td>37819</td>\n",
              "      <td>2014-12-07</td>\n",
              "      <td>AA</td>\n",
              "      <td>220691</td>\n",
              "      <td>C</td>\n",
              "      <td>2020-01-01</td>\n",
              "      <td>1</td>\n",
              "      <td>JRR</td>\n",
              "    </tr>\n",
              "    <tr>\n",
              "      <th>...</th>\n",
              "      <td>...</td>\n",
              "      <td>...</td>\n",
              "      <td>...</td>\n",
              "      <td>...</td>\n",
              "      <td>...</td>\n",
              "      <td>...</td>\n",
              "      <td>...</td>\n",
              "      <td>...</td>\n",
              "    </tr>\n",
              "    <tr>\n",
              "      <th>879266</th>\n",
              "      <td>1830551</td>\n",
              "      <td>2020-12-31</td>\n",
              "      <td>BB</td>\n",
              "      <td>219886</td>\n",
              "      <td>B</td>\n",
              "      <td>2020-12-31</td>\n",
              "      <td>1</td>\n",
              "      <td>GN</td>\n",
              "    </tr>\n",
              "    <tr>\n",
              "      <th>879267</th>\n",
              "      <td>1830570</td>\n",
              "      <td>2020-12-31</td>\n",
              "      <td>BB</td>\n",
              "      <td>82433</td>\n",
              "      <td>B</td>\n",
              "      <td>2020-12-31</td>\n",
              "      <td>1</td>\n",
              "      <td>CY</td>\n",
              "    </tr>\n",
              "    <tr>\n",
              "      <th>879268</th>\n",
              "      <td>1830580</td>\n",
              "      <td>2020-12-31</td>\n",
              "      <td>AA</td>\n",
              "      <td>92020</td>\n",
              "      <td>B</td>\n",
              "      <td>2020-12-31</td>\n",
              "      <td>1</td>\n",
              "      <td>JRR</td>\n",
              "    </tr>\n",
              "    <tr>\n",
              "      <th>879269</th>\n",
              "      <td>1830589</td>\n",
              "      <td>2020-12-31</td>\n",
              "      <td>BB</td>\n",
              "      <td>92437</td>\n",
              "      <td>B</td>\n",
              "      <td>2020-12-31</td>\n",
              "      <td>1</td>\n",
              "      <td>J</td>\n",
              "    </tr>\n",
              "    <tr>\n",
              "      <th>879270</th>\n",
              "      <td>1830598</td>\n",
              "      <td>2020-12-31</td>\n",
              "      <td>AA</td>\n",
              "      <td>220959</td>\n",
              "      <td>B</td>\n",
              "      <td>2020-12-31</td>\n",
              "      <td>1</td>\n",
              "      <td>SC</td>\n",
              "    </tr>\n",
              "  </tbody>\n",
              "</table>\n",
              "<p>879271 rows × 8 columns</p>\n",
              "</div>"
            ],
            "text/plain": [
              "        USER_ID   JOIN_DATE D_TYPE  STORE_ID GOODS_TYPE        DATE  COUNT  AD1\n",
              "0          2858  2014-01-07     AA      1892          A  2020-01-01      1   GN\n",
              "1          5647  2014-02-14     BB    182009          A  2020-01-01      1    J\n",
              "2         33314  2014-11-20     BB     82431          A  2020-01-01      1   SC\n",
              "3         37001  2014-12-04     BB       725          C  2020-01-01      1   MP\n",
              "4         37819  2014-12-07     AA    220691          C  2020-01-01      1  JRR\n",
              "...         ...         ...    ...       ...        ...         ...    ...  ...\n",
              "879266  1830551  2020-12-31     BB    219886          B  2020-12-31      1   GN\n",
              "879267  1830570  2020-12-31     BB     82433          B  2020-12-31      1   CY\n",
              "879268  1830580  2020-12-31     AA     92020          B  2020-12-31      1  JRR\n",
              "879269  1830589  2020-12-31     BB     92437          B  2020-12-31      1    J\n",
              "879270  1830598  2020-12-31     AA    220959          B  2020-12-31      1   SC\n",
              "\n",
              "[879271 rows x 8 columns]"
            ]
          },
          "metadata": {},
          "execution_count": 4
        }
      ]
    },
    {
      "cell_type": "code",
      "metadata": {
        "colab": {
          "base_uri": "https://localhost:8080/",
          "height": 419
        },
        "id": "uMpeXRTK8Ojr",
        "outputId": "b7949427-d3c3-4321-9c7f-28fcf822aa33"
      },
      "source": [
        "weather_df"
      ],
      "execution_count": null,
      "outputs": [
        {
          "output_type": "execute_result",
          "data": {
            "text/html": [
              "<div>\n",
              "<style scoped>\n",
              "    .dataframe tbody tr th:only-of-type {\n",
              "        vertical-align: middle;\n",
              "    }\n",
              "\n",
              "    .dataframe tbody tr th {\n",
              "        vertical-align: top;\n",
              "    }\n",
              "\n",
              "    .dataframe thead th {\n",
              "        text-align: right;\n",
              "    }\n",
              "</style>\n",
              "<table border=\"1\" class=\"dataframe\">\n",
              "  <thead>\n",
              "    <tr style=\"text-align: right;\">\n",
              "      <th></th>\n",
              "      <th>지점</th>\n",
              "      <th>일시</th>\n",
              "      <th>기온</th>\n",
              "      <th>강수량</th>\n",
              "      <th>풍속</th>\n",
              "      <th>습도</th>\n",
              "      <th>일조시간</th>\n",
              "      <th>적설량</th>\n",
              "      <th>지면온도</th>\n",
              "      <th>지중온도</th>\n",
              "    </tr>\n",
              "  </thead>\n",
              "  <tbody>\n",
              "    <tr>\n",
              "      <th>0</th>\n",
              "      <td>108</td>\n",
              "      <td>2020-01-01 1:00</td>\n",
              "      <td>-5.9</td>\n",
              "      <td>NaN</td>\n",
              "      <td>1.7</td>\n",
              "      <td>40</td>\n",
              "      <td>NaN</td>\n",
              "      <td>NaN</td>\n",
              "      <td>-2.4</td>\n",
              "      <td>3.2</td>\n",
              "    </tr>\n",
              "    <tr>\n",
              "      <th>1</th>\n",
              "      <td>108</td>\n",
              "      <td>2020-01-01 2:00</td>\n",
              "      <td>-5.7</td>\n",
              "      <td>NaN</td>\n",
              "      <td>0.1</td>\n",
              "      <td>42</td>\n",
              "      <td>NaN</td>\n",
              "      <td>NaN</td>\n",
              "      <td>-2.4</td>\n",
              "      <td>3.1</td>\n",
              "    </tr>\n",
              "    <tr>\n",
              "      <th>2</th>\n",
              "      <td>108</td>\n",
              "      <td>2020-01-01 3:00</td>\n",
              "      <td>-5.6</td>\n",
              "      <td>0.0</td>\n",
              "      <td>0.0</td>\n",
              "      <td>46</td>\n",
              "      <td>NaN</td>\n",
              "      <td>NaN</td>\n",
              "      <td>-2.7</td>\n",
              "      <td>3.1</td>\n",
              "    </tr>\n",
              "    <tr>\n",
              "      <th>3</th>\n",
              "      <td>108</td>\n",
              "      <td>2020-01-01 4:00</td>\n",
              "      <td>-5.4</td>\n",
              "      <td>NaN</td>\n",
              "      <td>0.0</td>\n",
              "      <td>50</td>\n",
              "      <td>NaN</td>\n",
              "      <td>NaN</td>\n",
              "      <td>-2.5</td>\n",
              "      <td>3.0</td>\n",
              "    </tr>\n",
              "    <tr>\n",
              "      <th>4</th>\n",
              "      <td>108</td>\n",
              "      <td>2020-01-01 5:00</td>\n",
              "      <td>-5.2</td>\n",
              "      <td>NaN</td>\n",
              "      <td>0.0</td>\n",
              "      <td>55</td>\n",
              "      <td>NaN</td>\n",
              "      <td>NaN</td>\n",
              "      <td>-2.2</td>\n",
              "      <td>3.0</td>\n",
              "    </tr>\n",
              "    <tr>\n",
              "      <th>...</th>\n",
              "      <td>...</td>\n",
              "      <td>...</td>\n",
              "      <td>...</td>\n",
              "      <td>...</td>\n",
              "      <td>...</td>\n",
              "      <td>...</td>\n",
              "      <td>...</td>\n",
              "      <td>...</td>\n",
              "      <td>...</td>\n",
              "      <td>...</td>\n",
              "    </tr>\n",
              "    <tr>\n",
              "      <th>8755</th>\n",
              "      <td>108</td>\n",
              "      <td>2020-12-30 20:00</td>\n",
              "      <td>-11.8</td>\n",
              "      <td>NaN</td>\n",
              "      <td>4.8</td>\n",
              "      <td>54</td>\n",
              "      <td>NaN</td>\n",
              "      <td>NaN</td>\n",
              "      <td>-6.5</td>\n",
              "      <td>2.2</td>\n",
              "    </tr>\n",
              "    <tr>\n",
              "      <th>8756</th>\n",
              "      <td>108</td>\n",
              "      <td>2020-12-30 21:00</td>\n",
              "      <td>-12.4</td>\n",
              "      <td>NaN</td>\n",
              "      <td>3.2</td>\n",
              "      <td>58</td>\n",
              "      <td>NaN</td>\n",
              "      <td>NaN</td>\n",
              "      <td>-6.9</td>\n",
              "      <td>2.2</td>\n",
              "    </tr>\n",
              "    <tr>\n",
              "      <th>8757</th>\n",
              "      <td>108</td>\n",
              "      <td>2020-12-30 22:00</td>\n",
              "      <td>-12.7</td>\n",
              "      <td>NaN</td>\n",
              "      <td>2.8</td>\n",
              "      <td>56</td>\n",
              "      <td>NaN</td>\n",
              "      <td>NaN</td>\n",
              "      <td>-7.1</td>\n",
              "      <td>2.1</td>\n",
              "    </tr>\n",
              "    <tr>\n",
              "      <th>8758</th>\n",
              "      <td>108</td>\n",
              "      <td>2020-12-30 23:00</td>\n",
              "      <td>-12.9</td>\n",
              "      <td>NaN</td>\n",
              "      <td>2.2</td>\n",
              "      <td>54</td>\n",
              "      <td>NaN</td>\n",
              "      <td>NaN</td>\n",
              "      <td>-7.3</td>\n",
              "      <td>2.1</td>\n",
              "    </tr>\n",
              "    <tr>\n",
              "      <th>8759</th>\n",
              "      <td>108</td>\n",
              "      <td>2020-12-31 0:00</td>\n",
              "      <td>-12.7</td>\n",
              "      <td>NaN</td>\n",
              "      <td>3.4</td>\n",
              "      <td>52</td>\n",
              "      <td>NaN</td>\n",
              "      <td>NaN</td>\n",
              "      <td>-7.6</td>\n",
              "      <td>2.1</td>\n",
              "    </tr>\n",
              "  </tbody>\n",
              "</table>\n",
              "<p>8760 rows × 10 columns</p>\n",
              "</div>"
            ],
            "text/plain": [
              "       지점                일시    기온  강수량   풍속  습도  일조시간  적설량  지면온도  지중온도\n",
              "0     108   2020-01-01 1:00  -5.9  NaN  1.7  40   NaN  NaN  -2.4   3.2\n",
              "1     108   2020-01-01 2:00  -5.7  NaN  0.1  42   NaN  NaN  -2.4   3.1\n",
              "2     108   2020-01-01 3:00  -5.6  0.0  0.0  46   NaN  NaN  -2.7   3.1\n",
              "3     108   2020-01-01 4:00  -5.4  NaN  0.0  50   NaN  NaN  -2.5   3.0\n",
              "4     108   2020-01-01 5:00  -5.2  NaN  0.0  55   NaN  NaN  -2.2   3.0\n",
              "...   ...               ...   ...  ...  ...  ..   ...  ...   ...   ...\n",
              "8755  108  2020-12-30 20:00 -11.8  NaN  4.8  54   NaN  NaN  -6.5   2.2\n",
              "8756  108  2020-12-30 21:00 -12.4  NaN  3.2  58   NaN  NaN  -6.9   2.2\n",
              "8757  108  2020-12-30 22:00 -12.7  NaN  2.8  56   NaN  NaN  -7.1   2.1\n",
              "8758  108  2020-12-30 23:00 -12.9  NaN  2.2  54   NaN  NaN  -7.3   2.1\n",
              "8759  108   2020-12-31 0:00 -12.7  NaN  3.4  52   NaN  NaN  -7.6   2.1\n",
              "\n",
              "[8760 rows x 10 columns]"
            ]
          },
          "metadata": {},
          "execution_count": 5
        }
      ]
    },
    {
      "cell_type": "code",
      "metadata": {
        "colab": {
          "base_uri": "https://localhost:8080/"
        },
        "id": "EEkh_eGrAFeW",
        "outputId": "254ea427-eb53-448f-e1af-57f6d5bf28d2"
      },
      "source": [
        "weather_df.isna().sum()"
      ],
      "execution_count": null,
      "outputs": [
        {
          "output_type": "execute_result",
          "data": {
            "text/plain": [
              "지점         0\n",
              "일시         0\n",
              "기온         1\n",
              "강수량     7701\n",
              "풍속         0\n",
              "습도         0\n",
              "일조시간    3969\n",
              "적설량     8552\n",
              "지면온도       8\n",
              "지중온도      12\n",
              "dtype: int64"
            ]
          },
          "metadata": {},
          "execution_count": 6
        }
      ]
    },
    {
      "cell_type": "code",
      "metadata": {
        "colab": {
          "base_uri": "https://localhost:8080/"
        },
        "id": "Jtairl2jDqWk",
        "outputId": "29b49309-f0c1-4bd3-dd3c-6810dde709b9"
      },
      "source": [
        "weather_df['지점'].unique() # 기상청 통계 데이터에서 108은 서울지점을 의미"
      ],
      "execution_count": null,
      "outputs": [
        {
          "output_type": "execute_result",
          "data": {
            "text/plain": [
              "array([108])"
            ]
          },
          "metadata": {},
          "execution_count": 7
        }
      ]
    },
    {
      "cell_type": "code",
      "metadata": {
        "id": "zlTA1Uj9ANbJ"
      },
      "source": [
        "weather_df[\"날짜\"] = weather_df[\"일시\"].astype(str).str[:10]\n",
        "weather_df[\"날짜\"] = pd.to_datetime(weather_df[\"날짜\"])\n",
        "weather_df['월'] = weather_df['날짜'].dt.month\n",
        "\n",
        "w1 = weather_df[weather_df['월']==1]\n",
        "w2 = weather_df[weather_df['월']==2]\n",
        "w3 = weather_df[weather_df['월']==3]\n",
        "w4 = weather_df[weather_df['월']==4]\n",
        "w5 = weather_df[weather_df['월']==5]\n",
        "w6 = weather_df[weather_df['월']==6]\n",
        "w7 = weather_df[weather_df['월']==7]\n",
        "w8 = weather_df[weather_df['월']==8]\n",
        "w9 = weather_df[weather_df['월']==9]\n",
        "w10 = weather_df[weather_df['월']==10]\n",
        "w11 = weather_df[weather_df['월']==11]\n",
        "w12 = weather_df[weather_df['월']==12]"
      ],
      "execution_count": null,
      "outputs": []
    },
    {
      "cell_type": "code",
      "metadata": {
        "colab": {
          "base_uri": "https://localhost:8080/"
        },
        "id": "Asf3yYvDAATU",
        "outputId": "39440472-30b5-4268-de29-786af2c5159f"
      },
      "source": [
        "# 기상청 20년 월별 데이터 평균값으로 채움\n",
        "\n",
        "w1['강수량'] = w1['강수량'].fillna(60.5)\n",
        "w1['일조시간'] = w1['일조시간'].fillna(177.9)\n",
        "w1['적설량'] = w1['적설량'].fillna(0.3)\n",
        "\n",
        "w2['강수량'] = w2['강수량'].fillna(53.1)\n",
        "w2['일조시간'] = w2['일조시간'].fillna(185.0)\n",
        "w2['적설량'] = w2['적설량'].fillna(3.9)\n",
        "w2['지면온도'] = w2['지면온도'].fillna(0.8)\n",
        "w2['지중온도'] = w2['지중온도'].fillna(1.9)\n",
        "\n",
        "w3['강수량'] = w3['강수량'].fillna(16.3)\n",
        "w3['일조시간'] = w3['일조시간'].fillna(262.9)\n",
        "w3['적설량'] = w3['적설량'].fillna(0.0)\n",
        "\n",
        "w4['강수량'] = w4['강수량'].fillna(16.9)\n",
        "w4['일조시간'] = w4['일조시간'].fillna(283.3)\n",
        "w4['적설량'] = w4['적설량'].fillna(0.0)\n",
        "\n",
        "w5['강수량'] = w5['강수량'].fillna(112.4)\n",
        "w5['일조시간'] = w5['일조시간'].fillna(177.9)\n",
        "w5['적설량'] = w5['적설량'].fillna(0.0)\n",
        "w5['지중온도'] = w5['지중온도'].fillna(17.4)\n",
        "\n",
        "w6['강수량'] = w6['강수량'].fillna(139.6)\n",
        "w6['일조시간'] = w6['일조시간'].fillna(206.1)\n",
        "w6['적설량'] = w6['적설량'].fillna(0.0)\n",
        "w6['지면온도'] = w6['지면온도'].fillna(23.9)\n",
        "w6['지중온도'] = w6['지중온도'].fillna(23.9)\n",
        "\n",
        "w7['강수량'] = w7['강수량'].fillna(270.4)\n",
        "w7['일조시간'] = w7['일조시간'].fillna(119.4)\n",
        "w7['적설량'] = w7['적설량'].fillna(0.0)\n",
        "w7['지면온도'] = w7['지면온도'].fillna(26.0)\n",
        "w7['지중온도'] = w7['지중온도'].fillna(22.1)\n",
        "\n",
        "w8['강수량'] = w8['강수량'].fillna(675.7)\n",
        "w8['일조시간'] = w8['일조시간'].fillna(74.7)\n",
        "w8['적설량'] = w8['적설량'].fillna(0.0)\n",
        "w8['지면온도'] = w8['지면온도'].fillna(27.7)\n",
        "w8['지중온도'] = w8['지중온도'].fillna(26.5)\n",
        "w8['기온'] = w8['기온'].fillna(26.5)\n",
        "\n",
        "w9['강수량'] = w9['강수량'].fillna(181.5)\n",
        "w9['일조시간'] = w9['일조시간'].fillna(174.3)\n",
        "w9['적설량'] = w9['적설량'].fillna(0.0)\n",
        "\n",
        "w10['강수량'] = w10['강수량'].fillna(0.0)\n",
        "w10['일조시간'] = w10['일조시간'].fillna(227.1)\n",
        "w10['적설량'] = w10['적설량'].fillna(0.0)\n",
        "\n",
        "w11['강수량'] = w11['강수량'].fillna(120.1)\n",
        "w11['일조시간'] = w11['일조시간'].fillna(171.5)\n",
        "w11['적설량'] = w11['적설량'].fillna(0.0)\n",
        "\n",
        "w12['강수량'] = w12['강수량'].fillna(4.6)\n",
        "w12['일조시간'] = w12['일조시간'].fillna(203.6)\n",
        "w12['적설량'] = w12['적설량'].fillna(3.2)\n"
      ],
      "execution_count": null,
      "outputs": [
        {
          "output_type": "stream",
          "text": [
            "/usr/local/lib/python3.7/dist-packages/ipykernel_launcher.py:3: SettingWithCopyWarning: \n",
            "A value is trying to be set on a copy of a slice from a DataFrame.\n",
            "Try using .loc[row_indexer,col_indexer] = value instead\n",
            "\n",
            "See the caveats in the documentation: https://pandas.pydata.org/pandas-docs/stable/user_guide/indexing.html#returning-a-view-versus-a-copy\n",
            "  This is separate from the ipykernel package so we can avoid doing imports until\n",
            "/usr/local/lib/python3.7/dist-packages/ipykernel_launcher.py:4: SettingWithCopyWarning: \n",
            "A value is trying to be set on a copy of a slice from a DataFrame.\n",
            "Try using .loc[row_indexer,col_indexer] = value instead\n",
            "\n",
            "See the caveats in the documentation: https://pandas.pydata.org/pandas-docs/stable/user_guide/indexing.html#returning-a-view-versus-a-copy\n",
            "  after removing the cwd from sys.path.\n",
            "/usr/local/lib/python3.7/dist-packages/ipykernel_launcher.py:5: SettingWithCopyWarning: \n",
            "A value is trying to be set on a copy of a slice from a DataFrame.\n",
            "Try using .loc[row_indexer,col_indexer] = value instead\n",
            "\n",
            "See the caveats in the documentation: https://pandas.pydata.org/pandas-docs/stable/user_guide/indexing.html#returning-a-view-versus-a-copy\n",
            "  \"\"\"\n",
            "/usr/local/lib/python3.7/dist-packages/ipykernel_launcher.py:7: SettingWithCopyWarning: \n",
            "A value is trying to be set on a copy of a slice from a DataFrame.\n",
            "Try using .loc[row_indexer,col_indexer] = value instead\n",
            "\n",
            "See the caveats in the documentation: https://pandas.pydata.org/pandas-docs/stable/user_guide/indexing.html#returning-a-view-versus-a-copy\n",
            "  import sys\n",
            "/usr/local/lib/python3.7/dist-packages/ipykernel_launcher.py:8: SettingWithCopyWarning: \n",
            "A value is trying to be set on a copy of a slice from a DataFrame.\n",
            "Try using .loc[row_indexer,col_indexer] = value instead\n",
            "\n",
            "See the caveats in the documentation: https://pandas.pydata.org/pandas-docs/stable/user_guide/indexing.html#returning-a-view-versus-a-copy\n",
            "  \n",
            "/usr/local/lib/python3.7/dist-packages/ipykernel_launcher.py:9: SettingWithCopyWarning: \n",
            "A value is trying to be set on a copy of a slice from a DataFrame.\n",
            "Try using .loc[row_indexer,col_indexer] = value instead\n",
            "\n",
            "See the caveats in the documentation: https://pandas.pydata.org/pandas-docs/stable/user_guide/indexing.html#returning-a-view-versus-a-copy\n",
            "  if __name__ == '__main__':\n",
            "/usr/local/lib/python3.7/dist-packages/ipykernel_launcher.py:10: SettingWithCopyWarning: \n",
            "A value is trying to be set on a copy of a slice from a DataFrame.\n",
            "Try using .loc[row_indexer,col_indexer] = value instead\n",
            "\n",
            "See the caveats in the documentation: https://pandas.pydata.org/pandas-docs/stable/user_guide/indexing.html#returning-a-view-versus-a-copy\n",
            "  # Remove the CWD from sys.path while we load stuff.\n",
            "/usr/local/lib/python3.7/dist-packages/ipykernel_launcher.py:11: SettingWithCopyWarning: \n",
            "A value is trying to be set on a copy of a slice from a DataFrame.\n",
            "Try using .loc[row_indexer,col_indexer] = value instead\n",
            "\n",
            "See the caveats in the documentation: https://pandas.pydata.org/pandas-docs/stable/user_guide/indexing.html#returning-a-view-versus-a-copy\n",
            "  # This is added back by InteractiveShellApp.init_path()\n",
            "/usr/local/lib/python3.7/dist-packages/ipykernel_launcher.py:13: SettingWithCopyWarning: \n",
            "A value is trying to be set on a copy of a slice from a DataFrame.\n",
            "Try using .loc[row_indexer,col_indexer] = value instead\n",
            "\n",
            "See the caveats in the documentation: https://pandas.pydata.org/pandas-docs/stable/user_guide/indexing.html#returning-a-view-versus-a-copy\n",
            "  del sys.path[0]\n",
            "/usr/local/lib/python3.7/dist-packages/ipykernel_launcher.py:14: SettingWithCopyWarning: \n",
            "A value is trying to be set on a copy of a slice from a DataFrame.\n",
            "Try using .loc[row_indexer,col_indexer] = value instead\n",
            "\n",
            "See the caveats in the documentation: https://pandas.pydata.org/pandas-docs/stable/user_guide/indexing.html#returning-a-view-versus-a-copy\n",
            "  \n",
            "/usr/local/lib/python3.7/dist-packages/ipykernel_launcher.py:15: SettingWithCopyWarning: \n",
            "A value is trying to be set on a copy of a slice from a DataFrame.\n",
            "Try using .loc[row_indexer,col_indexer] = value instead\n",
            "\n",
            "See the caveats in the documentation: https://pandas.pydata.org/pandas-docs/stable/user_guide/indexing.html#returning-a-view-versus-a-copy\n",
            "  from ipykernel import kernelapp as app\n",
            "/usr/local/lib/python3.7/dist-packages/ipykernel_launcher.py:17: SettingWithCopyWarning: \n",
            "A value is trying to be set on a copy of a slice from a DataFrame.\n",
            "Try using .loc[row_indexer,col_indexer] = value instead\n",
            "\n",
            "See the caveats in the documentation: https://pandas.pydata.org/pandas-docs/stable/user_guide/indexing.html#returning-a-view-versus-a-copy\n",
            "/usr/local/lib/python3.7/dist-packages/ipykernel_launcher.py:18: SettingWithCopyWarning: \n",
            "A value is trying to be set on a copy of a slice from a DataFrame.\n",
            "Try using .loc[row_indexer,col_indexer] = value instead\n",
            "\n",
            "See the caveats in the documentation: https://pandas.pydata.org/pandas-docs/stable/user_guide/indexing.html#returning-a-view-versus-a-copy\n",
            "/usr/local/lib/python3.7/dist-packages/ipykernel_launcher.py:19: SettingWithCopyWarning: \n",
            "A value is trying to be set on a copy of a slice from a DataFrame.\n",
            "Try using .loc[row_indexer,col_indexer] = value instead\n",
            "\n",
            "See the caveats in the documentation: https://pandas.pydata.org/pandas-docs/stable/user_guide/indexing.html#returning-a-view-versus-a-copy\n",
            "/usr/local/lib/python3.7/dist-packages/ipykernel_launcher.py:21: SettingWithCopyWarning: \n",
            "A value is trying to be set on a copy of a slice from a DataFrame.\n",
            "Try using .loc[row_indexer,col_indexer] = value instead\n",
            "\n",
            "See the caveats in the documentation: https://pandas.pydata.org/pandas-docs/stable/user_guide/indexing.html#returning-a-view-versus-a-copy\n",
            "/usr/local/lib/python3.7/dist-packages/ipykernel_launcher.py:22: SettingWithCopyWarning: \n",
            "A value is trying to be set on a copy of a slice from a DataFrame.\n",
            "Try using .loc[row_indexer,col_indexer] = value instead\n",
            "\n",
            "See the caveats in the documentation: https://pandas.pydata.org/pandas-docs/stable/user_guide/indexing.html#returning-a-view-versus-a-copy\n",
            "/usr/local/lib/python3.7/dist-packages/ipykernel_launcher.py:23: SettingWithCopyWarning: \n",
            "A value is trying to be set on a copy of a slice from a DataFrame.\n",
            "Try using .loc[row_indexer,col_indexer] = value instead\n",
            "\n",
            "See the caveats in the documentation: https://pandas.pydata.org/pandas-docs/stable/user_guide/indexing.html#returning-a-view-versus-a-copy\n",
            "/usr/local/lib/python3.7/dist-packages/ipykernel_launcher.py:24: SettingWithCopyWarning: \n",
            "A value is trying to be set on a copy of a slice from a DataFrame.\n",
            "Try using .loc[row_indexer,col_indexer] = value instead\n",
            "\n",
            "See the caveats in the documentation: https://pandas.pydata.org/pandas-docs/stable/user_guide/indexing.html#returning-a-view-versus-a-copy\n",
            "/usr/local/lib/python3.7/dist-packages/ipykernel_launcher.py:26: SettingWithCopyWarning: \n",
            "A value is trying to be set on a copy of a slice from a DataFrame.\n",
            "Try using .loc[row_indexer,col_indexer] = value instead\n",
            "\n",
            "See the caveats in the documentation: https://pandas.pydata.org/pandas-docs/stable/user_guide/indexing.html#returning-a-view-versus-a-copy\n",
            "/usr/local/lib/python3.7/dist-packages/ipykernel_launcher.py:27: SettingWithCopyWarning: \n",
            "A value is trying to be set on a copy of a slice from a DataFrame.\n",
            "Try using .loc[row_indexer,col_indexer] = value instead\n",
            "\n",
            "See the caveats in the documentation: https://pandas.pydata.org/pandas-docs/stable/user_guide/indexing.html#returning-a-view-versus-a-copy\n",
            "/usr/local/lib/python3.7/dist-packages/ipykernel_launcher.py:28: SettingWithCopyWarning: \n",
            "A value is trying to be set on a copy of a slice from a DataFrame.\n",
            "Try using .loc[row_indexer,col_indexer] = value instead\n",
            "\n",
            "See the caveats in the documentation: https://pandas.pydata.org/pandas-docs/stable/user_guide/indexing.html#returning-a-view-versus-a-copy\n",
            "/usr/local/lib/python3.7/dist-packages/ipykernel_launcher.py:29: SettingWithCopyWarning: \n",
            "A value is trying to be set on a copy of a slice from a DataFrame.\n",
            "Try using .loc[row_indexer,col_indexer] = value instead\n",
            "\n",
            "See the caveats in the documentation: https://pandas.pydata.org/pandas-docs/stable/user_guide/indexing.html#returning-a-view-versus-a-copy\n",
            "/usr/local/lib/python3.7/dist-packages/ipykernel_launcher.py:30: SettingWithCopyWarning: \n",
            "A value is trying to be set on a copy of a slice from a DataFrame.\n",
            "Try using .loc[row_indexer,col_indexer] = value instead\n",
            "\n",
            "See the caveats in the documentation: https://pandas.pydata.org/pandas-docs/stable/user_guide/indexing.html#returning-a-view-versus-a-copy\n",
            "/usr/local/lib/python3.7/dist-packages/ipykernel_launcher.py:32: SettingWithCopyWarning: \n",
            "A value is trying to be set on a copy of a slice from a DataFrame.\n",
            "Try using .loc[row_indexer,col_indexer] = value instead\n",
            "\n",
            "See the caveats in the documentation: https://pandas.pydata.org/pandas-docs/stable/user_guide/indexing.html#returning-a-view-versus-a-copy\n",
            "/usr/local/lib/python3.7/dist-packages/ipykernel_launcher.py:33: SettingWithCopyWarning: \n",
            "A value is trying to be set on a copy of a slice from a DataFrame.\n",
            "Try using .loc[row_indexer,col_indexer] = value instead\n",
            "\n",
            "See the caveats in the documentation: https://pandas.pydata.org/pandas-docs/stable/user_guide/indexing.html#returning-a-view-versus-a-copy\n",
            "/usr/local/lib/python3.7/dist-packages/ipykernel_launcher.py:34: SettingWithCopyWarning: \n",
            "A value is trying to be set on a copy of a slice from a DataFrame.\n",
            "Try using .loc[row_indexer,col_indexer] = value instead\n",
            "\n",
            "See the caveats in the documentation: https://pandas.pydata.org/pandas-docs/stable/user_guide/indexing.html#returning-a-view-versus-a-copy\n",
            "/usr/local/lib/python3.7/dist-packages/ipykernel_launcher.py:35: SettingWithCopyWarning: \n",
            "A value is trying to be set on a copy of a slice from a DataFrame.\n",
            "Try using .loc[row_indexer,col_indexer] = value instead\n",
            "\n",
            "See the caveats in the documentation: https://pandas.pydata.org/pandas-docs/stable/user_guide/indexing.html#returning-a-view-versus-a-copy\n",
            "/usr/local/lib/python3.7/dist-packages/ipykernel_launcher.py:36: SettingWithCopyWarning: \n",
            "A value is trying to be set on a copy of a slice from a DataFrame.\n",
            "Try using .loc[row_indexer,col_indexer] = value instead\n",
            "\n",
            "See the caveats in the documentation: https://pandas.pydata.org/pandas-docs/stable/user_guide/indexing.html#returning-a-view-versus-a-copy\n",
            "/usr/local/lib/python3.7/dist-packages/ipykernel_launcher.py:38: SettingWithCopyWarning: \n",
            "A value is trying to be set on a copy of a slice from a DataFrame.\n",
            "Try using .loc[row_indexer,col_indexer] = value instead\n",
            "\n",
            "See the caveats in the documentation: https://pandas.pydata.org/pandas-docs/stable/user_guide/indexing.html#returning-a-view-versus-a-copy\n",
            "/usr/local/lib/python3.7/dist-packages/ipykernel_launcher.py:39: SettingWithCopyWarning: \n",
            "A value is trying to be set on a copy of a slice from a DataFrame.\n",
            "Try using .loc[row_indexer,col_indexer] = value instead\n",
            "\n",
            "See the caveats in the documentation: https://pandas.pydata.org/pandas-docs/stable/user_guide/indexing.html#returning-a-view-versus-a-copy\n",
            "/usr/local/lib/python3.7/dist-packages/ipykernel_launcher.py:40: SettingWithCopyWarning: \n",
            "A value is trying to be set on a copy of a slice from a DataFrame.\n",
            "Try using .loc[row_indexer,col_indexer] = value instead\n",
            "\n",
            "See the caveats in the documentation: https://pandas.pydata.org/pandas-docs/stable/user_guide/indexing.html#returning-a-view-versus-a-copy\n",
            "/usr/local/lib/python3.7/dist-packages/ipykernel_launcher.py:41: SettingWithCopyWarning: \n",
            "A value is trying to be set on a copy of a slice from a DataFrame.\n",
            "Try using .loc[row_indexer,col_indexer] = value instead\n",
            "\n",
            "See the caveats in the documentation: https://pandas.pydata.org/pandas-docs/stable/user_guide/indexing.html#returning-a-view-versus-a-copy\n",
            "/usr/local/lib/python3.7/dist-packages/ipykernel_launcher.py:42: SettingWithCopyWarning: \n",
            "A value is trying to be set on a copy of a slice from a DataFrame.\n",
            "Try using .loc[row_indexer,col_indexer] = value instead\n",
            "\n",
            "See the caveats in the documentation: https://pandas.pydata.org/pandas-docs/stable/user_guide/indexing.html#returning-a-view-versus-a-copy\n",
            "/usr/local/lib/python3.7/dist-packages/ipykernel_launcher.py:43: SettingWithCopyWarning: \n",
            "A value is trying to be set on a copy of a slice from a DataFrame.\n",
            "Try using .loc[row_indexer,col_indexer] = value instead\n",
            "\n",
            "See the caveats in the documentation: https://pandas.pydata.org/pandas-docs/stable/user_guide/indexing.html#returning-a-view-versus-a-copy\n",
            "/usr/local/lib/python3.7/dist-packages/ipykernel_launcher.py:45: SettingWithCopyWarning: \n",
            "A value is trying to be set on a copy of a slice from a DataFrame.\n",
            "Try using .loc[row_indexer,col_indexer] = value instead\n",
            "\n",
            "See the caveats in the documentation: https://pandas.pydata.org/pandas-docs/stable/user_guide/indexing.html#returning-a-view-versus-a-copy\n",
            "/usr/local/lib/python3.7/dist-packages/ipykernel_launcher.py:46: SettingWithCopyWarning: \n",
            "A value is trying to be set on a copy of a slice from a DataFrame.\n",
            "Try using .loc[row_indexer,col_indexer] = value instead\n",
            "\n",
            "See the caveats in the documentation: https://pandas.pydata.org/pandas-docs/stable/user_guide/indexing.html#returning-a-view-versus-a-copy\n",
            "/usr/local/lib/python3.7/dist-packages/ipykernel_launcher.py:47: SettingWithCopyWarning: \n",
            "A value is trying to be set on a copy of a slice from a DataFrame.\n",
            "Try using .loc[row_indexer,col_indexer] = value instead\n",
            "\n",
            "See the caveats in the documentation: https://pandas.pydata.org/pandas-docs/stable/user_guide/indexing.html#returning-a-view-versus-a-copy\n",
            "/usr/local/lib/python3.7/dist-packages/ipykernel_launcher.py:49: SettingWithCopyWarning: \n",
            "A value is trying to be set on a copy of a slice from a DataFrame.\n",
            "Try using .loc[row_indexer,col_indexer] = value instead\n",
            "\n",
            "See the caveats in the documentation: https://pandas.pydata.org/pandas-docs/stable/user_guide/indexing.html#returning-a-view-versus-a-copy\n",
            "/usr/local/lib/python3.7/dist-packages/ipykernel_launcher.py:50: SettingWithCopyWarning: \n",
            "A value is trying to be set on a copy of a slice from a DataFrame.\n",
            "Try using .loc[row_indexer,col_indexer] = value instead\n",
            "\n",
            "See the caveats in the documentation: https://pandas.pydata.org/pandas-docs/stable/user_guide/indexing.html#returning-a-view-versus-a-copy\n",
            "/usr/local/lib/python3.7/dist-packages/ipykernel_launcher.py:51: SettingWithCopyWarning: \n",
            "A value is trying to be set on a copy of a slice from a DataFrame.\n",
            "Try using .loc[row_indexer,col_indexer] = value instead\n",
            "\n",
            "See the caveats in the documentation: https://pandas.pydata.org/pandas-docs/stable/user_guide/indexing.html#returning-a-view-versus-a-copy\n",
            "/usr/local/lib/python3.7/dist-packages/ipykernel_launcher.py:53: SettingWithCopyWarning: \n",
            "A value is trying to be set on a copy of a slice from a DataFrame.\n",
            "Try using .loc[row_indexer,col_indexer] = value instead\n",
            "\n",
            "See the caveats in the documentation: https://pandas.pydata.org/pandas-docs/stable/user_guide/indexing.html#returning-a-view-versus-a-copy\n",
            "/usr/local/lib/python3.7/dist-packages/ipykernel_launcher.py:54: SettingWithCopyWarning: \n",
            "A value is trying to be set on a copy of a slice from a DataFrame.\n",
            "Try using .loc[row_indexer,col_indexer] = value instead\n",
            "\n",
            "See the caveats in the documentation: https://pandas.pydata.org/pandas-docs/stable/user_guide/indexing.html#returning-a-view-versus-a-copy\n",
            "/usr/local/lib/python3.7/dist-packages/ipykernel_launcher.py:55: SettingWithCopyWarning: \n",
            "A value is trying to be set on a copy of a slice from a DataFrame.\n",
            "Try using .loc[row_indexer,col_indexer] = value instead\n",
            "\n",
            "See the caveats in the documentation: https://pandas.pydata.org/pandas-docs/stable/user_guide/indexing.html#returning-a-view-versus-a-copy\n",
            "/usr/local/lib/python3.7/dist-packages/ipykernel_launcher.py:57: SettingWithCopyWarning: \n",
            "A value is trying to be set on a copy of a slice from a DataFrame.\n",
            "Try using .loc[row_indexer,col_indexer] = value instead\n",
            "\n",
            "See the caveats in the documentation: https://pandas.pydata.org/pandas-docs/stable/user_guide/indexing.html#returning-a-view-versus-a-copy\n",
            "/usr/local/lib/python3.7/dist-packages/ipykernel_launcher.py:58: SettingWithCopyWarning: \n",
            "A value is trying to be set on a copy of a slice from a DataFrame.\n",
            "Try using .loc[row_indexer,col_indexer] = value instead\n",
            "\n",
            "See the caveats in the documentation: https://pandas.pydata.org/pandas-docs/stable/user_guide/indexing.html#returning-a-view-versus-a-copy\n",
            "/usr/local/lib/python3.7/dist-packages/ipykernel_launcher.py:59: SettingWithCopyWarning: \n",
            "A value is trying to be set on a copy of a slice from a DataFrame.\n",
            "Try using .loc[row_indexer,col_indexer] = value instead\n",
            "\n",
            "See the caveats in the documentation: https://pandas.pydata.org/pandas-docs/stable/user_guide/indexing.html#returning-a-view-versus-a-copy\n"
          ],
          "name": "stderr"
        }
      ]
    },
    {
      "cell_type": "code",
      "metadata": {
        "colab": {
          "base_uri": "https://localhost:8080/",
          "height": 419
        },
        "id": "Lzjd624SKI79",
        "outputId": "6a13e392-22ca-4304-faa5-fcb0c050ef23"
      },
      "source": [
        "weather = pd.concat([w1,w2,w3,w4,w5,w6,w7,w8,w9,w10,w11,w12])\n",
        "weather"
      ],
      "execution_count": null,
      "outputs": [
        {
          "output_type": "execute_result",
          "data": {
            "text/html": [
              "<div>\n",
              "<style scoped>\n",
              "    .dataframe tbody tr th:only-of-type {\n",
              "        vertical-align: middle;\n",
              "    }\n",
              "\n",
              "    .dataframe tbody tr th {\n",
              "        vertical-align: top;\n",
              "    }\n",
              "\n",
              "    .dataframe thead th {\n",
              "        text-align: right;\n",
              "    }\n",
              "</style>\n",
              "<table border=\"1\" class=\"dataframe\">\n",
              "  <thead>\n",
              "    <tr style=\"text-align: right;\">\n",
              "      <th></th>\n",
              "      <th>지점</th>\n",
              "      <th>일시</th>\n",
              "      <th>기온</th>\n",
              "      <th>강수량</th>\n",
              "      <th>풍속</th>\n",
              "      <th>습도</th>\n",
              "      <th>일조시간</th>\n",
              "      <th>적설량</th>\n",
              "      <th>지면온도</th>\n",
              "      <th>지중온도</th>\n",
              "      <th>날짜</th>\n",
              "      <th>월</th>\n",
              "    </tr>\n",
              "  </thead>\n",
              "  <tbody>\n",
              "    <tr>\n",
              "      <th>0</th>\n",
              "      <td>108</td>\n",
              "      <td>2020-01-01 1:00</td>\n",
              "      <td>-5.9</td>\n",
              "      <td>60.5</td>\n",
              "      <td>1.7</td>\n",
              "      <td>40</td>\n",
              "      <td>177.9</td>\n",
              "      <td>0.3</td>\n",
              "      <td>-2.4</td>\n",
              "      <td>3.2</td>\n",
              "      <td>2020-01-01</td>\n",
              "      <td>1</td>\n",
              "    </tr>\n",
              "    <tr>\n",
              "      <th>1</th>\n",
              "      <td>108</td>\n",
              "      <td>2020-01-01 2:00</td>\n",
              "      <td>-5.7</td>\n",
              "      <td>60.5</td>\n",
              "      <td>0.1</td>\n",
              "      <td>42</td>\n",
              "      <td>177.9</td>\n",
              "      <td>0.3</td>\n",
              "      <td>-2.4</td>\n",
              "      <td>3.1</td>\n",
              "      <td>2020-01-01</td>\n",
              "      <td>1</td>\n",
              "    </tr>\n",
              "    <tr>\n",
              "      <th>2</th>\n",
              "      <td>108</td>\n",
              "      <td>2020-01-01 3:00</td>\n",
              "      <td>-5.6</td>\n",
              "      <td>0.0</td>\n",
              "      <td>0.0</td>\n",
              "      <td>46</td>\n",
              "      <td>177.9</td>\n",
              "      <td>0.3</td>\n",
              "      <td>-2.7</td>\n",
              "      <td>3.1</td>\n",
              "      <td>2020-01-01</td>\n",
              "      <td>1</td>\n",
              "    </tr>\n",
              "    <tr>\n",
              "      <th>3</th>\n",
              "      <td>108</td>\n",
              "      <td>2020-01-01 4:00</td>\n",
              "      <td>-5.4</td>\n",
              "      <td>60.5</td>\n",
              "      <td>0.0</td>\n",
              "      <td>50</td>\n",
              "      <td>177.9</td>\n",
              "      <td>0.3</td>\n",
              "      <td>-2.5</td>\n",
              "      <td>3.0</td>\n",
              "      <td>2020-01-01</td>\n",
              "      <td>1</td>\n",
              "    </tr>\n",
              "    <tr>\n",
              "      <th>4</th>\n",
              "      <td>108</td>\n",
              "      <td>2020-01-01 5:00</td>\n",
              "      <td>-5.2</td>\n",
              "      <td>60.5</td>\n",
              "      <td>0.0</td>\n",
              "      <td>55</td>\n",
              "      <td>177.9</td>\n",
              "      <td>0.3</td>\n",
              "      <td>-2.2</td>\n",
              "      <td>3.0</td>\n",
              "      <td>2020-01-01</td>\n",
              "      <td>1</td>\n",
              "    </tr>\n",
              "    <tr>\n",
              "      <th>...</th>\n",
              "      <td>...</td>\n",
              "      <td>...</td>\n",
              "      <td>...</td>\n",
              "      <td>...</td>\n",
              "      <td>...</td>\n",
              "      <td>...</td>\n",
              "      <td>...</td>\n",
              "      <td>...</td>\n",
              "      <td>...</td>\n",
              "      <td>...</td>\n",
              "      <td>...</td>\n",
              "      <td>...</td>\n",
              "    </tr>\n",
              "    <tr>\n",
              "      <th>8755</th>\n",
              "      <td>108</td>\n",
              "      <td>2020-12-30 20:00</td>\n",
              "      <td>-11.8</td>\n",
              "      <td>4.6</td>\n",
              "      <td>4.8</td>\n",
              "      <td>54</td>\n",
              "      <td>203.6</td>\n",
              "      <td>3.2</td>\n",
              "      <td>-6.5</td>\n",
              "      <td>2.2</td>\n",
              "      <td>2020-12-30</td>\n",
              "      <td>12</td>\n",
              "    </tr>\n",
              "    <tr>\n",
              "      <th>8756</th>\n",
              "      <td>108</td>\n",
              "      <td>2020-12-30 21:00</td>\n",
              "      <td>-12.4</td>\n",
              "      <td>4.6</td>\n",
              "      <td>3.2</td>\n",
              "      <td>58</td>\n",
              "      <td>203.6</td>\n",
              "      <td>3.2</td>\n",
              "      <td>-6.9</td>\n",
              "      <td>2.2</td>\n",
              "      <td>2020-12-30</td>\n",
              "      <td>12</td>\n",
              "    </tr>\n",
              "    <tr>\n",
              "      <th>8757</th>\n",
              "      <td>108</td>\n",
              "      <td>2020-12-30 22:00</td>\n",
              "      <td>-12.7</td>\n",
              "      <td>4.6</td>\n",
              "      <td>2.8</td>\n",
              "      <td>56</td>\n",
              "      <td>203.6</td>\n",
              "      <td>3.2</td>\n",
              "      <td>-7.1</td>\n",
              "      <td>2.1</td>\n",
              "      <td>2020-12-30</td>\n",
              "      <td>12</td>\n",
              "    </tr>\n",
              "    <tr>\n",
              "      <th>8758</th>\n",
              "      <td>108</td>\n",
              "      <td>2020-12-30 23:00</td>\n",
              "      <td>-12.9</td>\n",
              "      <td>4.6</td>\n",
              "      <td>2.2</td>\n",
              "      <td>54</td>\n",
              "      <td>203.6</td>\n",
              "      <td>3.2</td>\n",
              "      <td>-7.3</td>\n",
              "      <td>2.1</td>\n",
              "      <td>2020-12-30</td>\n",
              "      <td>12</td>\n",
              "    </tr>\n",
              "    <tr>\n",
              "      <th>8759</th>\n",
              "      <td>108</td>\n",
              "      <td>2020-12-31 0:00</td>\n",
              "      <td>-12.7</td>\n",
              "      <td>4.6</td>\n",
              "      <td>3.4</td>\n",
              "      <td>52</td>\n",
              "      <td>203.6</td>\n",
              "      <td>3.2</td>\n",
              "      <td>-7.6</td>\n",
              "      <td>2.1</td>\n",
              "      <td>2020-12-31</td>\n",
              "      <td>12</td>\n",
              "    </tr>\n",
              "  </tbody>\n",
              "</table>\n",
              "<p>8760 rows × 12 columns</p>\n",
              "</div>"
            ],
            "text/plain": [
              "       지점                일시    기온   강수량   풍속  ...  적설량  지면온도  지중온도         날짜   월\n",
              "0     108   2020-01-01 1:00  -5.9  60.5  1.7  ...  0.3  -2.4   3.2 2020-01-01   1\n",
              "1     108   2020-01-01 2:00  -5.7  60.5  0.1  ...  0.3  -2.4   3.1 2020-01-01   1\n",
              "2     108   2020-01-01 3:00  -5.6   0.0  0.0  ...  0.3  -2.7   3.1 2020-01-01   1\n",
              "3     108   2020-01-01 4:00  -5.4  60.5  0.0  ...  0.3  -2.5   3.0 2020-01-01   1\n",
              "4     108   2020-01-01 5:00  -5.2  60.5  0.0  ...  0.3  -2.2   3.0 2020-01-01   1\n",
              "...   ...               ...   ...   ...  ...  ...  ...   ...   ...        ...  ..\n",
              "8755  108  2020-12-30 20:00 -11.8   4.6  4.8  ...  3.2  -6.5   2.2 2020-12-30  12\n",
              "8756  108  2020-12-30 21:00 -12.4   4.6  3.2  ...  3.2  -6.9   2.2 2020-12-30  12\n",
              "8757  108  2020-12-30 22:00 -12.7   4.6  2.8  ...  3.2  -7.1   2.1 2020-12-30  12\n",
              "8758  108  2020-12-30 23:00 -12.9   4.6  2.2  ...  3.2  -7.3   2.1 2020-12-30  12\n",
              "8759  108   2020-12-31 0:00 -12.7   4.6  3.4  ...  3.2  -7.6   2.1 2020-12-31  12\n",
              "\n",
              "[8760 rows x 12 columns]"
            ]
          },
          "metadata": {},
          "execution_count": 18
        }
      ]
    },
    {
      "cell_type": "code",
      "metadata": {
        "colab": {
          "base_uri": "https://localhost:8080/"
        },
        "id": "SlsWXhFIKZ8p",
        "outputId": "ea37c81e-df9d-4ea3-b652-ccd20778a8a3"
      },
      "source": [
        "weather.isna().sum()"
      ],
      "execution_count": null,
      "outputs": [
        {
          "output_type": "execute_result",
          "data": {
            "text/plain": [
              "지점      0\n",
              "일시      0\n",
              "기온      0\n",
              "강수량     0\n",
              "풍속      0\n",
              "습도      0\n",
              "일조시간    0\n",
              "적설량     0\n",
              "지면온도    0\n",
              "지중온도    0\n",
              "날짜      0\n",
              "월       0\n",
              "dtype: int64"
            ]
          },
          "metadata": {},
          "execution_count": 19
        }
      ]
    },
    {
      "cell_type": "code",
      "metadata": {
        "colab": {
          "base_uri": "https://localhost:8080/",
          "height": 252
        },
        "id": "wOYdeOpXAAOA",
        "outputId": "d45f464c-a187-4bc5-b3ae-0b9b60d566e1"
      },
      "source": [
        "daily_weather = weather.groupby(\"날짜\").mean().drop('지점', axis=1)\n",
        "print(daily_weather.shape) #2020년은 2월 29일이 있었으므로 366 row (o)\n",
        "daily_weather.head()"
      ],
      "execution_count": null,
      "outputs": [
        {
          "output_type": "stream",
          "text": [
            "(366, 9)\n"
          ],
          "name": "stdout"
        },
        {
          "output_type": "execute_result",
          "data": {
            "text/html": [
              "<div>\n",
              "<style scoped>\n",
              "    .dataframe tbody tr th:only-of-type {\n",
              "        vertical-align: middle;\n",
              "    }\n",
              "\n",
              "    .dataframe tbody tr th {\n",
              "        vertical-align: top;\n",
              "    }\n",
              "\n",
              "    .dataframe thead th {\n",
              "        text-align: right;\n",
              "    }\n",
              "</style>\n",
              "<table border=\"1\" class=\"dataframe\">\n",
              "  <thead>\n",
              "    <tr style=\"text-align: right;\">\n",
              "      <th></th>\n",
              "      <th>기온</th>\n",
              "      <th>강수량</th>\n",
              "      <th>풍속</th>\n",
              "      <th>습도</th>\n",
              "      <th>일조시간</th>\n",
              "      <th>적설량</th>\n",
              "      <th>지면온도</th>\n",
              "      <th>지중온도</th>\n",
              "      <th>월</th>\n",
              "    </tr>\n",
              "    <tr>\n",
              "      <th>날짜</th>\n",
              "      <th></th>\n",
              "      <th></th>\n",
              "      <th></th>\n",
              "      <th></th>\n",
              "      <th></th>\n",
              "      <th></th>\n",
              "      <th></th>\n",
              "      <th></th>\n",
              "      <th></th>\n",
              "    </tr>\n",
              "  </thead>\n",
              "  <tbody>\n",
              "    <tr>\n",
              "      <th>2020-01-01</th>\n",
              "      <td>-2.543478</td>\n",
              "      <td>49.982609</td>\n",
              "      <td>1.152174</td>\n",
              "      <td>62.739130</td>\n",
              "      <td>92.852174</td>\n",
              "      <td>0.286957</td>\n",
              "      <td>-0.917391</td>\n",
              "      <td>2.856522</td>\n",
              "      <td>1.0</td>\n",
              "    </tr>\n",
              "    <tr>\n",
              "      <th>2020-01-02</th>\n",
              "      <td>0.987500</td>\n",
              "      <td>60.500000</td>\n",
              "      <td>1.912500</td>\n",
              "      <td>64.875000</td>\n",
              "      <td>96.362500</td>\n",
              "      <td>0.300000</td>\n",
              "      <td>-0.020833</td>\n",
              "      <td>2.625000</td>\n",
              "      <td>1.0</td>\n",
              "    </tr>\n",
              "    <tr>\n",
              "      <th>2020-01-03</th>\n",
              "      <td>0.120833</td>\n",
              "      <td>60.500000</td>\n",
              "      <td>1.879167</td>\n",
              "      <td>57.833333</td>\n",
              "      <td>96.729167</td>\n",
              "      <td>0.300000</td>\n",
              "      <td>-0.554167</td>\n",
              "      <td>2.683333</td>\n",
              "      <td>1.0</td>\n",
              "    </tr>\n",
              "    <tr>\n",
              "      <th>2020-01-04</th>\n",
              "      <td>1.054167</td>\n",
              "      <td>60.500000</td>\n",
              "      <td>1.895833</td>\n",
              "      <td>50.875000</td>\n",
              "      <td>96.691667</td>\n",
              "      <td>0.300000</td>\n",
              "      <td>-0.395833</td>\n",
              "      <td>2.695833</td>\n",
              "      <td>1.0</td>\n",
              "    </tr>\n",
              "    <tr>\n",
              "      <th>2020-01-05</th>\n",
              "      <td>1.175000</td>\n",
              "      <td>60.500000</td>\n",
              "      <td>1.045833</td>\n",
              "      <td>45.666667</td>\n",
              "      <td>96.658333</td>\n",
              "      <td>0.300000</td>\n",
              "      <td>-0.737500</td>\n",
              "      <td>2.629167</td>\n",
              "      <td>1.0</td>\n",
              "    </tr>\n",
              "  </tbody>\n",
              "</table>\n",
              "</div>"
            ],
            "text/plain": [
              "                  기온        강수량        풍속  ...      지면온도      지중온도    월\n",
              "날짜                                         ...                         \n",
              "2020-01-01 -2.543478  49.982609  1.152174  ... -0.917391  2.856522  1.0\n",
              "2020-01-02  0.987500  60.500000  1.912500  ... -0.020833  2.625000  1.0\n",
              "2020-01-03  0.120833  60.500000  1.879167  ... -0.554167  2.683333  1.0\n",
              "2020-01-04  1.054167  60.500000  1.895833  ... -0.395833  2.695833  1.0\n",
              "2020-01-05  1.175000  60.500000  1.045833  ... -0.737500  2.629167  1.0\n",
              "\n",
              "[5 rows x 9 columns]"
            ]
          },
          "metadata": {},
          "execution_count": 20
        }
      ]
    },
    {
      "cell_type": "code",
      "metadata": {
        "colab": {
          "base_uri": "https://localhost:8080/"
        },
        "id": "ARCJv7T5-86c",
        "outputId": "aedc8d23-fbca-44ec-ebca-b4de25ba1031"
      },
      "source": [
        "print(traffic.shape)\n",
        "traffic.isna().sum()"
      ],
      "execution_count": null,
      "outputs": [
        {
          "output_type": "stream",
          "text": [
            "(98820, 29)\n"
          ],
          "name": "stdout"
        },
        {
          "output_type": "execute_result",
          "data": {
            "text/plain": [
              "DATE       0\n",
              "지점명        0\n",
              "지점번호       0\n",
              "방향         0\n",
              "구분         0\n",
              "0시      6835\n",
              "1시      6858\n",
              "2시      6860\n",
              "3시      6841\n",
              "4시      6821\n",
              "5시      6784\n",
              "6시      6741\n",
              "7시      6725\n",
              "8시      6739\n",
              "9시      6710\n",
              "10시     6676\n",
              "11시     6720\n",
              "12시     6753\n",
              "13시     6788\n",
              "14시     6767\n",
              "15시     6754\n",
              "16시     6727\n",
              "17시     6753\n",
              "18시     6741\n",
              "19시     6786\n",
              "20시     6780\n",
              "21시     6797\n",
              "22시     6996\n",
              "23시     7122\n",
              "dtype: int64"
            ]
          },
          "metadata": {},
          "execution_count": 21
        }
      ]
    },
    {
      "cell_type": "code",
      "metadata": {
        "id": "s74TxmP3_eek"
      },
      "source": [
        "traffic[\"total\"] = traffic[['0시', '1시', '2시', '3시', '4시', '5시',\n",
        "       '6시', '7시', '8시', '9시', '10시', '11시', '12시', '13시', '14시', '15시', '16시',\n",
        "       '17시', '18시', '19시', '20시', '21시', '22시', '23시']].sum(axis=1)"
      ],
      "execution_count": null,
      "outputs": []
    },
    {
      "cell_type": "code",
      "metadata": {
        "colab": {
          "base_uri": "https://localhost:8080/",
          "height": 306
        },
        "id": "smfatGBr_rVz",
        "outputId": "db57a37b-8c52-44e1-b453-aa835085d20e"
      },
      "source": [
        "daily_traffic = traffic.groupby(\"DATE\")[\"DATE\", 'total'].sum()\n",
        "\n",
        "print(daily_traffic.shape)\n",
        "daily_traffic.head()"
      ],
      "execution_count": null,
      "outputs": [
        {
          "output_type": "stream",
          "text": [
            "(366, 1)\n"
          ],
          "name": "stdout"
        },
        {
          "output_type": "stream",
          "text": [
            "/usr/local/lib/python3.7/dist-packages/ipykernel_launcher.py:1: FutureWarning: Indexing with multiple keys (implicitly converted to a tuple of keys) will be deprecated, use a list instead.\n",
            "  \"\"\"Entry point for launching an IPython kernel.\n"
          ],
          "name": "stderr"
        },
        {
          "output_type": "execute_result",
          "data": {
            "text/html": [
              "<div>\n",
              "<style scoped>\n",
              "    .dataframe tbody tr th:only-of-type {\n",
              "        vertical-align: middle;\n",
              "    }\n",
              "\n",
              "    .dataframe tbody tr th {\n",
              "        vertical-align: top;\n",
              "    }\n",
              "\n",
              "    .dataframe thead th {\n",
              "        text-align: right;\n",
              "    }\n",
              "</style>\n",
              "<table border=\"1\" class=\"dataframe\">\n",
              "  <thead>\n",
              "    <tr style=\"text-align: right;\">\n",
              "      <th></th>\n",
              "      <th>total</th>\n",
              "    </tr>\n",
              "    <tr>\n",
              "      <th>DATE</th>\n",
              "      <th></th>\n",
              "    </tr>\n",
              "  </thead>\n",
              "  <tbody>\n",
              "    <tr>\n",
              "      <th>2020-01-01</th>\n",
              "      <td>7347299.0</td>\n",
              "    </tr>\n",
              "    <tr>\n",
              "      <th>2020-01-02</th>\n",
              "      <td>9326734.0</td>\n",
              "    </tr>\n",
              "    <tr>\n",
              "      <th>2020-01-03</th>\n",
              "      <td>9998638.0</td>\n",
              "    </tr>\n",
              "    <tr>\n",
              "      <th>2020-01-04</th>\n",
              "      <td>9198233.0</td>\n",
              "    </tr>\n",
              "    <tr>\n",
              "      <th>2020-01-05</th>\n",
              "      <td>7868358.0</td>\n",
              "    </tr>\n",
              "  </tbody>\n",
              "</table>\n",
              "</div>"
            ],
            "text/plain": [
              "                total\n",
              "DATE                 \n",
              "2020-01-01  7347299.0\n",
              "2020-01-02  9326734.0\n",
              "2020-01-03  9998638.0\n",
              "2020-01-04  9198233.0\n",
              "2020-01-05  7868358.0"
            ]
          },
          "metadata": {},
          "execution_count": 23
        }
      ]
    },
    {
      "cell_type": "code",
      "metadata": {
        "id": "7IjyUEBC_rR9",
        "colab": {
          "base_uri": "https://localhost:8080/"
        },
        "outputId": "68406110-ccf4-4dc8-d718-9edf764b4595"
      },
      "source": [
        "daily_traffic = daily_traffic.reset_index(\"DATE\")\n",
        "daily_traffic.isna().sum()"
      ],
      "execution_count": null,
      "outputs": [
        {
          "output_type": "execute_result",
          "data": {
            "text/plain": [
              "DATE     0\n",
              "total    0\n",
              "dtype: int64"
            ]
          },
          "metadata": {},
          "execution_count": 24
        }
      ]
    },
    {
      "cell_type": "code",
      "metadata": {
        "colab": {
          "base_uri": "https://localhost:8080/",
          "height": 436
        },
        "id": "Y73Adw_nBeZP",
        "outputId": "de3469d2-64ad-42ea-8e90-f43c468f3a47"
      },
      "source": [
        "daily_df = pd.merge(daily_traffic, daily_weather, left_on='DATE', right_on='날짜')\n",
        "print(daily_df.shape)\n",
        "daily_df"
      ],
      "execution_count": null,
      "outputs": [
        {
          "output_type": "stream",
          "text": [
            "(366, 11)\n"
          ],
          "name": "stdout"
        },
        {
          "output_type": "execute_result",
          "data": {
            "text/html": [
              "<div>\n",
              "<style scoped>\n",
              "    .dataframe tbody tr th:only-of-type {\n",
              "        vertical-align: middle;\n",
              "    }\n",
              "\n",
              "    .dataframe tbody tr th {\n",
              "        vertical-align: top;\n",
              "    }\n",
              "\n",
              "    .dataframe thead th {\n",
              "        text-align: right;\n",
              "    }\n",
              "</style>\n",
              "<table border=\"1\" class=\"dataframe\">\n",
              "  <thead>\n",
              "    <tr style=\"text-align: right;\">\n",
              "      <th></th>\n",
              "      <th>DATE</th>\n",
              "      <th>total</th>\n",
              "      <th>기온</th>\n",
              "      <th>강수량</th>\n",
              "      <th>풍속</th>\n",
              "      <th>습도</th>\n",
              "      <th>일조시간</th>\n",
              "      <th>적설량</th>\n",
              "      <th>지면온도</th>\n",
              "      <th>지중온도</th>\n",
              "      <th>월</th>\n",
              "    </tr>\n",
              "  </thead>\n",
              "  <tbody>\n",
              "    <tr>\n",
              "      <th>0</th>\n",
              "      <td>2020-01-01</td>\n",
              "      <td>7347299.0</td>\n",
              "      <td>-2.543478</td>\n",
              "      <td>49.982609</td>\n",
              "      <td>1.152174</td>\n",
              "      <td>62.739130</td>\n",
              "      <td>92.852174</td>\n",
              "      <td>0.286957</td>\n",
              "      <td>-0.917391</td>\n",
              "      <td>2.856522</td>\n",
              "      <td>1.0</td>\n",
              "    </tr>\n",
              "    <tr>\n",
              "      <th>1</th>\n",
              "      <td>2020-01-02</td>\n",
              "      <td>9326734.0</td>\n",
              "      <td>0.987500</td>\n",
              "      <td>60.500000</td>\n",
              "      <td>1.912500</td>\n",
              "      <td>64.875000</td>\n",
              "      <td>96.362500</td>\n",
              "      <td>0.300000</td>\n",
              "      <td>-0.020833</td>\n",
              "      <td>2.625000</td>\n",
              "      <td>1.0</td>\n",
              "    </tr>\n",
              "    <tr>\n",
              "      <th>2</th>\n",
              "      <td>2020-01-03</td>\n",
              "      <td>9998638.0</td>\n",
              "      <td>0.120833</td>\n",
              "      <td>60.500000</td>\n",
              "      <td>1.879167</td>\n",
              "      <td>57.833333</td>\n",
              "      <td>96.729167</td>\n",
              "      <td>0.300000</td>\n",
              "      <td>-0.554167</td>\n",
              "      <td>2.683333</td>\n",
              "      <td>1.0</td>\n",
              "    </tr>\n",
              "    <tr>\n",
              "      <th>3</th>\n",
              "      <td>2020-01-04</td>\n",
              "      <td>9198233.0</td>\n",
              "      <td>1.054167</td>\n",
              "      <td>60.500000</td>\n",
              "      <td>1.895833</td>\n",
              "      <td>50.875000</td>\n",
              "      <td>96.691667</td>\n",
              "      <td>0.300000</td>\n",
              "      <td>-0.395833</td>\n",
              "      <td>2.695833</td>\n",
              "      <td>1.0</td>\n",
              "    </tr>\n",
              "    <tr>\n",
              "      <th>4</th>\n",
              "      <td>2020-01-05</td>\n",
              "      <td>7868358.0</td>\n",
              "      <td>1.175000</td>\n",
              "      <td>60.500000</td>\n",
              "      <td>1.045833</td>\n",
              "      <td>45.666667</td>\n",
              "      <td>96.658333</td>\n",
              "      <td>0.300000</td>\n",
              "      <td>-0.737500</td>\n",
              "      <td>2.629167</td>\n",
              "      <td>1.0</td>\n",
              "    </tr>\n",
              "    <tr>\n",
              "      <th>...</th>\n",
              "      <td>...</td>\n",
              "      <td>...</td>\n",
              "      <td>...</td>\n",
              "      <td>...</td>\n",
              "      <td>...</td>\n",
              "      <td>...</td>\n",
              "      <td>...</td>\n",
              "      <td>...</td>\n",
              "      <td>...</td>\n",
              "      <td>...</td>\n",
              "      <td>...</td>\n",
              "    </tr>\n",
              "    <tr>\n",
              "      <th>361</th>\n",
              "      <td>2020-12-27</td>\n",
              "      <td>5606406.0</td>\n",
              "      <td>5.395833</td>\n",
              "      <td>4.408333</td>\n",
              "      <td>1.850000</td>\n",
              "      <td>63.125000</td>\n",
              "      <td>110.529167</td>\n",
              "      <td>3.200000</td>\n",
              "      <td>1.291667</td>\n",
              "      <td>1.683333</td>\n",
              "      <td>12.0</td>\n",
              "    </tr>\n",
              "    <tr>\n",
              "      <th>362</th>\n",
              "      <td>2020-12-28</td>\n",
              "      <td>8389535.0</td>\n",
              "      <td>6.920833</td>\n",
              "      <td>4.270833</td>\n",
              "      <td>1.441667</td>\n",
              "      <td>71.000000</td>\n",
              "      <td>110.616667</td>\n",
              "      <td>3.200000</td>\n",
              "      <td>3.108333</td>\n",
              "      <td>2.070833</td>\n",
              "      <td>12.0</td>\n",
              "    </tr>\n",
              "    <tr>\n",
              "      <th>363</th>\n",
              "      <td>2020-12-29</td>\n",
              "      <td>8523717.0</td>\n",
              "      <td>1.033333</td>\n",
              "      <td>4.033333</td>\n",
              "      <td>2.733333</td>\n",
              "      <td>71.958333</td>\n",
              "      <td>110.283333</td>\n",
              "      <td>3.200000</td>\n",
              "      <td>-0.133333</td>\n",
              "      <td>2.733333</td>\n",
              "      <td>12.0</td>\n",
              "    </tr>\n",
              "    <tr>\n",
              "      <th>364</th>\n",
              "      <td>2020-12-30</td>\n",
              "      <td>8455563.0</td>\n",
              "      <td>-10.366667</td>\n",
              "      <td>4.600000</td>\n",
              "      <td>4.037500</td>\n",
              "      <td>54.833333</td>\n",
              "      <td>110.629167</td>\n",
              "      <td>3.200000</td>\n",
              "      <td>-4.037500</td>\n",
              "      <td>2.416667</td>\n",
              "      <td>12.0</td>\n",
              "    </tr>\n",
              "    <tr>\n",
              "      <th>365</th>\n",
              "      <td>2020-12-31</td>\n",
              "      <td>8324393.0</td>\n",
              "      <td>-12.700000</td>\n",
              "      <td>4.600000</td>\n",
              "      <td>3.400000</td>\n",
              "      <td>52.000000</td>\n",
              "      <td>203.600000</td>\n",
              "      <td>3.200000</td>\n",
              "      <td>-7.600000</td>\n",
              "      <td>2.100000</td>\n",
              "      <td>12.0</td>\n",
              "    </tr>\n",
              "  </tbody>\n",
              "</table>\n",
              "<p>366 rows × 11 columns</p>\n",
              "</div>"
            ],
            "text/plain": [
              "          DATE      total         기온  ...      지면온도      지중온도     월\n",
              "0   2020-01-01  7347299.0  -2.543478  ... -0.917391  2.856522   1.0\n",
              "1   2020-01-02  9326734.0   0.987500  ... -0.020833  2.625000   1.0\n",
              "2   2020-01-03  9998638.0   0.120833  ... -0.554167  2.683333   1.0\n",
              "3   2020-01-04  9198233.0   1.054167  ... -0.395833  2.695833   1.0\n",
              "4   2020-01-05  7868358.0   1.175000  ... -0.737500  2.629167   1.0\n",
              "..         ...        ...        ...  ...       ...       ...   ...\n",
              "361 2020-12-27  5606406.0   5.395833  ...  1.291667  1.683333  12.0\n",
              "362 2020-12-28  8389535.0   6.920833  ...  3.108333  2.070833  12.0\n",
              "363 2020-12-29  8523717.0   1.033333  ... -0.133333  2.733333  12.0\n",
              "364 2020-12-30  8455563.0 -10.366667  ... -4.037500  2.416667  12.0\n",
              "365 2020-12-31  8324393.0 -12.700000  ... -7.600000  2.100000  12.0\n",
              "\n",
              "[366 rows x 11 columns]"
            ]
          },
          "metadata": {},
          "execution_count": 25
        }
      ]
    },
    {
      "cell_type": "code",
      "metadata": {
        "colab": {
          "base_uri": "https://localhost:8080/",
          "height": 419
        },
        "id": "Lqfo38WaTr70",
        "outputId": "c6188fd2-85dd-4a69-baee-610f8ce72764"
      },
      "source": [
        "daily_df['Weekday'] = daily_df['DATE'].dt.weekday # 0:월 1:화 2:수 3:목 4:금 5:토 6:일\n",
        "daily_df"
      ],
      "execution_count": null,
      "outputs": [
        {
          "output_type": "execute_result",
          "data": {
            "text/html": [
              "<div>\n",
              "<style scoped>\n",
              "    .dataframe tbody tr th:only-of-type {\n",
              "        vertical-align: middle;\n",
              "    }\n",
              "\n",
              "    .dataframe tbody tr th {\n",
              "        vertical-align: top;\n",
              "    }\n",
              "\n",
              "    .dataframe thead th {\n",
              "        text-align: right;\n",
              "    }\n",
              "</style>\n",
              "<table border=\"1\" class=\"dataframe\">\n",
              "  <thead>\n",
              "    <tr style=\"text-align: right;\">\n",
              "      <th></th>\n",
              "      <th>DATE</th>\n",
              "      <th>total</th>\n",
              "      <th>기온</th>\n",
              "      <th>강수량</th>\n",
              "      <th>풍속</th>\n",
              "      <th>습도</th>\n",
              "      <th>일조시간</th>\n",
              "      <th>적설량</th>\n",
              "      <th>지면온도</th>\n",
              "      <th>지중온도</th>\n",
              "      <th>월</th>\n",
              "      <th>Weekday</th>\n",
              "    </tr>\n",
              "  </thead>\n",
              "  <tbody>\n",
              "    <tr>\n",
              "      <th>0</th>\n",
              "      <td>2020-01-01</td>\n",
              "      <td>7347299.0</td>\n",
              "      <td>-2.543478</td>\n",
              "      <td>49.982609</td>\n",
              "      <td>1.152174</td>\n",
              "      <td>62.739130</td>\n",
              "      <td>92.852174</td>\n",
              "      <td>0.286957</td>\n",
              "      <td>-0.917391</td>\n",
              "      <td>2.856522</td>\n",
              "      <td>1.0</td>\n",
              "      <td>2</td>\n",
              "    </tr>\n",
              "    <tr>\n",
              "      <th>1</th>\n",
              "      <td>2020-01-02</td>\n",
              "      <td>9326734.0</td>\n",
              "      <td>0.987500</td>\n",
              "      <td>60.500000</td>\n",
              "      <td>1.912500</td>\n",
              "      <td>64.875000</td>\n",
              "      <td>96.362500</td>\n",
              "      <td>0.300000</td>\n",
              "      <td>-0.020833</td>\n",
              "      <td>2.625000</td>\n",
              "      <td>1.0</td>\n",
              "      <td>3</td>\n",
              "    </tr>\n",
              "    <tr>\n",
              "      <th>2</th>\n",
              "      <td>2020-01-03</td>\n",
              "      <td>9998638.0</td>\n",
              "      <td>0.120833</td>\n",
              "      <td>60.500000</td>\n",
              "      <td>1.879167</td>\n",
              "      <td>57.833333</td>\n",
              "      <td>96.729167</td>\n",
              "      <td>0.300000</td>\n",
              "      <td>-0.554167</td>\n",
              "      <td>2.683333</td>\n",
              "      <td>1.0</td>\n",
              "      <td>4</td>\n",
              "    </tr>\n",
              "    <tr>\n",
              "      <th>3</th>\n",
              "      <td>2020-01-04</td>\n",
              "      <td>9198233.0</td>\n",
              "      <td>1.054167</td>\n",
              "      <td>60.500000</td>\n",
              "      <td>1.895833</td>\n",
              "      <td>50.875000</td>\n",
              "      <td>96.691667</td>\n",
              "      <td>0.300000</td>\n",
              "      <td>-0.395833</td>\n",
              "      <td>2.695833</td>\n",
              "      <td>1.0</td>\n",
              "      <td>5</td>\n",
              "    </tr>\n",
              "    <tr>\n",
              "      <th>4</th>\n",
              "      <td>2020-01-05</td>\n",
              "      <td>7868358.0</td>\n",
              "      <td>1.175000</td>\n",
              "      <td>60.500000</td>\n",
              "      <td>1.045833</td>\n",
              "      <td>45.666667</td>\n",
              "      <td>96.658333</td>\n",
              "      <td>0.300000</td>\n",
              "      <td>-0.737500</td>\n",
              "      <td>2.629167</td>\n",
              "      <td>1.0</td>\n",
              "      <td>6</td>\n",
              "    </tr>\n",
              "    <tr>\n",
              "      <th>...</th>\n",
              "      <td>...</td>\n",
              "      <td>...</td>\n",
              "      <td>...</td>\n",
              "      <td>...</td>\n",
              "      <td>...</td>\n",
              "      <td>...</td>\n",
              "      <td>...</td>\n",
              "      <td>...</td>\n",
              "      <td>...</td>\n",
              "      <td>...</td>\n",
              "      <td>...</td>\n",
              "      <td>...</td>\n",
              "    </tr>\n",
              "    <tr>\n",
              "      <th>361</th>\n",
              "      <td>2020-12-27</td>\n",
              "      <td>5606406.0</td>\n",
              "      <td>5.395833</td>\n",
              "      <td>4.408333</td>\n",
              "      <td>1.850000</td>\n",
              "      <td>63.125000</td>\n",
              "      <td>110.529167</td>\n",
              "      <td>3.200000</td>\n",
              "      <td>1.291667</td>\n",
              "      <td>1.683333</td>\n",
              "      <td>12.0</td>\n",
              "      <td>6</td>\n",
              "    </tr>\n",
              "    <tr>\n",
              "      <th>362</th>\n",
              "      <td>2020-12-28</td>\n",
              "      <td>8389535.0</td>\n",
              "      <td>6.920833</td>\n",
              "      <td>4.270833</td>\n",
              "      <td>1.441667</td>\n",
              "      <td>71.000000</td>\n",
              "      <td>110.616667</td>\n",
              "      <td>3.200000</td>\n",
              "      <td>3.108333</td>\n",
              "      <td>2.070833</td>\n",
              "      <td>12.0</td>\n",
              "      <td>0</td>\n",
              "    </tr>\n",
              "    <tr>\n",
              "      <th>363</th>\n",
              "      <td>2020-12-29</td>\n",
              "      <td>8523717.0</td>\n",
              "      <td>1.033333</td>\n",
              "      <td>4.033333</td>\n",
              "      <td>2.733333</td>\n",
              "      <td>71.958333</td>\n",
              "      <td>110.283333</td>\n",
              "      <td>3.200000</td>\n",
              "      <td>-0.133333</td>\n",
              "      <td>2.733333</td>\n",
              "      <td>12.0</td>\n",
              "      <td>1</td>\n",
              "    </tr>\n",
              "    <tr>\n",
              "      <th>364</th>\n",
              "      <td>2020-12-30</td>\n",
              "      <td>8455563.0</td>\n",
              "      <td>-10.366667</td>\n",
              "      <td>4.600000</td>\n",
              "      <td>4.037500</td>\n",
              "      <td>54.833333</td>\n",
              "      <td>110.629167</td>\n",
              "      <td>3.200000</td>\n",
              "      <td>-4.037500</td>\n",
              "      <td>2.416667</td>\n",
              "      <td>12.0</td>\n",
              "      <td>2</td>\n",
              "    </tr>\n",
              "    <tr>\n",
              "      <th>365</th>\n",
              "      <td>2020-12-31</td>\n",
              "      <td>8324393.0</td>\n",
              "      <td>-12.700000</td>\n",
              "      <td>4.600000</td>\n",
              "      <td>3.400000</td>\n",
              "      <td>52.000000</td>\n",
              "      <td>203.600000</td>\n",
              "      <td>3.200000</td>\n",
              "      <td>-7.600000</td>\n",
              "      <td>2.100000</td>\n",
              "      <td>12.0</td>\n",
              "      <td>3</td>\n",
              "    </tr>\n",
              "  </tbody>\n",
              "</table>\n",
              "<p>366 rows × 12 columns</p>\n",
              "</div>"
            ],
            "text/plain": [
              "          DATE      total         기온  ...      지중온도     월  Weekday\n",
              "0   2020-01-01  7347299.0  -2.543478  ...  2.856522   1.0        2\n",
              "1   2020-01-02  9326734.0   0.987500  ...  2.625000   1.0        3\n",
              "2   2020-01-03  9998638.0   0.120833  ...  2.683333   1.0        4\n",
              "3   2020-01-04  9198233.0   1.054167  ...  2.695833   1.0        5\n",
              "4   2020-01-05  7868358.0   1.175000  ...  2.629167   1.0        6\n",
              "..         ...        ...        ...  ...       ...   ...      ...\n",
              "361 2020-12-27  5606406.0   5.395833  ...  1.683333  12.0        6\n",
              "362 2020-12-28  8389535.0   6.920833  ...  2.070833  12.0        0\n",
              "363 2020-12-29  8523717.0   1.033333  ...  2.733333  12.0        1\n",
              "364 2020-12-30  8455563.0 -10.366667  ...  2.416667  12.0        2\n",
              "365 2020-12-31  8324393.0 -12.700000  ...  2.100000  12.0        3\n",
              "\n",
              "[366 rows x 12 columns]"
            ]
          },
          "metadata": {},
          "execution_count": 26
        }
      ]
    },
    {
      "cell_type": "code",
      "metadata": {
        "colab": {
          "base_uri": "https://localhost:8080/",
          "height": 367
        },
        "id": "OcoODedlSgHC",
        "outputId": "0107f469-ff4c-47e0-daca-1a301b2185ac"
      },
      "source": [
        "d1 = daily_df.groupby('월')['total'].sum().reset_index()\n",
        "sns.countplot(data=d1 ,x='월')"
      ],
      "execution_count": null,
      "outputs": [
        {
          "output_type": "execute_result",
          "data": {
            "text/plain": [
              "<matplotlib.axes._subplots.AxesSubplot at 0x7f1eefdd3890>"
            ]
          },
          "metadata": {},
          "execution_count": 27
        },
        {
          "output_type": "stream",
          "text": [
            "/usr/local/lib/python3.7/dist-packages/matplotlib/backends/backend_agg.py:214: RuntimeWarning: Glyph 50900 missing from current font.\n",
            "  font.set_text(s, 0.0, flags=flags)\n",
            "/usr/local/lib/python3.7/dist-packages/matplotlib/backends/backend_agg.py:183: RuntimeWarning: Glyph 50900 missing from current font.\n",
            "  font.set_text(s, 0, flags=flags)\n"
          ],
          "name": "stderr"
        },
        {
          "output_type": "display_data",
          "data": {
            "image/png": "[encoded data removed]",
            "text/plain": [
              "<Figure size 432x288 with 1 Axes>"
            ]
          },
          "metadata": {
            "needs_background": "light"
          }
        }
      ]
    },
    {
      "cell_type": "code",
      "metadata": {
        "colab": {
          "base_uri": "https://localhost:8080/",
          "height": 296
        },
        "id": "LwI0kPSVT3cQ",
        "outputId": "8b960f4f-d04a-4d25-f9f0-691af91a2b3b"
      },
      "source": [
        "d2 = daily_df.groupby('Weekday')['total'].sum().reset_index()\n",
        "sns.countplot(data=d2, x='Weekday')"
      ],
      "execution_count": null,
      "outputs": [
        {
          "output_type": "execute_result",
          "data": {
            "text/plain": [
              "<matplotlib.axes._subplots.AxesSubplot at 0x7f1eed7dcb90>"
            ]
          },
          "metadata": {},
          "execution_count": 28
        },
        {
          "output_type": "display_data",
          "data": {
            "image/png": "[encoded data removed]",
            "text/plain": [
              "<Figure size 432x288 with 1 Axes>"
            ]
          },
          "metadata": {
            "needs_background": "light"
          }
        }
      ]
    },
    {
      "cell_type": "markdown",
      "metadata": {
        "id": "c-fxan0TUVSq"
      },
      "source": [
        "# 트래픽은 요일 / 월 변화량이 거의 없음"
      ]
    },
    {
      "cell_type": "markdown",
      "metadata": {
        "id": "h6OKUcnqnKKq"
      },
      "source": [
        "# 데이터 컬럼의미\n",
        "\n",
        "\n",
        "1.   USER_ID: 유저ID\n",
        "\n",
        "2.   JOIN_DATE: 가입일이라고 생각했는데 1970-01-01 이런식으로 70년대도 있어가지고 정확히 뭔지 모르겠음 주차장 운영시작일일수도 있음\n",
        "\n",
        "3.   D_TYPE: \n",
        "\n",
        "4.   STORE_ID: 상점ID\n",
        "\n",
        "5.   GOODS_TYPE: 주차장관련 어플이니깐 주차권타입???\n",
        "\n",
        "6.   DATE: 결제일\n",
        "\n",
        "7.   COUNT: 결제건수\n",
        "\n",
        "8.   AD1: 매장 지역코드\n",
        "\n"
      ]
    },
    {
      "cell_type": "code",
      "metadata": {
        "colab": {
          "base_uri": "https://localhost:8080/"
        },
        "id": "JecdJEaO3kek",
        "outputId": "e2bc955e-d237-4ea2-bf4a-403ecdd73a91"
      },
      "source": [
        "parking_df['JOIN_DATE'].sort_values()"
      ],
      "execution_count": null,
      "outputs": [
        {
          "output_type": "execute_result",
          "data": {
            "text/plain": [
              "176320    1970-01-01\n",
              "625539    1970-01-01\n",
              "226658    1970-01-01\n",
              "226415    1970-01-01\n",
              "226042    1970-01-01\n",
              "             ...    \n",
              "879214    2020-12-31\n",
              "879213    2020-12-31\n",
              "879212    2020-12-31\n",
              "879230    2020-12-31\n",
              "879270    2020-12-31\n",
              "Name: JOIN_DATE, Length: 879271, dtype: object"
            ]
          },
          "metadata": {},
          "execution_count": 29
        }
      ]
    },
    {
      "cell_type": "code",
      "metadata": {
        "colab": {
          "base_uri": "https://localhost:8080/",
          "height": 49
        },
        "id": "I_Ygz5B6JJlo",
        "outputId": "29f03b20-9aa6-48a0-9e6c-151215214484"
      },
      "source": [
        "parking_df[parking_df['JOIN_DATE']=='1970-01-02'] # 1970-01-01 에러일 가능성이 높음"
      ],
      "execution_count": null,
      "outputs": [
        {
          "output_type": "execute_result",
          "data": {
            "text/html": [
              "<div>\n",
              "<style scoped>\n",
              "    .dataframe tbody tr th:only-of-type {\n",
              "        vertical-align: middle;\n",
              "    }\n",
              "\n",
              "    .dataframe tbody tr th {\n",
              "        vertical-align: top;\n",
              "    }\n",
              "\n",
              "    .dataframe thead th {\n",
              "        text-align: right;\n",
              "    }\n",
              "</style>\n",
              "<table border=\"1\" class=\"dataframe\">\n",
              "  <thead>\n",
              "    <tr style=\"text-align: right;\">\n",
              "      <th></th>\n",
              "      <th>USER_ID</th>\n",
              "      <th>JOIN_DATE</th>\n",
              "      <th>D_TYPE</th>\n",
              "      <th>STORE_ID</th>\n",
              "      <th>GOODS_TYPE</th>\n",
              "      <th>DATE</th>\n",
              "      <th>COUNT</th>\n",
              "      <th>AD1</th>\n",
              "    </tr>\n",
              "  </thead>\n",
              "  <tbody>\n",
              "  </tbody>\n",
              "</table>\n",
              "</div>"
            ],
            "text/plain": [
              "Empty DataFrame\n",
              "Columns: [USER_ID, JOIN_DATE, D_TYPE, STORE_ID, GOODS_TYPE, DATE, COUNT, AD1]\n",
              "Index: []"
            ]
          },
          "metadata": {},
          "execution_count": 30
        }
      ]
    },
    {
      "cell_type": "code",
      "metadata": {
        "colab": {
          "base_uri": "https://localhost:8080/"
        },
        "id": "njXjGi4fctro",
        "outputId": "046190cd-2ae8-4fd8-f11b-1b3b1d6de298"
      },
      "source": [
        "print(parking_df.shape) # 데이터의 행, 열 개수 출력\n",
        "print(parking_df.dtypes) # 데이터의 타입 출력"
      ],
      "execution_count": null,
      "outputs": [
        {
          "output_type": "stream",
          "text": [
            "(879271, 8)\n",
            "USER_ID        int64\n",
            "JOIN_DATE     object\n",
            "D_TYPE        object\n",
            "STORE_ID       int64\n",
            "GOODS_TYPE    object\n",
            "DATE          object\n",
            "COUNT          int64\n",
            "AD1           object\n",
            "dtype: object\n"
          ],
          "name": "stdout"
        }
      ]
    },
    {
      "cell_type": "code",
      "metadata": {
        "colab": {
          "base_uri": "https://localhost:8080/"
        },
        "id": "8N1iBNwhc52m",
        "outputId": "f7ce38f4-2db0-47e8-e19b-c6746ba57d08"
      },
      "source": [
        "parking_df.isna().sum() # NaN은 없음"
      ],
      "execution_count": null,
      "outputs": [
        {
          "output_type": "execute_result",
          "data": {
            "text/plain": [
              "USER_ID       0\n",
              "JOIN_DATE     0\n",
              "D_TYPE        0\n",
              "STORE_ID      0\n",
              "GOODS_TYPE    0\n",
              "DATE          0\n",
              "COUNT         0\n",
              "AD1           0\n",
              "dtype: int64"
            ]
          },
          "metadata": {},
          "execution_count": 32
        }
      ]
    },
    {
      "cell_type": "code",
      "metadata": {
        "colab": {
          "base_uri": "https://localhost:8080/",
          "height": 297
        },
        "id": "5uUJ2TdLc9yv",
        "outputId": "ca631d3c-64c3-4b20-c8b2-4bc2b15eca51"
      },
      "source": [
        "parking_df.describe() # 컬럼별 요약 통계 지표 출력"
      ],
      "execution_count": null,
      "outputs": [
        {
          "output_type": "execute_result",
          "data": {
            "text/html": [
              "<div>\n",
              "<style scoped>\n",
              "    .dataframe tbody tr th:only-of-type {\n",
              "        vertical-align: middle;\n",
              "    }\n",
              "\n",
              "    .dataframe tbody tr th {\n",
              "        vertical-align: top;\n",
              "    }\n",
              "\n",
              "    .dataframe thead th {\n",
              "        text-align: right;\n",
              "    }\n",
              "</style>\n",
              "<table border=\"1\" class=\"dataframe\">\n",
              "  <thead>\n",
              "    <tr style=\"text-align: right;\">\n",
              "      <th></th>\n",
              "      <th>USER_ID</th>\n",
              "      <th>STORE_ID</th>\n",
              "      <th>COUNT</th>\n",
              "    </tr>\n",
              "  </thead>\n",
              "  <tbody>\n",
              "    <tr>\n",
              "      <th>count</th>\n",
              "      <td>8.792710e+05</td>\n",
              "      <td>879271.000000</td>\n",
              "      <td>879271.000000</td>\n",
              "    </tr>\n",
              "    <tr>\n",
              "      <th>mean</th>\n",
              "      <td>1.206566e+06</td>\n",
              "      <td>149599.960642</td>\n",
              "      <td>1.029079</td>\n",
              "    </tr>\n",
              "    <tr>\n",
              "      <th>std</th>\n",
              "      <td>4.206529e+05</td>\n",
              "      <td>68898.035318</td>\n",
              "      <td>0.512428</td>\n",
              "    </tr>\n",
              "    <tr>\n",
              "      <th>min</th>\n",
              "      <td>2.240000e+02</td>\n",
              "      <td>4.000000</td>\n",
              "      <td>1.000000</td>\n",
              "    </tr>\n",
              "    <tr>\n",
              "      <th>25%</th>\n",
              "      <td>9.005760e+05</td>\n",
              "      <td>92437.000000</td>\n",
              "      <td>1.000000</td>\n",
              "    </tr>\n",
              "    <tr>\n",
              "      <th>50%</th>\n",
              "      <td>1.321440e+06</td>\n",
              "      <td>173059.000000</td>\n",
              "      <td>1.000000</td>\n",
              "    </tr>\n",
              "    <tr>\n",
              "      <th>75%</th>\n",
              "      <td>1.542416e+06</td>\n",
              "      <td>220661.000000</td>\n",
              "      <td>1.000000</td>\n",
              "    </tr>\n",
              "    <tr>\n",
              "      <th>max</th>\n",
              "      <td>1.830598e+06</td>\n",
              "      <td>231465.000000</td>\n",
              "      <td>61.000000</td>\n",
              "    </tr>\n",
              "  </tbody>\n",
              "</table>\n",
              "</div>"
            ],
            "text/plain": [
              "            USER_ID       STORE_ID          COUNT\n",
              "count  8.792710e+05  879271.000000  879271.000000\n",
              "mean   1.206566e+06  149599.960642       1.029079\n",
              "std    4.206529e+05   68898.035318       0.512428\n",
              "min    2.240000e+02       4.000000       1.000000\n",
              "25%    9.005760e+05   92437.000000       1.000000\n",
              "50%    1.321440e+06  173059.000000       1.000000\n",
              "75%    1.542416e+06  220661.000000       1.000000\n",
              "max    1.830598e+06  231465.000000      61.000000"
            ]
          },
          "metadata": {},
          "execution_count": 33
        }
      ]
    },
    {
      "cell_type": "code",
      "metadata": {
        "colab": {
          "base_uri": "https://localhost:8080/",
          "height": 270
        },
        "id": "_SgA6q3LdIqH",
        "outputId": "72e078b3-5f9c-46fc-d36e-ac8d505bbabe"
      },
      "source": [
        "sns.heatmap(parking_df.corr(), annot=True); # 상관관계 1에 가까울수록 연관성이 아주 크다는 의미"
      ],
      "execution_count": null,
      "outputs": [
        {
          "output_type": "display_data",
          "data": {
            "image/png": "[encoded data removed]",
            "text/plain": [
              "<Figure size 432x288 with 2 Axes>"
            ]
          },
          "metadata": {
            "needs_background": "light"
          }
        }
      ]
    },
    {
      "cell_type": "code",
      "metadata": {
        "id": "9oeH4V3pJXWe"
      },
      "source": [
        "parking_df['JOIN_DATE'] = pd.to_datetime(parking_df['JOIN_DATE'])\n",
        "parking_df['DATE'] = pd.to_datetime(parking_df['DATE'])"
      ],
      "execution_count": null,
      "outputs": []
    },
    {
      "cell_type": "code",
      "metadata": {
        "colab": {
          "base_uri": "https://localhost:8080/",
          "height": 419
        },
        "id": "swTNIVCmJ8C4",
        "outputId": "356777cd-8708-47ea-b83c-fd61278f3e4d"
      },
      "source": [
        "parking_df['Weekday'] = parking_df['DATE'].dt.weekday # 0:월 1:화 2:수 3:목 4:금 5:토 6:일\n",
        "parking_df"
      ],
      "execution_count": null,
      "outputs": [
        {
          "output_type": "execute_result",
          "data": {
            "text/html": [
              "<div>\n",
              "<style scoped>\n",
              "    .dataframe tbody tr th:only-of-type {\n",
              "        vertical-align: middle;\n",
              "    }\n",
              "\n",
              "    .dataframe tbody tr th {\n",
              "        vertical-align: top;\n",
              "    }\n",
              "\n",
              "    .dataframe thead th {\n",
              "        text-align: right;\n",
              "    }\n",
              "</style>\n",
              "<table border=\"1\" class=\"dataframe\">\n",
              "  <thead>\n",
              "    <tr style=\"text-align: right;\">\n",
              "      <th></th>\n",
              "      <th>USER_ID</th>\n",
              "      <th>JOIN_DATE</th>\n",
              "      <th>D_TYPE</th>\n",
              "      <th>STORE_ID</th>\n",
              "      <th>GOODS_TYPE</th>\n",
              "      <th>DATE</th>\n",
              "      <th>COUNT</th>\n",
              "      <th>AD1</th>\n",
              "      <th>Weekday</th>\n",
              "    </tr>\n",
              "  </thead>\n",
              "  <tbody>\n",
              "    <tr>\n",
              "      <th>0</th>\n",
              "      <td>2858</td>\n",
              "      <td>2014-01-07</td>\n",
              "      <td>AA</td>\n",
              "      <td>1892</td>\n",
              "      <td>A</td>\n",
              "      <td>2020-01-01</td>\n",
              "      <td>1</td>\n",
              "      <td>GN</td>\n",
              "      <td>2</td>\n",
              "    </tr>\n",
              "    <tr>\n",
              "      <th>1</th>\n",
              "      <td>5647</td>\n",
              "      <td>2014-02-14</td>\n",
              "      <td>BB</td>\n",
              "      <td>182009</td>\n",
              "      <td>A</td>\n",
              "      <td>2020-01-01</td>\n",
              "      <td>1</td>\n",
              "      <td>J</td>\n",
              "      <td>2</td>\n",
              "    </tr>\n",
              "    <tr>\n",
              "      <th>2</th>\n",
              "      <td>33314</td>\n",
              "      <td>2014-11-20</td>\n",
              "      <td>BB</td>\n",
              "      <td>82431</td>\n",
              "      <td>A</td>\n",
              "      <td>2020-01-01</td>\n",
              "      <td>1</td>\n",
              "      <td>SC</td>\n",
              "      <td>2</td>\n",
              "    </tr>\n",
              "    <tr>\n",
              "      <th>3</th>\n",
              "      <td>37001</td>\n",
              "      <td>2014-12-04</td>\n",
              "      <td>BB</td>\n",
              "      <td>725</td>\n",
              "      <td>C</td>\n",
              "      <td>2020-01-01</td>\n",
              "      <td>1</td>\n",
              "      <td>MP</td>\n",
              "      <td>2</td>\n",
              "    </tr>\n",
              "    <tr>\n",
              "      <th>4</th>\n",
              "      <td>37819</td>\n",
              "      <td>2014-12-07</td>\n",
              "      <td>AA</td>\n",
              "      <td>220691</td>\n",
              "      <td>C</td>\n",
              "      <td>2020-01-01</td>\n",
              "      <td>1</td>\n",
              "      <td>JRR</td>\n",
              "      <td>2</td>\n",
              "    </tr>\n",
              "    <tr>\n",
              "      <th>...</th>\n",
              "      <td>...</td>\n",
              "      <td>...</td>\n",
              "      <td>...</td>\n",
              "      <td>...</td>\n",
              "      <td>...</td>\n",
              "      <td>...</td>\n",
              "      <td>...</td>\n",
              "      <td>...</td>\n",
              "      <td>...</td>\n",
              "    </tr>\n",
              "    <tr>\n",
              "      <th>879266</th>\n",
              "      <td>1830551</td>\n",
              "      <td>2020-12-31</td>\n",
              "      <td>BB</td>\n",
              "      <td>219886</td>\n",
              "      <td>B</td>\n",
              "      <td>2020-12-31</td>\n",
              "      <td>1</td>\n",
              "      <td>GN</td>\n",
              "      <td>3</td>\n",
              "    </tr>\n",
              "    <tr>\n",
              "      <th>879267</th>\n",
              "      <td>1830570</td>\n",
              "      <td>2020-12-31</td>\n",
              "      <td>BB</td>\n",
              "      <td>82433</td>\n",
              "      <td>B</td>\n",
              "      <td>2020-12-31</td>\n",
              "      <td>1</td>\n",
              "      <td>CY</td>\n",
              "      <td>3</td>\n",
              "    </tr>\n",
              "    <tr>\n",
              "      <th>879268</th>\n",
              "      <td>1830580</td>\n",
              "      <td>2020-12-31</td>\n",
              "      <td>AA</td>\n",
              "      <td>92020</td>\n",
              "      <td>B</td>\n",
              "      <td>2020-12-31</td>\n",
              "      <td>1</td>\n",
              "      <td>JRR</td>\n",
              "      <td>3</td>\n",
              "    </tr>\n",
              "    <tr>\n",
              "      <th>879269</th>\n",
              "      <td>1830589</td>\n",
              "      <td>2020-12-31</td>\n",
              "      <td>BB</td>\n",
              "      <td>92437</td>\n",
              "      <td>B</td>\n",
              "      <td>2020-12-31</td>\n",
              "      <td>1</td>\n",
              "      <td>J</td>\n",
              "      <td>3</td>\n",
              "    </tr>\n",
              "    <tr>\n",
              "      <th>879270</th>\n",
              "      <td>1830598</td>\n",
              "      <td>2020-12-31</td>\n",
              "      <td>AA</td>\n",
              "      <td>220959</td>\n",
              "      <td>B</td>\n",
              "      <td>2020-12-31</td>\n",
              "      <td>1</td>\n",
              "      <td>SC</td>\n",
              "      <td>3</td>\n",
              "    </tr>\n",
              "  </tbody>\n",
              "</table>\n",
              "<p>879271 rows × 9 columns</p>\n",
              "</div>"
            ],
            "text/plain": [
              "        USER_ID  JOIN_DATE D_TYPE  STORE_ID  ...       DATE COUNT  AD1 Weekday\n",
              "0          2858 2014-01-07     AA      1892  ... 2020-01-01     1   GN       2\n",
              "1          5647 2014-02-14     BB    182009  ... 2020-01-01     1    J       2\n",
              "2         33314 2014-11-20     BB     82431  ... 2020-01-01     1   SC       2\n",
              "3         37001 2014-12-04     BB       725  ... 2020-01-01     1   MP       2\n",
              "4         37819 2014-12-07     AA    220691  ... 2020-01-01     1  JRR       2\n",
              "...         ...        ...    ...       ...  ...        ...   ...  ...     ...\n",
              "879266  1830551 2020-12-31     BB    219886  ... 2020-12-31     1   GN       3\n",
              "879267  1830570 2020-12-31     BB     82433  ... 2020-12-31     1   CY       3\n",
              "879268  1830580 2020-12-31     AA     92020  ... 2020-12-31     1  JRR       3\n",
              "879269  1830589 2020-12-31     BB     92437  ... 2020-12-31     1    J       3\n",
              "879270  1830598 2020-12-31     AA    220959  ... 2020-12-31     1   SC       3\n",
              "\n",
              "[879271 rows x 9 columns]"
            ]
          },
          "metadata": {},
          "execution_count": 36
        }
      ]
    },
    {
      "cell_type": "code",
      "metadata": {
        "colab": {
          "base_uri": "https://localhost:8080/"
        },
        "id": "IRO_z2xPLAo4",
        "outputId": "a1161c8a-a67c-4bb9-f506-b42a86b555ae"
      },
      "source": [
        "df = pd.merge(parking_df, daily_df, on = 'DATE')\n",
        "print(df.shape)\n",
        "col=['Weekday_y', '월']\n",
        "df.drop(col, axis=1, inplace=True)\n",
        "df.rename(columns={'Weekday_x':'Weekday','기온':'Temp', '강수량':'Rain', '풍속':'Wind',\n",
        "                   '습도':'Hum', '일조시간':'Daylight', '적설량':'Snow',\n",
        "                   '지면온도':'GTemp', '지중온도':'UnderTemp'}, inplace=True)"
      ],
      "execution_count": null,
      "outputs": [
        {
          "output_type": "stream",
          "text": [
            "(879271, 20)\n"
          ],
          "name": "stdout"
        }
      ]
    },
    {
      "cell_type": "code",
      "metadata": {
        "id": "Ky0DaLNzcjRv"
      },
      "source": [
        "df['Month']=df['DATE'].dt.month"
      ],
      "execution_count": null,
      "outputs": []
    },
    {
      "cell_type": "markdown",
      "metadata": {
        "id": "x3QcnCWFmRnt"
      },
      "source": [
        "# 전처리 방향\n",
        "\n",
        "\n",
        "1.   D_TYPE 확실히 뭘 의미하는지 확인\n",
        "\n",
        "2.   AD1 확실히 뭘 의미하는지 확인\n",
        "\n",
        "3.   GOODS_TYPE 확실히 뭘 의미하는지 확인\n",
        "\n",
        "4.   USER_ID 분석\n",
        "\n",
        "5.   STORE_ID 분석\n",
        "\n",
        "6.   COUNT 분석\n"
      ]
    },
    {
      "cell_type": "markdown",
      "metadata": {
        "id": "d2lOoiabo56d"
      },
      "source": [
        "# 1. D_TYPE & AD1 & GOODS_TYPE\n",
        "\n"
      ]
    },
    {
      "cell_type": "markdown",
      "metadata": {
        "id": "CqcUmy7wXGQ-"
      },
      "source": [
        "# 어플을 확인했을 때 결제 방법으로 카드/ 휴대폰결제 / 네이버 페이 3가지 방법이 있었음 AA / BB / CC는 혹시 결제방법 아닐까??"
      ]
    },
    {
      "cell_type": "code",
      "metadata": {
        "colab": {
          "base_uri": "https://localhost:8080/"
        },
        "id": "K0JnEihVMNYy",
        "outputId": "4b900e5b-b0b7-4775-d88f-4b463a90cb5f"
      },
      "source": [
        "parking_df.groupby(['USER_ID','STORE_ID','Weekday'])['D_TYPE'].value_counts()"
      ],
      "execution_count": null,
      "outputs": [
        {
          "output_type": "execute_result",
          "data": {
            "text/plain": [
              "USER_ID  STORE_ID  Weekday  D_TYPE\n",
              "224      92510     6        AA        1\n",
              "         181833    2        AA        1\n",
              "232      28018     0        BB        1\n",
              "                   1        BB        1\n",
              "                   5        BB        1\n",
              "                                     ..\n",
              "1830551  219886    3        BB        1\n",
              "1830570  82433     3        BB        1\n",
              "1830580  92020     3        AA        1\n",
              "1830589  92437     3        BB        1\n",
              "1830598  220959    3        AA        1\n",
              "Name: D_TYPE, Length: 482081, dtype: int64"
            ]
          },
          "metadata": {},
          "execution_count": 39
        }
      ]
    },
    {
      "cell_type": "code",
      "metadata": {
        "colab": {
          "base_uri": "https://localhost:8080/",
          "height": 348
        },
        "id": "WoZ6k5OGdMc-",
        "outputId": "3cb2e780-ae0d-4396-a3ed-9583f840bf33"
      },
      "source": [
        "print(parking_df['D_TYPE'].value_counts())\n",
        "sns.countplot(data=parking_df, x='D_TYPE'); "
      ],
      "execution_count": null,
      "outputs": [
        {
          "output_type": "stream",
          "text": [
            "AA    493166\n",
            "BB    384541\n",
            "CC      1564\n",
            "Name: D_TYPE, dtype: int64\n"
          ],
          "name": "stdout"
        },
        {
          "output_type": "display_data",
          "data": {
            "image/png": "[encoded data removed]",
            "text/plain": [
              "<Figure size 432x288 with 1 Axes>"
            ]
          },
          "metadata": {
            "needs_background": "light"
          }
        }
      ]
    },
    {
      "cell_type": "code",
      "metadata": {
        "id": "udEW6NDWXF_u"
      },
      "source": [
        "parking_df['Month'] = parking_df['DATE'].dt.month"
      ],
      "execution_count": null,
      "outputs": []
    },
    {
      "cell_type": "code",
      "metadata": {
        "colab": {
          "base_uri": "https://localhost:8080/",
          "height": 942
        },
        "id": "Oy-N5xPIXY1w",
        "outputId": "f0420873-1819-4bac-8f5a-0f0b07dd8f80"
      },
      "source": [
        "figure, (ax1, ax2) = plt.subplots(nrows=2, ncols=1)\n",
        "figure.set_size_inches(25,20)\n",
        "\n",
        "sns.countplot(data=df, x='Month', hue='D_TYPE',ax=ax1).set(title='Monthly changes by Count')\n",
        "sns.scatterplot(data=df, x=\"Month\", y='Temp',hue=\"D_TYPE\", ax=ax2).set(title='Monthly changes by Temperature')"
      ],
      "execution_count": null,
      "outputs": [
        {
          "output_type": "execute_result",
          "data": {
            "text/plain": [
              "[Text(0.5, 1.0, 'Monthly changes by Temperature')]"
            ]
          },
          "metadata": {},
          "execution_count": 42
        },
        {
          "output_type": "display_data",
          "data": {
            "image/png": "[encoded data removed]",
            "text/plain": [
              "<Figure size 1800x1440 with 2 Axes>"
            ]
          },
          "metadata": {
            "needs_background": "light"
          }
        }
      ]
    },
    {
      "cell_type": "markdown",
      "metadata": {
        "id": "F2kfdIZIrReb"
      },
      "source": [
        "#D_TYPE은 결제방법이라는 증명할 논리적 증거 부족\n",
        "\n",
        "단지 7월까지 AA/BB의 상승후 8,9월 하락이후 10,11월 상승 후 12월 하락\n",
        "\n",
        "---\n",
        "#계절성을 비교하기 위해서 merge한 df를 활용\n",
        "\n",
        "온도가 올라갈수로 AA의 결제 비중이 높아짐\n",
        "\n",
        "결제방법였으면 온도가 올라가도 변화가 없어야 함\n",
        "\n",
        "주차장의 종류일 가능성이 있을꺼 같음"
      ]
    },
    {
      "cell_type": "code",
      "metadata": {
        "colab": {
          "base_uri": "https://localhost:8080/"
        },
        "id": "_mD7nNHKnSnJ",
        "outputId": "04f65b61-d9f8-4e64-eb38-75b72e76b38e"
      },
      "source": [
        "C_type = pd.DataFrame(parking_df[parking_df['D_TYPE']=='CC'])\n",
        "C_type.duplicated(keep=False) # 중복 확인 후 제거\n",
        "\n",
        "print(parking_df['COUNT'].value_counts())\n",
        "print(C_type['COUNT'].value_counts())"
      ],
      "execution_count": null,
      "outputs": [
        {
          "output_type": "stream",
          "text": [
            "1     863775\n",
            "2      13519\n",
            "3       1061\n",
            "4        271\n",
            "5        136\n",
            "6         66\n",
            "7         45\n",
            "9         25\n",
            "16        21\n",
            "12        21\n",
            "8         20\n",
            "13        19\n",
            "14        19\n",
            "15        19\n",
            "28        17\n",
            "10        16\n",
            "11        15\n",
            "17        15\n",
            "23        15\n",
            "21        14\n",
            "18        14\n",
            "25        14\n",
            "19        13\n",
            "22         9\n",
            "32         9\n",
            "26         9\n",
            "27         7\n",
            "24         7\n",
            "30         7\n",
            "31         7\n",
            "34         7\n",
            "29         6\n",
            "20         6\n",
            "36         5\n",
            "40         4\n",
            "37         3\n",
            "39         3\n",
            "38         3\n",
            "46         3\n",
            "49         3\n",
            "35         3\n",
            "42         2\n",
            "43         2\n",
            "33         2\n",
            "50         2\n",
            "47         2\n",
            "55         1\n",
            "53         1\n",
            "51         1\n",
            "58         1\n",
            "41         1\n",
            "48         1\n",
            "45         1\n",
            "44         1\n",
            "59         1\n",
            "61         1\n",
            "Name: COUNT, dtype: int64\n",
            "1     1159\n",
            "2       33\n",
            "16      21\n",
            "14      19\n",
            "12      18\n",
            "28      17\n",
            "13      16\n",
            "15      15\n",
            "25      14\n",
            "18      14\n",
            "21      14\n",
            "17      14\n",
            "9       13\n",
            "23      13\n",
            "11      12\n",
            "19      12\n",
            "10      10\n",
            "32       9\n",
            "26       9\n",
            "8        9\n",
            "7        9\n",
            "22       8\n",
            "30       7\n",
            "31       7\n",
            "27       7\n",
            "34       7\n",
            "24       7\n",
            "3        6\n",
            "29       6\n",
            "36       5\n",
            "20       5\n",
            "40       4\n",
            "5        3\n",
            "35       3\n",
            "39       3\n",
            "49       3\n",
            "46       3\n",
            "37       3\n",
            "6        3\n",
            "38       3\n",
            "50       2\n",
            "33       2\n",
            "42       2\n",
            "43       2\n",
            "47       2\n",
            "51       1\n",
            "53       1\n",
            "59       1\n",
            "55       1\n",
            "41       1\n",
            "44       1\n",
            "45       1\n",
            "4        1\n",
            "48       1\n",
            "58       1\n",
            "61       1\n",
            "Name: COUNT, dtype: int64\n"
          ],
          "name": "stdout"
        }
      ]
    },
    {
      "cell_type": "code",
      "metadata": {
        "colab": {
          "base_uri": "https://localhost:8080/",
          "height": 827
        },
        "id": "nDqGkGj3k3Pd",
        "outputId": "e942fc7c-af63-48aa-c1db-3758370c6bc9"
      },
      "source": [
        "plt.figure(figsize=(18,10))\n",
        "sns.countplot(data=parking_df[parking_df['COUNT']>9], x=\"COUNT\");\n",
        "print(parking_df[parking_df['COUNT']>6].value_counts())"
      ],
      "execution_count": null,
      "outputs": [
        {
          "output_type": "stream",
          "text": [
            "USER_ID  JOIN_DATE   D_TYPE  STORE_ID  GOODS_TYPE  DATE        COUNT  AD1  Weekday  Month\n",
            "1811081  2020-12-12  AA      109037    A           2020-12-17  7      J    3        12       1\n",
            "999665   2018-12-16  CC      92457     A           2020-03-09  11     J    0        3        1\n",
            "                             92437     A           2020-03-13  14     J    4        3        1\n",
            "                                                   2020-03-16  14     J    0        3        1\n",
            "                                                   2020-04-10  14     J    4        4        1\n",
            "                                                                                            ..\n",
            "                             190172    D           2020-04-25  17     YO   5        4        1\n",
            "                             190223    A           2020-08-05  28     CY   2        8        1\n",
            "                             190482    A           2020-09-11  25     GN   4        9        1\n",
            "                             190483    A           2020-09-14  18     GN   0        9        1\n",
            "136719   2015-08-07  BB      131081    A           2020-12-23  8      YO   2        12       1\n",
            "Length: 443, dtype: int64\n"
          ],
          "name": "stdout"
        },
        {
          "output_type": "display_data",
          "data": {
            "image/png": "[encoded data removed]",
            "text/plain": [
              "<Figure size 1296x720 with 1 Axes>"
            ]
          },
          "metadata": {
            "needs_background": "light"
          }
        }
      ]
    },
    {
      "cell_type": "code",
      "metadata": {
        "colab": {
          "base_uri": "https://localhost:8080/",
          "height": 827
        },
        "id": "KT5AP7VKk9fw",
        "outputId": "45d70c29-f426-47f8-ffe0-dc18f3bd3b5f"
      },
      "source": [
        "plt.figure(figsize=(18,10))\n",
        "sns.countplot(data=C_type[C_type['COUNT']>9], x=\"COUNT\");\n",
        "print(C_type[C_type['COUNT']>2].value_counts())"
      ],
      "execution_count": null,
      "outputs": [
        {
          "output_type": "stream",
          "text": [
            "USER_ID  JOIN_DATE   D_TYPE  STORE_ID  GOODS_TYPE  DATE        COUNT  AD1  Weekday  Month\n",
            "1493307  1970-01-01  CC      82433     D           2020-02-10  3      CY   0        2        1\n",
            "999665   2018-12-16  CC      92403     A           2020-10-21  27     J    2        10       1\n",
            "                                                   2020-06-22  14     J    0        6        1\n",
            "                                                   2020-06-24  21     J    2        6        1\n",
            "                                                   2020-06-26  22     J    4        6        1\n",
            "                                                                                            ..\n",
            "                             181777    C           2020-12-11  29     BF   4        12       1\n",
            "                                                   2020-12-26  26     BF   5        12       1\n",
            "                             181832    A           2020-01-03  7      SC   4        1        1\n",
            "                             181833    C           2020-11-24  27     J    1        11       1\n",
            "851134   1970-01-01  CC      190482    A           2020-05-17  3      GN   6        5        1\n",
            "Length: 372, dtype: int64\n"
          ],
          "name": "stdout"
        },
        {
          "output_type": "display_data",
          "data": {
            "image/png": "[encoded data removed]",
            "text/plain": [
              "<Figure size 1296x720 with 1 Axes>"
            ]
          },
          "metadata": {
            "needs_background": "light"
          }
        }
      ]
    },
    {
      "cell_type": "markdown",
      "metadata": {
        "id": "NMNmhCyItGx8"
      },
      "source": [
        "#parking_df['COUNT'] / CC타입만 추출한 C_type['COUNT']\n",
        "\n",
        "카운팅 되는 수가 2자리 수 이후 비슷해서 비교를 위해서 9 이후 그래프로 비교\n",
        "\n",
        "대부분 겹치는 경향이 보임\n",
        "\n",
        "---\n",
        "\n",
        "D_type은 카운트와 연관이 되어있는걸까???"
      ]
    },
    {
      "cell_type": "code",
      "metadata": {
        "colab": {
          "base_uri": "https://localhost:8080/",
          "height": 419
        },
        "id": "fg9jzdw5YeOg",
        "outputId": "b061b455-4a78-4dd2-9049-cbdf8730c3b9"
      },
      "source": [
        "cc_1 = pd.DataFrame(parking_df[parking_df['JOIN_DATE']=='1970-01-01'])\n",
        "cc_1.duplicated(keep=False)\n",
        "cc_1"
      ],
      "execution_count": null,
      "outputs": [
        {
          "output_type": "execute_result",
          "data": {
            "text/html": [
              "<div>\n",
              "<style scoped>\n",
              "    .dataframe tbody tr th:only-of-type {\n",
              "        vertical-align: middle;\n",
              "    }\n",
              "\n",
              "    .dataframe tbody tr th {\n",
              "        vertical-align: top;\n",
              "    }\n",
              "\n",
              "    .dataframe thead th {\n",
              "        text-align: right;\n",
              "    }\n",
              "</style>\n",
              "<table border=\"1\" class=\"dataframe\">\n",
              "  <thead>\n",
              "    <tr style=\"text-align: right;\">\n",
              "      <th></th>\n",
              "      <th>USER_ID</th>\n",
              "      <th>JOIN_DATE</th>\n",
              "      <th>D_TYPE</th>\n",
              "      <th>STORE_ID</th>\n",
              "      <th>GOODS_TYPE</th>\n",
              "      <th>DATE</th>\n",
              "      <th>COUNT</th>\n",
              "      <th>AD1</th>\n",
              "      <th>Weekday</th>\n",
              "      <th>Month</th>\n",
              "    </tr>\n",
              "  </thead>\n",
              "  <tbody>\n",
              "    <tr>\n",
              "      <th>437</th>\n",
              "      <td>1081430</td>\n",
              "      <td>1970-01-01</td>\n",
              "      <td>CC</td>\n",
              "      <td>90070</td>\n",
              "      <td>A</td>\n",
              "      <td>2020-01-01</td>\n",
              "      <td>1</td>\n",
              "      <td>GD</td>\n",
              "      <td>2</td>\n",
              "      <td>1</td>\n",
              "    </tr>\n",
              "    <tr>\n",
              "      <th>2196</th>\n",
              "      <td>1410151</td>\n",
              "      <td>1970-01-01</td>\n",
              "      <td>CC</td>\n",
              "      <td>92437</td>\n",
              "      <td>B</td>\n",
              "      <td>2020-01-02</td>\n",
              "      <td>1</td>\n",
              "      <td>J</td>\n",
              "      <td>3</td>\n",
              "      <td>1</td>\n",
              "    </tr>\n",
              "    <tr>\n",
              "      <th>2204</th>\n",
              "      <td>1415023</td>\n",
              "      <td>1970-01-01</td>\n",
              "      <td>CC</td>\n",
              "      <td>131081</td>\n",
              "      <td>A</td>\n",
              "      <td>2020-01-02</td>\n",
              "      <td>1</td>\n",
              "      <td>YO</td>\n",
              "      <td>3</td>\n",
              "      <td>1</td>\n",
              "    </tr>\n",
              "    <tr>\n",
              "      <th>2434</th>\n",
              "      <td>125582</td>\n",
              "      <td>1970-01-01</td>\n",
              "      <td>CC</td>\n",
              "      <td>91885</td>\n",
              "      <td>A</td>\n",
              "      <td>2020-01-03</td>\n",
              "      <td>1</td>\n",
              "      <td>YD</td>\n",
              "      <td>4</td>\n",
              "      <td>1</td>\n",
              "    </tr>\n",
              "    <tr>\n",
              "      <th>2645</th>\n",
              "      <td>602188</td>\n",
              "      <td>1970-01-01</td>\n",
              "      <td>CC</td>\n",
              "      <td>2334</td>\n",
              "      <td>B</td>\n",
              "      <td>2020-01-03</td>\n",
              "      <td>1</td>\n",
              "      <td>MP</td>\n",
              "      <td>4</td>\n",
              "      <td>1</td>\n",
              "    </tr>\n",
              "    <tr>\n",
              "      <th>...</th>\n",
              "      <td>...</td>\n",
              "      <td>...</td>\n",
              "      <td>...</td>\n",
              "      <td>...</td>\n",
              "      <td>...</td>\n",
              "      <td>...</td>\n",
              "      <td>...</td>\n",
              "      <td>...</td>\n",
              "      <td>...</td>\n",
              "      <td>...</td>\n",
              "    </tr>\n",
              "    <tr>\n",
              "      <th>866536</th>\n",
              "      <td>1723400</td>\n",
              "      <td>1970-01-01</td>\n",
              "      <td>CC</td>\n",
              "      <td>190188</td>\n",
              "      <td>A</td>\n",
              "      <td>2020-12-26</td>\n",
              "      <td>1</td>\n",
              "      <td>JR</td>\n",
              "      <td>5</td>\n",
              "      <td>12</td>\n",
              "    </tr>\n",
              "    <tr>\n",
              "      <th>867913</th>\n",
              "      <td>1723400</td>\n",
              "      <td>1970-01-01</td>\n",
              "      <td>CC</td>\n",
              "      <td>190188</td>\n",
              "      <td>A</td>\n",
              "      <td>2020-12-27</td>\n",
              "      <td>1</td>\n",
              "      <td>JR</td>\n",
              "      <td>6</td>\n",
              "      <td>12</td>\n",
              "    </tr>\n",
              "    <tr>\n",
              "      <th>868210</th>\n",
              "      <td>1825656</td>\n",
              "      <td>1970-01-01</td>\n",
              "      <td>CC</td>\n",
              "      <td>219936</td>\n",
              "      <td>A</td>\n",
              "      <td>2020-12-27</td>\n",
              "      <td>1</td>\n",
              "      <td>YD</td>\n",
              "      <td>6</td>\n",
              "      <td>12</td>\n",
              "    </tr>\n",
              "    <tr>\n",
              "      <th>873707</th>\n",
              "      <td>1828010</td>\n",
              "      <td>1970-01-01</td>\n",
              "      <td>CC</td>\n",
              "      <td>220635</td>\n",
              "      <td>C</td>\n",
              "      <td>2020-12-29</td>\n",
              "      <td>1</td>\n",
              "      <td>GN</td>\n",
              "      <td>1</td>\n",
              "      <td>12</td>\n",
              "    </tr>\n",
              "    <tr>\n",
              "      <th>879171</th>\n",
              "      <td>1829458</td>\n",
              "      <td>1970-01-01</td>\n",
              "      <td>CC</td>\n",
              "      <td>137452</td>\n",
              "      <td>A</td>\n",
              "      <td>2020-12-31</td>\n",
              "      <td>1</td>\n",
              "      <td>CY</td>\n",
              "      <td>3</td>\n",
              "      <td>12</td>\n",
              "    </tr>\n",
              "  </tbody>\n",
              "</table>\n",
              "<p>1093 rows × 10 columns</p>\n",
              "</div>"
            ],
            "text/plain": [
              "        USER_ID  JOIN_DATE D_TYPE  STORE_ID  ... COUNT AD1  Weekday Month\n",
              "437     1081430 1970-01-01     CC     90070  ...     1  GD        2     1\n",
              "2196    1410151 1970-01-01     CC     92437  ...     1   J        3     1\n",
              "2204    1415023 1970-01-01     CC    131081  ...     1  YO        3     1\n",
              "2434     125582 1970-01-01     CC     91885  ...     1  YD        4     1\n",
              "2645     602188 1970-01-01     CC      2334  ...     1  MP        4     1\n",
              "...         ...        ...    ...       ...  ...   ...  ..      ...   ...\n",
              "866536  1723400 1970-01-01     CC    190188  ...     1  JR        5    12\n",
              "867913  1723400 1970-01-01     CC    190188  ...     1  JR        6    12\n",
              "868210  1825656 1970-01-01     CC    219936  ...     1  YD        6    12\n",
              "873707  1828010 1970-01-01     CC    220635  ...     1  GN        1    12\n",
              "879171  1829458 1970-01-01     CC    137452  ...     1  CY        3    12\n",
              "\n",
              "[1093 rows x 10 columns]"
            ]
          },
          "metadata": {},
          "execution_count": 46
        }
      ]
    },
    {
      "cell_type": "code",
      "metadata": {
        "colab": {
          "base_uri": "https://localhost:8080/",
          "height": 419
        },
        "id": "OBfZAtLsYeHf",
        "outputId": "6ce4426e-c6fd-4800-9bfc-ba426d48555c"
      },
      "source": [
        "cc_2 = pd.DataFrame(parking_df[parking_df['JOIN_DATE']=='2018-12-16'])\n",
        "cc_2.duplicated(keep=False)\n",
        "cc_2"
      ],
      "execution_count": null,
      "outputs": [
        {
          "output_type": "execute_result",
          "data": {
            "text/html": [
              "<div>\n",
              "<style scoped>\n",
              "    .dataframe tbody tr th:only-of-type {\n",
              "        vertical-align: middle;\n",
              "    }\n",
              "\n",
              "    .dataframe tbody tr th {\n",
              "        vertical-align: top;\n",
              "    }\n",
              "\n",
              "    .dataframe thead th {\n",
              "        text-align: right;\n",
              "    }\n",
              "</style>\n",
              "<table border=\"1\" class=\"dataframe\">\n",
              "  <thead>\n",
              "    <tr style=\"text-align: right;\">\n",
              "      <th></th>\n",
              "      <th>USER_ID</th>\n",
              "      <th>JOIN_DATE</th>\n",
              "      <th>D_TYPE</th>\n",
              "      <th>STORE_ID</th>\n",
              "      <th>GOODS_TYPE</th>\n",
              "      <th>DATE</th>\n",
              "      <th>COUNT</th>\n",
              "      <th>AD1</th>\n",
              "      <th>Weekday</th>\n",
              "      <th>Month</th>\n",
              "    </tr>\n",
              "  </thead>\n",
              "  <tbody>\n",
              "    <tr>\n",
              "      <th>372</th>\n",
              "      <td>999665</td>\n",
              "      <td>2018-12-16</td>\n",
              "      <td>CC</td>\n",
              "      <td>82399</td>\n",
              "      <td>A</td>\n",
              "      <td>2020-01-01</td>\n",
              "      <td>6</td>\n",
              "      <td>JRR</td>\n",
              "      <td>2</td>\n",
              "      <td>1</td>\n",
              "    </tr>\n",
              "    <tr>\n",
              "      <th>1525</th>\n",
              "      <td>999201</td>\n",
              "      <td>2018-12-16</td>\n",
              "      <td>AA</td>\n",
              "      <td>220655</td>\n",
              "      <td>B</td>\n",
              "      <td>2020-01-02</td>\n",
              "      <td>1</td>\n",
              "      <td>JRR</td>\n",
              "      <td>3</td>\n",
              "      <td>1</td>\n",
              "    </tr>\n",
              "    <tr>\n",
              "      <th>1526</th>\n",
              "      <td>999399</td>\n",
              "      <td>2018-12-16</td>\n",
              "      <td>BB</td>\n",
              "      <td>91885</td>\n",
              "      <td>A</td>\n",
              "      <td>2020-01-02</td>\n",
              "      <td>1</td>\n",
              "      <td>YD</td>\n",
              "      <td>3</td>\n",
              "      <td>1</td>\n",
              "    </tr>\n",
              "    <tr>\n",
              "      <th>1527</th>\n",
              "      <td>999665</td>\n",
              "      <td>2018-12-16</td>\n",
              "      <td>CC</td>\n",
              "      <td>104988</td>\n",
              "      <td>A</td>\n",
              "      <td>2020-01-02</td>\n",
              "      <td>11</td>\n",
              "      <td>GN</td>\n",
              "      <td>3</td>\n",
              "      <td>1</td>\n",
              "    </tr>\n",
              "    <tr>\n",
              "      <th>3120</th>\n",
              "      <td>999573</td>\n",
              "      <td>2018-12-16</td>\n",
              "      <td>AA</td>\n",
              "      <td>220440</td>\n",
              "      <td>A</td>\n",
              "      <td>2020-01-03</td>\n",
              "      <td>1</td>\n",
              "      <td>MP</td>\n",
              "      <td>4</td>\n",
              "      <td>1</td>\n",
              "    </tr>\n",
              "    <tr>\n",
              "      <th>...</th>\n",
              "      <td>...</td>\n",
              "      <td>...</td>\n",
              "      <td>...</td>\n",
              "      <td>...</td>\n",
              "      <td>...</td>\n",
              "      <td>...</td>\n",
              "      <td>...</td>\n",
              "      <td>...</td>\n",
              "      <td>...</td>\n",
              "      <td>...</td>\n",
              "    </tr>\n",
              "    <tr>\n",
              "      <th>867260</th>\n",
              "      <td>999665</td>\n",
              "      <td>2018-12-16</td>\n",
              "      <td>CC</td>\n",
              "      <td>2428</td>\n",
              "      <td>A</td>\n",
              "      <td>2020-12-27</td>\n",
              "      <td>17</td>\n",
              "      <td>CY</td>\n",
              "      <td>6</td>\n",
              "      <td>12</td>\n",
              "    </tr>\n",
              "    <tr>\n",
              "      <th>868847</th>\n",
              "      <td>999665</td>\n",
              "      <td>2018-12-16</td>\n",
              "      <td>CC</td>\n",
              "      <td>109267</td>\n",
              "      <td>A</td>\n",
              "      <td>2020-12-28</td>\n",
              "      <td>24</td>\n",
              "      <td>J</td>\n",
              "      <td>0</td>\n",
              "      <td>12</td>\n",
              "    </tr>\n",
              "    <tr>\n",
              "      <th>871562</th>\n",
              "      <td>999665</td>\n",
              "      <td>2018-12-16</td>\n",
              "      <td>CC</td>\n",
              "      <td>90193</td>\n",
              "      <td>C</td>\n",
              "      <td>2020-12-29</td>\n",
              "      <td>23</td>\n",
              "      <td>GW</td>\n",
              "      <td>1</td>\n",
              "      <td>12</td>\n",
              "    </tr>\n",
              "    <tr>\n",
              "      <th>874317</th>\n",
              "      <td>999665</td>\n",
              "      <td>2018-12-16</td>\n",
              "      <td>CC</td>\n",
              "      <td>220797</td>\n",
              "      <td>D</td>\n",
              "      <td>2020-12-30</td>\n",
              "      <td>40</td>\n",
              "      <td>GS</td>\n",
              "      <td>2</td>\n",
              "      <td>12</td>\n",
              "    </tr>\n",
              "    <tr>\n",
              "      <th>877120</th>\n",
              "      <td>999665</td>\n",
              "      <td>2018-12-16</td>\n",
              "      <td>CC</td>\n",
              "      <td>220893</td>\n",
              "      <td>A</td>\n",
              "      <td>2020-12-31</td>\n",
              "      <td>42</td>\n",
              "      <td>J</td>\n",
              "      <td>3</td>\n",
              "      <td>12</td>\n",
              "    </tr>\n",
              "  </tbody>\n",
              "</table>\n",
              "<p>690 rows × 10 columns</p>\n",
              "</div>"
            ],
            "text/plain": [
              "        USER_ID  JOIN_DATE D_TYPE  STORE_ID  ... COUNT  AD1  Weekday Month\n",
              "372      999665 2018-12-16     CC     82399  ...     6  JRR        2     1\n",
              "1525     999201 2018-12-16     AA    220655  ...     1  JRR        3     1\n",
              "1526     999399 2018-12-16     BB     91885  ...     1   YD        3     1\n",
              "1527     999665 2018-12-16     CC    104988  ...    11   GN        3     1\n",
              "3120     999573 2018-12-16     AA    220440  ...     1   MP        4     1\n",
              "...         ...        ...    ...       ...  ...   ...  ...      ...   ...\n",
              "867260   999665 2018-12-16     CC      2428  ...    17   CY        6    12\n",
              "868847   999665 2018-12-16     CC    109267  ...    24    J        0    12\n",
              "871562   999665 2018-12-16     CC     90193  ...    23   GW        1    12\n",
              "874317   999665 2018-12-16     CC    220797  ...    40   GS        2    12\n",
              "877120   999665 2018-12-16     CC    220893  ...    42    J        3    12\n",
              "\n",
              "[690 rows x 10 columns]"
            ]
          },
          "metadata": {},
          "execution_count": 47
        }
      ]
    },
    {
      "cell_type": "code",
      "metadata": {
        "colab": {
          "base_uri": "https://localhost:8080/",
          "height": 419
        },
        "id": "QXATWHHiYzj9",
        "outputId": "0ff800a8-b446-4023-8e64-dd5abf5c402f"
      },
      "source": [
        "cc_3 = pd.DataFrame(parking_df[parking_df['JOIN_DATE']=='2019-01-14'])\n",
        "cc_3.duplicated(keep=False)\n",
        "cc_3"
      ],
      "execution_count": null,
      "outputs": [
        {
          "output_type": "execute_result",
          "data": {
            "text/html": [
              "<div>\n",
              "<style scoped>\n",
              "    .dataframe tbody tr th:only-of-type {\n",
              "        vertical-align: middle;\n",
              "    }\n",
              "\n",
              "    .dataframe tbody tr th {\n",
              "        vertical-align: top;\n",
              "    }\n",
              "\n",
              "    .dataframe thead th {\n",
              "        text-align: right;\n",
              "    }\n",
              "</style>\n",
              "<table border=\"1\" class=\"dataframe\">\n",
              "  <thead>\n",
              "    <tr style=\"text-align: right;\">\n",
              "      <th></th>\n",
              "      <th>USER_ID</th>\n",
              "      <th>JOIN_DATE</th>\n",
              "      <th>D_TYPE</th>\n",
              "      <th>STORE_ID</th>\n",
              "      <th>GOODS_TYPE</th>\n",
              "      <th>DATE</th>\n",
              "      <th>COUNT</th>\n",
              "      <th>AD1</th>\n",
              "      <th>Weekday</th>\n",
              "      <th>Month</th>\n",
              "    </tr>\n",
              "  </thead>\n",
              "  <tbody>\n",
              "    <tr>\n",
              "      <th>394</th>\n",
              "      <td>1036154</td>\n",
              "      <td>2019-01-14</td>\n",
              "      <td>BB</td>\n",
              "      <td>91628</td>\n",
              "      <td>A</td>\n",
              "      <td>2020-01-01</td>\n",
              "      <td>1</td>\n",
              "      <td>YC</td>\n",
              "      <td>2</td>\n",
              "      <td>1</td>\n",
              "    </tr>\n",
              "    <tr>\n",
              "      <th>395</th>\n",
              "      <td>1036321</td>\n",
              "      <td>2019-01-14</td>\n",
              "      <td>AA</td>\n",
              "      <td>220295</td>\n",
              "      <td>C</td>\n",
              "      <td>2020-01-01</td>\n",
              "      <td>1</td>\n",
              "      <td>MP</td>\n",
              "      <td>2</td>\n",
              "      <td>1</td>\n",
              "    </tr>\n",
              "    <tr>\n",
              "      <th>1561</th>\n",
              "      <td>1035776</td>\n",
              "      <td>2019-01-14</td>\n",
              "      <td>AA</td>\n",
              "      <td>220655</td>\n",
              "      <td>A</td>\n",
              "      <td>2020-01-02</td>\n",
              "      <td>1</td>\n",
              "      <td>JRR</td>\n",
              "      <td>3</td>\n",
              "      <td>1</td>\n",
              "    </tr>\n",
              "    <tr>\n",
              "      <th>3164</th>\n",
              "      <td>1035776</td>\n",
              "      <td>2019-01-14</td>\n",
              "      <td>AA</td>\n",
              "      <td>220836</td>\n",
              "      <td>A</td>\n",
              "      <td>2020-01-03</td>\n",
              "      <td>1</td>\n",
              "      <td>JRR</td>\n",
              "      <td>4</td>\n",
              "      <td>1</td>\n",
              "    </tr>\n",
              "    <tr>\n",
              "      <th>5084</th>\n",
              "      <td>1035854</td>\n",
              "      <td>2019-01-14</td>\n",
              "      <td>CC</td>\n",
              "      <td>182013</td>\n",
              "      <td>A</td>\n",
              "      <td>2020-01-04</td>\n",
              "      <td>1</td>\n",
              "      <td>MP</td>\n",
              "      <td>5</td>\n",
              "      <td>1</td>\n",
              "    </tr>\n",
              "    <tr>\n",
              "      <th>...</th>\n",
              "      <td>...</td>\n",
              "      <td>...</td>\n",
              "      <td>...</td>\n",
              "      <td>...</td>\n",
              "      <td>...</td>\n",
              "      <td>...</td>\n",
              "      <td>...</td>\n",
              "      <td>...</td>\n",
              "      <td>...</td>\n",
              "      <td>...</td>\n",
              "    </tr>\n",
              "    <tr>\n",
              "      <th>871599</th>\n",
              "      <td>1036467</td>\n",
              "      <td>2019-01-14</td>\n",
              "      <td>AA</td>\n",
              "      <td>230916</td>\n",
              "      <td>C</td>\n",
              "      <td>2020-12-29</td>\n",
              "      <td>1</td>\n",
              "      <td>JRR</td>\n",
              "      <td>1</td>\n",
              "      <td>12</td>\n",
              "    </tr>\n",
              "    <tr>\n",
              "      <th>874354</th>\n",
              "      <td>1035776</td>\n",
              "      <td>2019-01-14</td>\n",
              "      <td>AA</td>\n",
              "      <td>230213</td>\n",
              "      <td>A</td>\n",
              "      <td>2020-12-30</td>\n",
              "      <td>1</td>\n",
              "      <td>JRR</td>\n",
              "      <td>2</td>\n",
              "      <td>12</td>\n",
              "    </tr>\n",
              "    <tr>\n",
              "      <th>874355</th>\n",
              "      <td>1035801</td>\n",
              "      <td>2019-01-14</td>\n",
              "      <td>AA</td>\n",
              "      <td>230991</td>\n",
              "      <td>A</td>\n",
              "      <td>2020-12-30</td>\n",
              "      <td>1</td>\n",
              "      <td>J</td>\n",
              "      <td>2</td>\n",
              "      <td>12</td>\n",
              "    </tr>\n",
              "    <tr>\n",
              "      <th>874356</th>\n",
              "      <td>1035883</td>\n",
              "      <td>2019-01-14</td>\n",
              "      <td>AA</td>\n",
              "      <td>204547</td>\n",
              "      <td>A</td>\n",
              "      <td>2020-12-30</td>\n",
              "      <td>1</td>\n",
              "      <td>JRR</td>\n",
              "      <td>2</td>\n",
              "      <td>12</td>\n",
              "    </tr>\n",
              "    <tr>\n",
              "      <th>877153</th>\n",
              "      <td>1035883</td>\n",
              "      <td>2019-01-14</td>\n",
              "      <td>AA</td>\n",
              "      <td>204547</td>\n",
              "      <td>A</td>\n",
              "      <td>2020-12-31</td>\n",
              "      <td>1</td>\n",
              "      <td>JRR</td>\n",
              "      <td>3</td>\n",
              "      <td>12</td>\n",
              "    </tr>\n",
              "  </tbody>\n",
              "</table>\n",
              "<p>684 rows × 10 columns</p>\n",
              "</div>"
            ],
            "text/plain": [
              "        USER_ID  JOIN_DATE D_TYPE  STORE_ID  ... COUNT  AD1  Weekday Month\n",
              "394     1036154 2019-01-14     BB     91628  ...     1   YC        2     1\n",
              "395     1036321 2019-01-14     AA    220295  ...     1   MP        2     1\n",
              "1561    1035776 2019-01-14     AA    220655  ...     1  JRR        3     1\n",
              "3164    1035776 2019-01-14     AA    220836  ...     1  JRR        4     1\n",
              "5084    1035854 2019-01-14     CC    182013  ...     1   MP        5     1\n",
              "...         ...        ...    ...       ...  ...   ...  ...      ...   ...\n",
              "871599  1036467 2019-01-14     AA    230916  ...     1  JRR        1    12\n",
              "874354  1035776 2019-01-14     AA    230213  ...     1  JRR        2    12\n",
              "874355  1035801 2019-01-14     AA    230991  ...     1    J        2    12\n",
              "874356  1035883 2019-01-14     AA    204547  ...     1  JRR        2    12\n",
              "877153  1035883 2019-01-14     AA    204547  ...     1  JRR        3    12\n",
              "\n",
              "[684 rows x 10 columns]"
            ]
          },
          "metadata": {},
          "execution_count": 48
        }
      ]
    },
    {
      "cell_type": "code",
      "metadata": {
        "colab": {
          "base_uri": "https://localhost:8080/",
          "height": 419
        },
        "id": "9zlecNdBYeC3",
        "outputId": "3256244e-27fc-429b-eb46-4915692c83fe"
      },
      "source": [
        "cc_4 = pd.DataFrame(parking_df[parking_df['JOIN_DATE']=='2019-11-15'])\n",
        "cc_4.duplicated(keep=False)\n",
        "cc_4"
      ],
      "execution_count": null,
      "outputs": [
        {
          "output_type": "execute_result",
          "data": {
            "text/html": [
              "<div>\n",
              "<style scoped>\n",
              "    .dataframe tbody tr th:only-of-type {\n",
              "        vertical-align: middle;\n",
              "    }\n",
              "\n",
              "    .dataframe tbody tr th {\n",
              "        vertical-align: top;\n",
              "    }\n",
              "\n",
              "    .dataframe thead th {\n",
              "        text-align: right;\n",
              "    }\n",
              "</style>\n",
              "<table border=\"1\" class=\"dataframe\">\n",
              "  <thead>\n",
              "    <tr style=\"text-align: right;\">\n",
              "      <th></th>\n",
              "      <th>USER_ID</th>\n",
              "      <th>JOIN_DATE</th>\n",
              "      <th>D_TYPE</th>\n",
              "      <th>STORE_ID</th>\n",
              "      <th>GOODS_TYPE</th>\n",
              "      <th>DATE</th>\n",
              "      <th>COUNT</th>\n",
              "      <th>AD1</th>\n",
              "      <th>Weekday</th>\n",
              "      <th>Month</th>\n",
              "    </tr>\n",
              "  </thead>\n",
              "  <tbody>\n",
              "    <tr>\n",
              "      <th>738</th>\n",
              "      <td>1392851</td>\n",
              "      <td>2019-11-15</td>\n",
              "      <td>BB</td>\n",
              "      <td>92437</td>\n",
              "      <td>A</td>\n",
              "      <td>2020-01-01</td>\n",
              "      <td>1</td>\n",
              "      <td>J</td>\n",
              "      <td>2</td>\n",
              "      <td>1</td>\n",
              "    </tr>\n",
              "    <tr>\n",
              "      <th>739</th>\n",
              "      <td>1393527</td>\n",
              "      <td>2019-11-15</td>\n",
              "      <td>BB</td>\n",
              "      <td>92510</td>\n",
              "      <td>A</td>\n",
              "      <td>2020-01-01</td>\n",
              "      <td>1</td>\n",
              "      <td>J</td>\n",
              "      <td>2</td>\n",
              "      <td>1</td>\n",
              "    </tr>\n",
              "    <tr>\n",
              "      <th>740</th>\n",
              "      <td>1393897</td>\n",
              "      <td>2019-11-15</td>\n",
              "      <td>AA</td>\n",
              "      <td>91853</td>\n",
              "      <td>A</td>\n",
              "      <td>2020-01-01</td>\n",
              "      <td>1</td>\n",
              "      <td>YD</td>\n",
              "      <td>2</td>\n",
              "      <td>1</td>\n",
              "    </tr>\n",
              "    <tr>\n",
              "      <th>2161</th>\n",
              "      <td>1392918</td>\n",
              "      <td>2019-11-15</td>\n",
              "      <td>BB</td>\n",
              "      <td>203847</td>\n",
              "      <td>B</td>\n",
              "      <td>2020-01-02</td>\n",
              "      <td>1</td>\n",
              "      <td>SC</td>\n",
              "      <td>3</td>\n",
              "      <td>1</td>\n",
              "    </tr>\n",
              "    <tr>\n",
              "      <th>2162</th>\n",
              "      <td>1392945</td>\n",
              "      <td>2019-11-15</td>\n",
              "      <td>AA</td>\n",
              "      <td>220722</td>\n",
              "      <td>A</td>\n",
              "      <td>2020-01-02</td>\n",
              "      <td>1</td>\n",
              "      <td>BF</td>\n",
              "      <td>3</td>\n",
              "      <td>1</td>\n",
              "    </tr>\n",
              "    <tr>\n",
              "      <th>...</th>\n",
              "      <td>...</td>\n",
              "      <td>...</td>\n",
              "      <td>...</td>\n",
              "      <td>...</td>\n",
              "      <td>...</td>\n",
              "      <td>...</td>\n",
              "      <td>...</td>\n",
              "      <td>...</td>\n",
              "      <td>...</td>\n",
              "      <td>...</td>\n",
              "    </tr>\n",
              "    <tr>\n",
              "      <th>874841</th>\n",
              "      <td>1393912</td>\n",
              "      <td>2019-11-15</td>\n",
              "      <td>AA</td>\n",
              "      <td>133167</td>\n",
              "      <td>A</td>\n",
              "      <td>2020-12-30</td>\n",
              "      <td>1</td>\n",
              "      <td>GSN</td>\n",
              "      <td>2</td>\n",
              "      <td>12</td>\n",
              "    </tr>\n",
              "    <tr>\n",
              "      <th>877587</th>\n",
              "      <td>1392712</td>\n",
              "      <td>2019-11-15</td>\n",
              "      <td>AA</td>\n",
              "      <td>220557</td>\n",
              "      <td>A</td>\n",
              "      <td>2020-12-31</td>\n",
              "      <td>1</td>\n",
              "      <td>YO</td>\n",
              "      <td>3</td>\n",
              "      <td>12</td>\n",
              "    </tr>\n",
              "    <tr>\n",
              "      <th>877588</th>\n",
              "      <td>1392847</td>\n",
              "      <td>2019-11-15</td>\n",
              "      <td>BB</td>\n",
              "      <td>182008</td>\n",
              "      <td>A</td>\n",
              "      <td>2020-12-31</td>\n",
              "      <td>1</td>\n",
              "      <td>J</td>\n",
              "      <td>3</td>\n",
              "      <td>12</td>\n",
              "    </tr>\n",
              "    <tr>\n",
              "      <th>877589</th>\n",
              "      <td>1392851</td>\n",
              "      <td>2019-11-15</td>\n",
              "      <td>BB</td>\n",
              "      <td>173209</td>\n",
              "      <td>D</td>\n",
              "      <td>2020-12-31</td>\n",
              "      <td>1</td>\n",
              "      <td>J</td>\n",
              "      <td>3</td>\n",
              "      <td>12</td>\n",
              "    </tr>\n",
              "    <tr>\n",
              "      <th>877590</th>\n",
              "      <td>1393912</td>\n",
              "      <td>2019-11-15</td>\n",
              "      <td>AA</td>\n",
              "      <td>133167</td>\n",
              "      <td>A</td>\n",
              "      <td>2020-12-31</td>\n",
              "      <td>1</td>\n",
              "      <td>GSN</td>\n",
              "      <td>3</td>\n",
              "      <td>12</td>\n",
              "    </tr>\n",
              "  </tbody>\n",
              "</table>\n",
              "<p>1279 rows × 10 columns</p>\n",
              "</div>"
            ],
            "text/plain": [
              "        USER_ID  JOIN_DATE D_TYPE  STORE_ID  ... COUNT  AD1  Weekday Month\n",
              "738     1392851 2019-11-15     BB     92437  ...     1    J        2     1\n",
              "739     1393527 2019-11-15     BB     92510  ...     1    J        2     1\n",
              "740     1393897 2019-11-15     AA     91853  ...     1   YD        2     1\n",
              "2161    1392918 2019-11-15     BB    203847  ...     1   SC        3     1\n",
              "2162    1392945 2019-11-15     AA    220722  ...     1   BF        3     1\n",
              "...         ...        ...    ...       ...  ...   ...  ...      ...   ...\n",
              "874841  1393912 2019-11-15     AA    133167  ...     1  GSN        2    12\n",
              "877587  1392712 2019-11-15     AA    220557  ...     1   YO        3    12\n",
              "877588  1392847 2019-11-15     BB    182008  ...     1    J        3    12\n",
              "877589  1392851 2019-11-15     BB    173209  ...     1    J        3    12\n",
              "877590  1393912 2019-11-15     AA    133167  ...     1  GSN        3    12\n",
              "\n",
              "[1279 rows x 10 columns]"
            ]
          },
          "metadata": {},
          "execution_count": 49
        }
      ]
    },
    {
      "cell_type": "code",
      "metadata": {
        "colab": {
          "base_uri": "https://localhost:8080/",
          "height": 80
        },
        "id": "VY-M065jYd5P",
        "outputId": "6ad4e536-5d51-4318-a08e-460975c1f4e2"
      },
      "source": [
        "cc_5 = pd.DataFrame(parking_df[parking_df['JOIN_DATE']=='2020-07-20'])\n",
        "cc_5.duplicated(keep=False)\n",
        "cc_5[cc_5['D_TYPE']=='CC']"
      ],
      "execution_count": null,
      "outputs": [
        {
          "output_type": "execute_result",
          "data": {
            "text/html": [
              "<div>\n",
              "<style scoped>\n",
              "    .dataframe tbody tr th:only-of-type {\n",
              "        vertical-align: middle;\n",
              "    }\n",
              "\n",
              "    .dataframe tbody tr th {\n",
              "        vertical-align: top;\n",
              "    }\n",
              "\n",
              "    .dataframe thead th {\n",
              "        text-align: right;\n",
              "    }\n",
              "</style>\n",
              "<table border=\"1\" class=\"dataframe\">\n",
              "  <thead>\n",
              "    <tr style=\"text-align: right;\">\n",
              "      <th></th>\n",
              "      <th>USER_ID</th>\n",
              "      <th>JOIN_DATE</th>\n",
              "      <th>D_TYPE</th>\n",
              "      <th>STORE_ID</th>\n",
              "      <th>GOODS_TYPE</th>\n",
              "      <th>DATE</th>\n",
              "      <th>COUNT</th>\n",
              "      <th>AD1</th>\n",
              "      <th>Weekday</th>\n",
              "      <th>Month</th>\n",
              "    </tr>\n",
              "  </thead>\n",
              "  <tbody>\n",
              "    <tr>\n",
              "      <th>787168</th>\n",
              "      <td>1631569</td>\n",
              "      <td>2020-07-20</td>\n",
              "      <td>CC</td>\n",
              "      <td>96266</td>\n",
              "      <td>A</td>\n",
              "      <td>2020-11-25</td>\n",
              "      <td>1</td>\n",
              "      <td>GN</td>\n",
              "      <td>2</td>\n",
              "      <td>11</td>\n",
              "    </tr>\n",
              "  </tbody>\n",
              "</table>\n",
              "</div>"
            ],
            "text/plain": [
              "        USER_ID  JOIN_DATE D_TYPE  STORE_ID  ... COUNT AD1  Weekday Month\n",
              "787168  1631569 2020-07-20     CC     96266  ...     1  GN        2    11\n",
              "\n",
              "[1 rows x 10 columns]"
            ]
          },
          "metadata": {},
          "execution_count": 50
        }
      ]
    },
    {
      "cell_type": "markdown",
      "metadata": {
        "id": "b2hnB97Rve7t"
      },
      "source": [
        "# CC타입 JOIN_DATE와 연관이 있는지 확인\n",
        "\n",
        "같은 날 CC타입만 있는게 아니라 AA / BB도 같이 있음\n",
        "\n",
        "JOIN_DATE와 D_TYPE은 가입경로 연관성이 부족"
      ]
    },
    {
      "cell_type": "code",
      "metadata": {
        "colab": {
          "base_uri": "https://localhost:8080/"
        },
        "id": "IUubpXXpodgw",
        "outputId": "83a8adce-4af9-477a-f43e-27f3e3b7c79a"
      },
      "source": [
        "qwe = parking_df[parking_df['COUNT']>9]\n",
        "qwe['USER_ID'].unique()"
      ],
      "execution_count": null,
      "outputs": [
        {
          "output_type": "execute_result",
          "data": {
            "text/plain": [
              "array([ 999665,  656252, 1467323, 1241334,  709657, 1544719, 1407822,\n",
              "       1304663,  430741, 1635143, 1514190, 1675755, 1675314, 1105111,\n",
              "       1572434, 1599008, 1613793, 1775410, 1660735])"
            ]
          },
          "metadata": {},
          "execution_count": 51
        }
      ]
    },
    {
      "cell_type": "markdown",
      "metadata": {
        "id": "zdNGTVLqwiub"
      },
      "source": [
        "카운트 수가 2자리수 이상일 때 D_TYPE에 연관이 있는지 다시 확인"
      ]
    },
    {
      "cell_type": "code",
      "metadata": {
        "colab": {
          "base_uri": "https://localhost:8080/"
        },
        "id": "vATdvoa0o1L9",
        "outputId": "5227b87f-9cd6-4f08-e274-e873722906a4"
      },
      "source": [
        "print(qwe[qwe['USER_ID']==999665])\n",
        "print(qwe[qwe['USER_ID']==656252])\n",
        "print(qwe[qwe['USER_ID']==1467323])\n",
        "print(qwe[qwe['USER_ID']==1241334])\n",
        "print(qwe[qwe['USER_ID']==1544719])\n",
        "print(qwe[qwe['USER_ID']==1407822])\n",
        "print(qwe[qwe['USER_ID']==1304663])\n",
        "print(qwe[qwe['USER_ID']==430741])\n",
        "print(qwe[qwe['USER_ID']==1635143])\n",
        "print(qwe[qwe['USER_ID']==1514190])\n",
        "print(qwe[qwe['USER_ID']==1675755])\n",
        "print(qwe[qwe['USER_ID']==1675314])\n",
        "print(qwe[qwe['USER_ID']==1105111])\n",
        "print(qwe[qwe['USER_ID']==1572434])\n",
        "print(qwe[qwe['USER_ID']==1599008])\n",
        "print(qwe[qwe['USER_ID']==1613793])\n",
        "print(qwe[qwe['USER_ID']==1775410])\n",
        "print(qwe[qwe['USER_ID']==1660735])"
      ],
      "execution_count": null,
      "outputs": [
        {
          "output_type": "stream",
          "text": [
            "        USER_ID  JOIN_DATE D_TYPE  STORE_ID  ... COUNT AD1  Weekday Month\n",
            "1527     999665 2018-12-16     CC    104988  ...    11  GN        3     1\n",
            "5034     999665 2018-12-16     CC    109223  ...    28  MP        5     1\n",
            "6919     999665 2018-12-16     CC    104916  ...    14  GN        6     1\n",
            "8390     999665 2018-12-16     CC    109423  ...    11   J        0     1\n",
            "11552    999665 2018-12-16     CC     91992  ...    13  YD        2     1\n",
            "...         ...        ...    ...       ...  ...   ...  ..      ...   ...\n",
            "867260   999665 2018-12-16     CC      2428  ...    17  CY        6    12\n",
            "868847   999665 2018-12-16     CC    109267  ...    24   J        0    12\n",
            "871562   999665 2018-12-16     CC     90193  ...    23  GW        1    12\n",
            "874317   999665 2018-12-16     CC    220797  ...    40  GS        2    12\n",
            "877120   999665 2018-12-16     CC    220893  ...    42   J        3    12\n",
            "\n",
            "[328 rows x 10 columns]\n",
            "       USER_ID  JOIN_DATE D_TYPE  STORE_ID  ... COUNT AD1  Weekday Month\n",
            "22386   656252 2017-11-22     BB    220745  ...    10  SD        1     1\n",
            "\n",
            "[1 rows x 10 columns]\n",
            "        USER_ID  JOIN_DATE D_TYPE  STORE_ID  ... COUNT  AD1  Weekday Month\n",
            "31925   1467323 2020-01-11     AA    220836  ...    20  JRR        5     1\n",
            "372116  1467323 2020-01-11     AA    220836  ...    22  JRR        5     6\n",
            "419592  1467323 2020-01-11     AA    220836  ...    23  JRR        2     7\n",
            "677929  1467323 2020-01-11     AA    220836  ...    12  JRR        2    10\n",
            "775274  1467323 2020-01-11     AA    220836  ...    11  JRR        5    11\n",
            "\n",
            "[5 rows x 10 columns]\n",
            "       USER_ID  JOIN_DATE D_TYPE  STORE_ID  ... COUNT  AD1  Weekday Month\n",
            "88268  1241334 2019-07-20     AA      1109  ...    10  JRR        2     2\n",
            "\n",
            "[1 rows x 10 columns]\n",
            "        USER_ID  JOIN_DATE D_TYPE  STORE_ID  ... COUNT AD1  Weekday Month\n",
            "208433  1544719 2020-04-17     BB    221045  ...    19  GN        5     4\n",
            "\n",
            "[1 rows x 10 columns]\n",
            "        USER_ID  JOIN_DATE D_TYPE  STORE_ID  ... COUNT AD1  Weekday Month\n",
            "350431  1407822 2019-11-27     BB    222256  ...    12  MP        4     6\n",
            "\n",
            "[1 rows x 10 columns]\n",
            "        USER_ID  JOIN_DATE D_TYPE  STORE_ID  ... COUNT  AD1  Weekday Month\n",
            "444575  1304663 2019-09-07     AA    220966  ...    13  JRR        4     7\n",
            "448022  1304663 2019-09-07     AA    220966  ...    10  JRR        5     7\n",
            "\n",
            "[2 rows x 10 columns]\n",
            "        USER_ID  JOIN_DATE D_TYPE  STORE_ID  ... COUNT AD1  Weekday Month\n",
            "460594   430741 2016-12-17     BB    219913  ...    11  GN        3     7\n",
            "\n",
            "[1 rows x 10 columns]\n",
            "        USER_ID  JOIN_DATE D_TYPE  STORE_ID  ... COUNT AD1  Weekday Month\n",
            "476895  1635143 2020-07-24     AA    221045  ...    23  GN        1     8\n",
            "\n",
            "[1 rows x 10 columns]\n",
            "        USER_ID  JOIN_DATE D_TYPE  STORE_ID  ... COUNT AD1  Weekday Month\n",
            "580707  1514190 2020-03-06     AA    220607  ...    11  GN        1     9\n",
            "\n",
            "[1 rows x 10 columns]\n",
            "        USER_ID  JOIN_DATE D_TYPE  STORE_ID  ... COUNT AD1  Weekday Month\n",
            "604384  1675755 2020-09-02     AA    219913  ...    15  GN        2     9\n",
            "\n",
            "[1 rows x 10 columns]\n",
            "        USER_ID  JOIN_DATE D_TYPE  STORE_ID  ... COUNT AD1  Weekday Month\n",
            "618893  1675314 2020-09-01     BB    109670  ...    15  CY        0     9\n",
            "\n",
            "[1 rows x 10 columns]\n",
            "        USER_ID  JOIN_DATE D_TYPE  STORE_ID  ... COUNT AD1  Weekday Month\n",
            "624808  1105111 2019-03-22     AA    220848  ...    10  GN        4    10\n",
            "\n",
            "[1 rows x 10 columns]\n",
            "        USER_ID  JOIN_DATE D_TYPE  STORE_ID  ... COUNT AD1  Weekday Month\n",
            "703093  1572434 2020-05-18     AA      1892  ...    10  GN        3    10\n",
            "706457  1572434 2020-05-18     AA      1892  ...    13  GN        4    10\n",
            "\n",
            "[2 rows x 10 columns]\n",
            "        USER_ID  JOIN_DATE D_TYPE  STORE_ID  ... COUNT AD1  Weekday Month\n",
            "734271  1599008 2020-06-17     BB    203847  ...    15  SC        6    11\n",
            "\n",
            "[1 rows x 10 columns]\n",
            "        USER_ID  JOIN_DATE D_TYPE  STORE_ID  ... COUNT AD1  Weekday Month\n",
            "756505  1613793 2020-07-02     AA    222328  ...    13  SB        6    11\n",
            "775775  1613793 2020-07-02     AA    222328  ...    10  SB        5    11\n",
            "\n",
            "[2 rows x 10 columns]\n",
            "        USER_ID  JOIN_DATE D_TYPE  STORE_ID  ... COUNT AD1  Weekday Month\n",
            "757192  1775410 2020-11-14     BB     92505  ...    17   J        6    11\n",
            "\n",
            "[1 rows x 10 columns]\n",
            "        USER_ID  JOIN_DATE D_TYPE  STORE_ID  ... COUNT AD1  Weekday Month\n",
            "866365  1660735 2020-08-18     BB     90444  ...    15  GN        5    12\n",
            "\n",
            "[1 rows x 10 columns]\n"
          ],
          "name": "stdout"
        }
      ]
    },
    {
      "cell_type": "markdown",
      "metadata": {
        "id": "nS1c3RYTwvNM"
      },
      "source": [
        "사실상 USER_ID 999665 때문에 CC타입의 2자리수에 영향을 줌\n",
        "\n",
        "999665을 제외한 다른 USER들은 CC는 없음"
      ]
    },
    {
      "cell_type": "code",
      "metadata": {
        "colab": {
          "base_uri": "https://localhost:8080/"
        },
        "id": "ZFiv8SD_1e88",
        "outputId": "6adc7569-faeb-4621-f394-563c16a87151"
      },
      "source": [
        "parking_1 = parking_df[parking_df['USER_ID']!=999665]\n",
        "print(parking_1['COUNT'].value_counts())"
      ],
      "execution_count": null,
      "outputs": [
        {
          "output_type": "stream",
          "text": [
            "1     863775\n",
            "2      13519\n",
            "3       1060\n",
            "4        271\n",
            "5        133\n",
            "6         63\n",
            "7         36\n",
            "9         12\n",
            "8         11\n",
            "10         6\n",
            "15         4\n",
            "11         3\n",
            "12         3\n",
            "13         3\n",
            "23         2\n",
            "22         1\n",
            "17         1\n",
            "19         1\n",
            "20         1\n",
            "Name: COUNT, dtype: int64\n"
          ],
          "name": "stdout"
        }
      ]
    },
    {
      "cell_type": "markdown",
      "metadata": {
        "id": "8zIrhOOTa5ft"
      },
      "source": [
        "# D_TYPE 컬럼 비교\n",
        "\n",
        "\n",
        "1.   USER_ID 같은 USER_ID는 D_TYPE이 동일함\n",
        "\n",
        "2.   JOIN_DATE CC인 user와 AA / BB  user가 같이 섞여있음\n",
        "\n",
        "3.   STORE_ID 같은 STORE_ID인데 CC인 user와 AA / BB가 같이 섞여있음\n",
        "\n",
        "4.   GOODS_TYPE A,B,C,D 골고루 나옴\n",
        "\n",
        "5.   DATE 날짜가 제각각임\n",
        "\n",
        "6.   COUNT CC의 count를 보면 1,2카운트 이후 2자리수 카운트숫자와 \n",
        "\n",
        " 전체 count 2자리수 카운트숫자랑 비슷 --> 999665으로 인해 제대로 된 분석 아님\n",
        "\n",
        "7.   AD1 연관이 없음 AD1 1개인 user도 있고 AD1가 다수인 user도 있음\n",
        "\n",
        "---\n",
        "USER_ID / STORE_ID가 둘다 D_TYPE에 count가 상승\n",
        "\n",
        "온도에 따라 AA/BB/CC 변화\n",
        "\n",
        "어플에서 주차장 종류로 민영 공영 공유 주차장일 가능성도 있음\n",
        "\n"
      ]
    },
    {
      "cell_type": "markdown",
      "metadata": {
        "id": "UgnEc6C3ERva"
      },
      "source": [
        "# J / GN / JRR / SC / MP 지역명을 약자로 적은것 같음 \n",
        "\n",
        "중구 강남구 종로구 서초구 마포구 등등"
      ]
    },
    {
      "cell_type": "code",
      "metadata": {
        "colab": {
          "base_uri": "https://localhost:8080/",
          "height": 1000
        },
        "id": "omc5ZB6tOCqx",
        "outputId": "77555ac1-34fe-4254-a248-69cc4cadd33d"
      },
      "source": [
        "# AD1별 결제건수 시각화\n",
        "plt.figure(figsize=(20,12))\n",
        "sns.barplot(x=parking_df.groupby(\"AD1\")[\"COUNT\"].sum().keys(), y=parking_df.groupby(\"AD1\")[\"COUNT\"].sum())\n",
        "plt.ylabel('Count', fontsize=16)\n",
        "plt.xlabel('AD1', fontsize=16)\n",
        "plt.xticks(rotation=60)\n",
        "plt.show()\n",
        "\n",
        "#AD1 컬럼 분포 확인\n",
        "ad1_df=parking_df['AD1'].value_counts()\n",
        "plt.figure(figsize=(20,12))\n",
        "print(ad1_df.head(18))\n",
        "print(ad1_df.plot.bar())"
      ],
      "execution_count": null,
      "outputs": [
        {
          "output_type": "display_data",
          "data": {
            "image/png": "[encoded data removed]",
            "text/plain": [
              "<Figure size 1440x864 with 1 Axes>"
            ]
          },
          "metadata": {
            "needs_background": "light"
          }
        },
        {
          "output_type": "stream",
          "text": [
            "J      179383\n",
            "GN     172967\n",
            "JRR    126586\n",
            "SC      75856\n",
            "MP      67819\n",
            "YD      47686\n",
            "YO      37171\n",
            "GS      26869\n",
            "CY      23376\n",
            "BF      18035\n",
            "GJ      17938\n",
            "SD      17768\n",
            "CD       8535\n",
            "GW       7053\n",
            "DM       5131\n",
            "GD       4989\n",
            "P        4345\n",
            "0        4225\n",
            "Name: AD1, dtype: int64\n",
            "AxesSubplot(0.125,0.125;0.775x0.755)\n"
          ],
          "name": "stdout"
        },
        {
          "output_type": "display_data",
          "data": {
            "image/png": "[encoded data removed]",
            "text/plain": [
              "<Figure size 1440x864 with 1 Axes>"
            ]
          },
          "metadata": {
            "needs_background": "light"
          }
        }
      ]
    },
    {
      "cell_type": "code",
      "metadata": {
        "colab": {
          "base_uri": "https://localhost:8080/"
        },
        "id": "V_-KzBQjOjR8",
        "outputId": "56b3386a-f8b0-4673-f9d3-c93978ca2318"
      },
      "source": [
        "ad1 = pd.DataFrame(parking_df.groupby(['AD1','STORE_ID','Weekday']).count())\n",
        "ad1.duplicated(keep=False) # 중복열 확인 및 제거\n",
        "ad1['COUNT']"
      ],
      "execution_count": null,
      "outputs": [
        {
          "output_type": "execute_result",
          "data": {
            "text/plain": [
              "AD1  STORE_ID  Weekday\n",
              "0    157708    0          21\n",
              "               1          15\n",
              "               2          25\n",
              "               3          25\n",
              "               4          49\n",
              "                          ..\n",
              "ZP   220973    5           6\n",
              "               6           3\n",
              "     221040    0           5\n",
              "               2           1\n",
              "               4           1\n",
              "Name: COUNT, Length: 5639, dtype: int64"
            ]
          },
          "metadata": {},
          "execution_count": 55
        }
      ]
    },
    {
      "cell_type": "code",
      "metadata": {
        "id": "TnCutT8SXTkQ"
      },
      "source": [
        "mon_df = parking_df[parking_df['Weekday']==0]\n",
        "mon_df= mon_df[['COUNT','AD1','Weekday']]\n",
        "\n",
        "wed_df = parking_df[parking_df['Weekday']==2]\n",
        "wed_df = wed_df[['COUNT','AD1','Weekday']]\n",
        "\n",
        "fri_df = parking_df[parking_df['Weekday']==4]\n",
        "fri_df = fri_df[['COUNT','AD1','Weekday']]\n",
        "\n",
        "sat_df = parking_df[parking_df['Weekday']==5]\n",
        "sat_df = sat_df[['COUNT','AD1','Weekday']]\n",
        "\n",
        "sun_df = parking_df[parking_df['Weekday']==6]\n",
        "sun_df = sun_df[['COUNT','AD1','Weekday']]"
      ],
      "execution_count": null,
      "outputs": []
    },
    {
      "cell_type": "code",
      "metadata": {
        "colab": {
          "base_uri": "https://localhost:8080/",
          "height": 941
        },
        "id": "f_hGHFDlXq_0",
        "outputId": "70cfc667-0401-420e-fe50-4e1897139412"
      },
      "source": [
        "figure, (ax1, ax2, ax3) = plt.subplots(nrows=3, ncols=1)\n",
        "figure.set_size_inches(25,20)\n",
        "\n",
        "sns.countplot(data=mon_df, x='AD1', ax=ax1).set(title='Mon_AD1')\n",
        "sns.countplot(data=wed_df, x='AD1', ax=ax2).set(title='Wed_AD1')\n",
        "sns.countplot(data=fri_df, x='AD1', ax=ax3).set(title='Fri_AD1')\n"
      ],
      "execution_count": null,
      "outputs": [
        {
          "output_type": "execute_result",
          "data": {
            "text/plain": [
              "[Text(0.5, 1.0, 'Fri_AD1')]"
            ]
          },
          "metadata": {},
          "execution_count": 57
        },
        {
          "output_type": "display_data",
          "data": {
            "image/png": "[encoded data removed]",
            "text/plain": [
              "<Figure size 1800x1440 with 3 Axes>"
            ]
          },
          "metadata": {
            "needs_background": "light"
          }
        }
      ]
    },
    {
      "cell_type": "code",
      "metadata": {
        "colab": {
          "base_uri": "https://localhost:8080/",
          "height": 941
        },
        "id": "eAaM_qixcURY",
        "outputId": "03c32396-36d9-48ec-d7c2-9ac4278c46f0"
      },
      "source": [
        "figure, (ax4, ax5) = plt.subplots(nrows=2, ncols=1)\n",
        "figure.set_size_inches(25,20)\n",
        "\n",
        "sns.countplot(data=sat_df, x='AD1', ax=ax4).set(title='Sat_AD1')\n",
        "sns.countplot(data=sun_df, x='AD1', ax=ax5).set(title='Sun_AD1')"
      ],
      "execution_count": null,
      "outputs": [
        {
          "output_type": "execute_result",
          "data": {
            "text/plain": [
              "[Text(0.5, 1.0, 'Sun_AD1')]"
            ]
          },
          "metadata": {},
          "execution_count": 58
        },
        {
          "output_type": "display_data",
          "data": {
            "image/png": "[encoded data removed]",
            "text/plain": [
              "<Figure size 1800x1440 with 2 Axes>"
            ]
          },
          "metadata": {
            "needs_background": "light"
          }
        }
      ]
    },
    {
      "cell_type": "markdown",
      "metadata": {
        "id": "Ey4qh7G0Enlr"
      },
      "source": [
        "#평일 월수금 주말 나눠서 분석\n",
        "\n",
        "\n",
        "1.   평일 J 1위 주말 3위 --> 평균 값 평일: 30000 주말: 17000\n",
        "\n",
        "2.   평일 GN 2위 주말 1위 --> 평균 값 평일: 25000 주말: 23000\n",
        "\n",
        "3.   평일 JRR 3위 주말 2위 --> 평균 값 평일: 17000 주말: 17000\n",
        "\n",
        "4.   평일 SC 4위 주말 4위 --> 평균 값 평일: 10000 주말: 10000\n",
        "\n",
        "5.   평일 MP 5위 주말 5위 --> 평균 값 평일: 9000 주말: 10000\n",
        "\n",
        "6.   평일 YD 6위 주말 6위 --> 평균 값 평일: 7000 주말: 5000\n",
        "\n",
        "\n",
        "---\n",
        "# AD1 지역을 의미할 가능성이 높음\n",
        "\n"
      ]
    },
    {
      "cell_type": "markdown",
      "metadata": {
        "id": "YmP6eklMELuB"
      },
      "source": [
        "# 모두의 주차장 홈페이지에서 예시 \n",
        "\n",
        "평일 당일권 / 3시간권(시간은 주차장마다 다름) / 평일 심야권 / 휴일 당일권 이렇게 예시를 들고 있음\n",
        "\n",
        "Goods type으로 주차권 타입이 가능성이 높음"
      ]
    },
    {
      "cell_type": "code",
      "metadata": {
        "colab": {
          "base_uri": "https://localhost:8080/"
        },
        "id": "FxYJOMUgsPdf",
        "outputId": "ff4b5c83-99f7-46a0-d746-3b9056a3cb9a"
      },
      "source": [
        "parking_df['GOODS_TYPE'].value_counts()"
      ],
      "execution_count": null,
      "outputs": [
        {
          "output_type": "execute_result",
          "data": {
            "text/plain": [
              "A    609790\n",
              "C    131163\n",
              "B    118541\n",
              "D     19777\n",
              "Name: GOODS_TYPE, dtype: int64"
            ]
          },
          "metadata": {},
          "execution_count": 59
        }
      ]
    },
    {
      "cell_type": "code",
      "metadata": {
        "colab": {
          "base_uri": "https://localhost:8080/",
          "height": 280
        },
        "id": "Ql7OgdFMSeLI",
        "outputId": "899f4fab-a2b5-43da-d5ae-b6fe3a46878d"
      },
      "source": [
        "sns.countplot(data=parking_df, x='GOODS_TYPE');"
      ],
      "execution_count": null,
      "outputs": [
        {
          "output_type": "display_data",
          "data": {
            "image/png": "[encoded data removed]",
            "text/plain": [
              "<Figure size 432x288 with 1 Axes>"
            ]
          },
          "metadata": {
            "needs_background": "light"
          }
        }
      ]
    },
    {
      "cell_type": "code",
      "metadata": {
        "colab": {
          "base_uri": "https://localhost:8080/",
          "height": 279
        },
        "id": "K9ssaX6xtcl9",
        "outputId": "6622fe2f-62f3-43ca-8aea-b14cdd623909"
      },
      "source": [
        "sns.countplot(data=parking_df, x='Weekday');"
      ],
      "execution_count": null,
      "outputs": [
        {
          "output_type": "display_data",
          "data": {
            "image/png": "[encoded data removed]",
            "text/plain": [
              "<Figure size 432x288 with 1 Axes>"
            ]
          },
          "metadata": {
            "needs_background": "light"
          }
        }
      ]
    },
    {
      "cell_type": "code",
      "metadata": {
        "colab": {
          "base_uri": "https://localhost:8080/"
        },
        "id": "rMzB-_mVFiM6",
        "outputId": "ff4f83dd-9f5b-450f-be02-bdfda3c286fd"
      },
      "source": [
        "parking_df.groupby('Weekday')['GOODS_TYPE'].value_counts()"
      ],
      "execution_count": null,
      "outputs": [
        {
          "output_type": "execute_result",
          "data": {
            "text/plain": [
              "Weekday  GOODS_TYPE\n",
              "0        A             89099\n",
              "         B             16993\n",
              "         C             16733\n",
              "         D              4227\n",
              "1        A             89400\n",
              "         B             20744\n",
              "         C             17489\n",
              "         D              3048\n",
              "2        A             89360\n",
              "         B             21586\n",
              "         C             18231\n",
              "         D              3108\n",
              "3        A             89246\n",
              "         B             22793\n",
              "         C             18291\n",
              "         D              3286\n",
              "4        A             86662\n",
              "         B             27847\n",
              "         C             19913\n",
              "         D              3495\n",
              "5        A             99048\n",
              "         C             24413\n",
              "         B              6218\n",
              "         D              1801\n",
              "6        A             66975\n",
              "         C             16093\n",
              "         B              2360\n",
              "         D               812\n",
              "Name: GOODS_TYPE, dtype: int64"
            ]
          },
          "metadata": {},
          "execution_count": 62
        }
      ]
    },
    {
      "cell_type": "code",
      "metadata": {
        "colab": {
          "base_uri": "https://localhost:8080/",
          "height": 606
        },
        "id": "bb6foWeC0Rw1",
        "outputId": "a320acdf-53cc-412f-a933-3366f1032882"
      },
      "source": [
        "counts_week = parking_df.groupby(['Weekday','GOODS_TYPE'])['COUNT'].sum().reset_index()\n",
        "counts_weekday = counts_week[['Weekday','GOODS_TYPE','COUNT']]\n",
        "plt.figure(figsize=(18,10))\n",
        "sns.lineplot(x = 'Weekday', y = 'COUNT', hue = 'GOODS_TYPE', data = counts_weekday);"
      ],
      "execution_count": null,
      "outputs": [
        {
          "output_type": "display_data",
          "data": {
            "image/png": "[encoded data removed]",
            "text/plain": [
              "<Figure size 1296x720 with 1 Axes>"
            ]
          },
          "metadata": {
            "needs_background": "light"
          }
        }
      ]
    },
    {
      "cell_type": "markdown",
      "metadata": {
        "id": "YKnSR4LzUQbZ"
      },
      "source": [
        "# 요일 비교로 GOODS_TYPE 구분\n",
        "\n",
        "\n",
        "\n",
        "1.   주말에 C가 증가하는걸 보면 C는 휴일 당일권일 가능성이 높음\n",
        "\n",
        "2.   주말에 D가 감소하는걸 보면 D는 평일 심야권일 가능성이 높음\n",
        "\n",
        "3.   주말에 B가 감소하는걸 보면 B는 평일 당일권일 가능성이 높음\n",
        "\n",
        "4.   남은 A는 시간권일 가능성이 높음\n",
        "\n",
        "\n",
        "---\n",
        "\n",
        "# 요일 카운터로 비교\n",
        "\n",
        "금요일까지 증가하다가 주말에 감소하는 경향이 보임\n"
      ]
    },
    {
      "cell_type": "markdown",
      "metadata": {
        "id": "O1KRdIOUgodw"
      },
      "source": [
        "# USER_ID  & STORE_ID 분석\n",
        "\n",
        "*   하루에 다중 결제를 판별 1개의 아이디를 공유하는 지 파악\n",
        "\n",
        "*   결제를 여러번한 유저 확인 후 등급 나누기\n",
        "\n",
        "*   COUNT가 많은 STORE 확인 후 등급 나누기\n"
      ]
    },
    {
      "cell_type": "code",
      "metadata": {
        "id": "VdLN0_P4dSos",
        "colab": {
          "base_uri": "https://localhost:8080/"
        },
        "outputId": "9378d366-0a1f-4006-c21e-12648bb46fac"
      },
      "source": [
        "# 충성도 높은 유저 찾기\n",
        "\n",
        "user_df = parking_df.sort_values(['USER_ID','JOIN_DATE']).reset_index(drop=True)\n",
        "user_df['Rating'] = ''\n",
        "user_df['Rating'][user_df['COUNT']==1] = 'Bronze' \n",
        "user_df['Rating'][(user_df['COUNT']>1) & (user_df['COUNT']<=3)] = 'Silver'\n",
        "user_df['Rating'][(user_df['COUNT']>3) & (user_df['COUNT']<=5)] = 'Gold'\n",
        "user_df['Rating'][(user_df['COUNT']>5) & (user_df['COUNT']<=7)] = 'Platinum'\n",
        "user_df['Rating'][(user_df['COUNT']>7) & (user_df['COUNT']<=9)] = 'Diamond'\n",
        "user_df['Rating'][user_df['COUNT']>9] = 'VIP'\n",
        "\n",
        "user_df['Rating'].value_counts()"
      ],
      "execution_count": null,
      "outputs": [
        {
          "output_type": "stream",
          "text": [
            "/usr/local/lib/python3.7/dist-packages/ipykernel_launcher.py:5: SettingWithCopyWarning: \n",
            "A value is trying to be set on a copy of a slice from a DataFrame\n",
            "\n",
            "See the caveats in the documentation: https://pandas.pydata.org/pandas-docs/stable/user_guide/indexing.html#returning-a-view-versus-a-copy\n",
            "  \"\"\"\n",
            "/usr/local/lib/python3.7/dist-packages/ipykernel_launcher.py:6: SettingWithCopyWarning: \n",
            "A value is trying to be set on a copy of a slice from a DataFrame\n",
            "\n",
            "See the caveats in the documentation: https://pandas.pydata.org/pandas-docs/stable/user_guide/indexing.html#returning-a-view-versus-a-copy\n",
            "  \n",
            "/usr/local/lib/python3.7/dist-packages/ipykernel_launcher.py:7: SettingWithCopyWarning: \n",
            "A value is trying to be set on a copy of a slice from a DataFrame\n",
            "\n",
            "See the caveats in the documentation: https://pandas.pydata.org/pandas-docs/stable/user_guide/indexing.html#returning-a-view-versus-a-copy\n",
            "  import sys\n",
            "/usr/local/lib/python3.7/dist-packages/ipykernel_launcher.py:8: SettingWithCopyWarning: \n",
            "A value is trying to be set on a copy of a slice from a DataFrame\n",
            "\n",
            "See the caveats in the documentation: https://pandas.pydata.org/pandas-docs/stable/user_guide/indexing.html#returning-a-view-versus-a-copy\n",
            "  \n",
            "/usr/local/lib/python3.7/dist-packages/ipykernel_launcher.py:9: SettingWithCopyWarning: \n",
            "A value is trying to be set on a copy of a slice from a DataFrame\n",
            "\n",
            "See the caveats in the documentation: https://pandas.pydata.org/pandas-docs/stable/user_guide/indexing.html#returning-a-view-versus-a-copy\n",
            "  if __name__ == '__main__':\n",
            "/usr/local/lib/python3.7/dist-packages/ipykernel_launcher.py:10: SettingWithCopyWarning: \n",
            "A value is trying to be set on a copy of a slice from a DataFrame\n",
            "\n",
            "See the caveats in the documentation: https://pandas.pydata.org/pandas-docs/stable/user_guide/indexing.html#returning-a-view-versus-a-copy\n",
            "  # Remove the CWD from sys.path while we load stuff.\n"
          ],
          "name": "stderr"
        },
        {
          "output_type": "execute_result",
          "data": {
            "text/plain": [
              "Bronze      863775\n",
              "Silver       14580\n",
              "Gold           407\n",
              "VIP            353\n",
              "Platinum       111\n",
              "Diamond         45\n",
              "Name: Rating, dtype: int64"
            ]
          },
          "metadata": {},
          "execution_count": 64
        }
      ]
    },
    {
      "cell_type": "code",
      "metadata": {
        "colab": {
          "base_uri": "https://localhost:8080/",
          "height": 419
        },
        "id": "KdPufscwuQZG",
        "outputId": "e9fcf302-80e7-48ca-9cfd-f49e32951f9e"
      },
      "source": [
        "# 하루에 다중결제를 하는 유저찾기\n",
        "user_mul = user_df[user_df['Rating'] != 'Bronze']\n",
        "\n",
        "use = user_mul.groupby(['DATE','COUNT'])['USER_ID'].sum().reset_index()\n",
        "use"
      ],
      "execution_count": null,
      "outputs": [
        {
          "output_type": "execute_result",
          "data": {
            "text/html": [
              "<div>\n",
              "<style scoped>\n",
              "    .dataframe tbody tr th:only-of-type {\n",
              "        vertical-align: middle;\n",
              "    }\n",
              "\n",
              "    .dataframe tbody tr th {\n",
              "        vertical-align: top;\n",
              "    }\n",
              "\n",
              "    .dataframe thead th {\n",
              "        text-align: right;\n",
              "    }\n",
              "</style>\n",
              "<table border=\"1\" class=\"dataframe\">\n",
              "  <thead>\n",
              "    <tr style=\"text-align: right;\">\n",
              "      <th></th>\n",
              "      <th>DATE</th>\n",
              "      <th>COUNT</th>\n",
              "      <th>USER_ID</th>\n",
              "    </tr>\n",
              "  </thead>\n",
              "  <tbody>\n",
              "    <tr>\n",
              "      <th>0</th>\n",
              "      <td>2020-01-01</td>\n",
              "      <td>2</td>\n",
              "      <td>6146576</td>\n",
              "    </tr>\n",
              "    <tr>\n",
              "      <th>1</th>\n",
              "      <td>2020-01-01</td>\n",
              "      <td>6</td>\n",
              "      <td>999665</td>\n",
              "    </tr>\n",
              "    <tr>\n",
              "      <th>2</th>\n",
              "      <td>2020-01-02</td>\n",
              "      <td>2</td>\n",
              "      <td>26475345</td>\n",
              "    </tr>\n",
              "    <tr>\n",
              "      <th>3</th>\n",
              "      <td>2020-01-02</td>\n",
              "      <td>3</td>\n",
              "      <td>2427808</td>\n",
              "    </tr>\n",
              "    <tr>\n",
              "      <th>4</th>\n",
              "      <td>2020-01-02</td>\n",
              "      <td>11</td>\n",
              "      <td>999665</td>\n",
              "    </tr>\n",
              "    <tr>\n",
              "      <th>...</th>\n",
              "      <td>...</td>\n",
              "      <td>...</td>\n",
              "      <td>...</td>\n",
              "    </tr>\n",
              "    <tr>\n",
              "      <th>1489</th>\n",
              "      <td>2020-12-31</td>\n",
              "      <td>2</td>\n",
              "      <td>52554289</td>\n",
              "    </tr>\n",
              "    <tr>\n",
              "      <th>1490</th>\n",
              "      <td>2020-12-31</td>\n",
              "      <td>3</td>\n",
              "      <td>9388523</td>\n",
              "    </tr>\n",
              "    <tr>\n",
              "      <th>1491</th>\n",
              "      <td>2020-12-31</td>\n",
              "      <td>4</td>\n",
              "      <td>1811081</td>\n",
              "    </tr>\n",
              "    <tr>\n",
              "      <th>1492</th>\n",
              "      <td>2020-12-31</td>\n",
              "      <td>5</td>\n",
              "      <td>709657</td>\n",
              "    </tr>\n",
              "    <tr>\n",
              "      <th>1493</th>\n",
              "      <td>2020-12-31</td>\n",
              "      <td>42</td>\n",
              "      <td>999665</td>\n",
              "    </tr>\n",
              "  </tbody>\n",
              "</table>\n",
              "<p>1494 rows × 3 columns</p>\n",
              "</div>"
            ],
            "text/plain": [
              "           DATE  COUNT   USER_ID\n",
              "0    2020-01-01      2   6146576\n",
              "1    2020-01-01      6    999665\n",
              "2    2020-01-02      2  26475345\n",
              "3    2020-01-02      3   2427808\n",
              "4    2020-01-02     11    999665\n",
              "...         ...    ...       ...\n",
              "1489 2020-12-31      2  52554289\n",
              "1490 2020-12-31      3   9388523\n",
              "1491 2020-12-31      4   1811081\n",
              "1492 2020-12-31      5    709657\n",
              "1493 2020-12-31     42    999665\n",
              "\n",
              "[1494 rows x 3 columns]"
            ]
          },
          "metadata": {},
          "execution_count": 65
        }
      ]
    },
    {
      "cell_type": "code",
      "metadata": {
        "colab": {
          "base_uri": "https://localhost:8080/"
        },
        "id": "dWht0-4dj2_c",
        "outputId": "226ed669-933f-4578-c582-d09c8873e295"
      },
      "source": [
        "# 결제율이 좋은 STORE 찾기\n",
        "\n",
        "store_df = parking_df.groupby('STORE_ID')['COUNT'].sum().reset_index()\n",
        "\n",
        "store_df['Rating'] = ''\n",
        "store_df['Rating'][store_df['COUNT']==1] = 'Bronze' \n",
        "store_df['Rating'][(store_df['COUNT']>1) & (store_df['COUNT']<=5)] = 'Silver'\n",
        "store_df['Rating'][(store_df['COUNT']>5) & (store_df['COUNT']<=9)] = 'Gold'\n",
        "store_df['Rating'][(store_df['COUNT']>9) & (store_df['COUNT']<=15)] = 'Platinum'\n",
        "store_df['Rating'][(store_df['COUNT']>15) & (store_df['COUNT']<=20)] = 'Diamond'\n",
        "store_df['Rating'][store_df['COUNT']>20] = 'VIP'\n",
        "\n",
        "store_df['Rating'].value_counts()"
      ],
      "execution_count": null,
      "outputs": [
        {
          "output_type": "stream",
          "text": [
            "/usr/local/lib/python3.7/dist-packages/ipykernel_launcher.py:6: SettingWithCopyWarning: \n",
            "A value is trying to be set on a copy of a slice from a DataFrame\n",
            "\n",
            "See the caveats in the documentation: https://pandas.pydata.org/pandas-docs/stable/user_guide/indexing.html#returning-a-view-versus-a-copy\n",
            "  \n",
            "/usr/local/lib/python3.7/dist-packages/ipykernel_launcher.py:7: SettingWithCopyWarning: \n",
            "A value is trying to be set on a copy of a slice from a DataFrame\n",
            "\n",
            "See the caveats in the documentation: https://pandas.pydata.org/pandas-docs/stable/user_guide/indexing.html#returning-a-view-versus-a-copy\n",
            "  import sys\n",
            "/usr/local/lib/python3.7/dist-packages/ipykernel_launcher.py:8: SettingWithCopyWarning: \n",
            "A value is trying to be set on a copy of a slice from a DataFrame\n",
            "\n",
            "See the caveats in the documentation: https://pandas.pydata.org/pandas-docs/stable/user_guide/indexing.html#returning-a-view-versus-a-copy\n",
            "  \n",
            "/usr/local/lib/python3.7/dist-packages/ipykernel_launcher.py:9: SettingWithCopyWarning: \n",
            "A value is trying to be set on a copy of a slice from a DataFrame\n",
            "\n",
            "See the caveats in the documentation: https://pandas.pydata.org/pandas-docs/stable/user_guide/indexing.html#returning-a-view-versus-a-copy\n",
            "  if __name__ == '__main__':\n",
            "/usr/local/lib/python3.7/dist-packages/ipykernel_launcher.py:10: SettingWithCopyWarning: \n",
            "A value is trying to be set on a copy of a slice from a DataFrame\n",
            "\n",
            "See the caveats in the documentation: https://pandas.pydata.org/pandas-docs/stable/user_guide/indexing.html#returning-a-view-versus-a-copy\n",
            "  # Remove the CWD from sys.path while we load stuff.\n",
            "/usr/local/lib/python3.7/dist-packages/ipykernel_launcher.py:11: SettingWithCopyWarning: \n",
            "A value is trying to be set on a copy of a slice from a DataFrame\n",
            "\n",
            "See the caveats in the documentation: https://pandas.pydata.org/pandas-docs/stable/user_guide/indexing.html#returning-a-view-versus-a-copy\n",
            "  # This is added back by InteractiveShellApp.init_path()\n"
          ],
          "name": "stderr"
        },
        {
          "output_type": "execute_result",
          "data": {
            "text/plain": [
              "VIP         709\n",
              "Silver      139\n",
              "Gold         68\n",
              "Bronze       63\n",
              "Platinum     49\n",
              "Diamond      33\n",
              "Name: Rating, dtype: int64"
            ]
          },
          "metadata": {},
          "execution_count": 67
        }
      ]
    },
    {
      "cell_type": "code",
      "metadata": {
        "id": "MY4RulqarR2M"
      },
      "source": [
        ""
      ],
      "execution_count": null,
      "outputs": []
    }
  ]
}