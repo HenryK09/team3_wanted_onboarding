{
  "nbformat": 4,
  "nbformat_minor": 0,
  "metadata": {
    "colab": {
      "name": "Week2_v1",
      "provenance": [],
      "collapsed_sections": []
    },
    "kernelspec": {
      "name": "python3",
      "display_name": "Python 3"
    },
    "language_info": {
      "name": "python"
    }
  },
  "cells": [
    {
      "cell_type": "code",
      "metadata": {
        "colab": {
          "base_uri": "https://localhost:8080/"
        },
        "id": "nSiYEnqyJHMN",
        "outputId": "d175315b-e795-41b1-f53a-3bac09370661"
      },
      "source": [
        "# #colab에서 한글이 깨질때 나눔폰트 설치\n",
        "# !sudo apt-get install -y fonts-nanum\n",
        "# !sudo fc-cache -fv\n",
        "# !rm ~/.cache/matplotlib -rf"
      ],
      "execution_count": null,
      "outputs": [
        {
          "output_type": "stream",
          "text": [
            "Reading package lists... Done\n",
            "Building dependency tree       \n",
            "Reading state information... Done\n",
            "The following NEW packages will be installed:\n",
            "  fonts-nanum\n",
            "0 upgraded, 1 newly installed, 0 to remove and 40 not upgraded.\n",
            "Need to get 9,604 kB of archives.\n",
            "After this operation, 29.5 MB of additional disk space will be used.\n",
            "Get:1 http://archive.ubuntu.com/ubuntu bionic/universe amd64 fonts-nanum all 20170925-1 [9,604 kB]\n",
            "Fetched 9,604 kB in 1s (8,021 kB/s)\n",
            "debconf: unable to initialize frontend: Dialog\n",
            "debconf: (No usable dialog-like program is installed, so the dialog based frontend cannot be used. at /usr/share/perl5/Debconf/FrontEnd/Dialog.pm line 76, <> line 1.)\n",
            "debconf: falling back to frontend: Readline\n",
            "debconf: unable to initialize frontend: Readline\n",
            "debconf: (This frontend requires a controlling tty.)\n",
            "debconf: falling back to frontend: Teletype\n",
            "dpkg-preconfigure: unable to re-open stdin: \n",
            "Selecting previously unselected package fonts-nanum.\n",
            "(Reading database ... 160837 files and directories currently installed.)\n",
            "Preparing to unpack .../fonts-nanum_20170925-1_all.deb ...\n",
            "Unpacking fonts-nanum (20170925-1) ...\n",
            "Setting up fonts-nanum (20170925-1) ...\n",
            "Processing triggers for fontconfig (2.12.6-0ubuntu2) ...\n",
            "/usr/share/fonts: caching, new cache contents: 0 fonts, 1 dirs\n",
            "/usr/share/fonts/truetype: caching, new cache contents: 0 fonts, 3 dirs\n",
            "/usr/share/fonts/truetype/humor-sans: caching, new cache contents: 1 fonts, 0 dirs\n",
            "/usr/share/fonts/truetype/liberation: caching, new cache contents: 16 fonts, 0 dirs\n",
            "/usr/share/fonts/truetype/nanum: caching, new cache contents: 10 fonts, 0 dirs\n",
            "/usr/local/share/fonts: caching, new cache contents: 0 fonts, 0 dirs\n",
            "/root/.local/share/fonts: skipping, no such directory\n",
            "/root/.fonts: skipping, no such directory\n",
            "/var/cache/fontconfig: cleaning cache directory\n",
            "/root/.cache/fontconfig: not cleaning non-existent cache directory\n",
            "/root/.fontconfig: not cleaning non-existent cache directory\n",
            "fc-cache: succeeded\n"
          ],
          "name": "stdout"
        }
      ]
    },
    {
      "cell_type": "code",
      "metadata": {
        "colab": {
          "base_uri": "https://localhost:8080/"
        },
        "id": "SIKd9yvsKVAV",
        "outputId": "3a22624a-703d-428f-dd77-ea6f7068ebca"
      },
      "source": [
        "from google.colab import drive\n",
        "drive.mount('./MyDrive')"
      ],
      "execution_count": null,
      "outputs": [
        {
          "output_type": "stream",
          "text": [
            "Drive already mounted at ./MyDrive; to attempt to forcibly remount, call drive.mount(\"./MyDrive\", force_remount=True).\n"
          ],
          "name": "stdout"
        }
      ]
    },
    {
      "cell_type": "code",
      "metadata": {
        "id": "qIej4VAUKbQl"
      },
      "source": [
        "import pandas as pd\n",
        "import numpy as np\n",
        "import matplotlib.pyplot as plt\n",
        "import seaborn as sns"
      ],
      "execution_count": null,
      "outputs": []
    },
    {
      "cell_type": "code",
      "metadata": {
        "id": "eAWkzIWCKkJO"
      },
      "source": [
        "jobis_df = pd.read_csv('/content/MyDrive/MyDrive/Jobis_3o3.csv', encoding=\"utf-8\")"
      ],
      "execution_count": null,
      "outputs": []
    },
    {
      "cell_type": "code",
      "metadata": {
        "id": "FS97ACMqKvvG"
      },
      "source": [
        "# 한글 폰트 적용\n",
        "plt.rc('font', family='NanumBarunGothic')\n",
        "sns.set(font=\"NanumBarunGothic\", \n",
        "        rc={\"axes.unicode_minus\":False},\n",
        "        style='darkgrid') \n",
        "# 캔버스 사이즈 적용\n",
        "plt.rcParams[\"figure.figsize\"] = (12, 9)"
      ],
      "execution_count": null,
      "outputs": []
    },
    {
      "cell_type": "markdown",
      "metadata": {
        "id": "dE_iuO0GLEHo"
      },
      "source": [
        "# 컬럼 정보\n",
        "\n",
        "*   age: 고객의 만 나이\n",
        "*  gender: 고객의 성별\n",
        "*   year: 소득이 발생한 연도(귀속년도)\n",
        "*   refund: 예상환급액입니다.\n",
        "*   fee: 수수료입니다.\n",
        "*   has_paid: 수수료를 결제했는지의 여부\n",
        "*   income_근로: 고객의 근로소득(월급/일용직급여)\n",
        "*   income_사업: 고객의 사업소득(프리랜서 소득)\n",
        "*   income_기타: 고객의 기타소득(그외 기타 소득)\n",
        "\n",
        "\n",
        "\n",
        "\n"
      ]
    },
    {
      "cell_type": "code",
      "metadata": {
        "colab": {
          "base_uri": "https://localhost:8080/",
          "height": 419
        },
        "id": "fko5m7AjKxVm",
        "outputId": "7682f3bd-19e2-44d7-da92-48730cb76ca8"
      },
      "source": [
        "jobis_df"
      ],
      "execution_count": null,
      "outputs": [
        {
          "output_type": "execute_result",
          "data": {
            "text/html": [
              "<div>\n",
              "<style scoped>\n",
              "    .dataframe tbody tr th:only-of-type {\n",
              "        vertical-align: middle;\n",
              "    }\n",
              "\n",
              "    .dataframe tbody tr th {\n",
              "        vertical-align: top;\n",
              "    }\n",
              "\n",
              "    .dataframe thead th {\n",
              "        text-align: right;\n",
              "    }\n",
              "</style>\n",
              "<table border=\"1\" class=\"dataframe\">\n",
              "  <thead>\n",
              "    <tr style=\"text-align: right;\">\n",
              "      <th></th>\n",
              "      <th>age</th>\n",
              "      <th>gender</th>\n",
              "      <th>year</th>\n",
              "      <th>refund</th>\n",
              "      <th>fee</th>\n",
              "      <th>has_paid</th>\n",
              "      <th>income_근로</th>\n",
              "      <th>income_사업</th>\n",
              "      <th>income_기타</th>\n",
              "    </tr>\n",
              "  </thead>\n",
              "  <tbody>\n",
              "    <tr>\n",
              "      <th>0</th>\n",
              "      <td>27.0</td>\n",
              "      <td>F</td>\n",
              "      <td>2019</td>\n",
              "      <td>5000.0</td>\n",
              "      <td>400.0</td>\n",
              "      <td>False</td>\n",
              "      <td>10001000.0</td>\n",
              "      <td>61000.0</td>\n",
              "      <td>NaN</td>\n",
              "    </tr>\n",
              "    <tr>\n",
              "      <th>1</th>\n",
              "      <td>34.0</td>\n",
              "      <td>M</td>\n",
              "      <td>2018</td>\n",
              "      <td>100000.0</td>\n",
              "      <td>1700.0</td>\n",
              "      <td>True</td>\n",
              "      <td>18092000.0</td>\n",
              "      <td>NaN</td>\n",
              "      <td>1815000.0</td>\n",
              "    </tr>\n",
              "    <tr>\n",
              "      <th>2</th>\n",
              "      <td>28.0</td>\n",
              "      <td>F</td>\n",
              "      <td>2017</td>\n",
              "      <td>289000.0</td>\n",
              "      <td>11500.0</td>\n",
              "      <td>False</td>\n",
              "      <td>NaN</td>\n",
              "      <td>1461000.0</td>\n",
              "      <td>NaN</td>\n",
              "    </tr>\n",
              "    <tr>\n",
              "      <th>3</th>\n",
              "      <td>27.0</td>\n",
              "      <td>M</td>\n",
              "      <td>2019</td>\n",
              "      <td>410000.0</td>\n",
              "      <td>16200.0</td>\n",
              "      <td>False</td>\n",
              "      <td>NaN</td>\n",
              "      <td>2471000.0</td>\n",
              "      <td>NaN</td>\n",
              "    </tr>\n",
              "    <tr>\n",
              "      <th>4</th>\n",
              "      <td>26.0</td>\n",
              "      <td>F</td>\n",
              "      <td>2016</td>\n",
              "      <td>114000.0</td>\n",
              "      <td>4300.0</td>\n",
              "      <td>True</td>\n",
              "      <td>0.0</td>\n",
              "      <td>689000.0</td>\n",
              "      <td>NaN</td>\n",
              "    </tr>\n",
              "    <tr>\n",
              "      <th>...</th>\n",
              "      <td>...</td>\n",
              "      <td>...</td>\n",
              "      <td>...</td>\n",
              "      <td>...</td>\n",
              "      <td>...</td>\n",
              "      <td>...</td>\n",
              "      <td>...</td>\n",
              "      <td>...</td>\n",
              "      <td>...</td>\n",
              "    </tr>\n",
              "    <tr>\n",
              "      <th>99995</th>\n",
              "      <td>27.0</td>\n",
              "      <td>F</td>\n",
              "      <td>2019</td>\n",
              "      <td>301000.0</td>\n",
              "      <td>11900.0</td>\n",
              "      <td>True</td>\n",
              "      <td>NaN</td>\n",
              "      <td>NaN</td>\n",
              "      <td>680000.0</td>\n",
              "    </tr>\n",
              "    <tr>\n",
              "      <th>99996</th>\n",
              "      <td>62.0</td>\n",
              "      <td>F</td>\n",
              "      <td>2019</td>\n",
              "      <td>77000.0</td>\n",
              "      <td>1300.0</td>\n",
              "      <td>True</td>\n",
              "      <td>NaN</td>\n",
              "      <td>463000.0</td>\n",
              "      <td>NaN</td>\n",
              "    </tr>\n",
              "    <tr>\n",
              "      <th>99997</th>\n",
              "      <td>24.0</td>\n",
              "      <td>M</td>\n",
              "      <td>2020</td>\n",
              "      <td>9000.0</td>\n",
              "      <td>400.0</td>\n",
              "      <td>False</td>\n",
              "      <td>7923000.0</td>\n",
              "      <td>54000.0</td>\n",
              "      <td>NaN</td>\n",
              "    </tr>\n",
              "    <tr>\n",
              "      <th>99998</th>\n",
              "      <td>24.0</td>\n",
              "      <td>M</td>\n",
              "      <td>2019</td>\n",
              "      <td>34000.0</td>\n",
              "      <td>400.0</td>\n",
              "      <td>True</td>\n",
              "      <td>NaN</td>\n",
              "      <td>204000.0</td>\n",
              "      <td>NaN</td>\n",
              "    </tr>\n",
              "    <tr>\n",
              "      <th>99999</th>\n",
              "      <td>23.0</td>\n",
              "      <td>F</td>\n",
              "      <td>2019</td>\n",
              "      <td>34000.0</td>\n",
              "      <td>400.0</td>\n",
              "      <td>True</td>\n",
              "      <td>7344000.0</td>\n",
              "      <td>205000.0</td>\n",
              "      <td>NaN</td>\n",
              "    </tr>\n",
              "  </tbody>\n",
              "</table>\n",
              "<p>100000 rows × 9 columns</p>\n",
              "</div>"
            ],
            "text/plain": [
              "        age gender  year    refund  ...  has_paid   income_근로  income_사업  income_기타\n",
              "0      27.0      F  2019    5000.0  ...     False  10001000.0    61000.0        NaN\n",
              "1      34.0      M  2018  100000.0  ...      True  18092000.0        NaN  1815000.0\n",
              "2      28.0      F  2017  289000.0  ...     False         NaN  1461000.0        NaN\n",
              "3      27.0      M  2019  410000.0  ...     False         NaN  2471000.0        NaN\n",
              "4      26.0      F  2016  114000.0  ...      True         0.0   689000.0        NaN\n",
              "...     ...    ...   ...       ...  ...       ...         ...        ...        ...\n",
              "99995  27.0      F  2019  301000.0  ...      True         NaN        NaN   680000.0\n",
              "99996  62.0      F  2019   77000.0  ...      True         NaN   463000.0        NaN\n",
              "99997  24.0      M  2020    9000.0  ...     False   7923000.0    54000.0        NaN\n",
              "99998  24.0      M  2019   34000.0  ...      True         NaN   204000.0        NaN\n",
              "99999  23.0      F  2019   34000.0  ...      True   7344000.0   205000.0        NaN\n",
              "\n",
              "[100000 rows x 9 columns]"
            ]
          },
          "metadata": {
            "tags": []
          },
          "execution_count": 5
        }
      ]
    },
    {
      "cell_type": "code",
      "metadata": {
        "colab": {
          "base_uri": "https://localhost:8080/"
        },
        "id": "TEX9-BjMK0O-",
        "outputId": "d2168f97-88f0-4bc3-c26e-3789f1269ac6"
      },
      "source": [
        "jobis_df['year'].sort_values()"
      ],
      "execution_count": null,
      "outputs": [
        {
          "output_type": "execute_result",
          "data": {
            "text/plain": [
              "27765    2015\n",
              "96594    2015\n",
              "55560    2015\n",
              "96597    2015\n",
              "55568    2015\n",
              "         ... \n",
              "78033    2020\n",
              "78032    2020\n",
              "78031    2020\n",
              "37586    2020\n",
              "31589    2020\n",
              "Name: year, Length: 100000, dtype: int64"
            ]
          },
          "metadata": {
            "tags": []
          },
          "execution_count": 6
        }
      ]
    },
    {
      "cell_type": "code",
      "metadata": {
        "colab": {
          "base_uri": "https://localhost:8080/"
        },
        "id": "h7NsretoLA3t",
        "outputId": "afcdb05e-c322-4b64-e732-ff7fabd117d1"
      },
      "source": [
        "print(jobis_df.shape) # 데이터의 행, 열 개수 출력\n",
        "print(jobis_df.dtypes) # 데이터의 타입 출력"
      ],
      "execution_count": null,
      "outputs": [
        {
          "output_type": "stream",
          "text": [
            "(100000, 9)\n",
            "age          float64\n",
            "gender        object\n",
            "year           int64\n",
            "refund       float64\n",
            "fee          float64\n",
            "has_paid        bool\n",
            "income_근로    float64\n",
            "income_사업    float64\n",
            "income_기타    float64\n",
            "dtype: object\n"
          ],
          "name": "stdout"
        }
      ]
    },
    {
      "cell_type": "code",
      "metadata": {
        "colab": {
          "base_uri": "https://localhost:8080/"
        },
        "id": "K9fzOVqKc3gs",
        "outputId": "093afa26-24ba-4009-c70d-659ed74d74bf"
      },
      "source": [
        "jobis_df.isna().sum() # NaN값이 income 항목에서 많이 나옴\n"
      ],
      "execution_count": null,
      "outputs": [
        {
          "output_type": "execute_result",
          "data": {
            "text/plain": [
              "age              0\n",
              "gender           0\n",
              "year             0\n",
              "refund           0\n",
              "fee              0\n",
              "has_paid         0\n",
              "income_근로    59209\n",
              "income_사업    21773\n",
              "income_기타    74740\n",
              "dtype: int64"
            ]
          },
          "metadata": {
            "tags": []
          },
          "execution_count": 8
        }
      ]
    },
    {
      "cell_type": "code",
      "metadata": {
        "colab": {
          "base_uri": "https://localhost:8080/",
          "height": 297
        },
        "id": "xwMNzTKkLj_8",
        "outputId": "a837025c-95d5-42e1-e887-7486ab81c047"
      },
      "source": [
        "jobis_df.describe() # 컬럼별 요약 통계 지표 출력"
      ],
      "execution_count": null,
      "outputs": [
        {
          "output_type": "execute_result",
          "data": {
            "text/html": [
              "<div>\n",
              "<style scoped>\n",
              "    .dataframe tbody tr th:only-of-type {\n",
              "        vertical-align: middle;\n",
              "    }\n",
              "\n",
              "    .dataframe tbody tr th {\n",
              "        vertical-align: top;\n",
              "    }\n",
              "\n",
              "    .dataframe thead th {\n",
              "        text-align: right;\n",
              "    }\n",
              "</style>\n",
              "<table border=\"1\" class=\"dataframe\">\n",
              "  <thead>\n",
              "    <tr style=\"text-align: right;\">\n",
              "      <th></th>\n",
              "      <th>age</th>\n",
              "      <th>year</th>\n",
              "      <th>refund</th>\n",
              "      <th>fee</th>\n",
              "      <th>income_근로</th>\n",
              "      <th>income_사업</th>\n",
              "      <th>income_기타</th>\n",
              "    </tr>\n",
              "  </thead>\n",
              "  <tbody>\n",
              "    <tr>\n",
              "      <th>count</th>\n",
              "      <td>100000.00000</td>\n",
              "      <td>100000.000000</td>\n",
              "      <td>1.000000e+05</td>\n",
              "      <td>100000.000000</td>\n",
              "      <td>4.079100e+04</td>\n",
              "      <td>7.822700e+04</td>\n",
              "      <td>2.526000e+04</td>\n",
              "    </tr>\n",
              "    <tr>\n",
              "      <th>mean</th>\n",
              "      <td>29.00096</td>\n",
              "      <td>2018.111300</td>\n",
              "      <td>2.081422e+05</td>\n",
              "      <td>7247.641000</td>\n",
              "      <td>6.432597e+06</td>\n",
              "      <td>1.511712e+06</td>\n",
              "      <td>6.362834e+05</td>\n",
              "    </tr>\n",
              "    <tr>\n",
              "      <th>std</th>\n",
              "      <td>7.76819</td>\n",
              "      <td>1.495812</td>\n",
              "      <td>3.071744e+05</td>\n",
              "      <td>11926.896979</td>\n",
              "      <td>6.583716e+06</td>\n",
              "      <td>2.449810e+06</td>\n",
              "      <td>1.484947e+06</td>\n",
              "    </tr>\n",
              "    <tr>\n",
              "      <th>min</th>\n",
              "      <td>15.00000</td>\n",
              "      <td>2015.000000</td>\n",
              "      <td>-8.265000e+06</td>\n",
              "      <td>400.000000</td>\n",
              "      <td>0.000000e+00</td>\n",
              "      <td>0.000000e+00</td>\n",
              "      <td>0.000000e+00</td>\n",
              "    </tr>\n",
              "    <tr>\n",
              "      <th>25%</th>\n",
              "      <td>24.00000</td>\n",
              "      <td>2017.000000</td>\n",
              "      <td>3.300000e+04</td>\n",
              "      <td>400.000000</td>\n",
              "      <td>1.616000e+06</td>\n",
              "      <td>1.770000e+05</td>\n",
              "      <td>8.200000e+04</td>\n",
              "    </tr>\n",
              "    <tr>\n",
              "      <th>50%</th>\n",
              "      <td>27.00000</td>\n",
              "      <td>2018.000000</td>\n",
              "      <td>9.900000e+04</td>\n",
              "      <td>4300.000000</td>\n",
              "      <td>4.507000e+06</td>\n",
              "      <td>6.190000e+05</td>\n",
              "      <td>2.130000e+05</td>\n",
              "    </tr>\n",
              "    <tr>\n",
              "      <th>75%</th>\n",
              "      <td>31.00000</td>\n",
              "      <td>2019.000000</td>\n",
              "      <td>2.540000e+05</td>\n",
              "      <td>8500.000000</td>\n",
              "      <td>9.301000e+06</td>\n",
              "      <td>1.601000e+06</td>\n",
              "      <td>5.820000e+05</td>\n",
              "    </tr>\n",
              "    <tr>\n",
              "      <th>max</th>\n",
              "      <td>81.00000</td>\n",
              "      <td>2020.000000</td>\n",
              "      <td>7.725000e+06</td>\n",
              "      <td>307000.000000</td>\n",
              "      <td>1.823350e+08</td>\n",
              "      <td>3.993400e+07</td>\n",
              "      <td>6.281000e+07</td>\n",
              "    </tr>\n",
              "  </tbody>\n",
              "</table>\n",
              "</div>"
            ],
            "text/plain": [
              "                age           year  ...     income_사업     income_기타\n",
              "count  100000.00000  100000.000000  ...  7.822700e+04  2.526000e+04\n",
              "mean       29.00096    2018.111300  ...  1.511712e+06  6.362834e+05\n",
              "std         7.76819       1.495812  ...  2.449810e+06  1.484947e+06\n",
              "min        15.00000    2015.000000  ...  0.000000e+00  0.000000e+00\n",
              "25%        24.00000    2017.000000  ...  1.770000e+05  8.200000e+04\n",
              "50%        27.00000    2018.000000  ...  6.190000e+05  2.130000e+05\n",
              "75%        31.00000    2019.000000  ...  1.601000e+06  5.820000e+05\n",
              "max        81.00000    2020.000000  ...  3.993400e+07  6.281000e+07\n",
              "\n",
              "[8 rows x 7 columns]"
            ]
          },
          "metadata": {
            "tags": []
          },
          "execution_count": 9
        }
      ]
    },
    {
      "cell_type": "markdown",
      "metadata": {
        "id": "Hnbo-XAl4Xn5"
      },
      "source": [
        "\n",
        "\n",
        "*   fee 25%: 400 50%: 4300 75%: 8500 mean: 7247 대략 7250\n",
        "*   fee 대부분이 10000을 넘지 않음\n",
        "*   age 25%: 24 50%: 27 75%: 31 mean: 29\n",
        "*   age 20~30대가 주 고객층 일꺼 같음\n",
        "\n"
      ]
    },
    {
      "cell_type": "code",
      "metadata": {
        "colab": {
          "base_uri": "https://localhost:8080/",
          "height": 297
        },
        "id": "TxzzJuLQLnUu",
        "outputId": "8ddd24b6-fe56-458b-e224-ba9fd7959d5f"
      },
      "source": [
        "jobis_df.corr() # 상관관계 1에 가까울수록 연관성이 아주 크다는 의미"
      ],
      "execution_count": null,
      "outputs": [
        {
          "output_type": "execute_result",
          "data": {
            "text/html": [
              "<div>\n",
              "<style scoped>\n",
              "    .dataframe tbody tr th:only-of-type {\n",
              "        vertical-align: middle;\n",
              "    }\n",
              "\n",
              "    .dataframe tbody tr th {\n",
              "        vertical-align: top;\n",
              "    }\n",
              "\n",
              "    .dataframe thead th {\n",
              "        text-align: right;\n",
              "    }\n",
              "</style>\n",
              "<table border=\"1\" class=\"dataframe\">\n",
              "  <thead>\n",
              "    <tr style=\"text-align: right;\">\n",
              "      <th></th>\n",
              "      <th>age</th>\n",
              "      <th>year</th>\n",
              "      <th>refund</th>\n",
              "      <th>fee</th>\n",
              "      <th>has_paid</th>\n",
              "      <th>income_근로</th>\n",
              "      <th>income_사업</th>\n",
              "      <th>income_기타</th>\n",
              "    </tr>\n",
              "  </thead>\n",
              "  <tbody>\n",
              "    <tr>\n",
              "      <th>age</th>\n",
              "      <td>1.000000</td>\n",
              "      <td>-0.113500</td>\n",
              "      <td>0.078485</td>\n",
              "      <td>0.072135</td>\n",
              "      <td>-0.022918</td>\n",
              "      <td>0.341343</td>\n",
              "      <td>0.097144</td>\n",
              "      <td>0.105064</td>\n",
              "    </tr>\n",
              "    <tr>\n",
              "      <th>year</th>\n",
              "      <td>-0.113500</td>\n",
              "      <td>1.000000</td>\n",
              "      <td>0.140977</td>\n",
              "      <td>0.169537</td>\n",
              "      <td>-0.136060</td>\n",
              "      <td>0.075071</td>\n",
              "      <td>0.149177</td>\n",
              "      <td>0.035263</td>\n",
              "    </tr>\n",
              "    <tr>\n",
              "      <th>refund</th>\n",
              "      <td>0.078485</td>\n",
              "      <td>0.140977</td>\n",
              "      <td>1.000000</td>\n",
              "      <td>0.969427</td>\n",
              "      <td>-0.094061</td>\n",
              "      <td>-0.110196</td>\n",
              "      <td>0.785344</td>\n",
              "      <td>0.737711</td>\n",
              "    </tr>\n",
              "    <tr>\n",
              "      <th>fee</th>\n",
              "      <td>0.072135</td>\n",
              "      <td>0.169537</td>\n",
              "      <td>0.969427</td>\n",
              "      <td>1.000000</td>\n",
              "      <td>-0.117695</td>\n",
              "      <td>-0.112256</td>\n",
              "      <td>0.777466</td>\n",
              "      <td>0.742307</td>\n",
              "    </tr>\n",
              "    <tr>\n",
              "      <th>has_paid</th>\n",
              "      <td>-0.022918</td>\n",
              "      <td>-0.136060</td>\n",
              "      <td>-0.094061</td>\n",
              "      <td>-0.117695</td>\n",
              "      <td>1.000000</td>\n",
              "      <td>-0.014584</td>\n",
              "      <td>-0.103945</td>\n",
              "      <td>-0.108696</td>\n",
              "    </tr>\n",
              "    <tr>\n",
              "      <th>income_근로</th>\n",
              "      <td>0.341343</td>\n",
              "      <td>0.075071</td>\n",
              "      <td>-0.110196</td>\n",
              "      <td>-0.112256</td>\n",
              "      <td>-0.014584</td>\n",
              "      <td>1.000000</td>\n",
              "      <td>-0.091732</td>\n",
              "      <td>0.044542</td>\n",
              "    </tr>\n",
              "    <tr>\n",
              "      <th>income_사업</th>\n",
              "      <td>0.097144</td>\n",
              "      <td>0.149177</td>\n",
              "      <td>0.785344</td>\n",
              "      <td>0.777466</td>\n",
              "      <td>-0.103945</td>\n",
              "      <td>-0.091732</td>\n",
              "      <td>1.000000</td>\n",
              "      <td>0.067535</td>\n",
              "    </tr>\n",
              "    <tr>\n",
              "      <th>income_기타</th>\n",
              "      <td>0.105064</td>\n",
              "      <td>0.035263</td>\n",
              "      <td>0.737711</td>\n",
              "      <td>0.742307</td>\n",
              "      <td>-0.108696</td>\n",
              "      <td>0.044542</td>\n",
              "      <td>0.067535</td>\n",
              "      <td>1.000000</td>\n",
              "    </tr>\n",
              "  </tbody>\n",
              "</table>\n",
              "</div>"
            ],
            "text/plain": [
              "                age      year    refund  ...  income_근로  income_사업  income_기타\n",
              "age        1.000000 -0.113500  0.078485  ...   0.341343   0.097144   0.105064\n",
              "year      -0.113500  1.000000  0.140977  ...   0.075071   0.149177   0.035263\n",
              "refund     0.078485  0.140977  1.000000  ...  -0.110196   0.785344   0.737711\n",
              "fee        0.072135  0.169537  0.969427  ...  -0.112256   0.777466   0.742307\n",
              "has_paid  -0.022918 -0.136060 -0.094061  ...  -0.014584  -0.103945  -0.108696\n",
              "income_근로  0.341343  0.075071 -0.110196  ...   1.000000  -0.091732   0.044542\n",
              "income_사업  0.097144  0.149177  0.785344  ...  -0.091732   1.000000   0.067535\n",
              "income_기타  0.105064  0.035263  0.737711  ...   0.044542   0.067535   1.000000\n",
              "\n",
              "[8 rows x 8 columns]"
            ]
          },
          "metadata": {
            "tags": []
          },
          "execution_count": 10
        }
      ]
    },
    {
      "cell_type": "code",
      "metadata": {
        "colab": {
          "base_uri": "https://localhost:8080/",
          "height": 563
        },
        "id": "2z_mHLQULqa1",
        "outputId": "53c5cd7d-c7a9-4fd9-9b1c-7f9b1a9ac39a"
      },
      "source": [
        "sns.heatmap(jobis_df.corr(), annot=True)\n"
      ],
      "execution_count": null,
      "outputs": [
        {
          "output_type": "execute_result",
          "data": {
            "text/plain": [
              "<matplotlib.axes._subplots.AxesSubplot at 0x7fa2d7b4c1d0>"
            ]
          },
          "metadata": {
            "tags": []
          },
          "execution_count": 11
        },
        {
          "output_type": "display_data",
          "data": {
            "image/png": "[encoded data removed]",
            "text/plain": [
              "<Figure size 864x648 with 2 Axes>"
            ]
          },
          "metadata": {
            "tags": []
          }
        }
      ]
    },
    {
      "cell_type": "markdown",
      "metadata": {
        "id": "3VtWIQ3fMHoo"
      },
      "source": [
        "# 상관관계\n",
        "\n",
        "refund / fee 0.97\n",
        "\n",
        "refund / income_사업 0.79\n",
        "\n",
        "fee / income_사업 0.78\n",
        "\n",
        "refund / income_기타 0.74\n",
        "\n",
        "fee / income_기타 0.74\n",
        "\n",
        "age / income_근로 0.34\n",
        "\n",
        "year / fee 0.17 \n",
        "\n",
        "year / income_사업 0.15\n",
        "\n",
        "year / refund 0.14\n",
        "\n",
        "age / income_기타 0.11\n",
        "\n",
        "age / income_사업 0.097\n",
        "\n",
        "age / refund 0.078\n",
        "\n",
        "year / income_근로 0.075\n",
        "\n",
        "age / fee 0.072\n",
        "\n",
        "income_사업 / income_기타 0.068\n",
        "\n",
        "income_근로 / income_기타 0.045\n",
        "\n",
        "year / income_기타 0.035\n",
        "\n",
        "---\n",
        "# 상관관계가 높은 항목\n",
        "\n",
        "refund / fee 0.97\n",
        "\n",
        "refund / income_사업 0.79\n",
        "\n",
        "fee / income_사업 0.78\n",
        "\n",
        "refund / income_기타 0.74\n",
        "\n",
        "ee / income_기타 0.74\n",
        "\n",
        "age / income_근로 0.34\n",
        "\n",
        "year / fee 0.17 \n",
        "\n",
        "year / income_사업 0.15\n",
        "\n",
        "year / refund 0.14\n",
        "\n",
        "age / income_기타 0.11"
      ]
    },
    {
      "cell_type": "markdown",
      "metadata": {
        "id": "XHzIGb34QA__"
      },
      "source": [
        "# 개인적인 전처리 방향\n",
        "\n",
        "\n",
        "1.   고객의 결제여부에 영향을 미치는 요인으로 가장 유력한것 3항목 추출\n",
        "     \n",
        "     refund / fee, refund / income_사업, fee / income_사업\n",
        "\n",
        "2.   수수료 결제 금액의 합을 높이기 위해서 항목 조합할 것\n",
        "\n",
        "     상관관계 0.1이상 항목에서 조합할 것\n",
        "\n",
        "\n",
        "3.   수수료를 지불한 사람과 지불하지 않은 사람의 차이점 분석\n",
        "\n",
        "\n",
        "\n",
        "\n"
      ]
    },
    {
      "cell_type": "code",
      "metadata": {
        "colab": {
          "base_uri": "https://localhost:8080/",
          "height": 419
        },
        "id": "9rgJlyPBLtbN",
        "outputId": "9a7ccec4-2a86-4055-f9f9-ab04427d4ad2"
      },
      "source": [
        "jobis_df"
      ],
      "execution_count": null,
      "outputs": [
        {
          "output_type": "execute_result",
          "data": {
            "text/html": [
              "<div>\n",
              "<style scoped>\n",
              "    .dataframe tbody tr th:only-of-type {\n",
              "        vertical-align: middle;\n",
              "    }\n",
              "\n",
              "    .dataframe tbody tr th {\n",
              "        vertical-align: top;\n",
              "    }\n",
              "\n",
              "    .dataframe thead th {\n",
              "        text-align: right;\n",
              "    }\n",
              "</style>\n",
              "<table border=\"1\" class=\"dataframe\">\n",
              "  <thead>\n",
              "    <tr style=\"text-align: right;\">\n",
              "      <th></th>\n",
              "      <th>age</th>\n",
              "      <th>gender</th>\n",
              "      <th>year</th>\n",
              "      <th>refund</th>\n",
              "      <th>fee</th>\n",
              "      <th>has_paid</th>\n",
              "      <th>income_근로</th>\n",
              "      <th>income_사업</th>\n",
              "      <th>income_기타</th>\n",
              "    </tr>\n",
              "  </thead>\n",
              "  <tbody>\n",
              "    <tr>\n",
              "      <th>0</th>\n",
              "      <td>27.0</td>\n",
              "      <td>F</td>\n",
              "      <td>2019</td>\n",
              "      <td>5000.0</td>\n",
              "      <td>400.0</td>\n",
              "      <td>False</td>\n",
              "      <td>10001000.0</td>\n",
              "      <td>61000.0</td>\n",
              "      <td>NaN</td>\n",
              "    </tr>\n",
              "    <tr>\n",
              "      <th>1</th>\n",
              "      <td>34.0</td>\n",
              "      <td>M</td>\n",
              "      <td>2018</td>\n",
              "      <td>100000.0</td>\n",
              "      <td>1700.0</td>\n",
              "      <td>True</td>\n",
              "      <td>18092000.0</td>\n",
              "      <td>NaN</td>\n",
              "      <td>1815000.0</td>\n",
              "    </tr>\n",
              "    <tr>\n",
              "      <th>2</th>\n",
              "      <td>28.0</td>\n",
              "      <td>F</td>\n",
              "      <td>2017</td>\n",
              "      <td>289000.0</td>\n",
              "      <td>11500.0</td>\n",
              "      <td>False</td>\n",
              "      <td>NaN</td>\n",
              "      <td>1461000.0</td>\n",
              "      <td>NaN</td>\n",
              "    </tr>\n",
              "    <tr>\n",
              "      <th>3</th>\n",
              "      <td>27.0</td>\n",
              "      <td>M</td>\n",
              "      <td>2019</td>\n",
              "      <td>410000.0</td>\n",
              "      <td>16200.0</td>\n",
              "      <td>False</td>\n",
              "      <td>NaN</td>\n",
              "      <td>2471000.0</td>\n",
              "      <td>NaN</td>\n",
              "    </tr>\n",
              "    <tr>\n",
              "      <th>4</th>\n",
              "      <td>26.0</td>\n",
              "      <td>F</td>\n",
              "      <td>2016</td>\n",
              "      <td>114000.0</td>\n",
              "      <td>4300.0</td>\n",
              "      <td>True</td>\n",
              "      <td>0.0</td>\n",
              "      <td>689000.0</td>\n",
              "      <td>NaN</td>\n",
              "    </tr>\n",
              "    <tr>\n",
              "      <th>...</th>\n",
              "      <td>...</td>\n",
              "      <td>...</td>\n",
              "      <td>...</td>\n",
              "      <td>...</td>\n",
              "      <td>...</td>\n",
              "      <td>...</td>\n",
              "      <td>...</td>\n",
              "      <td>...</td>\n",
              "      <td>...</td>\n",
              "    </tr>\n",
              "    <tr>\n",
              "      <th>99995</th>\n",
              "      <td>27.0</td>\n",
              "      <td>F</td>\n",
              "      <td>2019</td>\n",
              "      <td>301000.0</td>\n",
              "      <td>11900.0</td>\n",
              "      <td>True</td>\n",
              "      <td>NaN</td>\n",
              "      <td>NaN</td>\n",
              "      <td>680000.0</td>\n",
              "    </tr>\n",
              "    <tr>\n",
              "      <th>99996</th>\n",
              "      <td>62.0</td>\n",
              "      <td>F</td>\n",
              "      <td>2019</td>\n",
              "      <td>77000.0</td>\n",
              "      <td>1300.0</td>\n",
              "      <td>True</td>\n",
              "      <td>NaN</td>\n",
              "      <td>463000.0</td>\n",
              "      <td>NaN</td>\n",
              "    </tr>\n",
              "    <tr>\n",
              "      <th>99997</th>\n",
              "      <td>24.0</td>\n",
              "      <td>M</td>\n",
              "      <td>2020</td>\n",
              "      <td>9000.0</td>\n",
              "      <td>400.0</td>\n",
              "      <td>False</td>\n",
              "      <td>7923000.0</td>\n",
              "      <td>54000.0</td>\n",
              "      <td>NaN</td>\n",
              "    </tr>\n",
              "    <tr>\n",
              "      <th>99998</th>\n",
              "      <td>24.0</td>\n",
              "      <td>M</td>\n",
              "      <td>2019</td>\n",
              "      <td>34000.0</td>\n",
              "      <td>400.0</td>\n",
              "      <td>True</td>\n",
              "      <td>NaN</td>\n",
              "      <td>204000.0</td>\n",
              "      <td>NaN</td>\n",
              "    </tr>\n",
              "    <tr>\n",
              "      <th>99999</th>\n",
              "      <td>23.0</td>\n",
              "      <td>F</td>\n",
              "      <td>2019</td>\n",
              "      <td>34000.0</td>\n",
              "      <td>400.0</td>\n",
              "      <td>True</td>\n",
              "      <td>7344000.0</td>\n",
              "      <td>205000.0</td>\n",
              "      <td>NaN</td>\n",
              "    </tr>\n",
              "  </tbody>\n",
              "</table>\n",
              "<p>100000 rows × 9 columns</p>\n",
              "</div>"
            ],
            "text/plain": [
              "        age gender  year    refund  ...  has_paid   income_근로  income_사업  income_기타\n",
              "0      27.0      F  2019    5000.0  ...     False  10001000.0    61000.0        NaN\n",
              "1      34.0      M  2018  100000.0  ...      True  18092000.0        NaN  1815000.0\n",
              "2      28.0      F  2017  289000.0  ...     False         NaN  1461000.0        NaN\n",
              "3      27.0      M  2019  410000.0  ...     False         NaN  2471000.0        NaN\n",
              "4      26.0      F  2016  114000.0  ...      True         0.0   689000.0        NaN\n",
              "...     ...    ...   ...       ...  ...       ...         ...        ...        ...\n",
              "99995  27.0      F  2019  301000.0  ...      True         NaN        NaN   680000.0\n",
              "99996  62.0      F  2019   77000.0  ...      True         NaN   463000.0        NaN\n",
              "99997  24.0      M  2020    9000.0  ...     False   7923000.0    54000.0        NaN\n",
              "99998  24.0      M  2019   34000.0  ...      True         NaN   204000.0        NaN\n",
              "99999  23.0      F  2019   34000.0  ...      True   7344000.0   205000.0        NaN\n",
              "\n",
              "[100000 rows x 9 columns]"
            ]
          },
          "metadata": {
            "tags": []
          },
          "execution_count": 12
        }
      ]
    },
    {
      "cell_type": "code",
      "metadata": {
        "id": "p3rk6pE5YJLy"
      },
      "source": [
        "# NaN값 0으로 채우기 --> 연속성이나 기준점이 없기 때문에 0으로 채움\n",
        "jobis_df['income_근로'] = jobis_df['income_근로'].fillna(0)\n",
        "jobis_df['income_사업'] = jobis_df['income_사업'].fillna(0)\n",
        "jobis_df['income_기타'] = jobis_df['income_기타'].fillna(0)"
      ],
      "execution_count": null,
      "outputs": []
    },
    {
      "cell_type": "code",
      "metadata": {
        "colab": {
          "base_uri": "https://localhost:8080/",
          "height": 419
        },
        "id": "hfJ-T7kl3gt4",
        "outputId": "ed34c1eb-a663-4111-a7a5-24ff0f4690a9"
      },
      "source": [
        "jobis_df['refund_rate'] = round(jobis_df['fee']/jobis_df['refund'], 4)*100 # refund * refund_rate = fee 이므로 역으로 계산해서 구함\n",
        "jobis_df['refund_rate'] = jobis_df['refund_rate'].replace([np.inf, -np.inf], 0)\n",
        "jobis_df"
      ],
      "execution_count": null,
      "outputs": [
        {
          "output_type": "execute_result",
          "data": {
            "text/html": [
              "<div>\n",
              "<style scoped>\n",
              "    .dataframe tbody tr th:only-of-type {\n",
              "        vertical-align: middle;\n",
              "    }\n",
              "\n",
              "    .dataframe tbody tr th {\n",
              "        vertical-align: top;\n",
              "    }\n",
              "\n",
              "    .dataframe thead th {\n",
              "        text-align: right;\n",
              "    }\n",
              "</style>\n",
              "<table border=\"1\" class=\"dataframe\">\n",
              "  <thead>\n",
              "    <tr style=\"text-align: right;\">\n",
              "      <th></th>\n",
              "      <th>age</th>\n",
              "      <th>gender</th>\n",
              "      <th>year</th>\n",
              "      <th>refund</th>\n",
              "      <th>fee</th>\n",
              "      <th>has_paid</th>\n",
              "      <th>income_근로</th>\n",
              "      <th>income_사업</th>\n",
              "      <th>income_기타</th>\n",
              "      <th>refund_rate</th>\n",
              "    </tr>\n",
              "  </thead>\n",
              "  <tbody>\n",
              "    <tr>\n",
              "      <th>0</th>\n",
              "      <td>27.0</td>\n",
              "      <td>F</td>\n",
              "      <td>2019</td>\n",
              "      <td>5000.0</td>\n",
              "      <td>400.0</td>\n",
              "      <td>False</td>\n",
              "      <td>10001000.0</td>\n",
              "      <td>61000.0</td>\n",
              "      <td>0.0</td>\n",
              "      <td>8.00</td>\n",
              "    </tr>\n",
              "    <tr>\n",
              "      <th>1</th>\n",
              "      <td>34.0</td>\n",
              "      <td>M</td>\n",
              "      <td>2018</td>\n",
              "      <td>100000.0</td>\n",
              "      <td>1700.0</td>\n",
              "      <td>True</td>\n",
              "      <td>18092000.0</td>\n",
              "      <td>0.0</td>\n",
              "      <td>1815000.0</td>\n",
              "      <td>1.70</td>\n",
              "    </tr>\n",
              "    <tr>\n",
              "      <th>2</th>\n",
              "      <td>28.0</td>\n",
              "      <td>F</td>\n",
              "      <td>2017</td>\n",
              "      <td>289000.0</td>\n",
              "      <td>11500.0</td>\n",
              "      <td>False</td>\n",
              "      <td>0.0</td>\n",
              "      <td>1461000.0</td>\n",
              "      <td>0.0</td>\n",
              "      <td>3.98</td>\n",
              "    </tr>\n",
              "    <tr>\n",
              "      <th>3</th>\n",
              "      <td>27.0</td>\n",
              "      <td>M</td>\n",
              "      <td>2019</td>\n",
              "      <td>410000.0</td>\n",
              "      <td>16200.0</td>\n",
              "      <td>False</td>\n",
              "      <td>0.0</td>\n",
              "      <td>2471000.0</td>\n",
              "      <td>0.0</td>\n",
              "      <td>3.95</td>\n",
              "    </tr>\n",
              "    <tr>\n",
              "      <th>4</th>\n",
              "      <td>26.0</td>\n",
              "      <td>F</td>\n",
              "      <td>2016</td>\n",
              "      <td>114000.0</td>\n",
              "      <td>4300.0</td>\n",
              "      <td>True</td>\n",
              "      <td>0.0</td>\n",
              "      <td>689000.0</td>\n",
              "      <td>0.0</td>\n",
              "      <td>3.77</td>\n",
              "    </tr>\n",
              "    <tr>\n",
              "      <th>...</th>\n",
              "      <td>...</td>\n",
              "      <td>...</td>\n",
              "      <td>...</td>\n",
              "      <td>...</td>\n",
              "      <td>...</td>\n",
              "      <td>...</td>\n",
              "      <td>...</td>\n",
              "      <td>...</td>\n",
              "      <td>...</td>\n",
              "      <td>...</td>\n",
              "    </tr>\n",
              "    <tr>\n",
              "      <th>99995</th>\n",
              "      <td>27.0</td>\n",
              "      <td>F</td>\n",
              "      <td>2019</td>\n",
              "      <td>301000.0</td>\n",
              "      <td>11900.0</td>\n",
              "      <td>True</td>\n",
              "      <td>0.0</td>\n",
              "      <td>0.0</td>\n",
              "      <td>680000.0</td>\n",
              "      <td>3.95</td>\n",
              "    </tr>\n",
              "    <tr>\n",
              "      <th>99996</th>\n",
              "      <td>62.0</td>\n",
              "      <td>F</td>\n",
              "      <td>2019</td>\n",
              "      <td>77000.0</td>\n",
              "      <td>1300.0</td>\n",
              "      <td>True</td>\n",
              "      <td>0.0</td>\n",
              "      <td>463000.0</td>\n",
              "      <td>0.0</td>\n",
              "      <td>1.69</td>\n",
              "    </tr>\n",
              "    <tr>\n",
              "      <th>99997</th>\n",
              "      <td>24.0</td>\n",
              "      <td>M</td>\n",
              "      <td>2020</td>\n",
              "      <td>9000.0</td>\n",
              "      <td>400.0</td>\n",
              "      <td>False</td>\n",
              "      <td>7923000.0</td>\n",
              "      <td>54000.0</td>\n",
              "      <td>0.0</td>\n",
              "      <td>4.44</td>\n",
              "    </tr>\n",
              "    <tr>\n",
              "      <th>99998</th>\n",
              "      <td>24.0</td>\n",
              "      <td>M</td>\n",
              "      <td>2019</td>\n",
              "      <td>34000.0</td>\n",
              "      <td>400.0</td>\n",
              "      <td>True</td>\n",
              "      <td>0.0</td>\n",
              "      <td>204000.0</td>\n",
              "      <td>0.0</td>\n",
              "      <td>1.18</td>\n",
              "    </tr>\n",
              "    <tr>\n",
              "      <th>99999</th>\n",
              "      <td>23.0</td>\n",
              "      <td>F</td>\n",
              "      <td>2019</td>\n",
              "      <td>34000.0</td>\n",
              "      <td>400.0</td>\n",
              "      <td>True</td>\n",
              "      <td>7344000.0</td>\n",
              "      <td>205000.0</td>\n",
              "      <td>0.0</td>\n",
              "      <td>1.18</td>\n",
              "    </tr>\n",
              "  </tbody>\n",
              "</table>\n",
              "<p>100000 rows × 10 columns</p>\n",
              "</div>"
            ],
            "text/plain": [
              "        age gender  year  ...  income_사업  income_기타  refund_rate\n",
              "0      27.0      F  2019  ...    61000.0        0.0         8.00\n",
              "1      34.0      M  2018  ...        0.0  1815000.0         1.70\n",
              "2      28.0      F  2017  ...  1461000.0        0.0         3.98\n",
              "3      27.0      M  2019  ...  2471000.0        0.0         3.95\n",
              "4      26.0      F  2016  ...   689000.0        0.0         3.77\n",
              "...     ...    ...   ...  ...        ...        ...          ...\n",
              "99995  27.0      F  2019  ...        0.0   680000.0         3.95\n",
              "99996  62.0      F  2019  ...   463000.0        0.0         1.69\n",
              "99997  24.0      M  2020  ...    54000.0        0.0         4.44\n",
              "99998  24.0      M  2019  ...   204000.0        0.0         1.18\n",
              "99999  23.0      F  2019  ...   205000.0        0.0         1.18\n",
              "\n",
              "[100000 rows x 10 columns]"
            ]
          },
          "metadata": {
            "tags": []
          },
          "execution_count": 14
        }
      ]
    },
    {
      "cell_type": "code",
      "metadata": {
        "colab": {
          "base_uri": "https://localhost:8080/",
          "height": 558
        },
        "id": "Z2tyUTuv2Jq2",
        "outputId": "8b83fdd9-4138-4843-9227-d56127920fe0"
      },
      "source": [
        "sns.countplot(x='has_paid', hue='has_paid', data=jobis_df)\n",
        "plt.show()"
      ],
      "execution_count": null,
      "outputs": [
        {
          "output_type": "display_data",
          "data": {
            "image/png": "[encoded data removed]",
            "text/plain": [
              "<Figure size 864x648 with 1 Axes>"
            ]
          },
          "metadata": {
            "tags": []
          }
        }
      ]
    },
    {
      "cell_type": "markdown",
      "metadata": {
        "id": "bZYToMr03KOe"
      },
      "source": [
        "# 수수료를 지불한 비율\n",
        "\n",
        "\n",
        "*   True = 65000 정도 카운팅 되었기 때문에 65프로정도 수수료 결제\n",
        "*   False = 35000 정도 카운팅 되었기 때문에 35프로정도 수수료 결제\n",
        "\n",
        "\n",
        "\n"
      ]
    },
    {
      "cell_type": "code",
      "metadata": {
        "colab": {
          "base_uri": "https://localhost:8080/",
          "height": 419
        },
        "id": "kveltvp3czvM",
        "outputId": "30f8b051-a2af-4a3d-e727-601b510186aa"
      },
      "source": [
        "job_has_paid = jobis_df[jobis_df['has_paid']==True] # 수수료를 지불한 사람들 기준 (row:64643 --> 대략 65000)\n",
        "job_has_paid"
      ],
      "execution_count": null,
      "outputs": [
        {
          "output_type": "execute_result",
          "data": {
            "text/html": [
              "<div>\n",
              "<style scoped>\n",
              "    .dataframe tbody tr th:only-of-type {\n",
              "        vertical-align: middle;\n",
              "    }\n",
              "\n",
              "    .dataframe tbody tr th {\n",
              "        vertical-align: top;\n",
              "    }\n",
              "\n",
              "    .dataframe thead th {\n",
              "        text-align: right;\n",
              "    }\n",
              "</style>\n",
              "<table border=\"1\" class=\"dataframe\">\n",
              "  <thead>\n",
              "    <tr style=\"text-align: right;\">\n",
              "      <th></th>\n",
              "      <th>age</th>\n",
              "      <th>gender</th>\n",
              "      <th>year</th>\n",
              "      <th>refund</th>\n",
              "      <th>fee</th>\n",
              "      <th>has_paid</th>\n",
              "      <th>income_근로</th>\n",
              "      <th>income_사업</th>\n",
              "      <th>income_기타</th>\n",
              "      <th>refund_rate</th>\n",
              "    </tr>\n",
              "  </thead>\n",
              "  <tbody>\n",
              "    <tr>\n",
              "      <th>1</th>\n",
              "      <td>34.0</td>\n",
              "      <td>M</td>\n",
              "      <td>2018</td>\n",
              "      <td>100000.0</td>\n",
              "      <td>1700.0</td>\n",
              "      <td>True</td>\n",
              "      <td>18092000.0</td>\n",
              "      <td>0.0</td>\n",
              "      <td>1815000.0</td>\n",
              "      <td>1.70</td>\n",
              "    </tr>\n",
              "    <tr>\n",
              "      <th>4</th>\n",
              "      <td>26.0</td>\n",
              "      <td>F</td>\n",
              "      <td>2016</td>\n",
              "      <td>114000.0</td>\n",
              "      <td>4300.0</td>\n",
              "      <td>True</td>\n",
              "      <td>0.0</td>\n",
              "      <td>689000.0</td>\n",
              "      <td>0.0</td>\n",
              "      <td>3.77</td>\n",
              "    </tr>\n",
              "    <tr>\n",
              "      <th>5</th>\n",
              "      <td>39.0</td>\n",
              "      <td>F</td>\n",
              "      <td>2015</td>\n",
              "      <td>546000.0</td>\n",
              "      <td>12800.0</td>\n",
              "      <td>True</td>\n",
              "      <td>0.0</td>\n",
              "      <td>3628000.0</td>\n",
              "      <td>213000.0</td>\n",
              "      <td>2.34</td>\n",
              "    </tr>\n",
              "    <tr>\n",
              "      <th>6</th>\n",
              "      <td>40.0</td>\n",
              "      <td>F</td>\n",
              "      <td>2019</td>\n",
              "      <td>4000.0</td>\n",
              "      <td>400.0</td>\n",
              "      <td>True</td>\n",
              "      <td>11512000.0</td>\n",
              "      <td>24000.0</td>\n",
              "      <td>0.0</td>\n",
              "      <td>10.00</td>\n",
              "    </tr>\n",
              "    <tr>\n",
              "      <th>7</th>\n",
              "      <td>23.0</td>\n",
              "      <td>M</td>\n",
              "      <td>2017</td>\n",
              "      <td>10000.0</td>\n",
              "      <td>400.0</td>\n",
              "      <td>True</td>\n",
              "      <td>186000.0</td>\n",
              "      <td>74000.0</td>\n",
              "      <td>0.0</td>\n",
              "      <td>4.00</td>\n",
              "    </tr>\n",
              "    <tr>\n",
              "      <th>...</th>\n",
              "      <td>...</td>\n",
              "      <td>...</td>\n",
              "      <td>...</td>\n",
              "      <td>...</td>\n",
              "      <td>...</td>\n",
              "      <td>...</td>\n",
              "      <td>...</td>\n",
              "      <td>...</td>\n",
              "      <td>...</td>\n",
              "      <td>...</td>\n",
              "    </tr>\n",
              "    <tr>\n",
              "      <th>99994</th>\n",
              "      <td>32.0</td>\n",
              "      <td>M</td>\n",
              "      <td>2016</td>\n",
              "      <td>101000.0</td>\n",
              "      <td>3000.0</td>\n",
              "      <td>True</td>\n",
              "      <td>0.0</td>\n",
              "      <td>0.0</td>\n",
              "      <td>0.0</td>\n",
              "      <td>2.97</td>\n",
              "    </tr>\n",
              "    <tr>\n",
              "      <th>99995</th>\n",
              "      <td>27.0</td>\n",
              "      <td>F</td>\n",
              "      <td>2019</td>\n",
              "      <td>301000.0</td>\n",
              "      <td>11900.0</td>\n",
              "      <td>True</td>\n",
              "      <td>0.0</td>\n",
              "      <td>0.0</td>\n",
              "      <td>680000.0</td>\n",
              "      <td>3.95</td>\n",
              "    </tr>\n",
              "    <tr>\n",
              "      <th>99996</th>\n",
              "      <td>62.0</td>\n",
              "      <td>F</td>\n",
              "      <td>2019</td>\n",
              "      <td>77000.0</td>\n",
              "      <td>1300.0</td>\n",
              "      <td>True</td>\n",
              "      <td>0.0</td>\n",
              "      <td>463000.0</td>\n",
              "      <td>0.0</td>\n",
              "      <td>1.69</td>\n",
              "    </tr>\n",
              "    <tr>\n",
              "      <th>99998</th>\n",
              "      <td>24.0</td>\n",
              "      <td>M</td>\n",
              "      <td>2019</td>\n",
              "      <td>34000.0</td>\n",
              "      <td>400.0</td>\n",
              "      <td>True</td>\n",
              "      <td>0.0</td>\n",
              "      <td>204000.0</td>\n",
              "      <td>0.0</td>\n",
              "      <td>1.18</td>\n",
              "    </tr>\n",
              "    <tr>\n",
              "      <th>99999</th>\n",
              "      <td>23.0</td>\n",
              "      <td>F</td>\n",
              "      <td>2019</td>\n",
              "      <td>34000.0</td>\n",
              "      <td>400.0</td>\n",
              "      <td>True</td>\n",
              "      <td>7344000.0</td>\n",
              "      <td>205000.0</td>\n",
              "      <td>0.0</td>\n",
              "      <td>1.18</td>\n",
              "    </tr>\n",
              "  </tbody>\n",
              "</table>\n",
              "<p>64643 rows × 10 columns</p>\n",
              "</div>"
            ],
            "text/plain": [
              "        age gender  year  ...  income_사업  income_기타  refund_rate\n",
              "1      34.0      M  2018  ...        0.0  1815000.0         1.70\n",
              "4      26.0      F  2016  ...   689000.0        0.0         3.77\n",
              "5      39.0      F  2015  ...  3628000.0   213000.0         2.34\n",
              "6      40.0      F  2019  ...    24000.0        0.0        10.00\n",
              "7      23.0      M  2017  ...    74000.0        0.0         4.00\n",
              "...     ...    ...   ...  ...        ...        ...          ...\n",
              "99994  32.0      M  2016  ...        0.0        0.0         2.97\n",
              "99995  27.0      F  2019  ...        0.0   680000.0         3.95\n",
              "99996  62.0      F  2019  ...   463000.0        0.0         1.69\n",
              "99998  24.0      M  2019  ...   204000.0        0.0         1.18\n",
              "99999  23.0      F  2019  ...   205000.0        0.0         1.18\n",
              "\n",
              "[64643 rows x 10 columns]"
            ]
          },
          "metadata": {
            "tags": []
          },
          "execution_count": 16
        }
      ]
    },
    {
      "cell_type": "code",
      "metadata": {
        "colab": {
          "base_uri": "https://localhost:8080/"
        },
        "id": "4W96Z9OhXkEA",
        "outputId": "d364d4b3-68eb-4911-d1c6-0ac4ed18025c"
      },
      "source": [
        "job_has_paid.isnull().sum()"
      ],
      "execution_count": null,
      "outputs": [
        {
          "output_type": "execute_result",
          "data": {
            "text/plain": [
              "age            0\n",
              "gender         0\n",
              "year           0\n",
              "refund         0\n",
              "fee            0\n",
              "has_paid       0\n",
              "income_근로      0\n",
              "income_사업      0\n",
              "income_기타      0\n",
              "refund_rate    0\n",
              "dtype: int64"
            ]
          },
          "metadata": {
            "tags": []
          },
          "execution_count": 17
        }
      ]
    },
    {
      "cell_type": "code",
      "metadata": {
        "colab": {
          "base_uri": "https://localhost:8080/"
        },
        "id": "9cWkf-lLfMfs",
        "outputId": "750d4165-6048-4293-bdb7-5a3e73570154"
      },
      "source": [
        "job_has_paid.median() # 수수료를 지불한 사람들의 중앙값"
      ],
      "execution_count": null,
      "outputs": [
        {
          "output_type": "execute_result",
          "data": {
            "text/plain": [
              "age                27.00\n",
              "year             2018.00\n",
              "refund          94000.00\n",
              "fee              3000.00\n",
              "has_paid            1.00\n",
              "income_근로           0.00\n",
              "income_사업      422000.00\n",
              "income_기타           0.00\n",
              "refund_rate         2.86\n",
              "dtype: float64"
            ]
          },
          "metadata": {
            "tags": []
          },
          "execution_count": 18
        }
      ]
    },
    {
      "cell_type": "code",
      "metadata": {
        "colab": {
          "base_uri": "https://localhost:8080/",
          "height": 419
        },
        "id": "NWoDxIMVgEkt",
        "outputId": "6a9f0ad0-30ee-4871-c57e-1fb607ca56e8"
      },
      "source": [
        "job_has_false = jobis_df[jobis_df['has_paid']==False] # 수수료를 지불하지 않은 사람들 (row: 35357 --> 대략 35000)\n",
        "job_has_false"
      ],
      "execution_count": null,
      "outputs": [
        {
          "output_type": "execute_result",
          "data": {
            "text/html": [
              "<div>\n",
              "<style scoped>\n",
              "    .dataframe tbody tr th:only-of-type {\n",
              "        vertical-align: middle;\n",
              "    }\n",
              "\n",
              "    .dataframe tbody tr th {\n",
              "        vertical-align: top;\n",
              "    }\n",
              "\n",
              "    .dataframe thead th {\n",
              "        text-align: right;\n",
              "    }\n",
              "</style>\n",
              "<table border=\"1\" class=\"dataframe\">\n",
              "  <thead>\n",
              "    <tr style=\"text-align: right;\">\n",
              "      <th></th>\n",
              "      <th>age</th>\n",
              "      <th>gender</th>\n",
              "      <th>year</th>\n",
              "      <th>refund</th>\n",
              "      <th>fee</th>\n",
              "      <th>has_paid</th>\n",
              "      <th>income_근로</th>\n",
              "      <th>income_사업</th>\n",
              "      <th>income_기타</th>\n",
              "      <th>refund_rate</th>\n",
              "    </tr>\n",
              "  </thead>\n",
              "  <tbody>\n",
              "    <tr>\n",
              "      <th>0</th>\n",
              "      <td>27.0</td>\n",
              "      <td>F</td>\n",
              "      <td>2019</td>\n",
              "      <td>5000.0</td>\n",
              "      <td>400.0</td>\n",
              "      <td>False</td>\n",
              "      <td>10001000.0</td>\n",
              "      <td>61000.0</td>\n",
              "      <td>0.0</td>\n",
              "      <td>8.00</td>\n",
              "    </tr>\n",
              "    <tr>\n",
              "      <th>2</th>\n",
              "      <td>28.0</td>\n",
              "      <td>F</td>\n",
              "      <td>2017</td>\n",
              "      <td>289000.0</td>\n",
              "      <td>11500.0</td>\n",
              "      <td>False</td>\n",
              "      <td>0.0</td>\n",
              "      <td>1461000.0</td>\n",
              "      <td>0.0</td>\n",
              "      <td>3.98</td>\n",
              "    </tr>\n",
              "    <tr>\n",
              "      <th>3</th>\n",
              "      <td>27.0</td>\n",
              "      <td>M</td>\n",
              "      <td>2019</td>\n",
              "      <td>410000.0</td>\n",
              "      <td>16200.0</td>\n",
              "      <td>False</td>\n",
              "      <td>0.0</td>\n",
              "      <td>2471000.0</td>\n",
              "      <td>0.0</td>\n",
              "      <td>3.95</td>\n",
              "    </tr>\n",
              "    <tr>\n",
              "      <th>8</th>\n",
              "      <td>54.0</td>\n",
              "      <td>M</td>\n",
              "      <td>2016</td>\n",
              "      <td>1847000.0</td>\n",
              "      <td>73100.0</td>\n",
              "      <td>False</td>\n",
              "      <td>18728000.0</td>\n",
              "      <td>0.0</td>\n",
              "      <td>2841000.0</td>\n",
              "      <td>3.96</td>\n",
              "    </tr>\n",
              "    <tr>\n",
              "      <th>9</th>\n",
              "      <td>22.0</td>\n",
              "      <td>M</td>\n",
              "      <td>2018</td>\n",
              "      <td>51000.0</td>\n",
              "      <td>900.0</td>\n",
              "      <td>False</td>\n",
              "      <td>0.0</td>\n",
              "      <td>0.0</td>\n",
              "      <td>153000.0</td>\n",
              "      <td>1.76</td>\n",
              "    </tr>\n",
              "    <tr>\n",
              "      <th>...</th>\n",
              "      <td>...</td>\n",
              "      <td>...</td>\n",
              "      <td>...</td>\n",
              "      <td>...</td>\n",
              "      <td>...</td>\n",
              "      <td>...</td>\n",
              "      <td>...</td>\n",
              "      <td>...</td>\n",
              "      <td>...</td>\n",
              "      <td>...</td>\n",
              "    </tr>\n",
              "    <tr>\n",
              "      <th>99984</th>\n",
              "      <td>25.0</td>\n",
              "      <td>F</td>\n",
              "      <td>2018</td>\n",
              "      <td>286000.0</td>\n",
              "      <td>8500.0</td>\n",
              "      <td>False</td>\n",
              "      <td>0.0</td>\n",
              "      <td>0.0</td>\n",
              "      <td>0.0</td>\n",
              "      <td>2.97</td>\n",
              "    </tr>\n",
              "    <tr>\n",
              "      <th>99988</th>\n",
              "      <td>45.0</td>\n",
              "      <td>M</td>\n",
              "      <td>2018</td>\n",
              "      <td>152000.0</td>\n",
              "      <td>4300.0</td>\n",
              "      <td>False</td>\n",
              "      <td>0.0</td>\n",
              "      <td>0.0</td>\n",
              "      <td>0.0</td>\n",
              "      <td>2.83</td>\n",
              "    </tr>\n",
              "    <tr>\n",
              "      <th>99992</th>\n",
              "      <td>25.0</td>\n",
              "      <td>F</td>\n",
              "      <td>2018</td>\n",
              "      <td>137000.0</td>\n",
              "      <td>3800.0</td>\n",
              "      <td>False</td>\n",
              "      <td>0.0</td>\n",
              "      <td>0.0</td>\n",
              "      <td>0.0</td>\n",
              "      <td>2.77</td>\n",
              "    </tr>\n",
              "    <tr>\n",
              "      <th>99993</th>\n",
              "      <td>32.0</td>\n",
              "      <td>F</td>\n",
              "      <td>2018</td>\n",
              "      <td>5000.0</td>\n",
              "      <td>400.0</td>\n",
              "      <td>False</td>\n",
              "      <td>7336000.0</td>\n",
              "      <td>28000.0</td>\n",
              "      <td>0.0</td>\n",
              "      <td>8.00</td>\n",
              "    </tr>\n",
              "    <tr>\n",
              "      <th>99997</th>\n",
              "      <td>24.0</td>\n",
              "      <td>M</td>\n",
              "      <td>2020</td>\n",
              "      <td>9000.0</td>\n",
              "      <td>400.0</td>\n",
              "      <td>False</td>\n",
              "      <td>7923000.0</td>\n",
              "      <td>54000.0</td>\n",
              "      <td>0.0</td>\n",
              "      <td>4.44</td>\n",
              "    </tr>\n",
              "  </tbody>\n",
              "</table>\n",
              "<p>35357 rows × 10 columns</p>\n",
              "</div>"
            ],
            "text/plain": [
              "        age gender  year  ...  income_사업  income_기타  refund_rate\n",
              "0      27.0      F  2019  ...    61000.0        0.0         8.00\n",
              "2      28.0      F  2017  ...  1461000.0        0.0         3.98\n",
              "3      27.0      M  2019  ...  2471000.0        0.0         3.95\n",
              "8      54.0      M  2016  ...        0.0  2841000.0         3.96\n",
              "9      22.0      M  2018  ...        0.0   153000.0         1.76\n",
              "...     ...    ...   ...  ...        ...        ...          ...\n",
              "99984  25.0      F  2018  ...        0.0        0.0         2.97\n",
              "99988  45.0      M  2018  ...        0.0        0.0         2.83\n",
              "99992  25.0      F  2018  ...        0.0        0.0         2.77\n",
              "99993  32.0      F  2018  ...    28000.0        0.0         8.00\n",
              "99997  24.0      M  2020  ...    54000.0        0.0         4.44\n",
              "\n",
              "[35357 rows x 10 columns]"
            ]
          },
          "metadata": {
            "tags": []
          },
          "execution_count": 19
        }
      ]
    },
    {
      "cell_type": "code",
      "metadata": {
        "colab": {
          "base_uri": "https://localhost:8080/"
        },
        "id": "SCk0kmc3XxsX",
        "outputId": "075d3c1e-a53a-46ef-ce68-1968c61aa1dd"
      },
      "source": [
        "job_has_false.isnull().sum()"
      ],
      "execution_count": null,
      "outputs": [
        {
          "output_type": "execute_result",
          "data": {
            "text/plain": [
              "age            0\n",
              "gender         0\n",
              "year           0\n",
              "refund         0\n",
              "fee            0\n",
              "has_paid       0\n",
              "income_근로      0\n",
              "income_사업      0\n",
              "income_기타      0\n",
              "refund_rate    0\n",
              "dtype: int64"
            ]
          },
          "metadata": {
            "tags": []
          },
          "execution_count": 20
        }
      ]
    },
    {
      "cell_type": "code",
      "metadata": {
        "colab": {
          "base_uri": "https://localhost:8080/"
        },
        "id": "PKGLPR95geq1",
        "outputId": "b680139a-5609-45f6-f172-85b4a849e022"
      },
      "source": [
        "job_has_false.median() # 수수료를 지불하지 않은 사람들 중앙값"
      ],
      "execution_count": null,
      "outputs": [
        {
          "output_type": "execute_result",
          "data": {
            "text/plain": [
              "age                27.00\n",
              "year             2019.00\n",
              "refund         110000.00\n",
              "fee              4300.00\n",
              "has_paid            0.00\n",
              "income_근로           0.00\n",
              "income_사업      115000.00\n",
              "income_기타           0.00\n",
              "refund_rate         3.84\n",
              "dtype: float64"
            ]
          },
          "metadata": {
            "tags": []
          },
          "execution_count": 21
        }
      ]
    },
    {
      "cell_type": "code",
      "metadata": {
        "colab": {
          "base_uri": "https://localhost:8080/",
          "height": 419
        },
        "id": "EmVJEfNvGpc8",
        "outputId": "1a399d63-e44d-41af-fadc-f90b024c0c7a"
      },
      "source": [
        "jobis = jobis_df\n",
        "jobis['has_paid'] = jobis['has_paid'].replace({True:1, False:0}) # True / False라서 classification으로 작업해야 할 가능성이 높아서 미리 변경\n",
        "jobis['gender'] = jobis['gender'].replace({'M':1, 'F':0}) # Male / FeMale라서 classification으로 작업해야 할 가능성이 높아서 미리 변경\n",
        "jobis"
      ],
      "execution_count": null,
      "outputs": [
        {
          "output_type": "execute_result",
          "data": {
            "text/html": [
              "<div>\n",
              "<style scoped>\n",
              "    .dataframe tbody tr th:only-of-type {\n",
              "        vertical-align: middle;\n",
              "    }\n",
              "\n",
              "    .dataframe tbody tr th {\n",
              "        vertical-align: top;\n",
              "    }\n",
              "\n",
              "    .dataframe thead th {\n",
              "        text-align: right;\n",
              "    }\n",
              "</style>\n",
              "<table border=\"1\" class=\"dataframe\">\n",
              "  <thead>\n",
              "    <tr style=\"text-align: right;\">\n",
              "      <th></th>\n",
              "      <th>age</th>\n",
              "      <th>gender</th>\n",
              "      <th>year</th>\n",
              "      <th>refund</th>\n",
              "      <th>fee</th>\n",
              "      <th>has_paid</th>\n",
              "      <th>income_근로</th>\n",
              "      <th>income_사업</th>\n",
              "      <th>income_기타</th>\n",
              "      <th>refund_rate</th>\n",
              "    </tr>\n",
              "  </thead>\n",
              "  <tbody>\n",
              "    <tr>\n",
              "      <th>0</th>\n",
              "      <td>27.0</td>\n",
              "      <td>0</td>\n",
              "      <td>2019</td>\n",
              "      <td>5000.0</td>\n",
              "      <td>400.0</td>\n",
              "      <td>0</td>\n",
              "      <td>10001000.0</td>\n",
              "      <td>61000.0</td>\n",
              "      <td>0.0</td>\n",
              "      <td>8.00</td>\n",
              "    </tr>\n",
              "    <tr>\n",
              "      <th>1</th>\n",
              "      <td>34.0</td>\n",
              "      <td>1</td>\n",
              "      <td>2018</td>\n",
              "      <td>100000.0</td>\n",
              "      <td>1700.0</td>\n",
              "      <td>1</td>\n",
              "      <td>18092000.0</td>\n",
              "      <td>0.0</td>\n",
              "      <td>1815000.0</td>\n",
              "      <td>1.70</td>\n",
              "    </tr>\n",
              "    <tr>\n",
              "      <th>2</th>\n",
              "      <td>28.0</td>\n",
              "      <td>0</td>\n",
              "      <td>2017</td>\n",
              "      <td>289000.0</td>\n",
              "      <td>11500.0</td>\n",
              "      <td>0</td>\n",
              "      <td>0.0</td>\n",
              "      <td>1461000.0</td>\n",
              "      <td>0.0</td>\n",
              "      <td>3.98</td>\n",
              "    </tr>\n",
              "    <tr>\n",
              "      <th>3</th>\n",
              "      <td>27.0</td>\n",
              "      <td>1</td>\n",
              "      <td>2019</td>\n",
              "      <td>410000.0</td>\n",
              "      <td>16200.0</td>\n",
              "      <td>0</td>\n",
              "      <td>0.0</td>\n",
              "      <td>2471000.0</td>\n",
              "      <td>0.0</td>\n",
              "      <td>3.95</td>\n",
              "    </tr>\n",
              "    <tr>\n",
              "      <th>4</th>\n",
              "      <td>26.0</td>\n",
              "      <td>0</td>\n",
              "      <td>2016</td>\n",
              "      <td>114000.0</td>\n",
              "      <td>4300.0</td>\n",
              "      <td>1</td>\n",
              "      <td>0.0</td>\n",
              "      <td>689000.0</td>\n",
              "      <td>0.0</td>\n",
              "      <td>3.77</td>\n",
              "    </tr>\n",
              "    <tr>\n",
              "      <th>...</th>\n",
              "      <td>...</td>\n",
              "      <td>...</td>\n",
              "      <td>...</td>\n",
              "      <td>...</td>\n",
              "      <td>...</td>\n",
              "      <td>...</td>\n",
              "      <td>...</td>\n",
              "      <td>...</td>\n",
              "      <td>...</td>\n",
              "      <td>...</td>\n",
              "    </tr>\n",
              "    <tr>\n",
              "      <th>99995</th>\n",
              "      <td>27.0</td>\n",
              "      <td>0</td>\n",
              "      <td>2019</td>\n",
              "      <td>301000.0</td>\n",
              "      <td>11900.0</td>\n",
              "      <td>1</td>\n",
              "      <td>0.0</td>\n",
              "      <td>0.0</td>\n",
              "      <td>680000.0</td>\n",
              "      <td>3.95</td>\n",
              "    </tr>\n",
              "    <tr>\n",
              "      <th>99996</th>\n",
              "      <td>62.0</td>\n",
              "      <td>0</td>\n",
              "      <td>2019</td>\n",
              "      <td>77000.0</td>\n",
              "      <td>1300.0</td>\n",
              "      <td>1</td>\n",
              "      <td>0.0</td>\n",
              "      <td>463000.0</td>\n",
              "      <td>0.0</td>\n",
              "      <td>1.69</td>\n",
              "    </tr>\n",
              "    <tr>\n",
              "      <th>99997</th>\n",
              "      <td>24.0</td>\n",
              "      <td>1</td>\n",
              "      <td>2020</td>\n",
              "      <td>9000.0</td>\n",
              "      <td>400.0</td>\n",
              "      <td>0</td>\n",
              "      <td>7923000.0</td>\n",
              "      <td>54000.0</td>\n",
              "      <td>0.0</td>\n",
              "      <td>4.44</td>\n",
              "    </tr>\n",
              "    <tr>\n",
              "      <th>99998</th>\n",
              "      <td>24.0</td>\n",
              "      <td>1</td>\n",
              "      <td>2019</td>\n",
              "      <td>34000.0</td>\n",
              "      <td>400.0</td>\n",
              "      <td>1</td>\n",
              "      <td>0.0</td>\n",
              "      <td>204000.0</td>\n",
              "      <td>0.0</td>\n",
              "      <td>1.18</td>\n",
              "    </tr>\n",
              "    <tr>\n",
              "      <th>99999</th>\n",
              "      <td>23.0</td>\n",
              "      <td>0</td>\n",
              "      <td>2019</td>\n",
              "      <td>34000.0</td>\n",
              "      <td>400.0</td>\n",
              "      <td>1</td>\n",
              "      <td>7344000.0</td>\n",
              "      <td>205000.0</td>\n",
              "      <td>0.0</td>\n",
              "      <td>1.18</td>\n",
              "    </tr>\n",
              "  </tbody>\n",
              "</table>\n",
              "<p>100000 rows × 10 columns</p>\n",
              "</div>"
            ],
            "text/plain": [
              "        age gender  year  ...  income_사업  income_기타  refund_rate\n",
              "0      27.0      0  2019  ...    61000.0        0.0         8.00\n",
              "1      34.0      1  2018  ...        0.0  1815000.0         1.70\n",
              "2      28.0      0  2017  ...  1461000.0        0.0         3.98\n",
              "3      27.0      1  2019  ...  2471000.0        0.0         3.95\n",
              "4      26.0      0  2016  ...   689000.0        0.0         3.77\n",
              "...     ...    ...   ...  ...        ...        ...          ...\n",
              "99995  27.0      0  2019  ...        0.0   680000.0         3.95\n",
              "99996  62.0      0  2019  ...   463000.0        0.0         1.69\n",
              "99997  24.0      1  2020  ...    54000.0        0.0         4.44\n",
              "99998  24.0      1  2019  ...   204000.0        0.0         1.18\n",
              "99999  23.0      0  2019  ...   205000.0        0.0         1.18\n",
              "\n",
              "[100000 rows x 10 columns]"
            ]
          },
          "metadata": {
            "tags": []
          },
          "execution_count": 22
        }
      ]
    },
    {
      "cell_type": "code",
      "metadata": {
        "colab": {
          "base_uri": "https://localhost:8080/",
          "height": 419
        },
        "id": "6Or7_VnSD2QY",
        "outputId": "803f86e8-625a-4955-88bd-5b6588e551fb"
      },
      "source": [
        "jobis = jobis.drop(index=jobis.query('refund < 0').index) # 마이너스일 때 수수료는 환급해주기 때문에 드랍\n",
        "jobis"
      ],
      "execution_count": null,
      "outputs": [
        {
          "output_type": "execute_result",
          "data": {
            "text/html": [
              "<div>\n",
              "<style scoped>\n",
              "    .dataframe tbody tr th:only-of-type {\n",
              "        vertical-align: middle;\n",
              "    }\n",
              "\n",
              "    .dataframe tbody tr th {\n",
              "        vertical-align: top;\n",
              "    }\n",
              "\n",
              "    .dataframe thead th {\n",
              "        text-align: right;\n",
              "    }\n",
              "</style>\n",
              "<table border=\"1\" class=\"dataframe\">\n",
              "  <thead>\n",
              "    <tr style=\"text-align: right;\">\n",
              "      <th></th>\n",
              "      <th>age</th>\n",
              "      <th>gender</th>\n",
              "      <th>year</th>\n",
              "      <th>refund</th>\n",
              "      <th>fee</th>\n",
              "      <th>has_paid</th>\n",
              "      <th>income_근로</th>\n",
              "      <th>income_사업</th>\n",
              "      <th>income_기타</th>\n",
              "      <th>refund_rate</th>\n",
              "    </tr>\n",
              "  </thead>\n",
              "  <tbody>\n",
              "    <tr>\n",
              "      <th>0</th>\n",
              "      <td>27.0</td>\n",
              "      <td>0</td>\n",
              "      <td>2019</td>\n",
              "      <td>5000.0</td>\n",
              "      <td>400.0</td>\n",
              "      <td>0</td>\n",
              "      <td>10001000.0</td>\n",
              "      <td>61000.0</td>\n",
              "      <td>0.0</td>\n",
              "      <td>8.00</td>\n",
              "    </tr>\n",
              "    <tr>\n",
              "      <th>1</th>\n",
              "      <td>34.0</td>\n",
              "      <td>1</td>\n",
              "      <td>2018</td>\n",
              "      <td>100000.0</td>\n",
              "      <td>1700.0</td>\n",
              "      <td>1</td>\n",
              "      <td>18092000.0</td>\n",
              "      <td>0.0</td>\n",
              "      <td>1815000.0</td>\n",
              "      <td>1.70</td>\n",
              "    </tr>\n",
              "    <tr>\n",
              "      <th>2</th>\n",
              "      <td>28.0</td>\n",
              "      <td>0</td>\n",
              "      <td>2017</td>\n",
              "      <td>289000.0</td>\n",
              "      <td>11500.0</td>\n",
              "      <td>0</td>\n",
              "      <td>0.0</td>\n",
              "      <td>1461000.0</td>\n",
              "      <td>0.0</td>\n",
              "      <td>3.98</td>\n",
              "    </tr>\n",
              "    <tr>\n",
              "      <th>3</th>\n",
              "      <td>27.0</td>\n",
              "      <td>1</td>\n",
              "      <td>2019</td>\n",
              "      <td>410000.0</td>\n",
              "      <td>16200.0</td>\n",
              "      <td>0</td>\n",
              "      <td>0.0</td>\n",
              "      <td>2471000.0</td>\n",
              "      <td>0.0</td>\n",
              "      <td>3.95</td>\n",
              "    </tr>\n",
              "    <tr>\n",
              "      <th>4</th>\n",
              "      <td>26.0</td>\n",
              "      <td>0</td>\n",
              "      <td>2016</td>\n",
              "      <td>114000.0</td>\n",
              "      <td>4300.0</td>\n",
              "      <td>1</td>\n",
              "      <td>0.0</td>\n",
              "      <td>689000.0</td>\n",
              "      <td>0.0</td>\n",
              "      <td>3.77</td>\n",
              "    </tr>\n",
              "    <tr>\n",
              "      <th>...</th>\n",
              "      <td>...</td>\n",
              "      <td>...</td>\n",
              "      <td>...</td>\n",
              "      <td>...</td>\n",
              "      <td>...</td>\n",
              "      <td>...</td>\n",
              "      <td>...</td>\n",
              "      <td>...</td>\n",
              "      <td>...</td>\n",
              "      <td>...</td>\n",
              "    </tr>\n",
              "    <tr>\n",
              "      <th>99995</th>\n",
              "      <td>27.0</td>\n",
              "      <td>0</td>\n",
              "      <td>2019</td>\n",
              "      <td>301000.0</td>\n",
              "      <td>11900.0</td>\n",
              "      <td>1</td>\n",
              "      <td>0.0</td>\n",
              "      <td>0.0</td>\n",
              "      <td>680000.0</td>\n",
              "      <td>3.95</td>\n",
              "    </tr>\n",
              "    <tr>\n",
              "      <th>99996</th>\n",
              "      <td>62.0</td>\n",
              "      <td>0</td>\n",
              "      <td>2019</td>\n",
              "      <td>77000.0</td>\n",
              "      <td>1300.0</td>\n",
              "      <td>1</td>\n",
              "      <td>0.0</td>\n",
              "      <td>463000.0</td>\n",
              "      <td>0.0</td>\n",
              "      <td>1.69</td>\n",
              "    </tr>\n",
              "    <tr>\n",
              "      <th>99997</th>\n",
              "      <td>24.0</td>\n",
              "      <td>1</td>\n",
              "      <td>2020</td>\n",
              "      <td>9000.0</td>\n",
              "      <td>400.0</td>\n",
              "      <td>0</td>\n",
              "      <td>7923000.0</td>\n",
              "      <td>54000.0</td>\n",
              "      <td>0.0</td>\n",
              "      <td>4.44</td>\n",
              "    </tr>\n",
              "    <tr>\n",
              "      <th>99998</th>\n",
              "      <td>24.0</td>\n",
              "      <td>1</td>\n",
              "      <td>2019</td>\n",
              "      <td>34000.0</td>\n",
              "      <td>400.0</td>\n",
              "      <td>1</td>\n",
              "      <td>0.0</td>\n",
              "      <td>204000.0</td>\n",
              "      <td>0.0</td>\n",
              "      <td>1.18</td>\n",
              "    </tr>\n",
              "    <tr>\n",
              "      <th>99999</th>\n",
              "      <td>23.0</td>\n",
              "      <td>0</td>\n",
              "      <td>2019</td>\n",
              "      <td>34000.0</td>\n",
              "      <td>400.0</td>\n",
              "      <td>1</td>\n",
              "      <td>7344000.0</td>\n",
              "      <td>205000.0</td>\n",
              "      <td>0.0</td>\n",
              "      <td>1.18</td>\n",
              "    </tr>\n",
              "  </tbody>\n",
              "</table>\n",
              "<p>99985 rows × 10 columns</p>\n",
              "</div>"
            ],
            "text/plain": [
              "        age gender  year  ...  income_사업  income_기타  refund_rate\n",
              "0      27.0      0  2019  ...    61000.0        0.0         8.00\n",
              "1      34.0      1  2018  ...        0.0  1815000.0         1.70\n",
              "2      28.0      0  2017  ...  1461000.0        0.0         3.98\n",
              "3      27.0      1  2019  ...  2471000.0        0.0         3.95\n",
              "4      26.0      0  2016  ...   689000.0        0.0         3.77\n",
              "...     ...    ...   ...  ...        ...        ...          ...\n",
              "99995  27.0      0  2019  ...        0.0   680000.0         3.95\n",
              "99996  62.0      0  2019  ...   463000.0        0.0         1.69\n",
              "99997  24.0      1  2020  ...    54000.0        0.0         4.44\n",
              "99998  24.0      1  2019  ...   204000.0        0.0         1.18\n",
              "99999  23.0      0  2019  ...   205000.0        0.0         1.18\n",
              "\n",
              "[99985 rows x 10 columns]"
            ]
          },
          "metadata": {
            "tags": []
          },
          "execution_count": 23
        }
      ]
    },
    {
      "cell_type": "markdown",
      "metadata": {
        "id": "EAeMofTvhCFz"
      },
      "source": [
        "# True / False의 중앙값 비교\n",
        "\n",
        "\n",
        "\n",
        "*   age의 중앙값은 27으로 동일\n",
        "*   refund는 false가 7000정도 더 높음\n",
        "*   fee는 false가 1300정도 더 높음\n",
        "*   income_근로 false가 132000 더 높음 \n",
        "*   income_사업 false가 133000 더 높음\n",
        "*   income_기타 false가 59500 더 높음\n",
        "*   refund_rate false가 0.98 더 높음\n",
        "\n",
        "\n",
        "\n",
        "\n",
        "\n",
        "\n",
        "\n",
        "---\n",
        "# 비교결과\n",
        "False에 속한 사람들이 모든 항목이 더 높게 나옴\n",
        "\n",
        "*   income_사업 자영업 또는 프리랜서로서 False가 더 높음\n",
        "*   income_기타 기타소득 False가 더 높음\n",
        "*   소득신고를 본인이 해야하는 사람들에게서 False가 더 많이 나오는 것 같음\n",
        "*   refund_rate가 3.84보다 높을 때 False가 되는지 확인 해야할 듯\n",
        "*   True / False 이기 때문에 분류(classification)으로 분석할 것\n",
        "\n",
        "\n",
        "\n",
        "\n",
        "\n",
        "\n",
        "\n",
        "\n",
        "\n",
        "\n",
        "\n",
        "\n"
      ]
    },
    {
      "cell_type": "code",
      "metadata": {
        "colab": {
          "base_uri": "https://localhost:8080/",
          "height": 419
        },
        "id": "UQ_3wGfOaT8r",
        "outputId": "34ed8e3e-91ba-4e3c-96e7-94ce0248e1cf"
      },
      "source": [
        "job_a = jobis[jobis['income_근로'] != 0] # 근로가 0이 아닐 때 \n",
        "job_a"
      ],
      "execution_count": null,
      "outputs": [
        {
          "output_type": "execute_result",
          "data": {
            "text/html": [
              "<div>\n",
              "<style scoped>\n",
              "    .dataframe tbody tr th:only-of-type {\n",
              "        vertical-align: middle;\n",
              "    }\n",
              "\n",
              "    .dataframe tbody tr th {\n",
              "        vertical-align: top;\n",
              "    }\n",
              "\n",
              "    .dataframe thead th {\n",
              "        text-align: right;\n",
              "    }\n",
              "</style>\n",
              "<table border=\"1\" class=\"dataframe\">\n",
              "  <thead>\n",
              "    <tr style=\"text-align: right;\">\n",
              "      <th></th>\n",
              "      <th>age</th>\n",
              "      <th>gender</th>\n",
              "      <th>year</th>\n",
              "      <th>refund</th>\n",
              "      <th>fee</th>\n",
              "      <th>has_paid</th>\n",
              "      <th>income_근로</th>\n",
              "      <th>income_사업</th>\n",
              "      <th>income_기타</th>\n",
              "      <th>refund_rate</th>\n",
              "    </tr>\n",
              "  </thead>\n",
              "  <tbody>\n",
              "    <tr>\n",
              "      <th>0</th>\n",
              "      <td>27.0</td>\n",
              "      <td>0</td>\n",
              "      <td>2019</td>\n",
              "      <td>5000.0</td>\n",
              "      <td>400.0</td>\n",
              "      <td>0</td>\n",
              "      <td>10001000.0</td>\n",
              "      <td>61000.0</td>\n",
              "      <td>0.0</td>\n",
              "      <td>8.00</td>\n",
              "    </tr>\n",
              "    <tr>\n",
              "      <th>1</th>\n",
              "      <td>34.0</td>\n",
              "      <td>1</td>\n",
              "      <td>2018</td>\n",
              "      <td>100000.0</td>\n",
              "      <td>1700.0</td>\n",
              "      <td>1</td>\n",
              "      <td>18092000.0</td>\n",
              "      <td>0.0</td>\n",
              "      <td>1815000.0</td>\n",
              "      <td>1.70</td>\n",
              "    </tr>\n",
              "    <tr>\n",
              "      <th>6</th>\n",
              "      <td>40.0</td>\n",
              "      <td>0</td>\n",
              "      <td>2019</td>\n",
              "      <td>4000.0</td>\n",
              "      <td>400.0</td>\n",
              "      <td>1</td>\n",
              "      <td>11512000.0</td>\n",
              "      <td>24000.0</td>\n",
              "      <td>0.0</td>\n",
              "      <td>10.00</td>\n",
              "    </tr>\n",
              "    <tr>\n",
              "      <th>7</th>\n",
              "      <td>23.0</td>\n",
              "      <td>1</td>\n",
              "      <td>2017</td>\n",
              "      <td>10000.0</td>\n",
              "      <td>400.0</td>\n",
              "      <td>1</td>\n",
              "      <td>186000.0</td>\n",
              "      <td>74000.0</td>\n",
              "      <td>0.0</td>\n",
              "      <td>4.00</td>\n",
              "    </tr>\n",
              "    <tr>\n",
              "      <th>8</th>\n",
              "      <td>54.0</td>\n",
              "      <td>1</td>\n",
              "      <td>2016</td>\n",
              "      <td>1847000.0</td>\n",
              "      <td>73100.0</td>\n",
              "      <td>0</td>\n",
              "      <td>18728000.0</td>\n",
              "      <td>0.0</td>\n",
              "      <td>2841000.0</td>\n",
              "      <td>3.96</td>\n",
              "    </tr>\n",
              "    <tr>\n",
              "      <th>...</th>\n",
              "      <td>...</td>\n",
              "      <td>...</td>\n",
              "      <td>...</td>\n",
              "      <td>...</td>\n",
              "      <td>...</td>\n",
              "      <td>...</td>\n",
              "      <td>...</td>\n",
              "      <td>...</td>\n",
              "      <td>...</td>\n",
              "      <td>...</td>\n",
              "    </tr>\n",
              "    <tr>\n",
              "      <th>99987</th>\n",
              "      <td>29.0</td>\n",
              "      <td>0</td>\n",
              "      <td>2018</td>\n",
              "      <td>37000.0</td>\n",
              "      <td>400.0</td>\n",
              "      <td>1</td>\n",
              "      <td>10657000.0</td>\n",
              "      <td>224000.0</td>\n",
              "      <td>0.0</td>\n",
              "      <td>1.08</td>\n",
              "    </tr>\n",
              "    <tr>\n",
              "      <th>99991</th>\n",
              "      <td>30.0</td>\n",
              "      <td>1</td>\n",
              "      <td>2018</td>\n",
              "      <td>12000.0</td>\n",
              "      <td>400.0</td>\n",
              "      <td>1</td>\n",
              "      <td>692000.0</td>\n",
              "      <td>70000.0</td>\n",
              "      <td>0.0</td>\n",
              "      <td>3.33</td>\n",
              "    </tr>\n",
              "    <tr>\n",
              "      <th>99993</th>\n",
              "      <td>32.0</td>\n",
              "      <td>0</td>\n",
              "      <td>2018</td>\n",
              "      <td>5000.0</td>\n",
              "      <td>400.0</td>\n",
              "      <td>0</td>\n",
              "      <td>7336000.0</td>\n",
              "      <td>28000.0</td>\n",
              "      <td>0.0</td>\n",
              "      <td>8.00</td>\n",
              "    </tr>\n",
              "    <tr>\n",
              "      <th>99997</th>\n",
              "      <td>24.0</td>\n",
              "      <td>1</td>\n",
              "      <td>2020</td>\n",
              "      <td>9000.0</td>\n",
              "      <td>400.0</td>\n",
              "      <td>0</td>\n",
              "      <td>7923000.0</td>\n",
              "      <td>54000.0</td>\n",
              "      <td>0.0</td>\n",
              "      <td>4.44</td>\n",
              "    </tr>\n",
              "    <tr>\n",
              "      <th>99999</th>\n",
              "      <td>23.0</td>\n",
              "      <td>0</td>\n",
              "      <td>2019</td>\n",
              "      <td>34000.0</td>\n",
              "      <td>400.0</td>\n",
              "      <td>1</td>\n",
              "      <td>7344000.0</td>\n",
              "      <td>205000.0</td>\n",
              "      <td>0.0</td>\n",
              "      <td>1.18</td>\n",
              "    </tr>\n",
              "  </tbody>\n",
              "</table>\n",
              "<p>39879 rows × 10 columns</p>\n",
              "</div>"
            ],
            "text/plain": [
              "        age gender  year  ...  income_사업  income_기타  refund_rate\n",
              "0      27.0      0  2019  ...    61000.0        0.0         8.00\n",
              "1      34.0      1  2018  ...        0.0  1815000.0         1.70\n",
              "6      40.0      0  2019  ...    24000.0        0.0        10.00\n",
              "7      23.0      1  2017  ...    74000.0        0.0         4.00\n",
              "8      54.0      1  2016  ...        0.0  2841000.0         3.96\n",
              "...     ...    ...   ...  ...        ...        ...          ...\n",
              "99987  29.0      0  2018  ...   224000.0        0.0         1.08\n",
              "99991  30.0      1  2018  ...    70000.0        0.0         3.33\n",
              "99993  32.0      0  2018  ...    28000.0        0.0         8.00\n",
              "99997  24.0      1  2020  ...    54000.0        0.0         4.44\n",
              "99999  23.0      0  2019  ...   205000.0        0.0         1.18\n",
              "\n",
              "[39879 rows x 10 columns]"
            ]
          },
          "metadata": {
            "tags": []
          },
          "execution_count": 24
        }
      ]
    },
    {
      "cell_type": "code",
      "metadata": {
        "colab": {
          "base_uri": "https://localhost:8080/",
          "height": 609
        },
        "id": "Hs7hQ_DaByab",
        "outputId": "993bab03-2db4-4984-ff9a-2088592746e9"
      },
      "source": [
        "sns.countplot(x='has_paid', hue='has_paid', data=job_a) # 결제 한 비율: 69.9%\n",
        "plt.show()\n",
        "job_a['has_paid'].value_counts(normalize=True)"
      ],
      "execution_count": null,
      "outputs": [
        {
          "output_type": "display_data",
          "data": {
            "image/png": "[encoded data removed]",
            "text/plain": [
              "<Figure size 864x648 with 1 Axes>"
            ]
          },
          "metadata": {
            "tags": []
          }
        },
        {
          "output_type": "execute_result",
          "data": {
            "text/plain": [
              "1    0.699616\n",
              "0    0.300384\n",
              "Name: has_paid, dtype: float64"
            ]
          },
          "metadata": {
            "tags": []
          },
          "execution_count": 25
        }
      ]
    },
    {
      "cell_type": "code",
      "metadata": {
        "colab": {
          "base_uri": "https://localhost:8080/",
          "height": 419
        },
        "id": "Zno7SBzzdRW5",
        "outputId": "6e6ad2ff-f694-4220-a98a-b9f07a49a9ad"
      },
      "source": [
        "job_b = jobis[jobis['income_사업']!=0] # 사업이 0이 아닐 때\n",
        "job_b"
      ],
      "execution_count": null,
      "outputs": [
        {
          "output_type": "execute_result",
          "data": {
            "text/html": [
              "<div>\n",
              "<style scoped>\n",
              "    .dataframe tbody tr th:only-of-type {\n",
              "        vertical-align: middle;\n",
              "    }\n",
              "\n",
              "    .dataframe tbody tr th {\n",
              "        vertical-align: top;\n",
              "    }\n",
              "\n",
              "    .dataframe thead th {\n",
              "        text-align: right;\n",
              "    }\n",
              "</style>\n",
              "<table border=\"1\" class=\"dataframe\">\n",
              "  <thead>\n",
              "    <tr style=\"text-align: right;\">\n",
              "      <th></th>\n",
              "      <th>age</th>\n",
              "      <th>gender</th>\n",
              "      <th>year</th>\n",
              "      <th>refund</th>\n",
              "      <th>fee</th>\n",
              "      <th>has_paid</th>\n",
              "      <th>income_근로</th>\n",
              "      <th>income_사업</th>\n",
              "      <th>income_기타</th>\n",
              "      <th>refund_rate</th>\n",
              "    </tr>\n",
              "  </thead>\n",
              "  <tbody>\n",
              "    <tr>\n",
              "      <th>0</th>\n",
              "      <td>27.0</td>\n",
              "      <td>0</td>\n",
              "      <td>2019</td>\n",
              "      <td>5000.0</td>\n",
              "      <td>400.0</td>\n",
              "      <td>0</td>\n",
              "      <td>10001000.0</td>\n",
              "      <td>61000.0</td>\n",
              "      <td>0.0</td>\n",
              "      <td>8.00</td>\n",
              "    </tr>\n",
              "    <tr>\n",
              "      <th>2</th>\n",
              "      <td>28.0</td>\n",
              "      <td>0</td>\n",
              "      <td>2017</td>\n",
              "      <td>289000.0</td>\n",
              "      <td>11500.0</td>\n",
              "      <td>0</td>\n",
              "      <td>0.0</td>\n",
              "      <td>1461000.0</td>\n",
              "      <td>0.0</td>\n",
              "      <td>3.98</td>\n",
              "    </tr>\n",
              "    <tr>\n",
              "      <th>3</th>\n",
              "      <td>27.0</td>\n",
              "      <td>1</td>\n",
              "      <td>2019</td>\n",
              "      <td>410000.0</td>\n",
              "      <td>16200.0</td>\n",
              "      <td>0</td>\n",
              "      <td>0.0</td>\n",
              "      <td>2471000.0</td>\n",
              "      <td>0.0</td>\n",
              "      <td>3.95</td>\n",
              "    </tr>\n",
              "    <tr>\n",
              "      <th>4</th>\n",
              "      <td>26.0</td>\n",
              "      <td>0</td>\n",
              "      <td>2016</td>\n",
              "      <td>114000.0</td>\n",
              "      <td>4300.0</td>\n",
              "      <td>1</td>\n",
              "      <td>0.0</td>\n",
              "      <td>689000.0</td>\n",
              "      <td>0.0</td>\n",
              "      <td>3.77</td>\n",
              "    </tr>\n",
              "    <tr>\n",
              "      <th>5</th>\n",
              "      <td>39.0</td>\n",
              "      <td>0</td>\n",
              "      <td>2015</td>\n",
              "      <td>546000.0</td>\n",
              "      <td>12800.0</td>\n",
              "      <td>1</td>\n",
              "      <td>0.0</td>\n",
              "      <td>3628000.0</td>\n",
              "      <td>213000.0</td>\n",
              "      <td>2.34</td>\n",
              "    </tr>\n",
              "    <tr>\n",
              "      <th>...</th>\n",
              "      <td>...</td>\n",
              "      <td>...</td>\n",
              "      <td>...</td>\n",
              "      <td>...</td>\n",
              "      <td>...</td>\n",
              "      <td>...</td>\n",
              "      <td>...</td>\n",
              "      <td>...</td>\n",
              "      <td>...</td>\n",
              "      <td>...</td>\n",
              "    </tr>\n",
              "    <tr>\n",
              "      <th>99993</th>\n",
              "      <td>32.0</td>\n",
              "      <td>0</td>\n",
              "      <td>2018</td>\n",
              "      <td>5000.0</td>\n",
              "      <td>400.0</td>\n",
              "      <td>0</td>\n",
              "      <td>7336000.0</td>\n",
              "      <td>28000.0</td>\n",
              "      <td>0.0</td>\n",
              "      <td>8.00</td>\n",
              "    </tr>\n",
              "    <tr>\n",
              "      <th>99996</th>\n",
              "      <td>62.0</td>\n",
              "      <td>0</td>\n",
              "      <td>2019</td>\n",
              "      <td>77000.0</td>\n",
              "      <td>1300.0</td>\n",
              "      <td>1</td>\n",
              "      <td>0.0</td>\n",
              "      <td>463000.0</td>\n",
              "      <td>0.0</td>\n",
              "      <td>1.69</td>\n",
              "    </tr>\n",
              "    <tr>\n",
              "      <th>99997</th>\n",
              "      <td>24.0</td>\n",
              "      <td>1</td>\n",
              "      <td>2020</td>\n",
              "      <td>9000.0</td>\n",
              "      <td>400.0</td>\n",
              "      <td>0</td>\n",
              "      <td>7923000.0</td>\n",
              "      <td>54000.0</td>\n",
              "      <td>0.0</td>\n",
              "      <td>4.44</td>\n",
              "    </tr>\n",
              "    <tr>\n",
              "      <th>99998</th>\n",
              "      <td>24.0</td>\n",
              "      <td>1</td>\n",
              "      <td>2019</td>\n",
              "      <td>34000.0</td>\n",
              "      <td>400.0</td>\n",
              "      <td>1</td>\n",
              "      <td>0.0</td>\n",
              "      <td>204000.0</td>\n",
              "      <td>0.0</td>\n",
              "      <td>1.18</td>\n",
              "    </tr>\n",
              "    <tr>\n",
              "      <th>99999</th>\n",
              "      <td>23.0</td>\n",
              "      <td>0</td>\n",
              "      <td>2019</td>\n",
              "      <td>34000.0</td>\n",
              "      <td>400.0</td>\n",
              "      <td>1</td>\n",
              "      <td>7344000.0</td>\n",
              "      <td>205000.0</td>\n",
              "      <td>0.0</td>\n",
              "      <td>1.18</td>\n",
              "    </tr>\n",
              "  </tbody>\n",
              "</table>\n",
              "<p>78155 rows × 10 columns</p>\n",
              "</div>"
            ],
            "text/plain": [
              "        age gender  year  ...  income_사업  income_기타  refund_rate\n",
              "0      27.0      0  2019  ...    61000.0        0.0         8.00\n",
              "2      28.0      0  2017  ...  1461000.0        0.0         3.98\n",
              "3      27.0      1  2019  ...  2471000.0        0.0         3.95\n",
              "4      26.0      0  2016  ...   689000.0        0.0         3.77\n",
              "5      39.0      0  2015  ...  3628000.0   213000.0         2.34\n",
              "...     ...    ...   ...  ...        ...        ...          ...\n",
              "99993  32.0      0  2018  ...    28000.0        0.0         8.00\n",
              "99996  62.0      0  2019  ...   463000.0        0.0         1.69\n",
              "99997  24.0      1  2020  ...    54000.0        0.0         4.44\n",
              "99998  24.0      1  2019  ...   204000.0        0.0         1.18\n",
              "99999  23.0      0  2019  ...   205000.0        0.0         1.18\n",
              "\n",
              "[78155 rows x 10 columns]"
            ]
          },
          "metadata": {
            "tags": []
          },
          "execution_count": 26
        }
      ]
    },
    {
      "cell_type": "code",
      "metadata": {
        "colab": {
          "base_uri": "https://localhost:8080/",
          "height": 609
        },
        "id": "5lTJZxjyB3Zm",
        "outputId": "50fd92b8-bfa7-4aa4-bf26-64cdfae9e2e6"
      },
      "source": [
        "sns.countplot(x='has_paid', hue='has_paid', data=job_b) # 결제한 비율: 70.9%\n",
        "plt.show() \n",
        "job_b['has_paid'].value_counts(normalize=True)"
      ],
      "execution_count": null,
      "outputs": [
        {
          "output_type": "display_data",
          "data": {
            "image/png": "[encoded data removed]",
            "text/plain": [
              "<Figure size 864x648 with 1 Axes>"
            ]
          },
          "metadata": {
            "tags": []
          }
        },
        {
          "output_type": "execute_result",
          "data": {
            "text/plain": [
              "1    0.709385\n",
              "0    0.290615\n",
              "Name: has_paid, dtype: float64"
            ]
          },
          "metadata": {
            "tags": []
          },
          "execution_count": 27
        }
      ]
    },
    {
      "cell_type": "code",
      "metadata": {
        "colab": {
          "base_uri": "https://localhost:8080/",
          "height": 419
        },
        "id": "s8I5cyDifkZP",
        "outputId": "729152f1-c79b-4d7a-d9d7-cc62bc1c89c7"
      },
      "source": [
        "job_c = jobis[jobis['income_기타']!=0] # 기타가 0이 아닐 때\n",
        "job_c"
      ],
      "execution_count": null,
      "outputs": [
        {
          "output_type": "execute_result",
          "data": {
            "text/html": [
              "<div>\n",
              "<style scoped>\n",
              "    .dataframe tbody tr th:only-of-type {\n",
              "        vertical-align: middle;\n",
              "    }\n",
              "\n",
              "    .dataframe tbody tr th {\n",
              "        vertical-align: top;\n",
              "    }\n",
              "\n",
              "    .dataframe thead th {\n",
              "        text-align: right;\n",
              "    }\n",
              "</style>\n",
              "<table border=\"1\" class=\"dataframe\">\n",
              "  <thead>\n",
              "    <tr style=\"text-align: right;\">\n",
              "      <th></th>\n",
              "      <th>age</th>\n",
              "      <th>gender</th>\n",
              "      <th>year</th>\n",
              "      <th>refund</th>\n",
              "      <th>fee</th>\n",
              "      <th>has_paid</th>\n",
              "      <th>income_근로</th>\n",
              "      <th>income_사업</th>\n",
              "      <th>income_기타</th>\n",
              "      <th>refund_rate</th>\n",
              "    </tr>\n",
              "  </thead>\n",
              "  <tbody>\n",
              "    <tr>\n",
              "      <th>1</th>\n",
              "      <td>34.0</td>\n",
              "      <td>1</td>\n",
              "      <td>2018</td>\n",
              "      <td>100000.0</td>\n",
              "      <td>1700.0</td>\n",
              "      <td>1</td>\n",
              "      <td>18092000.0</td>\n",
              "      <td>0.0</td>\n",
              "      <td>1815000.0</td>\n",
              "      <td>1.70</td>\n",
              "    </tr>\n",
              "    <tr>\n",
              "      <th>5</th>\n",
              "      <td>39.0</td>\n",
              "      <td>0</td>\n",
              "      <td>2015</td>\n",
              "      <td>546000.0</td>\n",
              "      <td>12800.0</td>\n",
              "      <td>1</td>\n",
              "      <td>0.0</td>\n",
              "      <td>3628000.0</td>\n",
              "      <td>213000.0</td>\n",
              "      <td>2.34</td>\n",
              "    </tr>\n",
              "    <tr>\n",
              "      <th>8</th>\n",
              "      <td>54.0</td>\n",
              "      <td>1</td>\n",
              "      <td>2016</td>\n",
              "      <td>1847000.0</td>\n",
              "      <td>73100.0</td>\n",
              "      <td>0</td>\n",
              "      <td>18728000.0</td>\n",
              "      <td>0.0</td>\n",
              "      <td>2841000.0</td>\n",
              "      <td>3.96</td>\n",
              "    </tr>\n",
              "    <tr>\n",
              "      <th>9</th>\n",
              "      <td>22.0</td>\n",
              "      <td>1</td>\n",
              "      <td>2018</td>\n",
              "      <td>51000.0</td>\n",
              "      <td>900.0</td>\n",
              "      <td>0</td>\n",
              "      <td>0.0</td>\n",
              "      <td>0.0</td>\n",
              "      <td>153000.0</td>\n",
              "      <td>1.76</td>\n",
              "    </tr>\n",
              "    <tr>\n",
              "      <th>11</th>\n",
              "      <td>25.0</td>\n",
              "      <td>0</td>\n",
              "      <td>2020</td>\n",
              "      <td>753000.0</td>\n",
              "      <td>29800.0</td>\n",
              "      <td>0</td>\n",
              "      <td>0.0</td>\n",
              "      <td>0.0</td>\n",
              "      <td>1828000.0</td>\n",
              "      <td>3.96</td>\n",
              "    </tr>\n",
              "    <tr>\n",
              "      <th>...</th>\n",
              "      <td>...</td>\n",
              "      <td>...</td>\n",
              "      <td>...</td>\n",
              "      <td>...</td>\n",
              "      <td>...</td>\n",
              "      <td>...</td>\n",
              "      <td>...</td>\n",
              "      <td>...</td>\n",
              "      <td>...</td>\n",
              "      <td>...</td>\n",
              "    </tr>\n",
              "    <tr>\n",
              "      <th>99978</th>\n",
              "      <td>27.0</td>\n",
              "      <td>1</td>\n",
              "      <td>2018</td>\n",
              "      <td>276000.0</td>\n",
              "      <td>19100.0</td>\n",
              "      <td>1</td>\n",
              "      <td>0.0</td>\n",
              "      <td>1663000.0</td>\n",
              "      <td>775000.0</td>\n",
              "      <td>6.92</td>\n",
              "    </tr>\n",
              "    <tr>\n",
              "      <th>99980</th>\n",
              "      <td>42.0</td>\n",
              "      <td>1</td>\n",
              "      <td>2018</td>\n",
              "      <td>120000.0</td>\n",
              "      <td>4700.0</td>\n",
              "      <td>1</td>\n",
              "      <td>14949000.0</td>\n",
              "      <td>0.0</td>\n",
              "      <td>1065000.0</td>\n",
              "      <td>3.92</td>\n",
              "    </tr>\n",
              "    <tr>\n",
              "      <th>99982</th>\n",
              "      <td>28.0</td>\n",
              "      <td>0</td>\n",
              "      <td>2020</td>\n",
              "      <td>94000.0</td>\n",
              "      <td>1700.0</td>\n",
              "      <td>1</td>\n",
              "      <td>10636000.0</td>\n",
              "      <td>0.0</td>\n",
              "      <td>85000.0</td>\n",
              "      <td>1.81</td>\n",
              "    </tr>\n",
              "    <tr>\n",
              "      <th>99986</th>\n",
              "      <td>40.0</td>\n",
              "      <td>0</td>\n",
              "      <td>2016</td>\n",
              "      <td>47000.0</td>\n",
              "      <td>400.0</td>\n",
              "      <td>1</td>\n",
              "      <td>0.0</td>\n",
              "      <td>281000.0</td>\n",
              "      <td>43000.0</td>\n",
              "      <td>0.85</td>\n",
              "    </tr>\n",
              "    <tr>\n",
              "      <th>99995</th>\n",
              "      <td>27.0</td>\n",
              "      <td>0</td>\n",
              "      <td>2019</td>\n",
              "      <td>301000.0</td>\n",
              "      <td>11900.0</td>\n",
              "      <td>1</td>\n",
              "      <td>0.0</td>\n",
              "      <td>0.0</td>\n",
              "      <td>680000.0</td>\n",
              "      <td>3.95</td>\n",
              "    </tr>\n",
              "  </tbody>\n",
              "</table>\n",
              "<p>25108 rows × 10 columns</p>\n",
              "</div>"
            ],
            "text/plain": [
              "        age gender  year  ...  income_사업  income_기타  refund_rate\n",
              "1      34.0      1  2018  ...        0.0  1815000.0         1.70\n",
              "5      39.0      0  2015  ...  3628000.0   213000.0         2.34\n",
              "8      54.0      1  2016  ...        0.0  2841000.0         3.96\n",
              "9      22.0      1  2018  ...        0.0   153000.0         1.76\n",
              "11     25.0      0  2020  ...        0.0  1828000.0         3.96\n",
              "...     ...    ...   ...  ...        ...        ...          ...\n",
              "99978  27.0      1  2018  ...  1663000.0   775000.0         6.92\n",
              "99980  42.0      1  2018  ...        0.0  1065000.0         3.92\n",
              "99982  28.0      0  2020  ...        0.0    85000.0         1.81\n",
              "99986  40.0      0  2016  ...   281000.0    43000.0         0.85\n",
              "99995  27.0      0  2019  ...        0.0   680000.0         3.95\n",
              "\n",
              "[25108 rows x 10 columns]"
            ]
          },
          "metadata": {
            "tags": []
          },
          "execution_count": 28
        }
      ]
    },
    {
      "cell_type": "code",
      "metadata": {
        "colab": {
          "base_uri": "https://localhost:8080/",
          "height": 609
        },
        "id": "tNubp4jJB7Fk",
        "outputId": "333404ba-2e8c-497f-dc09-e4ef945b5ea7"
      },
      "source": [
        "sns.countplot(x='has_paid', hue='has_paid', data=job_c) # 결제한 비율: 66%\n",
        "plt.show()\n",
        "\n",
        "job_c['has_paid'].value_counts(normalize=True)"
      ],
      "execution_count": null,
      "outputs": [
        {
          "output_type": "display_data",
          "data": {
            "image/png": "[encoded data removed]",
            "text/plain": [
              "<Figure size 864x648 with 1 Axes>"
            ]
          },
          "metadata": {
            "tags": []
          }
        },
        {
          "output_type": "execute_result",
          "data": {
            "text/plain": [
              "1    0.660427\n",
              "0    0.339573\n",
              "Name: has_paid, dtype: float64"
            ]
          },
          "metadata": {
            "tags": []
          },
          "execution_count": 29
        }
      ]
    },
    {
      "cell_type": "code",
      "metadata": {
        "id": "2P2b-UO_f8eF",
        "colab": {
          "base_uri": "https://localhost:8080/"
        },
        "outputId": "aa85c80d-01fc-4e46-cc16-589f92c38d01"
      },
      "source": [
        "job_b['income_근로'].value_counts() # income_사업 !=0 일때 78155중 45366개가 income_근로가 58% 없음"
      ],
      "execution_count": null,
      "outputs": [
        {
          "output_type": "execute_result",
          "data": {
            "text/plain": [
              "0.0           45366\n",
              "5102000.0        96\n",
              "9184000.0        91\n",
              "2551000.0        89\n",
              "1531000.0        79\n",
              "              ...  \n",
              "9055000.0         1\n",
              "11153000.0        1\n",
              "6831000.0         1\n",
              "16806000.0        1\n",
              "10997000.0        1\n",
              "Name: income_근로, Length: 12275, dtype: int64"
            ]
          },
          "metadata": {
            "tags": []
          },
          "execution_count": 30
        }
      ]
    },
    {
      "cell_type": "code",
      "metadata": {
        "colab": {
          "base_uri": "https://localhost:8080/"
        },
        "id": "Nk7b9iC3HNt6",
        "outputId": "6ff48ff2-2e18-4603-c9e6-3c73b021e368"
      },
      "source": [
        "job_b['income_기타'].value_counts() # income_사업 !=0 일때 78155중 65553개가 income_기타가 83% 없음"
      ],
      "execution_count": null,
      "outputs": [
        {
          "output_type": "execute_result",
          "data": {
            "text/plain": [
              "0.0          65553\n",
              "43000.0        563\n",
              "21000.0        396\n",
              "85000.0        390\n",
              "128000.0       289\n",
              "             ...  \n",
              "5768000.0        1\n",
              "3931000.0        1\n",
              "1441000.0        1\n",
              "1702000.0        1\n",
              "4694000.0        1\n",
              "Name: income_기타, Length: 1809, dtype: int64"
            ]
          },
          "metadata": {
            "tags": []
          },
          "execution_count": 31
        }
      ]
    },
    {
      "cell_type": "markdown",
      "metadata": {
        "id": "FObxyynfPFfk"
      },
      "source": [
        "# Income 사업이 결제의 비율이 가장 높음\n",
        "\n",
        "\n",
        "\n",
        "*   삼쩜삼 수수료 책정 기준은 사업소득\n",
        "https://help.jobis.co/hc/ko/articles/900004453606--%EC%82%BC%EC%A9%9C%EC%82%BC-%EC%88%98%EC%88%98%EB%A3%8C%EB%8A%94-%EB%B9%84%EC%8B%B8%EB%8B%A4-%EC%A7%84%EC%8B%A4%EC%9D%80-\n",
        "\n",
        "* income_사업이 0이 아닐 때 근로는 58%가 0이므로 영향력이 부족\n",
        "\n",
        "* income_사업이 0이 아닐 때 기타는 82%가 0이므로 영향력이 많이 부족\n",
        "\n",
        "*   income_사업을 주 타겟으로 잡고 마켓팅 계획 설립 해야함\n",
        "\n",
        "*   사업이 주 타켓이므로 사업 or 프리랜서인 연령층을 분석\n",
        "\n",
        "\n",
        "\n",
        "\n",
        "\n",
        "\n",
        "\n",
        "\n",
        "\n",
        "\n",
        "\n"
      ]
    },
    {
      "cell_type": "code",
      "metadata": {
        "colab": {
          "base_uri": "https://localhost:8080/",
          "height": 417
        },
        "id": "BhlBRFloNtnc",
        "outputId": "e8371e65-e51b-4d31-af81-dd7a97b06614"
      },
      "source": [
        "sns.set(rc={'figure.figsize':(25,8)})\n",
        "sns.countplot(x='age', data = jobis) # 주 결제 연령층 20대 중반에서 30대 초반까지가 주 결제층"
      ],
      "execution_count": null,
      "outputs": [
        {
          "output_type": "execute_result",
          "data": {
            "text/plain": [
              "<matplotlib.axes._subplots.AxesSubplot at 0x7fa2ce9d3290>"
            ]
          },
          "metadata": {
            "tags": []
          },
          "execution_count": 32
        },
        {
          "output_type": "display_data",
          "data": {
            "image/png": "[encoded data removed]",
            "text/plain": [
              "<Figure size 1800x576 with 1 Axes>"
            ]
          },
          "metadata": {
            "tags": []
          }
        }
      ]
    },
    {
      "cell_type": "code",
      "metadata": {
        "id": "0kLaF8rFatoj"
      },
      "source": [
        "job_20 = jobis[jobis['age']>=20]\n",
        "job_2035 = job_20[job_20['age']<=35]"
      ],
      "execution_count": null,
      "outputs": []
    },
    {
      "cell_type": "code",
      "metadata": {
        "colab": {
          "base_uri": "https://localhost:8080/",
          "height": 449
        },
        "id": "4c1NEtq-ay6b",
        "outputId": "92814e6d-56d9-43ff-c529-504630dd862c"
      },
      "source": [
        "sns.countplot(x='has_paid', hue='has_paid', data=job_2035) # 결제한 비율: 65%\n",
        "plt.show()\n",
        "\n",
        "job_2035['has_paid'].value_counts(normalize=True)"
      ],
      "execution_count": null,
      "outputs": [
        {
          "output_type": "display_data",
          "data": {
            "image/png": "[encoded data removed]",
            "text/plain": [
              "<Figure size 1800x576 with 1 Axes>"
            ]
          },
          "metadata": {
            "tags": []
          }
        },
        {
          "output_type": "execute_result",
          "data": {
            "text/plain": [
              "1    0.650191\n",
              "0    0.349809\n",
              "Name: has_paid, dtype: float64"
            ]
          },
          "metadata": {
            "tags": []
          },
          "execution_count": 34
        }
      ]
    },
    {
      "cell_type": "code",
      "metadata": {
        "colab": {
          "base_uri": "https://localhost:8080/"
        },
        "id": "uFyP3YJFbdOL",
        "outputId": "e7469d2a-b041-4650-c81c-71a917f2bc4f"
      },
      "source": [
        "job_2035.count() # 100000개 row중 83940 row가 20-35세 대략 84%"
      ],
      "execution_count": null,
      "outputs": [
        {
          "output_type": "execute_result",
          "data": {
            "text/plain": [
              "age            83940\n",
              "gender         83940\n",
              "year           83940\n",
              "refund         83940\n",
              "fee            83940\n",
              "has_paid       83940\n",
              "income_근로      83940\n",
              "income_사업      83940\n",
              "income_기타      83940\n",
              "refund_rate    83940\n",
              "dtype: int64"
            ]
          },
          "metadata": {
            "tags": []
          },
          "execution_count": 35
        }
      ]
    },
    {
      "cell_type": "code",
      "metadata": {
        "id": "QdeCCcKHbLGr"
      },
      "source": [
        "job_36 = jobis[jobis['age']>35]\n",
        "job_3660 = job_36[job_36['age']<=60]"
      ],
      "execution_count": null,
      "outputs": []
    },
    {
      "cell_type": "code",
      "metadata": {
        "colab": {
          "base_uri": "https://localhost:8080/",
          "height": 451
        },
        "id": "lQLO69Z8bSkT",
        "outputId": "18a0a168-850a-41fc-c3d8-a651b7d7c8ee"
      },
      "source": [
        "sns.countplot(x='has_paid', hue='has_paid', data=job_3660) # 결제한 비율: 61.9%\n",
        "plt.show()\n",
        "\n",
        "job_3660['has_paid'].value_counts(normalize=True)"
      ],
      "execution_count": null,
      "outputs": [
        {
          "output_type": "display_data",
          "data": {
            "image/png": "[encoded data removed]",
            "text/plain": [
              "<Figure size 1800x576 with 1 Axes>"
            ]
          },
          "metadata": {
            "tags": []
          }
        },
        {
          "output_type": "execute_result",
          "data": {
            "text/plain": [
              "1    0.619412\n",
              "0    0.380588\n",
              "Name: has_paid, dtype: float64"
            ]
          },
          "metadata": {
            "tags": []
          },
          "execution_count": 37
        }
      ]
    },
    {
      "cell_type": "code",
      "metadata": {
        "colab": {
          "base_uri": "https://localhost:8080/"
        },
        "id": "JPMbW_qnbYRj",
        "outputId": "26c28f55-1d1b-4b04-96bd-8200922e5df7"
      },
      "source": [
        "job_3660.count() # 100000개 row에서 14362개 row 대략 14.3%"
      ],
      "execution_count": null,
      "outputs": [
        {
          "output_type": "execute_result",
          "data": {
            "text/plain": [
              "age            14362\n",
              "gender         14362\n",
              "year           14362\n",
              "refund         14362\n",
              "fee            14362\n",
              "has_paid       14362\n",
              "income_근로      14362\n",
              "income_사업      14362\n",
              "income_기타      14362\n",
              "refund_rate    14362\n",
              "dtype: int64"
            ]
          },
          "metadata": {
            "tags": []
          },
          "execution_count": 38
        }
      ]
    },
    {
      "cell_type": "markdown",
      "metadata": {
        "id": "vN3hcMQkcldl"
      },
      "source": [
        "# 주 고객 연령층 20대중반~30대 초반\n",
        "\n",
        "\n",
        "*   어플 사용이 많은 연령층\n",
        "\n",
        "*   사회 초년생일 가능성이 높은 연령대\n",
        "*   사업이 높게 나와서 연령대가 40대가 높을 줄 알았는데 어플이기 때문에 젊은층이 높게 나오는것 같음\n",
        "\n",
        "*   매출을 올리는 방법\n",
        "\n",
        " 1.   강세인 부분을 더욱 강하게 \n",
        " 2.   약세인 부분을 보완\n",
        "\n",
        "\n",
        "*   개인적인 생각으로는 연령대가 높은 사업은 세무사와 같이 직접 일을 맡길 \n",
        "\n",
        " 가능성이 높음 \n",
        "\n",
        " 따라서 부분을 보완하는 방법으로 간다면 매출의 상승에 도움이 될것 같음\n",
        "\n",
        "\n",
        "\n",
        "\n",
        "\n",
        "\n",
        "\n"
      ]
    },
    {
      "cell_type": "code",
      "metadata": {
        "colab": {
          "base_uri": "https://localhost:8080/",
          "height": 297
        },
        "id": "rRnYkCc9e9EP",
        "outputId": "3905e26e-d644-45cd-bf56-27fa94524354"
      },
      "source": [
        "job_2035.describe()"
      ],
      "execution_count": null,
      "outputs": [
        {
          "output_type": "execute_result",
          "data": {
            "text/html": [
              "<div>\n",
              "<style scoped>\n",
              "    .dataframe tbody tr th:only-of-type {\n",
              "        vertical-align: middle;\n",
              "    }\n",
              "\n",
              "    .dataframe tbody tr th {\n",
              "        vertical-align: top;\n",
              "    }\n",
              "\n",
              "    .dataframe thead th {\n",
              "        text-align: right;\n",
              "    }\n",
              "</style>\n",
              "<table border=\"1\" class=\"dataframe\">\n",
              "  <thead>\n",
              "    <tr style=\"text-align: right;\">\n",
              "      <th></th>\n",
              "      <th>age</th>\n",
              "      <th>year</th>\n",
              "      <th>refund</th>\n",
              "      <th>fee</th>\n",
              "      <th>has_paid</th>\n",
              "      <th>income_근로</th>\n",
              "      <th>income_사업</th>\n",
              "      <th>income_기타</th>\n",
              "      <th>refund_rate</th>\n",
              "    </tr>\n",
              "  </thead>\n",
              "  <tbody>\n",
              "    <tr>\n",
              "      <th>count</th>\n",
              "      <td>83940.000000</td>\n",
              "      <td>83940.000000</td>\n",
              "      <td>8.394000e+04</td>\n",
              "      <td>83940.000000</td>\n",
              "      <td>83940.000000</td>\n",
              "      <td>8.394000e+04</td>\n",
              "      <td>8.394000e+04</td>\n",
              "      <td>8.394000e+04</td>\n",
              "      <td>83940.000000</td>\n",
              "    </tr>\n",
              "    <tr>\n",
              "      <th>mean</th>\n",
              "      <td>26.468025</td>\n",
              "      <td>2018.126447</td>\n",
              "      <td>2.028824e+05</td>\n",
              "      <td>7051.524899</td>\n",
              "      <td>0.650191</td>\n",
              "      <td>2.278012e+06</td>\n",
              "      <td>1.146693e+06</td>\n",
              "      <td>1.478512e+05</td>\n",
              "      <td>3.414590</td>\n",
              "    </tr>\n",
              "    <tr>\n",
              "      <th>std</th>\n",
              "      <td>3.620258</td>\n",
              "      <td>1.489148</td>\n",
              "      <td>2.957924e+05</td>\n",
              "      <td>11542.805930</td>\n",
              "      <td>0.476912</td>\n",
              "      <td>4.440822e+06</td>\n",
              "      <td>2.188362e+06</td>\n",
              "      <td>7.208155e+05</td>\n",
              "      <td>8.784851</td>\n",
              "    </tr>\n",
              "    <tr>\n",
              "      <th>min</th>\n",
              "      <td>20.000000</td>\n",
              "      <td>2015.000000</td>\n",
              "      <td>-0.000000e+00</td>\n",
              "      <td>400.000000</td>\n",
              "      <td>0.000000</td>\n",
              "      <td>0.000000e+00</td>\n",
              "      <td>0.000000e+00</td>\n",
              "      <td>0.000000e+00</td>\n",
              "      <td>0.000000</td>\n",
              "    </tr>\n",
              "    <tr>\n",
              "      <th>25%</th>\n",
              "      <td>24.000000</td>\n",
              "      <td>2017.000000</td>\n",
              "      <td>3.300000e+04</td>\n",
              "      <td>400.000000</td>\n",
              "      <td>0.000000</td>\n",
              "      <td>0.000000e+00</td>\n",
              "      <td>3.200000e+04</td>\n",
              "      <td>0.000000e+00</td>\n",
              "      <td>1.820000</td>\n",
              "    </tr>\n",
              "    <tr>\n",
              "      <th>50%</th>\n",
              "      <td>26.000000</td>\n",
              "      <td>2018.000000</td>\n",
              "      <td>9.700000e+04</td>\n",
              "      <td>3800.000000</td>\n",
              "      <td>1.000000</td>\n",
              "      <td>0.000000e+00</td>\n",
              "      <td>3.270000e+05</td>\n",
              "      <td>0.000000e+00</td>\n",
              "      <td>3.310000</td>\n",
              "    </tr>\n",
              "    <tr>\n",
              "      <th>75%</th>\n",
              "      <td>29.000000</td>\n",
              "      <td>2019.000000</td>\n",
              "      <td>2.470000e+05</td>\n",
              "      <td>8500.000000</td>\n",
              "      <td>1.000000</td>\n",
              "      <td>2.558000e+06</td>\n",
              "      <td>1.203000e+06</td>\n",
              "      <td>2.000000e+03</td>\n",
              "      <td>3.940000</td>\n",
              "    </tr>\n",
              "    <tr>\n",
              "      <th>max</th>\n",
              "      <td>35.000000</td>\n",
              "      <td>2020.000000</td>\n",
              "      <td>7.725000e+06</td>\n",
              "      <td>307000.000000</td>\n",
              "      <td>1.000000</td>\n",
              "      <td>4.489000e+07</td>\n",
              "      <td>3.993400e+07</td>\n",
              "      <td>3.323500e+07</td>\n",
              "      <td>1595.000000</td>\n",
              "    </tr>\n",
              "  </tbody>\n",
              "</table>\n",
              "</div>"
            ],
            "text/plain": [
              "                age          year  ...     income_기타   refund_rate\n",
              "count  83940.000000  83940.000000  ...  8.394000e+04  83940.000000\n",
              "mean      26.468025   2018.126447  ...  1.478512e+05      3.414590\n",
              "std        3.620258      1.489148  ...  7.208155e+05      8.784851\n",
              "min       20.000000   2015.000000  ...  0.000000e+00      0.000000\n",
              "25%       24.000000   2017.000000  ...  0.000000e+00      1.820000\n",
              "50%       26.000000   2018.000000  ...  0.000000e+00      3.310000\n",
              "75%       29.000000   2019.000000  ...  2.000000e+03      3.940000\n",
              "max       35.000000   2020.000000  ...  3.323500e+07   1595.000000\n",
              "\n",
              "[8 rows x 9 columns]"
            ]
          },
          "metadata": {
            "tags": []
          },
          "execution_count": 39
        }
      ]
    },
    {
      "cell_type": "code",
      "metadata": {
        "colab": {
          "base_uri": "https://localhost:8080/"
        },
        "id": "JDhRJKQUe9A6",
        "outputId": "787dbab7-2c8c-4a10-b5fa-35678d42ff0b"
      },
      "source": [
        "job_2035['income_사업'].value_counts(normalize=True) # 79%가 사업소득"
      ],
      "execution_count": null,
      "outputs": [
        {
          "output_type": "execute_result",
          "data": {
            "text/plain": [
              "0.0           0.214046\n",
              "43000.0       0.007065\n",
              "85000.0       0.005826\n",
              "128000.0      0.005301\n",
              "26000.0       0.005099\n",
              "                ...   \n",
              "6132000.0     0.000012\n",
              "3088000.0     0.000012\n",
              "19548000.0    0.000012\n",
              "8033000.0     0.000012\n",
              "4119000.0     0.000012\n",
              "Name: income_사업, Length: 7764, dtype: float64"
            ]
          },
          "metadata": {
            "tags": []
          },
          "execution_count": 40
        }
      ]
    },
    {
      "cell_type": "code",
      "metadata": {
        "colab": {
          "base_uri": "https://localhost:8080/"
        },
        "id": "mJLi0ZmVhjzO",
        "outputId": "bedb2a79-7244-475f-c4a8-b1dd79c61565"
      },
      "source": [
        "job_2035['gender'].value_counts(normalize=True) # M: 51% / F: 48%"
      ],
      "execution_count": null,
      "outputs": [
        {
          "output_type": "execute_result",
          "data": {
            "text/plain": [
              "1    0.515285\n",
              "0    0.484537\n",
              "-    0.000179\n",
              "Name: gender, dtype: float64"
            ]
          },
          "metadata": {
            "tags": []
          },
          "execution_count": 41
        }
      ]
    },
    {
      "cell_type": "code",
      "metadata": {
        "colab": {
          "base_uri": "https://localhost:8080/"
        },
        "id": "jP50cfNjtf2-",
        "outputId": "612266cb-8c5f-45c1-a9ab-f21479cd2c8b"
      },
      "source": [
        "job_2035aaa = job_2035[job_2035['fee']>=400]\n",
        "job_2035aaa = job_2035aaa[job_2035aaa['fee']<3800] # 통계지표 25%~50%미만 집단 67.7% 결제\n",
        "print(job_2035aaa['has_paid'].value_counts(normalize=True))\n",
        "\n",
        "job_2035a = job_2035[job_2035['fee']>=3800] \n",
        "job_2035a = job_2035a[job_2035a['fee']<8500] # 통계지표 50~75%미만 집단 67.9% 결제\n",
        "print(job_2035a['has_paid'].value_counts(normalize=True))\n",
        "\n",
        "job_2035aa = job_2035[job_2035['fee']>=8500] # 통계지표 75% 이상 집단  59% 결제\n",
        "print(job_2035aa['has_paid'].value_counts(normalize=True))\n",
        "\n",
        "job_2035ab = job_2035[job_2035['fee']>=400] # 통계지표 25~75% 미만 집단 67% 결제\n",
        "job_2035ab = job_2035ab[job_2035ab['fee']<8500]\n",
        "print(job_2035ab['has_paid'].value_counts(normalize=True))"
      ],
      "execution_count": null,
      "outputs": [
        {
          "output_type": "stream",
          "text": [
            "1    0.668514\n",
            "0    0.331486\n",
            "Name: has_paid, dtype: float64\n",
            "1    0.679831\n",
            "0    0.320169\n",
            "Name: has_paid, dtype: float64\n",
            "1    0.595557\n",
            "0    0.404443\n",
            "Name: has_paid, dtype: float64\n",
            "1    0.671941\n",
            "0    0.328059\n",
            "Name: has_paid, dtype: float64\n"
          ],
          "name": "stdout"
        }
      ]
    },
    {
      "cell_type": "code",
      "metadata": {
        "colab": {
          "base_uri": "https://localhost:8080/"
        },
        "id": "Zl5FvoJ8iEiU",
        "outputId": "11aeac0e-7fa5-4582-8a2d-be06dc3ff703"
      },
      "source": [
        "job_2035b = job_2035[job_2035['gender']==1] # 2035 남자 중 사업소득 대략 78%\n",
        "job_2035b['income_사업'].value_counts(normalize=True) "
      ],
      "execution_count": null,
      "outputs": [
        {
          "output_type": "execute_result",
          "data": {
            "text/plain": [
              "0.0           0.217280\n",
              "43000.0       0.007005\n",
              "26000.0       0.005526\n",
              "85000.0       0.005433\n",
              "128000.0      0.005156\n",
              "                ...   \n",
              "8779000.0     0.000023\n",
              "5655000.0     0.000023\n",
              "5168000.0     0.000023\n",
              "9732000.0     0.000023\n",
              "11820000.0    0.000023\n",
              "Name: income_사업, Length: 6120, dtype: float64"
            ]
          },
          "metadata": {
            "tags": []
          },
          "execution_count": 43
        }
      ]
    },
    {
      "cell_type": "code",
      "metadata": {
        "colab": {
          "base_uri": "https://localhost:8080/"
        },
        "id": "Vq4enTwqkauM",
        "outputId": "89cf41b5-19a2-45d5-9f90-c043bf696b2c"
      },
      "source": [
        "job_2035ba = job_2035[job_2035['gender']==0] # 2035 여자 중 사업소득 대략 79%\n",
        "job_2035ba['income_사업'].value_counts(normalize=True)"
      ],
      "execution_count": null,
      "outputs": [
        {
          "output_type": "execute_result",
          "data": {
            "text/plain": [
              "0.0          0.210317\n",
              "43000.0      0.007130\n",
              "85000.0      0.006245\n",
              "128000.0     0.005458\n",
              "213000.0     0.004696\n",
              "               ...   \n",
              "4959000.0    0.000025\n",
              "2076000.0    0.000025\n",
              "3606000.0    0.000025\n",
              "1917000.0    0.000025\n",
              "7340000.0    0.000025\n",
              "Name: income_사업, Length: 5436, dtype: float64"
            ]
          },
          "metadata": {
            "tags": []
          },
          "execution_count": 44
        }
      ]
    },
    {
      "cell_type": "code",
      "metadata": {
        "colab": {
          "base_uri": "https://localhost:8080/"
        },
        "id": "iJGDXdYTtTPg",
        "outputId": "4cd7e46b-8196-4e67-f33e-b6908592e127"
      },
      "source": [
        "job_2035c = job_2035[job_2035['refund_rate']>=1.82] #통계지표 25~50% 미만 집단 72% 결제\n",
        "job_2035c = job_2035c[job_2035c['refund_rate']< 3.31]\n",
        "print(job_2035c['has_paid'].value_counts(normalize=True))\n",
        "\n",
        "job_2035cc = job_2035[job_2035['refund_rate']>=3.31] #통계지표 50~75% 미만 집단 60% 결제\n",
        "job_2035cc = job_2035cc[job_2035cc['refund_rate']< 3.94]\n",
        "print(job_2035cc['has_paid'].value_counts(normalize=True))\n",
        "\n",
        "job_2035ccc = job_2035[job_2035['refund_rate']>=3.94] #통계지표 75% 이상 집단 55% 결제\n",
        "print(job_2035ccc['has_paid'].value_counts(normalize=True))\n",
        "\n",
        "job_2035ca = job_2035[job_2035['refund_rate']>=1.82] #통계지표 25~75% 미만 집단 66% 결제\n",
        "job_2035ca = job_2035ca[job_2035ca['refund_rate']< 3.94]\n",
        "print(job_2035ca['has_paid'].value_counts(normalize=True))"
      ],
      "execution_count": null,
      "outputs": [
        {
          "output_type": "stream",
          "text": [
            "1    0.727218\n",
            "0    0.272782\n",
            "Name: has_paid, dtype: float64\n",
            "1    0.603779\n",
            "0    0.396221\n",
            "Name: has_paid, dtype: float64\n",
            "1    0.553748\n",
            "0    0.446252\n",
            "Name: has_paid, dtype: float64\n",
            "1    0.668514\n",
            "0    0.331486\n",
            "Name: has_paid, dtype: float64\n"
          ],
          "name": "stdout"
        }
      ]
    },
    {
      "cell_type": "code",
      "metadata": {
        "colab": {
          "base_uri": "https://localhost:8080/",
          "height": 429
        },
        "id": "HDHJcxkq3ew5",
        "outputId": "916241cd-b86b-4b64-f7f4-e77ceb9e8d30"
      },
      "source": [
        "fig, (ax1, ax2, ax3, ax4) = plt.subplots(nrows=4, ncols=1)\n",
        "plt.figure(figsize=(15,5))\n",
        "\n",
        "sns.countplot(data=job_2035aaa, x='fee', ax = ax1)\n",
        "sns.countplot(data=job_2035a, x='fee', ax = ax2)\n",
        "sns.countplot(data=job_2035aa, x='fee', ax = ax3)\n",
        "sns.countplot(data=job_2035ab, x='fee', ax = ax4)\n"
      ],
      "execution_count": null,
      "outputs": [
        {
          "output_type": "execute_result",
          "data": {
            "text/plain": [
              "<matplotlib.axes._subplots.AxesSubplot at 0x7fa2be3a82d0>"
            ]
          },
          "metadata": {
            "tags": []
          },
          "execution_count": 80
        },
        {
          "output_type": "display_data",
          "data": {
            "image/png": "[encoded data removed]",
            "text/plain": [
              "<Figure size 1800x576 with 4 Axes>"
            ]
          },
          "metadata": {
            "tags": []
          }
        },
        {
          "output_type": "display_data",
          "data": {
            "text/plain": [
              "<Figure size 1080x360 with 0 Axes>"
            ]
          },
          "metadata": {
            "tags": []
          }
        }
      ]
    },
    {
      "cell_type": "code",
      "metadata": {
        "colab": {
          "base_uri": "https://localhost:8080/",
          "height": 420
        },
        "id": "lr2aA85oyEQe",
        "outputId": "6aa71818-e3af-4010-96d8-274917907ec9"
      },
      "source": [
        "fig, (ax1, ax2, ax3, ax4) = plt.subplots(nrows=4, ncols=1)\n",
        "plt.figure(figsize=(10,5))\n",
        "\n",
        "sns.countplot(data=job_2035c, x='refund_rate', ax = ax1)\n",
        "sns.countplot(data=job_2035cc, x='refund_rate', ax = ax2)\n",
        "sns.countplot(data=job_2035ccc, x='refund_rate', ax = ax3)\n",
        "sns.countplot(data=job_2035ca, x='refund_rate', ax = ax4)\n"
      ],
      "execution_count": null,
      "outputs": [
        {
          "output_type": "execute_result",
          "data": {
            "text/plain": [
              "<matplotlib.axes._subplots.AxesSubplot at 0x7fa2c9067850>"
            ]
          },
          "metadata": {
            "tags": []
          },
          "execution_count": 69
        },
        {
          "output_type": "display_data",
          "data": {
            "image/png": "[encoded data removed]",
            "text/plain": [
              "<Figure size 1800x576 with 4 Axes>"
            ]
          },
          "metadata": {
            "tags": []
          }
        },
        {
          "output_type": "display_data",
          "data": {
            "text/plain": [
              "<Figure size 1080x360 with 0 Axes>"
            ]
          },
          "metadata": {
            "tags": []
          }
        }
      ]
    },
    {
      "cell_type": "code",
      "metadata": {
        "colab": {
          "base_uri": "https://localhost:8080/",
          "height": 297
        },
        "id": "pY6KXQySb_1z",
        "outputId": "6e8cf787-a32d-49eb-df99-851e119f18ec"
      },
      "source": [
        "job_3660.describe()"
      ],
      "execution_count": null,
      "outputs": [
        {
          "output_type": "execute_result",
          "data": {
            "text/html": [
              "<div>\n",
              "<style scoped>\n",
              "    .dataframe tbody tr th:only-of-type {\n",
              "        vertical-align: middle;\n",
              "    }\n",
              "\n",
              "    .dataframe tbody tr th {\n",
              "        vertical-align: top;\n",
              "    }\n",
              "\n",
              "    .dataframe thead th {\n",
              "        text-align: right;\n",
              "    }\n",
              "</style>\n",
              "<table border=\"1\" class=\"dataframe\">\n",
              "  <thead>\n",
              "    <tr style=\"text-align: right;\">\n",
              "      <th></th>\n",
              "      <th>age</th>\n",
              "      <th>year</th>\n",
              "      <th>refund</th>\n",
              "      <th>fee</th>\n",
              "      <th>has_paid</th>\n",
              "      <th>income_근로</th>\n",
              "      <th>income_사업</th>\n",
              "      <th>income_기타</th>\n",
              "      <th>refund_rate</th>\n",
              "    </tr>\n",
              "  </thead>\n",
              "  <tbody>\n",
              "    <tr>\n",
              "      <th>count</th>\n",
              "      <td>14362.000000</td>\n",
              "      <td>14362.000000</td>\n",
              "      <td>1.436200e+04</td>\n",
              "      <td>14362.000000</td>\n",
              "      <td>14362.000000</td>\n",
              "      <td>1.436200e+04</td>\n",
              "      <td>1.436200e+04</td>\n",
              "      <td>1.436200e+04</td>\n",
              "      <td>14362.000000</td>\n",
              "    </tr>\n",
              "    <tr>\n",
              "      <th>mean</th>\n",
              "      <td>43.719259</td>\n",
              "      <td>2017.929119</td>\n",
              "      <td>2.456230e+05</td>\n",
              "      <td>8581.604233</td>\n",
              "      <td>0.619412</td>\n",
              "      <td>4.876675e+06</td>\n",
              "      <td>1.419542e+06</td>\n",
              "      <td>2.470482e+05</td>\n",
              "      <td>3.537845</td>\n",
              "    </tr>\n",
              "    <tr>\n",
              "      <th>std</th>\n",
              "      <td>6.619873</td>\n",
              "      <td>1.525766</td>\n",
              "      <td>3.602628e+05</td>\n",
              "      <td>14053.350405</td>\n",
              "      <td>0.485548</td>\n",
              "      <td>8.394628e+06</td>\n",
              "      <td>2.631108e+06</td>\n",
              "      <td>1.157305e+06</td>\n",
              "      <td>7.180420</td>\n",
              "    </tr>\n",
              "    <tr>\n",
              "      <th>min</th>\n",
              "      <td>36.000000</td>\n",
              "      <td>2015.000000</td>\n",
              "      <td>-0.000000e+00</td>\n",
              "      <td>400.000000</td>\n",
              "      <td>0.000000</td>\n",
              "      <td>0.000000e+00</td>\n",
              "      <td>0.000000e+00</td>\n",
              "      <td>0.000000e+00</td>\n",
              "      <td>0.000000</td>\n",
              "    </tr>\n",
              "    <tr>\n",
              "      <th>25%</th>\n",
              "      <td>38.000000</td>\n",
              "      <td>2017.000000</td>\n",
              "      <td>3.400000e+04</td>\n",
              "      <td>400.000000</td>\n",
              "      <td>0.000000</td>\n",
              "      <td>0.000000e+00</td>\n",
              "      <td>0.000000e+00</td>\n",
              "      <td>0.000000e+00</td>\n",
              "      <td>1.900000</td>\n",
              "    </tr>\n",
              "    <tr>\n",
              "      <th>50%</th>\n",
              "      <td>42.000000</td>\n",
              "      <td>2018.000000</td>\n",
              "      <td>1.140000e+05</td>\n",
              "      <td>4300.000000</td>\n",
              "      <td>1.000000</td>\n",
              "      <td>0.000000e+00</td>\n",
              "      <td>3.400000e+05</td>\n",
              "      <td>0.000000e+00</td>\n",
              "      <td>3.330000</td>\n",
              "    </tr>\n",
              "    <tr>\n",
              "      <th>75%</th>\n",
              "      <td>49.000000</td>\n",
              "      <td>2019.000000</td>\n",
              "      <td>3.030000e+05</td>\n",
              "      <td>10600.000000</td>\n",
              "      <td>1.000000</td>\n",
              "      <td>7.736500e+06</td>\n",
              "      <td>1.478000e+06</td>\n",
              "      <td>2.600000e+04</td>\n",
              "      <td>3.950000</td>\n",
              "    </tr>\n",
              "    <tr>\n",
              "      <th>max</th>\n",
              "      <td>60.000000</td>\n",
              "      <td>2020.000000</td>\n",
              "      <td>6.815000e+06</td>\n",
              "      <td>270800.000000</td>\n",
              "      <td>1.000000</td>\n",
              "      <td>1.823350e+08</td>\n",
              "      <td>2.122400e+07</td>\n",
              "      <td>6.281000e+07</td>\n",
              "      <td>426.670000</td>\n",
              "    </tr>\n",
              "  </tbody>\n",
              "</table>\n",
              "</div>"
            ],
            "text/plain": [
              "                age          year  ...     income_기타   refund_rate\n",
              "count  14362.000000  14362.000000  ...  1.436200e+04  14362.000000\n",
              "mean      43.719259   2017.929119  ...  2.470482e+05      3.537845\n",
              "std        6.619873      1.525766  ...  1.157305e+06      7.180420\n",
              "min       36.000000   2015.000000  ...  0.000000e+00      0.000000\n",
              "25%       38.000000   2017.000000  ...  0.000000e+00      1.900000\n",
              "50%       42.000000   2018.000000  ...  0.000000e+00      3.330000\n",
              "75%       49.000000   2019.000000  ...  2.600000e+04      3.950000\n",
              "max       60.000000   2020.000000  ...  6.281000e+07    426.670000\n",
              "\n",
              "[8 rows x 9 columns]"
            ]
          },
          "metadata": {
            "tags": []
          },
          "execution_count": 46
        }
      ]
    },
    {
      "cell_type": "code",
      "metadata": {
        "colab": {
          "base_uri": "https://localhost:8080/"
        },
        "id": "h7cBKIQed7HU",
        "outputId": "ae36aa0f-8066-4cb9-85e9-40b6d4cca7c6"
      },
      "source": [
        "job_3660['income_사업'].value_counts(normalize=True) # 75프로가 사업소득"
      ],
      "execution_count": null,
      "outputs": [
        {
          "output_type": "execute_result",
          "data": {
            "text/plain": [
              "0.0           0.253655\n",
              "128000.0      0.004804\n",
              "28000.0       0.004456\n",
              "31000.0       0.004456\n",
              "43000.0       0.004456\n",
              "                ...   \n",
              "13739000.0    0.000070\n",
              "18565000.0    0.000070\n",
              "3548000.0     0.000070\n",
              "15836000.0    0.000070\n",
              "5046000.0     0.000070\n",
              "Name: income_사업, Length: 3930, dtype: float64"
            ]
          },
          "metadata": {
            "tags": []
          },
          "execution_count": 47
        }
      ]
    },
    {
      "cell_type": "code",
      "metadata": {
        "colab": {
          "base_uri": "https://localhost:8080/"
        },
        "id": "rx66tQV-h7kF",
        "outputId": "e99adce7-25ed-496a-e353-e9c922c099dd"
      },
      "source": [
        "job_3660['gender'].value_counts(normalize=True) # M: 55% / F: 44%"
      ],
      "execution_count": null,
      "outputs": [
        {
          "output_type": "execute_result",
          "data": {
            "text/plain": [
              "0    0.555494\n",
              "1    0.444089\n",
              "-    0.000418\n",
              "Name: gender, dtype: float64"
            ]
          },
          "metadata": {
            "tags": []
          },
          "execution_count": 48
        }
      ]
    },
    {
      "cell_type": "code",
      "metadata": {
        "colab": {
          "base_uri": "https://localhost:8080/"
        },
        "id": "Yh2PpRTMtAQg",
        "outputId": "87518c26-de1f-4bdf-da71-43a7c6ba556c"
      },
      "source": [
        "job_3660aaa = job_3660[job_3660['fee']>=400]\n",
        "job_3660aaa = job_3660aaa[job_3660['fee']<4300] # 통계지표 25~50%미만 62%결제\n",
        "print(job_3660aaa['has_paid'].value_counts(normalize=True))\n",
        "\n",
        "job_3660a = job_3660[job_3660['fee']>=4300]\n",
        "job_3660a = job_3660a[job_3660a['fee']<10600] # 통계지표 50~ 75% 미만 집단 66.7% 결제\n",
        "print(job_3660a['has_paid'].value_counts(normalize=True))\n",
        "\n",
        "job_3660aa = job_3660[job_3660['fee']>=10600] # 통계지표 75% 이상 집단 55% 결제\n",
        "print(job_3660aa['has_paid'].value_counts(normalize=True))\n",
        "\n",
        "job_3660ab = job_3660[job_3660['fee']>=400]\n",
        "job_3660ab = job_3660ab[job_3660ab['fee']<10600]\n",
        "print(job_3660ab['has_paid'].value_counts(normalize=True)) # 25~75% 미만 집단 64.2% 결제"
      ],
      "execution_count": null,
      "outputs": [
        {
          "output_type": "stream",
          "text": [
            "1    0.627601\n",
            "0    0.372399\n",
            "Name: has_paid, dtype: float64\n",
            "1    0.667328\n",
            "0    0.332672\n",
            "Name: has_paid, dtype: float64\n",
            "1    0.551507\n",
            "0    0.448493\n",
            "Name: has_paid, dtype: float64\n",
            "1    0.64255\n",
            "0    0.35745\n",
            "Name: has_paid, dtype: float64\n"
          ],
          "name": "stdout"
        }
      ]
    },
    {
      "cell_type": "code",
      "metadata": {
        "colab": {
          "base_uri": "https://localhost:8080/"
        },
        "id": "8GHUczt7sx-x",
        "outputId": "f70067c1-5ccb-4c90-b26d-8137a8ac38f4"
      },
      "source": [
        "job_3660c = job_3660[job_3660['refund_rate']>=1.90] #통계지표 25~50% 미만 집단 69% 결제\n",
        "job_3660c = job_3660c[job_3660c['refund_rate']< 3.33]\n",
        "print(job_3660c['has_paid'].value_counts(normalize=True))\n",
        "\n",
        "job_3660cc = job_3660[job_3660['refund_rate']>=3.33] #통계지표 50~75% 미만 집단 57% 결제\n",
        "job_3660cc = job_3660cc[job_3660cc['refund_rate']< 3.95]\n",
        "print(job_3660cc['has_paid'].value_counts(normalize=True))\n",
        "\n",
        "job_3660ccc = job_3660[job_3660['refund_rate']>=3.95] #통계지표 75% 이상 집단 54% 결제\n",
        "print(job_3660ccc['has_paid'].value_counts(normalize=True))\n",
        "\n",
        "job_3660ca = job_3660[job_3660['refund_rate']>=1.90] #통계지표 25~75% 미만 집단 63% 결제\n",
        "job_3660ca = job_3660ca[job_3660ca['refund_rate']< 3.95]\n",
        "print(job_3660ca['has_paid'].value_counts(normalize=True))"
      ],
      "execution_count": null,
      "outputs": [
        {
          "output_type": "stream",
          "text": [
            "1    0.696089\n",
            "0    0.303911\n",
            "Name: has_paid, dtype: float64\n",
            "1    0.572799\n",
            "0    0.427201\n",
            "Name: has_paid, dtype: float64\n",
            "1    0.541398\n",
            "0    0.458602\n",
            "Name: has_paid, dtype: float64\n",
            "1    0.634756\n",
            "0    0.365244\n",
            "Name: has_paid, dtype: float64\n"
          ],
          "name": "stdout"
        }
      ]
    },
    {
      "cell_type": "code",
      "metadata": {
        "colab": {
          "base_uri": "https://localhost:8080/",
          "height": 428
        },
        "id": "dn6t7BdZyxSQ",
        "outputId": "77111021-b500-4686-ede4-fa24e4180519"
      },
      "source": [
        "fig, (ax1, ax2, ax3, ax4) = plt.subplots(nrows=4, ncols=1)\n",
        "plt.figure(figsize=(15,5))\n",
        "\n",
        "sns.countplot(data=job_3660aaa, x='fee', ax = ax1)\n",
        "sns.countplot(data=job_3660a, x='fee', ax = ax2)\n",
        "sns.countplot(data=job_3660aa, x='fee', ax = ax3)\n",
        "sns.countplot(data=job_3660ab, x='fee', ax = ax4)"
      ],
      "execution_count": null,
      "outputs": [
        {
          "output_type": "execute_result",
          "data": {
            "text/plain": [
              "<matplotlib.axes._subplots.AxesSubplot at 0x7fa2bdc736d0>"
            ]
          },
          "metadata": {
            "tags": []
          },
          "execution_count": 81
        },
        {
          "output_type": "display_data",
          "data": {
            "image/png": "[encoded data removed]",
            "text/plain": [
              "<Figure size 1800x576 with 4 Axes>"
            ]
          },
          "metadata": {
            "tags": []
          }
        },
        {
          "output_type": "display_data",
          "data": {
            "text/plain": [
              "<Figure size 1080x360 with 0 Axes>"
            ]
          },
          "metadata": {
            "tags": []
          }
        }
      ]
    },
    {
      "cell_type": "code",
      "metadata": {
        "colab": {
          "base_uri": "https://localhost:8080/",
          "height": 558
        },
        "id": "kSbQrVhZ4BQs",
        "outputId": "2f8ba0cb-8921-4076-9d71-cde1769a7cb7"
      },
      "source": [
        "fig, (ax1, ax2, ax3, ax4) = plt.subplots(nrows=4, ncols=1)\n",
        "plt.figure(figsize=(10,5))\n",
        "\n",
        "sns.countplot(data=job_3660c, x='refund_rate', ax = ax1)\n",
        "sns.countplot(data=job_3660cc, x='refund_rate', ax = ax2)\n",
        "sns.countplot(data=job_3660ccc, x='refund_rate', ax = ax3)\n",
        "sns.countplot(data=job_3660ca, x='refund_rate', ax = ax4)\n"
      ],
      "execution_count": null,
      "outputs": [
        {
          "output_type": "execute_result",
          "data": {
            "text/plain": [
              "<matplotlib.axes._subplots.AxesSubplot at 0x7fa2bbdbb490>"
            ]
          },
          "metadata": {
            "tags": []
          },
          "execution_count": 83
        },
        {
          "output_type": "display_data",
          "data": {
            "image/png": "[encoded data removed]",
            "text/plain": [
              "<Figure size 1800x576 with 4 Axes>"
            ]
          },
          "metadata": {
            "tags": []
          }
        },
        {
          "output_type": "display_data",
          "data": {
            "text/plain": [
              "<Figure size 720x360 with 0 Axes>"
            ]
          },
          "metadata": {
            "tags": []
          }
        }
      ]
    },
    {
      "cell_type": "markdown",
      "metadata": {
        "id": "N5GGN49ngbJI"
      },
      "source": [
        "#2035 / 3660 연령층 Fee 통계지표\n",
        "\n",
        "75% 이상일 때 결제하는 비율이 급 하락하는 경향이 보임\n",
        "\n",
        "25-75프로 미만일 때 64(3660) / 67(2035)% 결제\n",
        "\n",
        "75프로 이상부터는 55(3660) / 59(2035)% 결제\n",
        "\n",
        "\n",
        "---\n",
        "#2035 / 3660 연령층 Refund_Rate 통계지표\n",
        "25 - 50% 미만일 때 결제하는 비율이 크고 50%이상 부터 급 하락하는 경향\n"
      ]
    },
    {
      "cell_type": "code",
      "metadata": {
        "id": "akmgdy_odh6y"
      },
      "source": [
        ""
      ],
      "execution_count": null,
      "outputs": []
    }
  ]
}