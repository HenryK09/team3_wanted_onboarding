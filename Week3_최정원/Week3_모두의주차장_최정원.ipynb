{
 "cells": [
  {
   "cell_type": "markdown",
   "metadata": {},
   "source": [
    "# Week3 모두의 주차장 🚘"
   ]
  },
  {
   "cell_type": "markdown",
   "metadata": {},
   "source": [
    "### 목적: 이용자 별 향후 한달간 이용건수 예측하기\n",
    "- (Data) 이용자 별 결제 이력을 바탕으로 함\n",
    "- (Task) Regression\n",
    "- (Metric) MSE, MAE\n",
    "\n",
    "\n",
    "\n",
    "Data Details\n",
    "- 유저 가입 정보: id, 가입일\n",
    "- 소비 행동 정보: 상품id, 점포 주소, 결제일, 결제건수\n",
    "- 외부 정보: 서울시 지점별 교통량 데이터, 기온, 강수량, 풍속 등 기상 데이터\n"
   ]
  },
  {
   "cell_type": "markdown",
   "metadata": {},
   "source": [
    "### 과제 제출에 포함되어야 하는 형태 (최소)\n",
    "- 모델링에 대한 결과 .ipynb 파일\n",
    "- .random.seed(42) 설정\n",
    "- Input : X데이터 : [user_id, +@]\n",
    "- Output : Count column 예측값\n",
    "- 2020.01.01~2020.09.30 : Training Data\n",
    "- 2020.10.01~2020.12.31 : Test Data\n",
    "- 2020.10.01~2020.12.31 구간에 대한 MSE, MAE 계산값\n",
    "- 요일별 이용량에 대한 분석 - EDA\n",
    "- 유저별 이용 count 값에 대한 분석 - EDA"
   ]
  },
  {
   "cell_type": "markdown",
   "metadata": {},
   "source": [
    "## 사전 준비"
   ]
  },
  {
   "cell_type": "markdown",
   "metadata": {},
   "source": [
    "### 세팅"
   ]
  },
  {
   "cell_type": "code",
   "execution_count": 1,
   "metadata": {},
   "outputs": [],
   "source": [
    "import pandas as pd\n",
    "pd.set_option('display.max_rows', 100)\n",
    "import numpy as np\n",
    "\n",
    "import matplotlib\n",
    "import matplotlib.pyplot as plt\n",
    "import seaborn as sns\n",
    "matplotlib.rc('font', family=\"NanumGothic\")\n",
    "\n",
    "from sklearn.metrics import mean_absolute_error\n",
    "from sklearn.metrics import mean_squared_error"
   ]
  },
  {
   "cell_type": "markdown",
   "metadata": {},
   "source": [
    "#### ⭐과제 지시사항에 따라 random seed를42로 설정"
   ]
  },
  {
   "cell_type": "code",
   "execution_count": 2,
   "metadata": {},
   "outputs": [],
   "source": [
    "np.random.seed(42)"
   ]
  },
  {
   "cell_type": "markdown",
   "metadata": {},
   "source": [
    "### 데이터 로딩하기"
   ]
  },
  {
   "cell_type": "markdown",
   "metadata": {},
   "source": [
    "#### 컬럼정보1(실전db.csv). 유저 가입 정보 및 소비 행동 정보\n",
    "- USER_ID: 유저id\n",
    "- JOIN_DATE: 가입일\n",
    "- D_TYPE:\n",
    "- STORE_ID: 상품id\n",
    "- GOODS_TYPE:\n",
    "- DATE: 결제일\n",
    "- COUNT: 결제건수 ⭐ 예측해야하는 값(label)\n",
    "- AD1: 점포 주소"
   ]
  },
  {
   "cell_type": "code",
   "execution_count": 3,
   "metadata": {},
   "outputs": [
    {
     "name": "stdout",
     "output_type": "stream",
     "text": [
      "(879271, 8)\n"
     ]
    },
    {
     "data": {
      "text/html": [
       "<div>\n",
       "<style scoped>\n",
       "    .dataframe tbody tr th:only-of-type {\n",
       "        vertical-align: middle;\n",
       "    }\n",
       "\n",
       "    .dataframe tbody tr th {\n",
       "        vertical-align: top;\n",
       "    }\n",
       "\n",
       "    .dataframe thead th {\n",
       "        text-align: right;\n",
       "    }\n",
       "</style>\n",
       "<table border=\"1\" class=\"dataframe\">\n",
       "  <thead>\n",
       "    <tr style=\"text-align: right;\">\n",
       "      <th></th>\n",
       "      <th>USER_ID</th>\n",
       "      <th>JOIN_DATE</th>\n",
       "      <th>D_TYPE</th>\n",
       "      <th>STORE_ID</th>\n",
       "      <th>GOODS_TYPE</th>\n",
       "      <th>DATE</th>\n",
       "      <th>COUNT</th>\n",
       "      <th>AD1</th>\n",
       "    </tr>\n",
       "  </thead>\n",
       "  <tbody>\n",
       "    <tr>\n",
       "      <th>0</th>\n",
       "      <td>2858</td>\n",
       "      <td>2014-01-07</td>\n",
       "      <td>AA</td>\n",
       "      <td>1892</td>\n",
       "      <td>A</td>\n",
       "      <td>2020-01-01</td>\n",
       "      <td>1</td>\n",
       "      <td>GN</td>\n",
       "    </tr>\n",
       "    <tr>\n",
       "      <th>1</th>\n",
       "      <td>5647</td>\n",
       "      <td>2014-02-14</td>\n",
       "      <td>BB</td>\n",
       "      <td>182009</td>\n",
       "      <td>A</td>\n",
       "      <td>2020-01-01</td>\n",
       "      <td>1</td>\n",
       "      <td>J</td>\n",
       "    </tr>\n",
       "    <tr>\n",
       "      <th>2</th>\n",
       "      <td>33314</td>\n",
       "      <td>2014-11-20</td>\n",
       "      <td>BB</td>\n",
       "      <td>82431</td>\n",
       "      <td>A</td>\n",
       "      <td>2020-01-01</td>\n",
       "      <td>1</td>\n",
       "      <td>SC</td>\n",
       "    </tr>\n",
       "    <tr>\n",
       "      <th>3</th>\n",
       "      <td>37001</td>\n",
       "      <td>2014-12-04</td>\n",
       "      <td>BB</td>\n",
       "      <td>725</td>\n",
       "      <td>C</td>\n",
       "      <td>2020-01-01</td>\n",
       "      <td>1</td>\n",
       "      <td>MP</td>\n",
       "    </tr>\n",
       "    <tr>\n",
       "      <th>4</th>\n",
       "      <td>37819</td>\n",
       "      <td>2014-12-07</td>\n",
       "      <td>AA</td>\n",
       "      <td>220691</td>\n",
       "      <td>C</td>\n",
       "      <td>2020-01-01</td>\n",
       "      <td>1</td>\n",
       "      <td>JRR</td>\n",
       "    </tr>\n",
       "  </tbody>\n",
       "</table>\n",
       "</div>"
      ],
      "text/plain": [
       "   USER_ID   JOIN_DATE D_TYPE  STORE_ID GOODS_TYPE        DATE  COUNT  AD1\n",
       "0     2858  2014-01-07     AA      1892          A  2020-01-01      1   GN\n",
       "1     5647  2014-02-14     BB    182009          A  2020-01-01      1    J\n",
       "2    33314  2014-11-20     BB     82431          A  2020-01-01      1   SC\n",
       "3    37001  2014-12-04     BB       725          C  2020-01-01      1   MP\n",
       "4    37819  2014-12-07     AA    220691          C  2020-01-01      1  JRR"
      ]
     },
     "execution_count": 3,
     "metadata": {},
     "output_type": "execute_result"
    }
   ],
   "source": [
    "data = pd.read_csv(\"실전db.csv\", encoding=\"cp949\")\n",
    "\n",
    "print(data.shape)\n",
    "data.head()"
   ]
  },
  {
   "cell_type": "markdown",
   "metadata": {},
   "source": [
    "- D_TYPE, GOODS_TYPE, AD1 탐구 필요\n",
    "- AD1의 경우, address로 추측되며, GN강남 J중구 SC서초 MP마포 등으로 추측할 수 있음"
   ]
  },
  {
   "cell_type": "code",
   "execution_count": 4,
   "metadata": {},
   "outputs": [
    {
     "name": "stdout",
     "output_type": "stream",
     "text": [
      "<class 'pandas.core.frame.DataFrame'>\n",
      "RangeIndex: 879271 entries, 0 to 879270\n",
      "Data columns (total 8 columns):\n",
      " #   Column      Non-Null Count   Dtype \n",
      "---  ------      --------------   ----- \n",
      " 0   USER_ID     879271 non-null  int64 \n",
      " 1   JOIN_DATE   879271 non-null  object\n",
      " 2   D_TYPE      879271 non-null  object\n",
      " 3   STORE_ID    879271 non-null  int64 \n",
      " 4   GOODS_TYPE  879271 non-null  object\n",
      " 5   DATE        879271 non-null  object\n",
      " 6   COUNT       879271 non-null  int64 \n",
      " 7   AD1         879271 non-null  object\n",
      "dtypes: int64(3), object(5)\n",
      "memory usage: 53.7+ MB\n"
     ]
    }
   ],
   "source": [
    "# 결측치 등 확인\n",
    "data.info()"
   ]
  },
  {
   "cell_type": "markdown",
   "metadata": {},
   "source": [
    "- NaN값은 없음\n",
    "- 날짜 컬럼들(JOIN_DATE, DATE)이 object 형식 > 필요한 경우 변환해야 함"
   ]
  },
  {
   "cell_type": "code",
   "execution_count": 5,
   "metadata": {},
   "outputs": [
    {
     "name": "stdout",
     "output_type": "stream",
     "text": [
      "<class 'pandas.core.frame.DataFrame'>\n",
      "RangeIndex: 879271 entries, 0 to 879270\n",
      "Data columns (total 8 columns):\n",
      " #   Column      Non-Null Count   Dtype         \n",
      "---  ------      --------------   -----         \n",
      " 0   USER_ID     879271 non-null  int64         \n",
      " 1   JOIN_DATE   879271 non-null  datetime64[ns]\n",
      " 2   D_TYPE      879271 non-null  object        \n",
      " 3   STORE_ID    879271 non-null  int64         \n",
      " 4   GOODS_TYPE  879271 non-null  object        \n",
      " 5   DATE        879271 non-null  datetime64[ns]\n",
      " 6   COUNT       879271 non-null  int64         \n",
      " 7   AD1         879271 non-null  object        \n",
      "dtypes: datetime64[ns](2), int64(3), object(3)\n",
      "memory usage: 53.7+ MB\n"
     ]
    }
   ],
   "source": [
    "# 날짜 컬럼 일단 변환해줍니다.\n",
    "\n",
    "data[\"DATE\"] = pd.to_datetime(data[\"DATE\"])\n",
    "data[\"JOIN_DATE\"] = pd.to_datetime(data[\"JOIN_DATE\"])\n",
    "\n",
    "data.info()"
   ]
  },
  {
   "cell_type": "markdown",
   "metadata": {},
   "source": [
    "#### AD1 컬럼 확인"
   ]
  },
  {
   "cell_type": "code",
   "execution_count": 6,
   "metadata": {
    "scrolled": true
   },
   "outputs": [
    {
     "name": "stdout",
     "output_type": "stream",
     "text": [
      "['GN' 'J' 'SC' 'MP' 'JRR' 'YD' 'GJ' 'YO' 'GSN' 'GBC' 'BF' 'DJ' '0' 'CD'\n",
      " 'NO' 'CY' 'YC' 'SD' 'GD' 'GSW' 'DM' 'R' 'GB' 'GS' 'GHN' 'SB' 'IND' 'P'\n",
      " 'GW' 'JR' 'GEJ' 'GGY' 'GKP' 'CAS' 'SG' 'BJG' 'BHW' 'GAY' 'GYI' 'CCA'\n",
      " 'PJP' 'GGC' 'IYS' 'DB' 'GGM' 'GAS' 'WOID' 'DIV' 'AOI' 'COI' 'GPJ' 'SOI'\n",
      " 'ABP' 'DOI' 'WF' 'BI' 'ZP' 'EP' 'Q' 'BO' 'ZE' 'RRR' 'QGI' 'DSO' 'SOD'\n",
      " 'BOI' 'WT' 'BP' 'SP' 'CN' 'SJV' 'SDU' 'QH' 'BUD' 'CU' 'VU' 'WAE' 'NW'\n",
      " 'DY' 'WH' 'GR' 'X' 'CVB' 'ADS' 'VO']\n",
      "85\n"
     ]
    }
   ],
   "source": [
    "print(data[\"AD1\"].unique())\n",
    "print(data[\"AD1\"].nunique())"
   ]
  },
  {
   "cell_type": "markdown",
   "metadata": {},
   "source": [
    "- 종로, 중구, 서초, 마포, 중랑, 영등포, 광진, 여의도 등 서울 '구'로 추정되는 이름들이 보임\n",
    "- 이 지역정보를 알 수 있으면, 아래 traffic(교통량통합) 정보와 결합하여 사용 가능"
   ]
  },
  {
   "cell_type": "code",
   "execution_count": null,
   "metadata": {},
   "outputs": [],
   "source": []
  },
  {
   "cell_type": "markdown",
   "metadata": {},
   "source": [
    "#### 컬럼정보2(2020교통량통합.xlsx). 외부 정보: 서울시 지점별 교통량 데이터\n",
    "- DATE\n",
    "- 지점명\n",
    "- 지점번호\n",
    "- 방향\n",
    "- 구분 \n",
    "- 시간 "
   ]
  },
  {
   "cell_type": "code",
   "execution_count": 7,
   "metadata": {},
   "outputs": [
    {
     "name": "stdout",
     "output_type": "stream",
     "text": [
      "(98820, 29)\n"
     ]
    },
    {
     "data": {
      "text/html": [
       "<div>\n",
       "<style scoped>\n",
       "    .dataframe tbody tr th:only-of-type {\n",
       "        vertical-align: middle;\n",
       "    }\n",
       "\n",
       "    .dataframe tbody tr th {\n",
       "        vertical-align: top;\n",
       "    }\n",
       "\n",
       "    .dataframe thead th {\n",
       "        text-align: right;\n",
       "    }\n",
       "</style>\n",
       "<table border=\"1\" class=\"dataframe\">\n",
       "  <thead>\n",
       "    <tr style=\"text-align: right;\">\n",
       "      <th></th>\n",
       "      <th>DATE</th>\n",
       "      <th>지점명</th>\n",
       "      <th>지점번호</th>\n",
       "      <th>방향</th>\n",
       "      <th>구분</th>\n",
       "      <th>0시</th>\n",
       "      <th>1시</th>\n",
       "      <th>2시</th>\n",
       "      <th>3시</th>\n",
       "      <th>4시</th>\n",
       "      <th>...</th>\n",
       "      <th>14시</th>\n",
       "      <th>15시</th>\n",
       "      <th>16시</th>\n",
       "      <th>17시</th>\n",
       "      <th>18시</th>\n",
       "      <th>19시</th>\n",
       "      <th>20시</th>\n",
       "      <th>21시</th>\n",
       "      <th>22시</th>\n",
       "      <th>23시</th>\n",
       "    </tr>\n",
       "  </thead>\n",
       "  <tbody>\n",
       "    <tr>\n",
       "      <th>0</th>\n",
       "      <td>2020-01-01</td>\n",
       "      <td>성산로(금화터널)</td>\n",
       "      <td>A-01</td>\n",
       "      <td>유입</td>\n",
       "      <td>봉원고가차도-&gt;독립문역</td>\n",
       "      <td>712.0</td>\n",
       "      <td>645.0</td>\n",
       "      <td>437.0</td>\n",
       "      <td>309.0</td>\n",
       "      <td>290.0</td>\n",
       "      <td>...</td>\n",
       "      <td>1472.0</td>\n",
       "      <td>1416.0</td>\n",
       "      <td>1483.0</td>\n",
       "      <td>1329.0</td>\n",
       "      <td>1157.0</td>\n",
       "      <td>1014.0</td>\n",
       "      <td>954.0</td>\n",
       "      <td>849.0</td>\n",
       "      <td>780.0</td>\n",
       "      <td>480.0</td>\n",
       "    </tr>\n",
       "    <tr>\n",
       "      <th>1</th>\n",
       "      <td>2020-01-02</td>\n",
       "      <td>성산로(금화터널)</td>\n",
       "      <td>A-01</td>\n",
       "      <td>유입</td>\n",
       "      <td>봉원고가차도-&gt;독립문역</td>\n",
       "      <td>315.0</td>\n",
       "      <td>222.0</td>\n",
       "      <td>186.0</td>\n",
       "      <td>165.0</td>\n",
       "      <td>266.0</td>\n",
       "      <td>...</td>\n",
       "      <td>1792.0</td>\n",
       "      <td>1897.0</td>\n",
       "      <td>1842.0</td>\n",
       "      <td>2061.0</td>\n",
       "      <td>1994.0</td>\n",
       "      <td>1443.0</td>\n",
       "      <td>1233.0</td>\n",
       "      <td>1165.0</td>\n",
       "      <td>1094.0</td>\n",
       "      <td>852.0</td>\n",
       "    </tr>\n",
       "    <tr>\n",
       "      <th>2</th>\n",
       "      <td>2020-01-03</td>\n",
       "      <td>성산로(금화터널)</td>\n",
       "      <td>A-01</td>\n",
       "      <td>유입</td>\n",
       "      <td>봉원고가차도-&gt;독립문역</td>\n",
       "      <td>632.0</td>\n",
       "      <td>457.0</td>\n",
       "      <td>295.0</td>\n",
       "      <td>236.0</td>\n",
       "      <td>279.0</td>\n",
       "      <td>...</td>\n",
       "      <td>2004.0</td>\n",
       "      <td>1929.0</td>\n",
       "      <td>2049.0</td>\n",
       "      <td>2140.0</td>\n",
       "      <td>2178.0</td>\n",
       "      <td>1654.0</td>\n",
       "      <td>1356.0</td>\n",
       "      <td>1260.0</td>\n",
       "      <td>1253.0</td>\n",
       "      <td>941.0</td>\n",
       "    </tr>\n",
       "    <tr>\n",
       "      <th>3</th>\n",
       "      <td>2020-01-04</td>\n",
       "      <td>성산로(금화터널)</td>\n",
       "      <td>A-01</td>\n",
       "      <td>유입</td>\n",
       "      <td>봉원고가차도-&gt;독립문역</td>\n",
       "      <td>740.0</td>\n",
       "      <td>518.0</td>\n",
       "      <td>388.0</td>\n",
       "      <td>331.0</td>\n",
       "      <td>330.0</td>\n",
       "      <td>...</td>\n",
       "      <td>1837.0</td>\n",
       "      <td>1788.0</td>\n",
       "      <td>1588.0</td>\n",
       "      <td>1669.0</td>\n",
       "      <td>1530.0</td>\n",
       "      <td>1222.0</td>\n",
       "      <td>1143.0</td>\n",
       "      <td>1089.0</td>\n",
       "      <td>1039.0</td>\n",
       "      <td>791.0</td>\n",
       "    </tr>\n",
       "    <tr>\n",
       "      <th>4</th>\n",
       "      <td>2020-01-05</td>\n",
       "      <td>성산로(금화터널)</td>\n",
       "      <td>A-01</td>\n",
       "      <td>유입</td>\n",
       "      <td>봉원고가차도-&gt;독립문역</td>\n",
       "      <td>533.0</td>\n",
       "      <td>424.0</td>\n",
       "      <td>297.0</td>\n",
       "      <td>230.0</td>\n",
       "      <td>209.0</td>\n",
       "      <td>...</td>\n",
       "      <td>1634.0</td>\n",
       "      <td>1673.0</td>\n",
       "      <td>1494.0</td>\n",
       "      <td>1429.0</td>\n",
       "      <td>1288.0</td>\n",
       "      <td>1035.0</td>\n",
       "      <td>987.0</td>\n",
       "      <td>884.0</td>\n",
       "      <td>803.0</td>\n",
       "      <td>564.0</td>\n",
       "    </tr>\n",
       "  </tbody>\n",
       "</table>\n",
       "<p>5 rows × 29 columns</p>\n",
       "</div>"
      ],
      "text/plain": [
       "        DATE        지점명  지점번호  방향            구분     0시     1시     2시     3시  \\\n",
       "0 2020-01-01  성산로(금화터널)  A-01  유입  봉원고가차도->독립문역  712.0  645.0  437.0  309.0   \n",
       "1 2020-01-02  성산로(금화터널)  A-01  유입  봉원고가차도->독립문역  315.0  222.0  186.0  165.0   \n",
       "2 2020-01-03  성산로(금화터널)  A-01  유입  봉원고가차도->독립문역  632.0  457.0  295.0  236.0   \n",
       "3 2020-01-04  성산로(금화터널)  A-01  유입  봉원고가차도->독립문역  740.0  518.0  388.0  331.0   \n",
       "4 2020-01-05  성산로(금화터널)  A-01  유입  봉원고가차도->독립문역  533.0  424.0  297.0  230.0   \n",
       "\n",
       "      4시  ...     14시     15시     16시     17시     18시     19시     20시     21시  \\\n",
       "0  290.0  ...  1472.0  1416.0  1483.0  1329.0  1157.0  1014.0   954.0   849.0   \n",
       "1  266.0  ...  1792.0  1897.0  1842.0  2061.0  1994.0  1443.0  1233.0  1165.0   \n",
       "2  279.0  ...  2004.0  1929.0  2049.0  2140.0  2178.0  1654.0  1356.0  1260.0   \n",
       "3  330.0  ...  1837.0  1788.0  1588.0  1669.0  1530.0  1222.0  1143.0  1089.0   \n",
       "4  209.0  ...  1634.0  1673.0  1494.0  1429.0  1288.0  1035.0   987.0   884.0   \n",
       "\n",
       "      22시    23시  \n",
       "0   780.0  480.0  \n",
       "1  1094.0  852.0  \n",
       "2  1253.0  941.0  \n",
       "3  1039.0  791.0  \n",
       "4   803.0  564.0  \n",
       "\n",
       "[5 rows x 29 columns]"
      ]
     },
     "execution_count": 7,
     "metadata": {},
     "output_type": "execute_result"
    }
   ],
   "source": [
    "traffic = pd.read_excel(\"2020교통량통합.xlsx\")\n",
    "\n",
    "print(traffic.shape)\n",
    "traffic.head()"
   ]
  },
  {
   "cell_type": "markdown",
   "metadata": {},
   "source": [
    "유저 데이터에는 시간 구분이 없으므로, 트래픽 데이터에서도 구분 없이 일간 통행량을 체크합니다"
   ]
  },
  {
   "cell_type": "code",
   "execution_count": 8,
   "metadata": {},
   "outputs": [
    {
     "data": {
      "text/plain": [
       "Index(['DATE', '지점명', '지점번호', '방향', '구분', '0시', '1시', '2시', '3시', '4시', '5시',\n",
       "       '6시', '7시', '8시', '9시', '10시', '11시', '12시', '13시', '14시', '15시', '16시',\n",
       "       '17시', '18시', '19시', '20시', '21시', '22시', '23시'],\n",
       "      dtype='object')"
      ]
     },
     "execution_count": 8,
     "metadata": {},
     "output_type": "execute_result"
    }
   ],
   "source": [
    "traffic.columns"
   ]
  },
  {
   "cell_type": "code",
   "execution_count": 9,
   "metadata": {},
   "outputs": [
    {
     "data": {
      "text/html": [
       "<div>\n",
       "<style scoped>\n",
       "    .dataframe tbody tr th:only-of-type {\n",
       "        vertical-align: middle;\n",
       "    }\n",
       "\n",
       "    .dataframe tbody tr th {\n",
       "        vertical-align: top;\n",
       "    }\n",
       "\n",
       "    .dataframe thead th {\n",
       "        text-align: right;\n",
       "    }\n",
       "</style>\n",
       "<table border=\"1\" class=\"dataframe\">\n",
       "  <thead>\n",
       "    <tr style=\"text-align: right;\">\n",
       "      <th></th>\n",
       "      <th>DATE</th>\n",
       "      <th>지점명</th>\n",
       "      <th>지점번호</th>\n",
       "      <th>방향</th>\n",
       "      <th>구분</th>\n",
       "      <th>0시</th>\n",
       "      <th>1시</th>\n",
       "      <th>2시</th>\n",
       "      <th>3시</th>\n",
       "      <th>4시</th>\n",
       "      <th>...</th>\n",
       "      <th>15시</th>\n",
       "      <th>16시</th>\n",
       "      <th>17시</th>\n",
       "      <th>18시</th>\n",
       "      <th>19시</th>\n",
       "      <th>20시</th>\n",
       "      <th>21시</th>\n",
       "      <th>22시</th>\n",
       "      <th>23시</th>\n",
       "      <th>traffic_total</th>\n",
       "    </tr>\n",
       "  </thead>\n",
       "  <tbody>\n",
       "    <tr>\n",
       "      <th>0</th>\n",
       "      <td>2020-01-01</td>\n",
       "      <td>성산로(금화터널)</td>\n",
       "      <td>A-01</td>\n",
       "      <td>유입</td>\n",
       "      <td>봉원고가차도-&gt;독립문역</td>\n",
       "      <td>712.0</td>\n",
       "      <td>645.0</td>\n",
       "      <td>437.0</td>\n",
       "      <td>309.0</td>\n",
       "      <td>290.0</td>\n",
       "      <td>...</td>\n",
       "      <td>1416.0</td>\n",
       "      <td>1483.0</td>\n",
       "      <td>1329.0</td>\n",
       "      <td>1157.0</td>\n",
       "      <td>1014.0</td>\n",
       "      <td>954.0</td>\n",
       "      <td>849.0</td>\n",
       "      <td>780.0</td>\n",
       "      <td>480.0</td>\n",
       "      <td>21513.0</td>\n",
       "    </tr>\n",
       "    <tr>\n",
       "      <th>1</th>\n",
       "      <td>2020-01-02</td>\n",
       "      <td>성산로(금화터널)</td>\n",
       "      <td>A-01</td>\n",
       "      <td>유입</td>\n",
       "      <td>봉원고가차도-&gt;독립문역</td>\n",
       "      <td>315.0</td>\n",
       "      <td>222.0</td>\n",
       "      <td>186.0</td>\n",
       "      <td>165.0</td>\n",
       "      <td>266.0</td>\n",
       "      <td>...</td>\n",
       "      <td>1897.0</td>\n",
       "      <td>1842.0</td>\n",
       "      <td>2061.0</td>\n",
       "      <td>1994.0</td>\n",
       "      <td>1443.0</td>\n",
       "      <td>1233.0</td>\n",
       "      <td>1165.0</td>\n",
       "      <td>1094.0</td>\n",
       "      <td>852.0</td>\n",
       "      <td>33156.0</td>\n",
       "    </tr>\n",
       "    <tr>\n",
       "      <th>2</th>\n",
       "      <td>2020-01-03</td>\n",
       "      <td>성산로(금화터널)</td>\n",
       "      <td>A-01</td>\n",
       "      <td>유입</td>\n",
       "      <td>봉원고가차도-&gt;독립문역</td>\n",
       "      <td>632.0</td>\n",
       "      <td>457.0</td>\n",
       "      <td>295.0</td>\n",
       "      <td>236.0</td>\n",
       "      <td>279.0</td>\n",
       "      <td>...</td>\n",
       "      <td>1929.0</td>\n",
       "      <td>2049.0</td>\n",
       "      <td>2140.0</td>\n",
       "      <td>2178.0</td>\n",
       "      <td>1654.0</td>\n",
       "      <td>1356.0</td>\n",
       "      <td>1260.0</td>\n",
       "      <td>1253.0</td>\n",
       "      <td>941.0</td>\n",
       "      <td>35143.0</td>\n",
       "    </tr>\n",
       "    <tr>\n",
       "      <th>3</th>\n",
       "      <td>2020-01-04</td>\n",
       "      <td>성산로(금화터널)</td>\n",
       "      <td>A-01</td>\n",
       "      <td>유입</td>\n",
       "      <td>봉원고가차도-&gt;독립문역</td>\n",
       "      <td>740.0</td>\n",
       "      <td>518.0</td>\n",
       "      <td>388.0</td>\n",
       "      <td>331.0</td>\n",
       "      <td>330.0</td>\n",
       "      <td>...</td>\n",
       "      <td>1788.0</td>\n",
       "      <td>1588.0</td>\n",
       "      <td>1669.0</td>\n",
       "      <td>1530.0</td>\n",
       "      <td>1222.0</td>\n",
       "      <td>1143.0</td>\n",
       "      <td>1089.0</td>\n",
       "      <td>1039.0</td>\n",
       "      <td>791.0</td>\n",
       "      <td>28899.0</td>\n",
       "    </tr>\n",
       "    <tr>\n",
       "      <th>4</th>\n",
       "      <td>2020-01-05</td>\n",
       "      <td>성산로(금화터널)</td>\n",
       "      <td>A-01</td>\n",
       "      <td>유입</td>\n",
       "      <td>봉원고가차도-&gt;독립문역</td>\n",
       "      <td>533.0</td>\n",
       "      <td>424.0</td>\n",
       "      <td>297.0</td>\n",
       "      <td>230.0</td>\n",
       "      <td>209.0</td>\n",
       "      <td>...</td>\n",
       "      <td>1673.0</td>\n",
       "      <td>1494.0</td>\n",
       "      <td>1429.0</td>\n",
       "      <td>1288.0</td>\n",
       "      <td>1035.0</td>\n",
       "      <td>987.0</td>\n",
       "      <td>884.0</td>\n",
       "      <td>803.0</td>\n",
       "      <td>564.0</td>\n",
       "      <td>24003.0</td>\n",
       "    </tr>\n",
       "  </tbody>\n",
       "</table>\n",
       "<p>5 rows × 30 columns</p>\n",
       "</div>"
      ],
      "text/plain": [
       "        DATE        지점명  지점번호  방향            구분     0시     1시     2시     3시  \\\n",
       "0 2020-01-01  성산로(금화터널)  A-01  유입  봉원고가차도->독립문역  712.0  645.0  437.0  309.0   \n",
       "1 2020-01-02  성산로(금화터널)  A-01  유입  봉원고가차도->독립문역  315.0  222.0  186.0  165.0   \n",
       "2 2020-01-03  성산로(금화터널)  A-01  유입  봉원고가차도->독립문역  632.0  457.0  295.0  236.0   \n",
       "3 2020-01-04  성산로(금화터널)  A-01  유입  봉원고가차도->독립문역  740.0  518.0  388.0  331.0   \n",
       "4 2020-01-05  성산로(금화터널)  A-01  유입  봉원고가차도->독립문역  533.0  424.0  297.0  230.0   \n",
       "\n",
       "      4시  ...     15시     16시     17시     18시     19시     20시     21시     22시  \\\n",
       "0  290.0  ...  1416.0  1483.0  1329.0  1157.0  1014.0   954.0   849.0   780.0   \n",
       "1  266.0  ...  1897.0  1842.0  2061.0  1994.0  1443.0  1233.0  1165.0  1094.0   \n",
       "2  279.0  ...  1929.0  2049.0  2140.0  2178.0  1654.0  1356.0  1260.0  1253.0   \n",
       "3  330.0  ...  1788.0  1588.0  1669.0  1530.0  1222.0  1143.0  1089.0  1039.0   \n",
       "4  209.0  ...  1673.0  1494.0  1429.0  1288.0  1035.0   987.0   884.0   803.0   \n",
       "\n",
       "     23시  traffic_total  \n",
       "0  480.0        21513.0  \n",
       "1  852.0        33156.0  \n",
       "2  941.0        35143.0  \n",
       "3  791.0        28899.0  \n",
       "4  564.0        24003.0  \n",
       "\n",
       "[5 rows x 30 columns]"
      ]
     },
     "execution_count": 9,
     "metadata": {},
     "output_type": "execute_result"
    }
   ],
   "source": [
    "traffic[\"traffic_total\"] = traffic[['0시', '1시', '2시', '3시', '4시', '5시',\n",
    "       '6시', '7시', '8시', '9시', '10시', '11시', '12시', '13시', '14시', '15시', '16시',\n",
    "       '17시', '18시', '19시', '20시', '21시', '22시', '23시']].sum(axis=1)\n",
    "\n",
    "traffic.head()"
   ]
  },
  {
   "cell_type": "markdown",
   "metadata": {},
   "source": [
    "지역명을 확인하기 전이기 때문에, 그냥 일단위 해당 지점, 방향을 고려하지 않은(전부 더한) 전체 총 통행량을 체크해보겠습니다.\n"
   ]
  },
  {
   "cell_type": "code",
   "execution_count": 10,
   "metadata": {},
   "outputs": [
    {
     "name": "stdout",
     "output_type": "stream",
     "text": [
      "(366, 1)\n"
     ]
    },
    {
     "name": "stderr",
     "output_type": "stream",
     "text": [
      "<ipython-input-10-413f62c0af24>:1: FutureWarning: Indexing with multiple keys (implicitly converted to a tuple of keys) will be deprecated, use a list instead.\n",
      "  daily_traffic = traffic.groupby(\"DATE\")[\"DATE\", 'traffic_total'].sum()\n"
     ]
    },
    {
     "data": {
      "text/html": [
       "<div>\n",
       "<style scoped>\n",
       "    .dataframe tbody tr th:only-of-type {\n",
       "        vertical-align: middle;\n",
       "    }\n",
       "\n",
       "    .dataframe tbody tr th {\n",
       "        vertical-align: top;\n",
       "    }\n",
       "\n",
       "    .dataframe thead th {\n",
       "        text-align: right;\n",
       "    }\n",
       "</style>\n",
       "<table border=\"1\" class=\"dataframe\">\n",
       "  <thead>\n",
       "    <tr style=\"text-align: right;\">\n",
       "      <th></th>\n",
       "      <th>traffic_total</th>\n",
       "    </tr>\n",
       "    <tr>\n",
       "      <th>DATE</th>\n",
       "      <th></th>\n",
       "    </tr>\n",
       "  </thead>\n",
       "  <tbody>\n",
       "    <tr>\n",
       "      <th>2020-01-01</th>\n",
       "      <td>7347299.0</td>\n",
       "    </tr>\n",
       "    <tr>\n",
       "      <th>2020-01-02</th>\n",
       "      <td>9326734.0</td>\n",
       "    </tr>\n",
       "    <tr>\n",
       "      <th>2020-01-03</th>\n",
       "      <td>9998638.0</td>\n",
       "    </tr>\n",
       "    <tr>\n",
       "      <th>2020-01-04</th>\n",
       "      <td>9198233.0</td>\n",
       "    </tr>\n",
       "    <tr>\n",
       "      <th>2020-01-05</th>\n",
       "      <td>7868358.0</td>\n",
       "    </tr>\n",
       "  </tbody>\n",
       "</table>\n",
       "</div>"
      ],
      "text/plain": [
       "            traffic_total\n",
       "DATE                     \n",
       "2020-01-01      7347299.0\n",
       "2020-01-02      9326734.0\n",
       "2020-01-03      9998638.0\n",
       "2020-01-04      9198233.0\n",
       "2020-01-05      7868358.0"
      ]
     },
     "execution_count": 10,
     "metadata": {},
     "output_type": "execute_result"
    }
   ],
   "source": [
    "daily_traffic = traffic.groupby(\"DATE\")[\"DATE\", 'traffic_total'].sum()\n",
    "\n",
    "print(daily_traffic.shape)\n",
    "daily_traffic.head()"
   ]
  },
  {
   "cell_type": "code",
   "execution_count": 11,
   "metadata": {},
   "outputs": [],
   "source": [
    "# 밑에서 병합해줄거라서 컬럼으로 빼줬습니다.\n",
    "daily_traffic = daily_traffic.reset_index(\"DATE\")"
   ]
  },
  {
   "cell_type": "code",
   "execution_count": 12,
   "metadata": {},
   "outputs": [
    {
     "name": "stdout",
     "output_type": "stream",
     "text": [
      "<class 'pandas.core.frame.DataFrame'>\n",
      "RangeIndex: 366 entries, 0 to 365\n",
      "Data columns (total 2 columns):\n",
      " #   Column         Non-Null Count  Dtype         \n",
      "---  ------         --------------  -----         \n",
      " 0   DATE           366 non-null    datetime64[ns]\n",
      " 1   traffic_total  366 non-null    float64       \n",
      "dtypes: datetime64[ns](1), float64(1)\n",
      "memory usage: 5.8 KB\n"
     ]
    }
   ],
   "source": [
    "daily_traffic.info()"
   ]
  },
  {
   "cell_type": "markdown",
   "metadata": {},
   "source": [
    "#### 컬럼정보3(서울시_기상데이터.csv). 외부 정보: 기상 데이터\n",
    "- 지점:\n",
    "- 일시:\n",
    "- 기온:\n",
    "- 강수량:\n",
    "- 풍속:\n",
    "- 습도:\n",
    "- 일조시간:\n",
    "- 적설량:\n",
    "- 지면온도:\n",
    "- 지중온도:"
   ]
  },
  {
   "cell_type": "code",
   "execution_count": 13,
   "metadata": {
    "scrolled": false
   },
   "outputs": [
    {
     "name": "stdout",
     "output_type": "stream",
     "text": [
      "(8760, 10)\n"
     ]
    },
    {
     "data": {
      "text/html": [
       "<div>\n",
       "<style scoped>\n",
       "    .dataframe tbody tr th:only-of-type {\n",
       "        vertical-align: middle;\n",
       "    }\n",
       "\n",
       "    .dataframe tbody tr th {\n",
       "        vertical-align: top;\n",
       "    }\n",
       "\n",
       "    .dataframe thead th {\n",
       "        text-align: right;\n",
       "    }\n",
       "</style>\n",
       "<table border=\"1\" class=\"dataframe\">\n",
       "  <thead>\n",
       "    <tr style=\"text-align: right;\">\n",
       "      <th></th>\n",
       "      <th>지점</th>\n",
       "      <th>일시</th>\n",
       "      <th>기온</th>\n",
       "      <th>강수량</th>\n",
       "      <th>풍속</th>\n",
       "      <th>습도</th>\n",
       "      <th>일조시간</th>\n",
       "      <th>적설량</th>\n",
       "      <th>지면온도</th>\n",
       "      <th>지중온도</th>\n",
       "    </tr>\n",
       "  </thead>\n",
       "  <tbody>\n",
       "    <tr>\n",
       "      <th>0</th>\n",
       "      <td>108</td>\n",
       "      <td>2020-01-01 1:00</td>\n",
       "      <td>-5.9</td>\n",
       "      <td>NaN</td>\n",
       "      <td>1.7</td>\n",
       "      <td>40</td>\n",
       "      <td>NaN</td>\n",
       "      <td>NaN</td>\n",
       "      <td>-2.4</td>\n",
       "      <td>3.2</td>\n",
       "    </tr>\n",
       "    <tr>\n",
       "      <th>1</th>\n",
       "      <td>108</td>\n",
       "      <td>2020-01-01 2:00</td>\n",
       "      <td>-5.7</td>\n",
       "      <td>NaN</td>\n",
       "      <td>0.1</td>\n",
       "      <td>42</td>\n",
       "      <td>NaN</td>\n",
       "      <td>NaN</td>\n",
       "      <td>-2.4</td>\n",
       "      <td>3.1</td>\n",
       "    </tr>\n",
       "    <tr>\n",
       "      <th>2</th>\n",
       "      <td>108</td>\n",
       "      <td>2020-01-01 3:00</td>\n",
       "      <td>-5.6</td>\n",
       "      <td>0.0</td>\n",
       "      <td>0.0</td>\n",
       "      <td>46</td>\n",
       "      <td>NaN</td>\n",
       "      <td>NaN</td>\n",
       "      <td>-2.7</td>\n",
       "      <td>3.1</td>\n",
       "    </tr>\n",
       "    <tr>\n",
       "      <th>3</th>\n",
       "      <td>108</td>\n",
       "      <td>2020-01-01 4:00</td>\n",
       "      <td>-5.4</td>\n",
       "      <td>NaN</td>\n",
       "      <td>0.0</td>\n",
       "      <td>50</td>\n",
       "      <td>NaN</td>\n",
       "      <td>NaN</td>\n",
       "      <td>-2.5</td>\n",
       "      <td>3.0</td>\n",
       "    </tr>\n",
       "    <tr>\n",
       "      <th>4</th>\n",
       "      <td>108</td>\n",
       "      <td>2020-01-01 5:00</td>\n",
       "      <td>-5.2</td>\n",
       "      <td>NaN</td>\n",
       "      <td>0.0</td>\n",
       "      <td>55</td>\n",
       "      <td>NaN</td>\n",
       "      <td>NaN</td>\n",
       "      <td>-2.2</td>\n",
       "      <td>3.0</td>\n",
       "    </tr>\n",
       "  </tbody>\n",
       "</table>\n",
       "</div>"
      ],
      "text/plain": [
       "    지점               일시   기온  강수량   풍속  습도  일조시간  적설량  지면온도  지중온도\n",
       "0  108  2020-01-01 1:00 -5.9  NaN  1.7  40   NaN  NaN  -2.4   3.2\n",
       "1  108  2020-01-01 2:00 -5.7  NaN  0.1  42   NaN  NaN  -2.4   3.1\n",
       "2  108  2020-01-01 3:00 -5.6  0.0  0.0  46   NaN  NaN  -2.7   3.1\n",
       "3  108  2020-01-01 4:00 -5.4  NaN  0.0  50   NaN  NaN  -2.5   3.0\n",
       "4  108  2020-01-01 5:00 -5.2  NaN  0.0  55   NaN  NaN  -2.2   3.0"
      ]
     },
     "execution_count": 13,
     "metadata": {},
     "output_type": "execute_result"
    }
   ],
   "source": [
    "weather = pd.read_csv(\"서울시_기상데이터.csv\", encoding=\"cp949\")\n",
    "\n",
    "print(weather.shape)\n",
    "weather.head()"
   ]
  },
  {
   "cell_type": "markdown",
   "metadata": {},
   "source": [
    "- (지점) 8760개의 데이터가 있는 것으로 보아, 지점은 단 1개만 있는 것으로 추청됨 (360 * 24 = 8760)\n",
    "- (일시) 시간별 데이터이지만, 결합할 데이터가 일간 단위밖에 측정이 안되므로, 일단위로 맞춰줍니다."
   ]
  },
  {
   "cell_type": "code",
   "execution_count": 14,
   "metadata": {},
   "outputs": [
    {
     "data": {
      "text/plain": [
       "array([108], dtype=int64)"
      ]
     },
     "execution_count": 14,
     "metadata": {},
     "output_type": "execute_result"
    }
   ],
   "source": [
    "# 지점 구분이 있는지 확인 (o)\n",
    "weather[\"지점\"].unique()"
   ]
  },
  {
   "cell_type": "markdown",
   "metadata": {},
   "source": [
    "- 올바른 지점에서 관측된 것으로 간주하고, '지점'컬럼은 드롭합니다."
   ]
  },
  {
   "cell_type": "code",
   "execution_count": 15,
   "metadata": {
    "scrolled": true
   },
   "outputs": [
    {
     "name": "stdout",
     "output_type": "stream",
     "text": [
      "(366, 8)\n"
     ]
    },
    {
     "data": {
      "text/html": [
       "<div>\n",
       "<style scoped>\n",
       "    .dataframe tbody tr th:only-of-type {\n",
       "        vertical-align: middle;\n",
       "    }\n",
       "\n",
       "    .dataframe tbody tr th {\n",
       "        vertical-align: top;\n",
       "    }\n",
       "\n",
       "    .dataframe thead th {\n",
       "        text-align: right;\n",
       "    }\n",
       "</style>\n",
       "<table border=\"1\" class=\"dataframe\">\n",
       "  <thead>\n",
       "    <tr style=\"text-align: right;\">\n",
       "      <th></th>\n",
       "      <th>기온</th>\n",
       "      <th>강수량</th>\n",
       "      <th>풍속</th>\n",
       "      <th>습도</th>\n",
       "      <th>일조시간</th>\n",
       "      <th>적설량</th>\n",
       "      <th>지면온도</th>\n",
       "      <th>지중온도</th>\n",
       "    </tr>\n",
       "    <tr>\n",
       "      <th>날짜</th>\n",
       "      <th></th>\n",
       "      <th></th>\n",
       "      <th></th>\n",
       "      <th></th>\n",
       "      <th></th>\n",
       "      <th></th>\n",
       "      <th></th>\n",
       "      <th></th>\n",
       "    </tr>\n",
       "  </thead>\n",
       "  <tbody>\n",
       "    <tr>\n",
       "      <th>2020-01-01</th>\n",
       "      <td>-2.543478</td>\n",
       "      <td>0.025</td>\n",
       "      <td>1.152174</td>\n",
       "      <td>62.739130</td>\n",
       "      <td>0.072727</td>\n",
       "      <td>0.0</td>\n",
       "      <td>-0.917391</td>\n",
       "      <td>2.856522</td>\n",
       "    </tr>\n",
       "    <tr>\n",
       "      <th>2020-01-02</th>\n",
       "      <td>0.987500</td>\n",
       "      <td>NaN</td>\n",
       "      <td>1.912500</td>\n",
       "      <td>64.875000</td>\n",
       "      <td>0.000000</td>\n",
       "      <td>NaN</td>\n",
       "      <td>-0.020833</td>\n",
       "      <td>2.625000</td>\n",
       "    </tr>\n",
       "    <tr>\n",
       "      <th>2020-01-03</th>\n",
       "      <td>0.120833</td>\n",
       "      <td>NaN</td>\n",
       "      <td>1.879167</td>\n",
       "      <td>57.833333</td>\n",
       "      <td>0.800000</td>\n",
       "      <td>NaN</td>\n",
       "      <td>-0.554167</td>\n",
       "      <td>2.683333</td>\n",
       "    </tr>\n",
       "    <tr>\n",
       "      <th>2020-01-04</th>\n",
       "      <td>1.054167</td>\n",
       "      <td>NaN</td>\n",
       "      <td>1.895833</td>\n",
       "      <td>50.875000</td>\n",
       "      <td>0.718182</td>\n",
       "      <td>NaN</td>\n",
       "      <td>-0.395833</td>\n",
       "      <td>2.695833</td>\n",
       "    </tr>\n",
       "    <tr>\n",
       "      <th>2020-01-05</th>\n",
       "      <td>1.175000</td>\n",
       "      <td>NaN</td>\n",
       "      <td>1.045833</td>\n",
       "      <td>45.666667</td>\n",
       "      <td>0.645455</td>\n",
       "      <td>NaN</td>\n",
       "      <td>-0.737500</td>\n",
       "      <td>2.629167</td>\n",
       "    </tr>\n",
       "  </tbody>\n",
       "</table>\n",
       "</div>"
      ],
      "text/plain": [
       "                  기온    강수량        풍속         습도      일조시간  적설량      지면온도  \\\n",
       "날짜                                                                          \n",
       "2020-01-01 -2.543478  0.025  1.152174  62.739130  0.072727  0.0 -0.917391   \n",
       "2020-01-02  0.987500    NaN  1.912500  64.875000  0.000000  NaN -0.020833   \n",
       "2020-01-03  0.120833    NaN  1.879167  57.833333  0.800000  NaN -0.554167   \n",
       "2020-01-04  1.054167    NaN  1.895833  50.875000  0.718182  NaN -0.395833   \n",
       "2020-01-05  1.175000    NaN  1.045833  45.666667  0.645455  NaN -0.737500   \n",
       "\n",
       "                지중온도  \n",
       "날짜                    \n",
       "2020-01-01  2.856522  \n",
       "2020-01-02  2.625000  \n",
       "2020-01-03  2.683333  \n",
       "2020-01-04  2.695833  \n",
       "2020-01-05  2.629167  "
      ]
     },
     "execution_count": 15,
     "metadata": {},
     "output_type": "execute_result"
    }
   ],
   "source": [
    "# 시간별 데이터 > 일간 데이터 (평균값)\n",
    "weather[\"날짜\"] = weather[\"일시\"].astype(str).str[:10]\n",
    "weather[\"날짜\"] = pd.to_datetime(weather[\"날짜\"])\n",
    "\n",
    "daily_weather = weather.groupby(\"날짜\").mean().drop(\"지점\", axis=1)\n",
    "\n",
    "print(daily_weather.shape) #2020년은 2월 29일이 있었으므로 366 row (o)\n",
    "daily_weather.head()"
   ]
  },
  {
   "cell_type": "markdown",
   "metadata": {},
   "source": [
    "#### 위에서 체크한 3개의 서로 다른 데이터를 날짜로 묶어줍니다."
   ]
  },
  {
   "cell_type": "code",
   "execution_count": 16,
   "metadata": {
    "scrolled": true
   },
   "outputs": [
    {
     "name": "stdout",
     "output_type": "stream",
     "text": [
      "(366, 10)\n"
     ]
    },
    {
     "data": {
      "text/html": [
       "<div>\n",
       "<style scoped>\n",
       "    .dataframe tbody tr th:only-of-type {\n",
       "        vertical-align: middle;\n",
       "    }\n",
       "\n",
       "    .dataframe tbody tr th {\n",
       "        vertical-align: top;\n",
       "    }\n",
       "\n",
       "    .dataframe thead th {\n",
       "        text-align: right;\n",
       "    }\n",
       "</style>\n",
       "<table border=\"1\" class=\"dataframe\">\n",
       "  <thead>\n",
       "    <tr style=\"text-align: right;\">\n",
       "      <th></th>\n",
       "      <th>DATE</th>\n",
       "      <th>traffic_total</th>\n",
       "      <th>기온</th>\n",
       "      <th>강수량</th>\n",
       "      <th>풍속</th>\n",
       "      <th>습도</th>\n",
       "      <th>일조시간</th>\n",
       "      <th>적설량</th>\n",
       "      <th>지면온도</th>\n",
       "      <th>지중온도</th>\n",
       "    </tr>\n",
       "  </thead>\n",
       "  <tbody>\n",
       "    <tr>\n",
       "      <th>0</th>\n",
       "      <td>2020-01-01</td>\n",
       "      <td>7347299.0</td>\n",
       "      <td>-2.543478</td>\n",
       "      <td>0.025</td>\n",
       "      <td>1.152174</td>\n",
       "      <td>62.739130</td>\n",
       "      <td>0.072727</td>\n",
       "      <td>0.0</td>\n",
       "      <td>-0.917391</td>\n",
       "      <td>2.856522</td>\n",
       "    </tr>\n",
       "    <tr>\n",
       "      <th>1</th>\n",
       "      <td>2020-01-02</td>\n",
       "      <td>9326734.0</td>\n",
       "      <td>0.987500</td>\n",
       "      <td>NaN</td>\n",
       "      <td>1.912500</td>\n",
       "      <td>64.875000</td>\n",
       "      <td>0.000000</td>\n",
       "      <td>NaN</td>\n",
       "      <td>-0.020833</td>\n",
       "      <td>2.625000</td>\n",
       "    </tr>\n",
       "    <tr>\n",
       "      <th>2</th>\n",
       "      <td>2020-01-03</td>\n",
       "      <td>9998638.0</td>\n",
       "      <td>0.120833</td>\n",
       "      <td>NaN</td>\n",
       "      <td>1.879167</td>\n",
       "      <td>57.833333</td>\n",
       "      <td>0.800000</td>\n",
       "      <td>NaN</td>\n",
       "      <td>-0.554167</td>\n",
       "      <td>2.683333</td>\n",
       "    </tr>\n",
       "    <tr>\n",
       "      <th>3</th>\n",
       "      <td>2020-01-04</td>\n",
       "      <td>9198233.0</td>\n",
       "      <td>1.054167</td>\n",
       "      <td>NaN</td>\n",
       "      <td>1.895833</td>\n",
       "      <td>50.875000</td>\n",
       "      <td>0.718182</td>\n",
       "      <td>NaN</td>\n",
       "      <td>-0.395833</td>\n",
       "      <td>2.695833</td>\n",
       "    </tr>\n",
       "    <tr>\n",
       "      <th>4</th>\n",
       "      <td>2020-01-05</td>\n",
       "      <td>7868358.0</td>\n",
       "      <td>1.175000</td>\n",
       "      <td>NaN</td>\n",
       "      <td>1.045833</td>\n",
       "      <td>45.666667</td>\n",
       "      <td>0.645455</td>\n",
       "      <td>NaN</td>\n",
       "      <td>-0.737500</td>\n",
       "      <td>2.629167</td>\n",
       "    </tr>\n",
       "  </tbody>\n",
       "</table>\n",
       "</div>"
      ],
      "text/plain": [
       "        DATE  traffic_total        기온    강수량        풍속         습도      일조시간  \\\n",
       "0 2020-01-01      7347299.0 -2.543478  0.025  1.152174  62.739130  0.072727   \n",
       "1 2020-01-02      9326734.0  0.987500    NaN  1.912500  64.875000  0.000000   \n",
       "2 2020-01-03      9998638.0  0.120833    NaN  1.879167  57.833333  0.800000   \n",
       "3 2020-01-04      9198233.0  1.054167    NaN  1.895833  50.875000  0.718182   \n",
       "4 2020-01-05      7868358.0  1.175000    NaN  1.045833  45.666667  0.645455   \n",
       "\n",
       "   적설량      지면온도      지중온도  \n",
       "0  0.0 -0.917391  2.856522  \n",
       "1  NaN -0.020833  2.625000  \n",
       "2  NaN -0.554167  2.683333  \n",
       "3  NaN -0.395833  2.695833  \n",
       "4  NaN -0.737500  2.629167  "
      ]
     },
     "execution_count": 16,
     "metadata": {},
     "output_type": "execute_result"
    }
   ],
   "source": [
    "dtw = pd.merge(daily_traffic, daily_weather, left_on=\"DATE\", right_on=\"날짜\")\n",
    "\n",
    "print(dtw.shape)\n",
    "dtw.head()"
   ]
  },
  {
   "cell_type": "code",
   "execution_count": 17,
   "metadata": {},
   "outputs": [
    {
     "name": "stdout",
     "output_type": "stream",
     "text": [
      "(879271, 17)\n"
     ]
    },
    {
     "data": {
      "text/html": [
       "<div>\n",
       "<style scoped>\n",
       "    .dataframe tbody tr th:only-of-type {\n",
       "        vertical-align: middle;\n",
       "    }\n",
       "\n",
       "    .dataframe tbody tr th {\n",
       "        vertical-align: top;\n",
       "    }\n",
       "\n",
       "    .dataframe thead th {\n",
       "        text-align: right;\n",
       "    }\n",
       "</style>\n",
       "<table border=\"1\" class=\"dataframe\">\n",
       "  <thead>\n",
       "    <tr style=\"text-align: right;\">\n",
       "      <th></th>\n",
       "      <th>USER_ID</th>\n",
       "      <th>JOIN_DATE</th>\n",
       "      <th>D_TYPE</th>\n",
       "      <th>STORE_ID</th>\n",
       "      <th>GOODS_TYPE</th>\n",
       "      <th>DATE</th>\n",
       "      <th>COUNT</th>\n",
       "      <th>AD1</th>\n",
       "      <th>traffic_total</th>\n",
       "      <th>기온</th>\n",
       "      <th>강수량</th>\n",
       "      <th>풍속</th>\n",
       "      <th>습도</th>\n",
       "      <th>일조시간</th>\n",
       "      <th>적설량</th>\n",
       "      <th>지면온도</th>\n",
       "      <th>지중온도</th>\n",
       "    </tr>\n",
       "  </thead>\n",
       "  <tbody>\n",
       "    <tr>\n",
       "      <th>0</th>\n",
       "      <td>2858</td>\n",
       "      <td>2014-01-07</td>\n",
       "      <td>AA</td>\n",
       "      <td>1892</td>\n",
       "      <td>A</td>\n",
       "      <td>2020-01-01</td>\n",
       "      <td>1</td>\n",
       "      <td>GN</td>\n",
       "      <td>7347299.0</td>\n",
       "      <td>-2.543478</td>\n",
       "      <td>0.025</td>\n",
       "      <td>1.152174</td>\n",
       "      <td>62.73913</td>\n",
       "      <td>0.072727</td>\n",
       "      <td>0.0</td>\n",
       "      <td>-0.917391</td>\n",
       "      <td>2.856522</td>\n",
       "    </tr>\n",
       "    <tr>\n",
       "      <th>1</th>\n",
       "      <td>5647</td>\n",
       "      <td>2014-02-14</td>\n",
       "      <td>BB</td>\n",
       "      <td>182009</td>\n",
       "      <td>A</td>\n",
       "      <td>2020-01-01</td>\n",
       "      <td>1</td>\n",
       "      <td>J</td>\n",
       "      <td>7347299.0</td>\n",
       "      <td>-2.543478</td>\n",
       "      <td>0.025</td>\n",
       "      <td>1.152174</td>\n",
       "      <td>62.73913</td>\n",
       "      <td>0.072727</td>\n",
       "      <td>0.0</td>\n",
       "      <td>-0.917391</td>\n",
       "      <td>2.856522</td>\n",
       "    </tr>\n",
       "    <tr>\n",
       "      <th>2</th>\n",
       "      <td>33314</td>\n",
       "      <td>2014-11-20</td>\n",
       "      <td>BB</td>\n",
       "      <td>82431</td>\n",
       "      <td>A</td>\n",
       "      <td>2020-01-01</td>\n",
       "      <td>1</td>\n",
       "      <td>SC</td>\n",
       "      <td>7347299.0</td>\n",
       "      <td>-2.543478</td>\n",
       "      <td>0.025</td>\n",
       "      <td>1.152174</td>\n",
       "      <td>62.73913</td>\n",
       "      <td>0.072727</td>\n",
       "      <td>0.0</td>\n",
       "      <td>-0.917391</td>\n",
       "      <td>2.856522</td>\n",
       "    </tr>\n",
       "    <tr>\n",
       "      <th>3</th>\n",
       "      <td>37001</td>\n",
       "      <td>2014-12-04</td>\n",
       "      <td>BB</td>\n",
       "      <td>725</td>\n",
       "      <td>C</td>\n",
       "      <td>2020-01-01</td>\n",
       "      <td>1</td>\n",
       "      <td>MP</td>\n",
       "      <td>7347299.0</td>\n",
       "      <td>-2.543478</td>\n",
       "      <td>0.025</td>\n",
       "      <td>1.152174</td>\n",
       "      <td>62.73913</td>\n",
       "      <td>0.072727</td>\n",
       "      <td>0.0</td>\n",
       "      <td>-0.917391</td>\n",
       "      <td>2.856522</td>\n",
       "    </tr>\n",
       "    <tr>\n",
       "      <th>4</th>\n",
       "      <td>37819</td>\n",
       "      <td>2014-12-07</td>\n",
       "      <td>AA</td>\n",
       "      <td>220691</td>\n",
       "      <td>C</td>\n",
       "      <td>2020-01-01</td>\n",
       "      <td>1</td>\n",
       "      <td>JRR</td>\n",
       "      <td>7347299.0</td>\n",
       "      <td>-2.543478</td>\n",
       "      <td>0.025</td>\n",
       "      <td>1.152174</td>\n",
       "      <td>62.73913</td>\n",
       "      <td>0.072727</td>\n",
       "      <td>0.0</td>\n",
       "      <td>-0.917391</td>\n",
       "      <td>2.856522</td>\n",
       "    </tr>\n",
       "  </tbody>\n",
       "</table>\n",
       "</div>"
      ],
      "text/plain": [
       "   USER_ID  JOIN_DATE D_TYPE  STORE_ID GOODS_TYPE       DATE  COUNT  AD1  \\\n",
       "0     2858 2014-01-07     AA      1892          A 2020-01-01      1   GN   \n",
       "1     5647 2014-02-14     BB    182009          A 2020-01-01      1    J   \n",
       "2    33314 2014-11-20     BB     82431          A 2020-01-01      1   SC   \n",
       "3    37001 2014-12-04     BB       725          C 2020-01-01      1   MP   \n",
       "4    37819 2014-12-07     AA    220691          C 2020-01-01      1  JRR   \n",
       "\n",
       "   traffic_total        기온    강수량        풍속        습도      일조시간  적설량  \\\n",
       "0      7347299.0 -2.543478  0.025  1.152174  62.73913  0.072727  0.0   \n",
       "1      7347299.0 -2.543478  0.025  1.152174  62.73913  0.072727  0.0   \n",
       "2      7347299.0 -2.543478  0.025  1.152174  62.73913  0.072727  0.0   \n",
       "3      7347299.0 -2.543478  0.025  1.152174  62.73913  0.072727  0.0   \n",
       "4      7347299.0 -2.543478  0.025  1.152174  62.73913  0.072727  0.0   \n",
       "\n",
       "       지면온도      지중온도  \n",
       "0 -0.917391  2.856522  \n",
       "1 -0.917391  2.856522  \n",
       "2 -0.917391  2.856522  \n",
       "3 -0.917391  2.856522  \n",
       "4 -0.917391  2.856522  "
      ]
     },
     "execution_count": 17,
     "metadata": {},
     "output_type": "execute_result"
    }
   ],
   "source": [
    "df = pd.merge(data, dtw, on=\"DATE\")\n",
    "\n",
    "print(df.shape)\n",
    "df.head()"
   ]
  },
  {
   "cell_type": "markdown",
   "metadata": {},
   "source": [
    "- 전체 데이터를 병합한 데이터(일단위)"
   ]
  },
  {
   "cell_type": "code",
   "execution_count": 18,
   "metadata": {},
   "outputs": [
    {
     "data": {
      "text/plain": [
       "Index(['USER_ID', 'JOIN_DATE', 'D_TYPE', 'STORE_ID', 'GOODS_TYPE', 'DATE',\n",
       "       'COUNT', 'AD1', 'traffic_total', '기온', '강수량', '풍속', '습도', '일조시간', '적설량',\n",
       "       '지면온도', '지중온도'],\n",
       "      dtype='object')"
      ]
     },
     "execution_count": 18,
     "metadata": {},
     "output_type": "execute_result"
    }
   ],
   "source": [
    "df.columns"
   ]
  },
  {
   "cell_type": "code",
   "execution_count": 19,
   "metadata": {},
   "outputs": [
    {
     "name": "stdout",
     "output_type": "stream",
     "text": [
      "<class 'pandas.core.frame.DataFrame'>\n",
      "Int64Index: 879271 entries, 0 to 879270\n",
      "Data columns (total 17 columns):\n",
      " #   Column         Non-Null Count   Dtype         \n",
      "---  ------         --------------   -----         \n",
      " 0   USER_ID        879271 non-null  int64         \n",
      " 1   JOIN_DATE      879271 non-null  datetime64[ns]\n",
      " 2   D_TYPE         879271 non-null  object        \n",
      " 3   STORE_ID       879271 non-null  int64         \n",
      " 4   GOODS_TYPE     879271 non-null  object        \n",
      " 5   DATE           879271 non-null  datetime64[ns]\n",
      " 6   COUNT          879271 non-null  int64         \n",
      " 7   AD1            879271 non-null  object        \n",
      " 8   traffic_total  879271 non-null  float64       \n",
      " 9   기온             879271 non-null  float64       \n",
      " 10  강수량            357143 non-null  float64       \n",
      " 11  풍속             879271 non-null  float64       \n",
      " 12  습도             879271 non-null  float64       \n",
      " 13  일조시간           876556 non-null  float64       \n",
      " 14  적설량            27176 non-null   float64       \n",
      " 15  지면온도           879271 non-null  float64       \n",
      " 16  지중온도           879271 non-null  float64       \n",
      "dtypes: datetime64[ns](2), float64(9), int64(3), object(3)\n",
      "memory usage: 120.7+ MB\n"
     ]
    }
   ],
   "source": [
    "# 결측치 확인\n",
    "df.info()"
   ]
  },
  {
   "cell_type": "code",
   "execution_count": 20,
   "metadata": {},
   "outputs": [],
   "source": [
    "df[\"강수량\"] = df[\"강수량\"].fillna(0)\n",
    "df[\"일조시간\"] = df[\"일조시간\"].fillna(0)\n",
    "df[\"적설량\"] = df[\"적설량\"].fillna(0)"
   ]
  },
  {
   "cell_type": "markdown",
   "metadata": {},
   "source": [
    "#### 📝과제 지시사항에 따라 10월1일을 기점으로 train 데이터와 test 데이터로 나눠줍니다"
   ]
  },
  {
   "cell_type": "code",
   "execution_count": 21,
   "metadata": {},
   "outputs": [
    {
     "name": "stdout",
     "output_type": "stream",
     "text": [
      "(623579, 17)\n"
     ]
    },
    {
     "data": {
      "text/html": [
       "<div>\n",
       "<style scoped>\n",
       "    .dataframe tbody tr th:only-of-type {\n",
       "        vertical-align: middle;\n",
       "    }\n",
       "\n",
       "    .dataframe tbody tr th {\n",
       "        vertical-align: top;\n",
       "    }\n",
       "\n",
       "    .dataframe thead th {\n",
       "        text-align: right;\n",
       "    }\n",
       "</style>\n",
       "<table border=\"1\" class=\"dataframe\">\n",
       "  <thead>\n",
       "    <tr style=\"text-align: right;\">\n",
       "      <th></th>\n",
       "      <th>USER_ID</th>\n",
       "      <th>JOIN_DATE</th>\n",
       "      <th>D_TYPE</th>\n",
       "      <th>STORE_ID</th>\n",
       "      <th>GOODS_TYPE</th>\n",
       "      <th>DATE</th>\n",
       "      <th>COUNT</th>\n",
       "      <th>AD1</th>\n",
       "      <th>traffic_total</th>\n",
       "      <th>기온</th>\n",
       "      <th>강수량</th>\n",
       "      <th>풍속</th>\n",
       "      <th>습도</th>\n",
       "      <th>일조시간</th>\n",
       "      <th>적설량</th>\n",
       "      <th>지면온도</th>\n",
       "      <th>지중온도</th>\n",
       "    </tr>\n",
       "  </thead>\n",
       "  <tbody>\n",
       "    <tr>\n",
       "      <th>0</th>\n",
       "      <td>2858</td>\n",
       "      <td>2014-01-07</td>\n",
       "      <td>AA</td>\n",
       "      <td>1892</td>\n",
       "      <td>A</td>\n",
       "      <td>2020-01-01</td>\n",
       "      <td>1</td>\n",
       "      <td>GN</td>\n",
       "      <td>7347299.0</td>\n",
       "      <td>-2.543478</td>\n",
       "      <td>0.025</td>\n",
       "      <td>1.152174</td>\n",
       "      <td>62.73913</td>\n",
       "      <td>0.072727</td>\n",
       "      <td>0.0</td>\n",
       "      <td>-0.917391</td>\n",
       "      <td>2.856522</td>\n",
       "    </tr>\n",
       "    <tr>\n",
       "      <th>1</th>\n",
       "      <td>5647</td>\n",
       "      <td>2014-02-14</td>\n",
       "      <td>BB</td>\n",
       "      <td>182009</td>\n",
       "      <td>A</td>\n",
       "      <td>2020-01-01</td>\n",
       "      <td>1</td>\n",
       "      <td>J</td>\n",
       "      <td>7347299.0</td>\n",
       "      <td>-2.543478</td>\n",
       "      <td>0.025</td>\n",
       "      <td>1.152174</td>\n",
       "      <td>62.73913</td>\n",
       "      <td>0.072727</td>\n",
       "      <td>0.0</td>\n",
       "      <td>-0.917391</td>\n",
       "      <td>2.856522</td>\n",
       "    </tr>\n",
       "    <tr>\n",
       "      <th>2</th>\n",
       "      <td>33314</td>\n",
       "      <td>2014-11-20</td>\n",
       "      <td>BB</td>\n",
       "      <td>82431</td>\n",
       "      <td>A</td>\n",
       "      <td>2020-01-01</td>\n",
       "      <td>1</td>\n",
       "      <td>SC</td>\n",
       "      <td>7347299.0</td>\n",
       "      <td>-2.543478</td>\n",
       "      <td>0.025</td>\n",
       "      <td>1.152174</td>\n",
       "      <td>62.73913</td>\n",
       "      <td>0.072727</td>\n",
       "      <td>0.0</td>\n",
       "      <td>-0.917391</td>\n",
       "      <td>2.856522</td>\n",
       "    </tr>\n",
       "    <tr>\n",
       "      <th>3</th>\n",
       "      <td>37001</td>\n",
       "      <td>2014-12-04</td>\n",
       "      <td>BB</td>\n",
       "      <td>725</td>\n",
       "      <td>C</td>\n",
       "      <td>2020-01-01</td>\n",
       "      <td>1</td>\n",
       "      <td>MP</td>\n",
       "      <td>7347299.0</td>\n",
       "      <td>-2.543478</td>\n",
       "      <td>0.025</td>\n",
       "      <td>1.152174</td>\n",
       "      <td>62.73913</td>\n",
       "      <td>0.072727</td>\n",
       "      <td>0.0</td>\n",
       "      <td>-0.917391</td>\n",
       "      <td>2.856522</td>\n",
       "    </tr>\n",
       "    <tr>\n",
       "      <th>4</th>\n",
       "      <td>37819</td>\n",
       "      <td>2014-12-07</td>\n",
       "      <td>AA</td>\n",
       "      <td>220691</td>\n",
       "      <td>C</td>\n",
       "      <td>2020-01-01</td>\n",
       "      <td>1</td>\n",
       "      <td>JRR</td>\n",
       "      <td>7347299.0</td>\n",
       "      <td>-2.543478</td>\n",
       "      <td>0.025</td>\n",
       "      <td>1.152174</td>\n",
       "      <td>62.73913</td>\n",
       "      <td>0.072727</td>\n",
       "      <td>0.0</td>\n",
       "      <td>-0.917391</td>\n",
       "      <td>2.856522</td>\n",
       "    </tr>\n",
       "  </tbody>\n",
       "</table>\n",
       "</div>"
      ],
      "text/plain": [
       "   USER_ID  JOIN_DATE D_TYPE  STORE_ID GOODS_TYPE       DATE  COUNT  AD1  \\\n",
       "0     2858 2014-01-07     AA      1892          A 2020-01-01      1   GN   \n",
       "1     5647 2014-02-14     BB    182009          A 2020-01-01      1    J   \n",
       "2    33314 2014-11-20     BB     82431          A 2020-01-01      1   SC   \n",
       "3    37001 2014-12-04     BB       725          C 2020-01-01      1   MP   \n",
       "4    37819 2014-12-07     AA    220691          C 2020-01-01      1  JRR   \n",
       "\n",
       "   traffic_total        기온    강수량        풍속        습도      일조시간  적설량  \\\n",
       "0      7347299.0 -2.543478  0.025  1.152174  62.73913  0.072727  0.0   \n",
       "1      7347299.0 -2.543478  0.025  1.152174  62.73913  0.072727  0.0   \n",
       "2      7347299.0 -2.543478  0.025  1.152174  62.73913  0.072727  0.0   \n",
       "3      7347299.0 -2.543478  0.025  1.152174  62.73913  0.072727  0.0   \n",
       "4      7347299.0 -2.543478  0.025  1.152174  62.73913  0.072727  0.0   \n",
       "\n",
       "       지면온도      지중온도  \n",
       "0 -0.917391  2.856522  \n",
       "1 -0.917391  2.856522  \n",
       "2 -0.917391  2.856522  \n",
       "3 -0.917391  2.856522  \n",
       "4 -0.917391  2.856522  "
      ]
     },
     "execution_count": 21,
     "metadata": {},
     "output_type": "execute_result"
    }
   ],
   "source": [
    "# train 데이터\n",
    "train = df.loc[data[\"DATE\"]<= \"2020-09-30\"]\n",
    "\n",
    "print(train.shape)\n",
    "train.head()"
   ]
  },
  {
   "cell_type": "code",
   "execution_count": 22,
   "metadata": {},
   "outputs": [
    {
     "name": "stdout",
     "output_type": "stream",
     "text": [
      "(255692, 17)\n"
     ]
    },
    {
     "data": {
      "text/html": [
       "<div>\n",
       "<style scoped>\n",
       "    .dataframe tbody tr th:only-of-type {\n",
       "        vertical-align: middle;\n",
       "    }\n",
       "\n",
       "    .dataframe tbody tr th {\n",
       "        vertical-align: top;\n",
       "    }\n",
       "\n",
       "    .dataframe thead th {\n",
       "        text-align: right;\n",
       "    }\n",
       "</style>\n",
       "<table border=\"1\" class=\"dataframe\">\n",
       "  <thead>\n",
       "    <tr style=\"text-align: right;\">\n",
       "      <th></th>\n",
       "      <th>USER_ID</th>\n",
       "      <th>JOIN_DATE</th>\n",
       "      <th>D_TYPE</th>\n",
       "      <th>STORE_ID</th>\n",
       "      <th>GOODS_TYPE</th>\n",
       "      <th>DATE</th>\n",
       "      <th>COUNT</th>\n",
       "      <th>AD1</th>\n",
       "      <th>traffic_total</th>\n",
       "      <th>기온</th>\n",
       "      <th>강수량</th>\n",
       "      <th>풍속</th>\n",
       "      <th>습도</th>\n",
       "      <th>일조시간</th>\n",
       "      <th>적설량</th>\n",
       "      <th>지면온도</th>\n",
       "      <th>지중온도</th>\n",
       "    </tr>\n",
       "  </thead>\n",
       "  <tbody>\n",
       "    <tr>\n",
       "      <th>623579</th>\n",
       "      <td>15521</td>\n",
       "      <td>2014-09-12</td>\n",
       "      <td>AA</td>\n",
       "      <td>182320</td>\n",
       "      <td>A</td>\n",
       "      <td>2020-10-01</td>\n",
       "      <td>1</td>\n",
       "      <td>JRR</td>\n",
       "      <td>6879272.0</td>\n",
       "      <td>18.729167</td>\n",
       "      <td>0.0</td>\n",
       "      <td>2.158333</td>\n",
       "      <td>76.166667</td>\n",
       "      <td>0.192308</td>\n",
       "      <td>0.0</td>\n",
       "      <td>19.1875</td>\n",
       "      <td>21.3375</td>\n",
       "    </tr>\n",
       "    <tr>\n",
       "      <th>623580</th>\n",
       "      <td>17651</td>\n",
       "      <td>2014-09-19</td>\n",
       "      <td>BB</td>\n",
       "      <td>82434</td>\n",
       "      <td>D</td>\n",
       "      <td>2020-10-01</td>\n",
       "      <td>1</td>\n",
       "      <td>J</td>\n",
       "      <td>6879272.0</td>\n",
       "      <td>18.729167</td>\n",
       "      <td>0.0</td>\n",
       "      <td>2.158333</td>\n",
       "      <td>76.166667</td>\n",
       "      <td>0.192308</td>\n",
       "      <td>0.0</td>\n",
       "      <td>19.1875</td>\n",
       "      <td>21.3375</td>\n",
       "    </tr>\n",
       "    <tr>\n",
       "      <th>623581</th>\n",
       "      <td>26388</td>\n",
       "      <td>2014-10-25</td>\n",
       "      <td>BB</td>\n",
       "      <td>182320</td>\n",
       "      <td>A</td>\n",
       "      <td>2020-10-01</td>\n",
       "      <td>1</td>\n",
       "      <td>JRR</td>\n",
       "      <td>6879272.0</td>\n",
       "      <td>18.729167</td>\n",
       "      <td>0.0</td>\n",
       "      <td>2.158333</td>\n",
       "      <td>76.166667</td>\n",
       "      <td>0.192308</td>\n",
       "      <td>0.0</td>\n",
       "      <td>19.1875</td>\n",
       "      <td>21.3375</td>\n",
       "    </tr>\n",
       "    <tr>\n",
       "      <th>623582</th>\n",
       "      <td>81772</td>\n",
       "      <td>2015-05-02</td>\n",
       "      <td>BB</td>\n",
       "      <td>204438</td>\n",
       "      <td>A</td>\n",
       "      <td>2020-10-01</td>\n",
       "      <td>1</td>\n",
       "      <td>DJ</td>\n",
       "      <td>6879272.0</td>\n",
       "      <td>18.729167</td>\n",
       "      <td>0.0</td>\n",
       "      <td>2.158333</td>\n",
       "      <td>76.166667</td>\n",
       "      <td>0.192308</td>\n",
       "      <td>0.0</td>\n",
       "      <td>19.1875</td>\n",
       "      <td>21.3375</td>\n",
       "    </tr>\n",
       "    <tr>\n",
       "      <th>623583</th>\n",
       "      <td>92258</td>\n",
       "      <td>2015-05-24</td>\n",
       "      <td>AA</td>\n",
       "      <td>220745</td>\n",
       "      <td>A</td>\n",
       "      <td>2020-10-01</td>\n",
       "      <td>1</td>\n",
       "      <td>SD</td>\n",
       "      <td>6879272.0</td>\n",
       "      <td>18.729167</td>\n",
       "      <td>0.0</td>\n",
       "      <td>2.158333</td>\n",
       "      <td>76.166667</td>\n",
       "      <td>0.192308</td>\n",
       "      <td>0.0</td>\n",
       "      <td>19.1875</td>\n",
       "      <td>21.3375</td>\n",
       "    </tr>\n",
       "  </tbody>\n",
       "</table>\n",
       "</div>"
      ],
      "text/plain": [
       "        USER_ID  JOIN_DATE D_TYPE  STORE_ID GOODS_TYPE       DATE  COUNT  AD1  \\\n",
       "623579    15521 2014-09-12     AA    182320          A 2020-10-01      1  JRR   \n",
       "623580    17651 2014-09-19     BB     82434          D 2020-10-01      1    J   \n",
       "623581    26388 2014-10-25     BB    182320          A 2020-10-01      1  JRR   \n",
       "623582    81772 2015-05-02     BB    204438          A 2020-10-01      1   DJ   \n",
       "623583    92258 2015-05-24     AA    220745          A 2020-10-01      1   SD   \n",
       "\n",
       "        traffic_total         기온  강수량        풍속         습도      일조시간  적설량  \\\n",
       "623579      6879272.0  18.729167  0.0  2.158333  76.166667  0.192308  0.0   \n",
       "623580      6879272.0  18.729167  0.0  2.158333  76.166667  0.192308  0.0   \n",
       "623581      6879272.0  18.729167  0.0  2.158333  76.166667  0.192308  0.0   \n",
       "623582      6879272.0  18.729167  0.0  2.158333  76.166667  0.192308  0.0   \n",
       "623583      6879272.0  18.729167  0.0  2.158333  76.166667  0.192308  0.0   \n",
       "\n",
       "           지면온도     지중온도  \n",
       "623579  19.1875  21.3375  \n",
       "623580  19.1875  21.3375  \n",
       "623581  19.1875  21.3375  \n",
       "623582  19.1875  21.3375  \n",
       "623583  19.1875  21.3375  "
      ]
     },
     "execution_count": 22,
     "metadata": {},
     "output_type": "execute_result"
    }
   ],
   "source": [
    "# test 데이터\n",
    "test = df.loc[data[\"DATE\"]> \"2020-09-30\"]\n",
    "\n",
    "print(test.shape)\n",
    "test.head()"
   ]
  },
  {
   "cell_type": "code",
   "execution_count": null,
   "metadata": {},
   "outputs": [],
   "source": []
  },
  {
   "cell_type": "code",
   "execution_count": 23,
   "metadata": {
    "scrolled": false
   },
   "outputs": [
    {
     "data": {
      "text/html": [
       "<div>\n",
       "<style scoped>\n",
       "    .dataframe tbody tr th:only-of-type {\n",
       "        vertical-align: middle;\n",
       "    }\n",
       "\n",
       "    .dataframe tbody tr th {\n",
       "        vertical-align: top;\n",
       "    }\n",
       "\n",
       "    .dataframe thead th {\n",
       "        text-align: right;\n",
       "    }\n",
       "</style>\n",
       "<table border=\"1\" class=\"dataframe\">\n",
       "  <thead>\n",
       "    <tr style=\"text-align: right;\">\n",
       "      <th></th>\n",
       "      <th>USER_ID</th>\n",
       "      <th>STORE_ID</th>\n",
       "      <th>COUNT</th>\n",
       "      <th>traffic_total</th>\n",
       "      <th>기온</th>\n",
       "      <th>강수량</th>\n",
       "      <th>풍속</th>\n",
       "      <th>습도</th>\n",
       "      <th>일조시간</th>\n",
       "      <th>적설량</th>\n",
       "      <th>지면온도</th>\n",
       "      <th>지중온도</th>\n",
       "    </tr>\n",
       "  </thead>\n",
       "  <tbody>\n",
       "    <tr>\n",
       "      <th>count</th>\n",
       "      <td>6.235790e+05</td>\n",
       "      <td>623579.000000</td>\n",
       "      <td>623579.000000</td>\n",
       "      <td>6.235790e+05</td>\n",
       "      <td>623579.000000</td>\n",
       "      <td>623579.000000</td>\n",
       "      <td>623579.000000</td>\n",
       "      <td>623579.000000</td>\n",
       "      <td>623579.000000</td>\n",
       "      <td>623579.000000</td>\n",
       "      <td>623579.000000</td>\n",
       "      <td>623579.000000</td>\n",
       "    </tr>\n",
       "    <tr>\n",
       "      <th>mean</th>\n",
       "      <td>1.160892e+06</td>\n",
       "      <td>148121.476666</td>\n",
       "      <td>1.027009</td>\n",
       "      <td>9.236243e+06</td>\n",
       "      <td>16.572184</td>\n",
       "      <td>0.457512</td>\n",
       "      <td>2.436875</td>\n",
       "      <td>65.382095</td>\n",
       "      <td>0.440531</td>\n",
       "      <td>0.022530</td>\n",
       "      <td>18.374687</td>\n",
       "      <td>17.347122</td>\n",
       "    </tr>\n",
       "    <tr>\n",
       "      <th>std</th>\n",
       "      <td>4.058201e+05</td>\n",
       "      <td>68859.988608</td>\n",
       "      <td>0.426268</td>\n",
       "      <td>8.362801e+05</td>\n",
       "      <td>9.178358</td>\n",
       "      <td>1.178613</td>\n",
       "      <td>0.731964</td>\n",
       "      <td>16.505519</td>\n",
       "      <td>0.311388</td>\n",
       "      <td>0.217441</td>\n",
       "      <td>9.831177</td>\n",
       "      <td>8.462887</td>\n",
       "    </tr>\n",
       "    <tr>\n",
       "      <th>min</th>\n",
       "      <td>2.240000e+02</td>\n",
       "      <td>4.000000</td>\n",
       "      <td>1.000000</td>\n",
       "      <td>6.116596e+06</td>\n",
       "      <td>-7.954167</td>\n",
       "      <td>0.000000</td>\n",
       "      <td>1.045833</td>\n",
       "      <td>17.875000</td>\n",
       "      <td>0.000000</td>\n",
       "      <td>0.000000</td>\n",
       "      <td>-3.041667</td>\n",
       "      <td>1.750000</td>\n",
       "    </tr>\n",
       "    <tr>\n",
       "      <th>25%</th>\n",
       "      <td>8.610140e+05</td>\n",
       "      <td>92403.000000</td>\n",
       "      <td>1.000000</td>\n",
       "      <td>8.915349e+06</td>\n",
       "      <td>9.125000</td>\n",
       "      <td>0.000000</td>\n",
       "      <td>1.912500</td>\n",
       "      <td>52.833333</td>\n",
       "      <td>0.120000</td>\n",
       "      <td>0.000000</td>\n",
       "      <td>11.195833</td>\n",
       "      <td>10.575000</td>\n",
       "    </tr>\n",
       "    <tr>\n",
       "      <th>50%</th>\n",
       "      <td>1.266192e+06</td>\n",
       "      <td>158176.000000</td>\n",
       "      <td>1.000000</td>\n",
       "      <td>9.463456e+06</td>\n",
       "      <td>20.062500</td>\n",
       "      <td>0.000000</td>\n",
       "      <td>2.200000</td>\n",
       "      <td>65.666667</td>\n",
       "      <td>0.491667</td>\n",
       "      <td>0.000000</td>\n",
       "      <td>21.650000</td>\n",
       "      <td>21.550000</td>\n",
       "    </tr>\n",
       "    <tr>\n",
       "      <th>75%</th>\n",
       "      <td>1.509012e+06</td>\n",
       "      <td>220655.000000</td>\n",
       "      <td>1.000000</td>\n",
       "      <td>9.832259e+06</td>\n",
       "      <td>24.308333</td>\n",
       "      <td>0.226667</td>\n",
       "      <td>2.845833</td>\n",
       "      <td>77.750000</td>\n",
       "      <td>0.738462</td>\n",
       "      <td>0.000000</td>\n",
       "      <td>26.275000</td>\n",
       "      <td>24.795833</td>\n",
       "    </tr>\n",
       "    <tr>\n",
       "      <th>max</th>\n",
       "      <td>1.709952e+06</td>\n",
       "      <td>230873.000000</td>\n",
       "      <td>49.000000</td>\n",
       "      <td>1.042626e+07</td>\n",
       "      <td>30.278261</td>\n",
       "      <td>8.900000</td>\n",
       "      <td>4.825000</td>\n",
       "      <td>96.541667</td>\n",
       "      <td>0.930769</td>\n",
       "      <td>3.187500</td>\n",
       "      <td>35.233333</td>\n",
       "      <td>27.812500</td>\n",
       "    </tr>\n",
       "  </tbody>\n",
       "</table>\n",
       "</div>"
      ],
      "text/plain": [
       "            USER_ID       STORE_ID          COUNT  traffic_total  \\\n",
       "count  6.235790e+05  623579.000000  623579.000000   6.235790e+05   \n",
       "mean   1.160892e+06  148121.476666       1.027009   9.236243e+06   \n",
       "std    4.058201e+05   68859.988608       0.426268   8.362801e+05   \n",
       "min    2.240000e+02       4.000000       1.000000   6.116596e+06   \n",
       "25%    8.610140e+05   92403.000000       1.000000   8.915349e+06   \n",
       "50%    1.266192e+06  158176.000000       1.000000   9.463456e+06   \n",
       "75%    1.509012e+06  220655.000000       1.000000   9.832259e+06   \n",
       "max    1.709952e+06  230873.000000      49.000000   1.042626e+07   \n",
       "\n",
       "                  기온            강수량             풍속             습도  \\\n",
       "count  623579.000000  623579.000000  623579.000000  623579.000000   \n",
       "mean       16.572184       0.457512       2.436875      65.382095   \n",
       "std         9.178358       1.178613       0.731964      16.505519   \n",
       "min        -7.954167       0.000000       1.045833      17.875000   \n",
       "25%         9.125000       0.000000       1.912500      52.833333   \n",
       "50%        20.062500       0.000000       2.200000      65.666667   \n",
       "75%        24.308333       0.226667       2.845833      77.750000   \n",
       "max        30.278261       8.900000       4.825000      96.541667   \n",
       "\n",
       "                일조시간            적설량           지면온도           지중온도  \n",
       "count  623579.000000  623579.000000  623579.000000  623579.000000  \n",
       "mean        0.440531       0.022530      18.374687      17.347122  \n",
       "std         0.311388       0.217441       9.831177       8.462887  \n",
       "min         0.000000       0.000000      -3.041667       1.750000  \n",
       "25%         0.120000       0.000000      11.195833      10.575000  \n",
       "50%         0.491667       0.000000      21.650000      21.550000  \n",
       "75%         0.738462       0.000000      26.275000      24.795833  \n",
       "max         0.930769       3.187500      35.233333      27.812500  "
      ]
     },
     "execution_count": 23,
     "metadata": {},
     "output_type": "execute_result"
    }
   ],
   "source": [
    "train.describe()"
   ]
  },
  {
   "cell_type": "markdown",
   "metadata": {},
   "source": [
    "- (COUNT) 75% 이상은 1 : 한 번만 이용하는 경우가 대부분이라고 볼 수 있음\n",
    "- (COUNT) 최소값이 1 : 실제 이용 한 경우만 카운트\n",
    "- (COUNT) 최대값이 49 : 가장 이용 많이 한 유저를 찾아 해당 유저 데이터를 파보자"
   ]
  },
  {
   "cell_type": "code",
   "execution_count": 24,
   "metadata": {},
   "outputs": [
    {
     "data": {
      "text/html": [
       "<div>\n",
       "<style scoped>\n",
       "    .dataframe tbody tr th:only-of-type {\n",
       "        vertical-align: middle;\n",
       "    }\n",
       "\n",
       "    .dataframe tbody tr th {\n",
       "        vertical-align: top;\n",
       "    }\n",
       "\n",
       "    .dataframe thead th {\n",
       "        text-align: right;\n",
       "    }\n",
       "</style>\n",
       "<table border=\"1\" class=\"dataframe\">\n",
       "  <thead>\n",
       "    <tr style=\"text-align: right;\">\n",
       "      <th></th>\n",
       "      <th>USER_ID</th>\n",
       "      <th>JOIN_DATE</th>\n",
       "      <th>D_TYPE</th>\n",
       "      <th>STORE_ID</th>\n",
       "      <th>GOODS_TYPE</th>\n",
       "      <th>DATE</th>\n",
       "      <th>COUNT</th>\n",
       "      <th>AD1</th>\n",
       "      <th>traffic_total</th>\n",
       "      <th>기온</th>\n",
       "      <th>강수량</th>\n",
       "      <th>풍속</th>\n",
       "      <th>습도</th>\n",
       "      <th>일조시간</th>\n",
       "      <th>적설량</th>\n",
       "      <th>지면온도</th>\n",
       "      <th>지중온도</th>\n",
       "    </tr>\n",
       "  </thead>\n",
       "  <tbody>\n",
       "    <tr>\n",
       "      <th>505902</th>\n",
       "      <td>999665</td>\n",
       "      <td>2018-12-16</td>\n",
       "      <td>CC</td>\n",
       "      <td>2428</td>\n",
       "      <td>A</td>\n",
       "      <td>2020-08-15</td>\n",
       "      <td>49</td>\n",
       "      <td>CY</td>\n",
       "      <td>8305884.0</td>\n",
       "      <td>26.1</td>\n",
       "      <td>3.631579</td>\n",
       "      <td>1.970833</td>\n",
       "      <td>95.625</td>\n",
       "      <td>0.0</td>\n",
       "      <td>0.0</td>\n",
       "      <td>26.2125</td>\n",
       "      <td>26.141667</td>\n",
       "    </tr>\n",
       "  </tbody>\n",
       "</table>\n",
       "</div>"
      ],
      "text/plain": [
       "        USER_ID  JOIN_DATE D_TYPE  STORE_ID GOODS_TYPE       DATE  COUNT AD1  \\\n",
       "505902   999665 2018-12-16     CC      2428          A 2020-08-15     49  CY   \n",
       "\n",
       "        traffic_total    기온       강수량        풍속      습도  일조시간  적설량     지면온도  \\\n",
       "505902      8305884.0  26.1  3.631579  1.970833  95.625   0.0  0.0  26.2125   \n",
       "\n",
       "             지중온도  \n",
       "505902  26.141667  "
      ]
     },
     "execution_count": 24,
     "metadata": {},
     "output_type": "execute_result"
    }
   ],
   "source": [
    "# 가장 많이 이용한 유저 찾기\n",
    "train[train[\"COUNT\"]== 49]"
   ]
  },
  {
   "cell_type": "code",
   "execution_count": 25,
   "metadata": {
    "scrolled": false
   },
   "outputs": [
    {
     "data": {
      "text/html": [
       "<div>\n",
       "<style scoped>\n",
       "    .dataframe tbody tr th:only-of-type {\n",
       "        vertical-align: middle;\n",
       "    }\n",
       "\n",
       "    .dataframe tbody tr th {\n",
       "        vertical-align: top;\n",
       "    }\n",
       "\n",
       "    .dataframe thead th {\n",
       "        text-align: right;\n",
       "    }\n",
       "</style>\n",
       "<table border=\"1\" class=\"dataframe\">\n",
       "  <thead>\n",
       "    <tr style=\"text-align: right;\">\n",
       "      <th></th>\n",
       "      <th>USER_ID</th>\n",
       "      <th>JOIN_DATE</th>\n",
       "      <th>D_TYPE</th>\n",
       "      <th>STORE_ID</th>\n",
       "      <th>GOODS_TYPE</th>\n",
       "      <th>DATE</th>\n",
       "      <th>COUNT</th>\n",
       "      <th>AD1</th>\n",
       "      <th>traffic_total</th>\n",
       "      <th>기온</th>\n",
       "      <th>강수량</th>\n",
       "      <th>풍속</th>\n",
       "      <th>습도</th>\n",
       "      <th>일조시간</th>\n",
       "      <th>적설량</th>\n",
       "      <th>지면온도</th>\n",
       "      <th>지중온도</th>\n",
       "    </tr>\n",
       "  </thead>\n",
       "  <tbody>\n",
       "    <tr>\n",
       "      <th>505902</th>\n",
       "      <td>999665</td>\n",
       "      <td>2018-12-16</td>\n",
       "      <td>CC</td>\n",
       "      <td>2428</td>\n",
       "      <td>A</td>\n",
       "      <td>2020-08-15</td>\n",
       "      <td>49</td>\n",
       "      <td>CY</td>\n",
       "      <td>8305884.0</td>\n",
       "      <td>26.100000</td>\n",
       "      <td>3.631579</td>\n",
       "      <td>1.970833</td>\n",
       "      <td>95.625000</td>\n",
       "      <td>0.000000</td>\n",
       "      <td>0.0</td>\n",
       "      <td>26.212500</td>\n",
       "      <td>26.141667</td>\n",
       "    </tr>\n",
       "    <tr>\n",
       "      <th>371177</th>\n",
       "      <td>999665</td>\n",
       "      <td>2018-12-16</td>\n",
       "      <td>CC</td>\n",
       "      <td>2058</td>\n",
       "      <td>A</td>\n",
       "      <td>2020-06-27</td>\n",
       "      <td>39</td>\n",
       "      <td>GN</td>\n",
       "      <td>9465922.0</td>\n",
       "      <td>23.941667</td>\n",
       "      <td>0.000000</td>\n",
       "      <td>1.933333</td>\n",
       "      <td>69.791667</td>\n",
       "      <td>0.493333</td>\n",
       "      <td>0.0</td>\n",
       "      <td>25.258333</td>\n",
       "      <td>23.658333</td>\n",
       "    </tr>\n",
       "    <tr>\n",
       "      <th>591734</th>\n",
       "      <td>999665</td>\n",
       "      <td>2018-12-16</td>\n",
       "      <td>CC</td>\n",
       "      <td>90542</td>\n",
       "      <td>A</td>\n",
       "      <td>2020-09-19</td>\n",
       "      <td>39</td>\n",
       "      <td>GN</td>\n",
       "      <td>8566903.0</td>\n",
       "      <td>21.283333</td>\n",
       "      <td>0.100000</td>\n",
       "      <td>2.266667</td>\n",
       "      <td>60.083333</td>\n",
       "      <td>0.746154</td>\n",
       "      <td>0.0</td>\n",
       "      <td>21.712500</td>\n",
       "      <td>23.104167</td>\n",
       "    </tr>\n",
       "    <tr>\n",
       "      <th>605474</th>\n",
       "      <td>999665</td>\n",
       "      <td>2018-12-16</td>\n",
       "      <td>CC</td>\n",
       "      <td>223666</td>\n",
       "      <td>A</td>\n",
       "      <td>2020-09-24</td>\n",
       "      <td>39</td>\n",
       "      <td>SJV</td>\n",
       "      <td>9220039.0</td>\n",
       "      <td>20.654167</td>\n",
       "      <td>0.000000</td>\n",
       "      <td>3.570833</td>\n",
       "      <td>59.291667</td>\n",
       "      <td>0.615385</td>\n",
       "      <td>0.0</td>\n",
       "      <td>22.395833</td>\n",
       "      <td>22.145833</td>\n",
       "    </tr>\n",
       "    <tr>\n",
       "      <th>611928</th>\n",
       "      <td>999665</td>\n",
       "      <td>2018-12-16</td>\n",
       "      <td>CC</td>\n",
       "      <td>220959</td>\n",
       "      <td>A</td>\n",
       "      <td>2020-09-26</td>\n",
       "      <td>38</td>\n",
       "      <td>SC</td>\n",
       "      <td>8715755.0</td>\n",
       "      <td>19.341667</td>\n",
       "      <td>0.000000</td>\n",
       "      <td>2.475000</td>\n",
       "      <td>62.333333</td>\n",
       "      <td>0.615385</td>\n",
       "      <td>0.0</td>\n",
       "      <td>20.462500</td>\n",
       "      <td>21.975000</td>\n",
       "    </tr>\n",
       "  </tbody>\n",
       "</table>\n",
       "</div>"
      ],
      "text/plain": [
       "        USER_ID  JOIN_DATE D_TYPE  STORE_ID GOODS_TYPE       DATE  COUNT  AD1  \\\n",
       "505902   999665 2018-12-16     CC      2428          A 2020-08-15     49   CY   \n",
       "371177   999665 2018-12-16     CC      2058          A 2020-06-27     39   GN   \n",
       "591734   999665 2018-12-16     CC     90542          A 2020-09-19     39   GN   \n",
       "605474   999665 2018-12-16     CC    223666          A 2020-09-24     39  SJV   \n",
       "611928   999665 2018-12-16     CC    220959          A 2020-09-26     38   SC   \n",
       "\n",
       "        traffic_total         기온       강수량        풍속         습도      일조시간  \\\n",
       "505902      8305884.0  26.100000  3.631579  1.970833  95.625000  0.000000   \n",
       "371177      9465922.0  23.941667  0.000000  1.933333  69.791667  0.493333   \n",
       "591734      8566903.0  21.283333  0.100000  2.266667  60.083333  0.746154   \n",
       "605474      9220039.0  20.654167  0.000000  3.570833  59.291667  0.615385   \n",
       "611928      8715755.0  19.341667  0.000000  2.475000  62.333333  0.615385   \n",
       "\n",
       "        적설량       지면온도       지중온도  \n",
       "505902  0.0  26.212500  26.141667  \n",
       "371177  0.0  25.258333  23.658333  \n",
       "591734  0.0  21.712500  23.104167  \n",
       "605474  0.0  22.395833  22.145833  \n",
       "611928  0.0  20.462500  21.975000  "
      ]
     },
     "execution_count": 25,
     "metadata": {},
     "output_type": "execute_result"
    }
   ],
   "source": [
    "# 49와 다음 숫자인 39 사이에 갭이 커서 어떤 기준인지 확인 어려움. 잘 모르겠으므로 시각화해서 확인\n",
    "train[train[\"USER_ID\"] == 999665].sort_values(\"COUNT\", ascending=False).head()"
   ]
  },
  {
   "cell_type": "code",
   "execution_count": 26,
   "metadata": {},
   "outputs": [
    {
     "data": {
      "text/plain": [
       "<AxesSubplot:xlabel='DATE', ylabel='COUNT'>"
      ]
     },
     "execution_count": 26,
     "metadata": {},
     "output_type": "execute_result"
    },
    {
     "data": {
      "image/png": "[encoded data removed]",
      "text/plain": [
       "<Figure size 1296x216 with 1 Axes>"
      ]
     },
     "metadata": {
      "needs_background": "light"
     },
     "output_type": "display_data"
    }
   ],
   "source": [
    "# 더 모르겠음...\n",
    "plt.figure(figsize = (18,3))\n",
    "sns.scatterplot(data=train[train[\"USER_ID\"] == 999665], x=\"DATE\", y=\"COUNT\", hue=\"GOODS_TYPE\")"
   ]
  },
  {
   "cell_type": "code",
   "execution_count": null,
   "metadata": {},
   "outputs": [],
   "source": []
  },
  {
   "cell_type": "markdown",
   "metadata": {},
   "source": [
    "# 가설\n",
    "- (요일:DATE) 주중 & 주말 사용량이 달라 영향을 미칠 것\n",
    "- (연휴:DATE) 주말과 같은 이유. holidays 컬럼을 생성해서 확인해도 좋을 것\n",
    "- (최근이용일:DATE) 가장 최근 이용한 날짜가 너무 예전이면 이용하지 않을 것\n",
    "- (지역:STORE_ID,AD1) 주차장이 정말 필요한 곳\n",
    "- (날씨:기온,강수량,풍속,습도) 대중교통 이용하기 어려운 날 이용률 높을 것\n",
    "- (교통량): 교통량이 많은 날 이용률이 높을 것\n"
   ]
  },
  {
   "cell_type": "code",
   "execution_count": null,
   "metadata": {},
   "outputs": [],
   "source": []
  },
  {
   "cell_type": "code",
   "execution_count": null,
   "metadata": {},
   "outputs": [],
   "source": []
  },
  {
   "cell_type": "markdown",
   "metadata": {},
   "source": [
    "# 요일별 이용량에 대한 분석 - EDA ⭐"
   ]
  },
  {
   "cell_type": "code",
   "execution_count": 27,
   "metadata": {
    "scrolled": true
   },
   "outputs": [
    {
     "name": "stdout",
     "output_type": "stream",
     "text": [
      "(879271, 8)\n",
      "<class 'pandas.core.frame.DataFrame'>\n",
      "RangeIndex: 879271 entries, 0 to 879270\n",
      "Data columns (total 8 columns):\n",
      " #   Column      Non-Null Count   Dtype         \n",
      "---  ------      --------------   -----         \n",
      " 0   USER_ID     879271 non-null  int64         \n",
      " 1   JOIN_DATE   879271 non-null  datetime64[ns]\n",
      " 2   D_TYPE      879271 non-null  object        \n",
      " 3   STORE_ID    879271 non-null  int64         \n",
      " 4   GOODS_TYPE  879271 non-null  object        \n",
      " 5   DATE        879271 non-null  datetime64[ns]\n",
      " 6   COUNT       879271 non-null  int64         \n",
      " 7   AD1         879271 non-null  object        \n",
      "dtypes: datetime64[ns](2), int64(3), object(3)\n",
      "memory usage: 53.7+ MB\n"
     ]
    }
   ],
   "source": [
    "# 날짜데이터의 Datetime화\n",
    "data['JOIN_DATE']=pd.to_datetime(data['JOIN_DATE'],format='%Y-%m-%d')\n",
    "data['DATE']=pd.to_datetime(data['DATE'],format='%Y-%m-%d')\n",
    "\n",
    "print(data.shape)\n",
    "data.info()"
   ]
  },
  {
   "cell_type": "code",
   "execution_count": 28,
   "metadata": {},
   "outputs": [
    {
     "name": "stdout",
     "output_type": "stream",
     "text": [
      "(879271, 9)\n"
     ]
    },
    {
     "data": {
      "text/html": [
       "<div>\n",
       "<style scoped>\n",
       "    .dataframe tbody tr th:only-of-type {\n",
       "        vertical-align: middle;\n",
       "    }\n",
       "\n",
       "    .dataframe tbody tr th {\n",
       "        vertical-align: top;\n",
       "    }\n",
       "\n",
       "    .dataframe thead th {\n",
       "        text-align: right;\n",
       "    }\n",
       "</style>\n",
       "<table border=\"1\" class=\"dataframe\">\n",
       "  <thead>\n",
       "    <tr style=\"text-align: right;\">\n",
       "      <th></th>\n",
       "      <th>USER_ID</th>\n",
       "      <th>JOIN_DATE</th>\n",
       "      <th>D_TYPE</th>\n",
       "      <th>STORE_ID</th>\n",
       "      <th>GOODS_TYPE</th>\n",
       "      <th>DATE</th>\n",
       "      <th>COUNT</th>\n",
       "      <th>AD1</th>\n",
       "      <th>DAY</th>\n",
       "    </tr>\n",
       "  </thead>\n",
       "  <tbody>\n",
       "    <tr>\n",
       "      <th>821958</th>\n",
       "      <td>224</td>\n",
       "      <td>2013-12-16</td>\n",
       "      <td>AA</td>\n",
       "      <td>181833</td>\n",
       "      <td>C</td>\n",
       "      <td>2020-12-09</td>\n",
       "      <td>1</td>\n",
       "      <td>J</td>\n",
       "      <td>2</td>\n",
       "    </tr>\n",
       "    <tr>\n",
       "      <th>18802</th>\n",
       "      <td>224</td>\n",
       "      <td>2013-12-16</td>\n",
       "      <td>AA</td>\n",
       "      <td>92510</td>\n",
       "      <td>A</td>\n",
       "      <td>2020-01-12</td>\n",
       "      <td>1</td>\n",
       "      <td>J</td>\n",
       "      <td>6</td>\n",
       "    </tr>\n",
       "    <tr>\n",
       "      <th>763324</th>\n",
       "      <td>232</td>\n",
       "      <td>2013-12-17</td>\n",
       "      <td>BB</td>\n",
       "      <td>173268</td>\n",
       "      <td>A</td>\n",
       "      <td>2020-11-18</td>\n",
       "      <td>1</td>\n",
       "      <td>J</td>\n",
       "      <td>2</td>\n",
       "    </tr>\n",
       "    <tr>\n",
       "      <th>429676</th>\n",
       "      <td>232</td>\n",
       "      <td>2013-12-17</td>\n",
       "      <td>BB</td>\n",
       "      <td>28018</td>\n",
       "      <td>C</td>\n",
       "      <td>2020-07-19</td>\n",
       "      <td>1</td>\n",
       "      <td>JRR</td>\n",
       "      <td>6</td>\n",
       "    </tr>\n",
       "    <tr>\n",
       "      <th>242831</th>\n",
       "      <td>232</td>\n",
       "      <td>2013-12-17</td>\n",
       "      <td>BB</td>\n",
       "      <td>28018</td>\n",
       "      <td>C</td>\n",
       "      <td>2020-05-05</td>\n",
       "      <td>1</td>\n",
       "      <td>JRR</td>\n",
       "      <td>1</td>\n",
       "    </tr>\n",
       "  </tbody>\n",
       "</table>\n",
       "</div>"
      ],
      "text/plain": [
       "        USER_ID  JOIN_DATE D_TYPE  STORE_ID GOODS_TYPE       DATE  COUNT  AD1  \\\n",
       "821958      224 2013-12-16     AA    181833          C 2020-12-09      1    J   \n",
       "18802       224 2013-12-16     AA     92510          A 2020-01-12      1    J   \n",
       "763324      232 2013-12-17     BB    173268          A 2020-11-18      1    J   \n",
       "429676      232 2013-12-17     BB     28018          C 2020-07-19      1  JRR   \n",
       "242831      232 2013-12-17     BB     28018          C 2020-05-05      1  JRR   \n",
       "\n",
       "        DAY  \n",
       "821958    2  \n",
       "18802     6  \n",
       "763324    2  \n",
       "429676    6  \n",
       "242831    1  "
      ]
     },
     "execution_count": 28,
     "metadata": {},
     "output_type": "execute_result"
    }
   ],
   "source": [
    "# 요일 컬럼을 추가해줍니다.\n",
    "data['DAY'] = data['DATE'].dt.weekday\n",
    "\n",
    "print(data.shape)\n",
    "data.sort_values(by=\"USER_ID\").head() #요일이 잘 들어갔는지 확인"
   ]
  },
  {
   "cell_type": "code",
   "execution_count": 29,
   "metadata": {},
   "outputs": [
    {
     "data": {
      "text/plain": [
       "<AxesSubplot:xlabel='DAY', ylabel='count'>"
      ]
     },
     "execution_count": 29,
     "metadata": {},
     "output_type": "execute_result"
    },
    {
     "data": {
      "image/png": "[encoded data removed]",
      "text/plain": [
       "<Figure size 432x288 with 1 Axes>"
      ]
     },
     "metadata": {
      "needs_background": "light"
     },
     "output_type": "display_data"
    }
   ],
   "source": [
    "sns.countplot(data=data, x=\"DAY\") #월요일이0, 일요일이6\n",
    "\n",
    "# 일요일이 확실히 이용건수가 줄었네요"
   ]
  },
  {
   "cell_type": "code",
   "execution_count": 30,
   "metadata": {},
   "outputs": [
    {
     "data": {
      "text/plain": [
       "<AxesSubplot:xlabel='DAY', ylabel='count'>"
      ]
     },
     "execution_count": 30,
     "metadata": {},
     "output_type": "execute_result"
    },
    {
     "data": {
      "image/png": "[encoded data removed]",
      "text/plain": [
       "<Figure size 432x288 with 1 Axes>"
      ]
     },
     "metadata": {
      "needs_background": "light"
     },
     "output_type": "display_data"
    }
   ],
   "source": [
    "sns.countplot(data=data, x=\"DAY\", hue=\"D_TYPE\")"
   ]
  },
  {
   "cell_type": "code",
   "execution_count": 31,
   "metadata": {
    "scrolled": true
   },
   "outputs": [
    {
     "data": {
      "text/plain": [
       "<matplotlib.legend.Legend at 0x264deb8ca30>"
      ]
     },
     "execution_count": 31,
     "metadata": {},
     "output_type": "execute_result"
    },
    {
     "data": {
      "image/png": "[encoded data removed]",
      "text/plain": [
       "<Figure size 432x288 with 1 Axes>"
      ]
     },
     "metadata": {
      "needs_background": "light"
     },
     "output_type": "display_data"
    }
   ],
   "source": [
    "sns.countplot(data=data, x=\"DAY\", hue=\"GOODS_TYPE\").legend(frameon=False)"
   ]
  },
  {
   "cell_type": "markdown",
   "metadata": {},
   "source": [
    "- A가 이용률이 압도적으로 많고, D가 이용률이 압도적으로 적음\n",
    "- A는 오히려 토요일에 이용 증가, 일요일에 감소\n",
    "- B는 월금 이용 증가, 토~일에 감소\n",
    "- C는 월~토 이용 증가, 일요일에 감소"
   ]
  },
  {
   "cell_type": "code",
   "execution_count": null,
   "metadata": {},
   "outputs": [],
   "source": []
  },
  {
   "cell_type": "code",
   "execution_count": null,
   "metadata": {},
   "outputs": [],
   "source": []
  },
  {
   "cell_type": "markdown",
   "metadata": {},
   "source": [
    "# 유저별 이용 count 값에 대한 분석 - EDA ⭐"
   ]
  },
  {
   "cell_type": "code",
   "execution_count": null,
   "metadata": {},
   "outputs": [],
   "source": []
  },
  {
   "cell_type": "code",
   "execution_count": null,
   "metadata": {},
   "outputs": [],
   "source": []
  },
  {
   "cell_type": "code",
   "execution_count": null,
   "metadata": {},
   "outputs": [],
   "source": []
  },
  {
   "cell_type": "markdown",
   "metadata": {},
   "source": [
    "# Train"
   ]
  },
  {
   "cell_type": "markdown",
   "metadata": {},
   "source": [
    "  * **X_train**: train 데이터의 feature\n",
    "  * **X_test**: test 데이터의 feature다.\n",
    "  * **y_train**: train 데이터의 label\n",
    "  * **y_predict**: test 데이터의 label"
   ]
  },
  {
   "cell_type": "code",
   "execution_count": 39,
   "metadata": {},
   "outputs": [
    {
     "data": {
      "text/plain": [
       "['USER_ID',\n",
       " 'STORE_ID',\n",
       " 'traffic_total',\n",
       " '기온',\n",
       " '강수량',\n",
       " '풍속',\n",
       " '습도',\n",
       " '일조시간',\n",
       " '적설량',\n",
       " '지면온도',\n",
       " '지중온도']"
      ]
     },
     "execution_count": 39,
     "metadata": {},
     "output_type": "execute_result"
    }
   ],
   "source": [
    "# feature로 넣을 변수들을 넣어줍시다\n",
    "feature_names = ['USER_ID', 'STORE_ID',\n",
    "       'traffic_total', '기온', '강수량', '풍속', '습도', '일조시간', '적설량',\n",
    "       '지면온도', '지중온도']\n",
    "feature_names"
   ]
  },
  {
   "cell_type": "code",
   "execution_count": 40,
   "metadata": {},
   "outputs": [
    {
     "name": "stdout",
     "output_type": "stream",
     "text": [
      "(623579, 11)\n"
     ]
    },
    {
     "data": {
      "text/html": [
       "<div>\n",
       "<style scoped>\n",
       "    .dataframe tbody tr th:only-of-type {\n",
       "        vertical-align: middle;\n",
       "    }\n",
       "\n",
       "    .dataframe tbody tr th {\n",
       "        vertical-align: top;\n",
       "    }\n",
       "\n",
       "    .dataframe thead th {\n",
       "        text-align: right;\n",
       "    }\n",
       "</style>\n",
       "<table border=\"1\" class=\"dataframe\">\n",
       "  <thead>\n",
       "    <tr style=\"text-align: right;\">\n",
       "      <th></th>\n",
       "      <th>USER_ID</th>\n",
       "      <th>STORE_ID</th>\n",
       "      <th>traffic_total</th>\n",
       "      <th>기온</th>\n",
       "      <th>강수량</th>\n",
       "      <th>풍속</th>\n",
       "      <th>습도</th>\n",
       "      <th>일조시간</th>\n",
       "      <th>적설량</th>\n",
       "      <th>지면온도</th>\n",
       "      <th>지중온도</th>\n",
       "    </tr>\n",
       "  </thead>\n",
       "  <tbody>\n",
       "    <tr>\n",
       "      <th>0</th>\n",
       "      <td>2858</td>\n",
       "      <td>1892</td>\n",
       "      <td>7347299.0</td>\n",
       "      <td>-2.543478</td>\n",
       "      <td>0.025</td>\n",
       "      <td>1.152174</td>\n",
       "      <td>62.73913</td>\n",
       "      <td>0.072727</td>\n",
       "      <td>0.0</td>\n",
       "      <td>-0.917391</td>\n",
       "      <td>2.856522</td>\n",
       "    </tr>\n",
       "    <tr>\n",
       "      <th>1</th>\n",
       "      <td>5647</td>\n",
       "      <td>182009</td>\n",
       "      <td>7347299.0</td>\n",
       "      <td>-2.543478</td>\n",
       "      <td>0.025</td>\n",
       "      <td>1.152174</td>\n",
       "      <td>62.73913</td>\n",
       "      <td>0.072727</td>\n",
       "      <td>0.0</td>\n",
       "      <td>-0.917391</td>\n",
       "      <td>2.856522</td>\n",
       "    </tr>\n",
       "    <tr>\n",
       "      <th>2</th>\n",
       "      <td>33314</td>\n",
       "      <td>82431</td>\n",
       "      <td>7347299.0</td>\n",
       "      <td>-2.543478</td>\n",
       "      <td>0.025</td>\n",
       "      <td>1.152174</td>\n",
       "      <td>62.73913</td>\n",
       "      <td>0.072727</td>\n",
       "      <td>0.0</td>\n",
       "      <td>-0.917391</td>\n",
       "      <td>2.856522</td>\n",
       "    </tr>\n",
       "    <tr>\n",
       "      <th>3</th>\n",
       "      <td>37001</td>\n",
       "      <td>725</td>\n",
       "      <td>7347299.0</td>\n",
       "      <td>-2.543478</td>\n",
       "      <td>0.025</td>\n",
       "      <td>1.152174</td>\n",
       "      <td>62.73913</td>\n",
       "      <td>0.072727</td>\n",
       "      <td>0.0</td>\n",
       "      <td>-0.917391</td>\n",
       "      <td>2.856522</td>\n",
       "    </tr>\n",
       "    <tr>\n",
       "      <th>4</th>\n",
       "      <td>37819</td>\n",
       "      <td>220691</td>\n",
       "      <td>7347299.0</td>\n",
       "      <td>-2.543478</td>\n",
       "      <td>0.025</td>\n",
       "      <td>1.152174</td>\n",
       "      <td>62.73913</td>\n",
       "      <td>0.072727</td>\n",
       "      <td>0.0</td>\n",
       "      <td>-0.917391</td>\n",
       "      <td>2.856522</td>\n",
       "    </tr>\n",
       "  </tbody>\n",
       "</table>\n",
       "</div>"
      ],
      "text/plain": [
       "   USER_ID  STORE_ID  traffic_total        기온    강수량        풍속        습도  \\\n",
       "0     2858      1892      7347299.0 -2.543478  0.025  1.152174  62.73913   \n",
       "1     5647    182009      7347299.0 -2.543478  0.025  1.152174  62.73913   \n",
       "2    33314     82431      7347299.0 -2.543478  0.025  1.152174  62.73913   \n",
       "3    37001       725      7347299.0 -2.543478  0.025  1.152174  62.73913   \n",
       "4    37819    220691      7347299.0 -2.543478  0.025  1.152174  62.73913   \n",
       "\n",
       "       일조시간  적설량      지면온도      지중온도  \n",
       "0  0.072727  0.0 -0.917391  2.856522  \n",
       "1  0.072727  0.0 -0.917391  2.856522  \n",
       "2  0.072727  0.0 -0.917391  2.856522  \n",
       "3  0.072727  0.0 -0.917391  2.856522  \n",
       "4  0.072727  0.0 -0.917391  2.856522  "
      ]
     },
     "execution_count": 40,
     "metadata": {},
     "output_type": "execute_result"
    }
   ],
   "source": [
    "# train 데이터의 feature를 가져옵니다\n",
    "X_train = train[feature_names]\n",
    "\n",
    "print(X_train.shape)\n",
    "X_train.head()"
   ]
  },
  {
   "cell_type": "code",
   "execution_count": 41,
   "metadata": {},
   "outputs": [
    {
     "name": "stdout",
     "output_type": "stream",
     "text": [
      "(255692, 11)\n"
     ]
    },
    {
     "data": {
      "text/html": [
       "<div>\n",
       "<style scoped>\n",
       "    .dataframe tbody tr th:only-of-type {\n",
       "        vertical-align: middle;\n",
       "    }\n",
       "\n",
       "    .dataframe tbody tr th {\n",
       "        vertical-align: top;\n",
       "    }\n",
       "\n",
       "    .dataframe thead th {\n",
       "        text-align: right;\n",
       "    }\n",
       "</style>\n",
       "<table border=\"1\" class=\"dataframe\">\n",
       "  <thead>\n",
       "    <tr style=\"text-align: right;\">\n",
       "      <th></th>\n",
       "      <th>USER_ID</th>\n",
       "      <th>STORE_ID</th>\n",
       "      <th>traffic_total</th>\n",
       "      <th>기온</th>\n",
       "      <th>강수량</th>\n",
       "      <th>풍속</th>\n",
       "      <th>습도</th>\n",
       "      <th>일조시간</th>\n",
       "      <th>적설량</th>\n",
       "      <th>지면온도</th>\n",
       "      <th>지중온도</th>\n",
       "    </tr>\n",
       "  </thead>\n",
       "  <tbody>\n",
       "    <tr>\n",
       "      <th>623579</th>\n",
       "      <td>15521</td>\n",
       "      <td>182320</td>\n",
       "      <td>6879272.0</td>\n",
       "      <td>18.729167</td>\n",
       "      <td>0.0</td>\n",
       "      <td>2.158333</td>\n",
       "      <td>76.166667</td>\n",
       "      <td>0.192308</td>\n",
       "      <td>0.0</td>\n",
       "      <td>19.1875</td>\n",
       "      <td>21.3375</td>\n",
       "    </tr>\n",
       "    <tr>\n",
       "      <th>623580</th>\n",
       "      <td>17651</td>\n",
       "      <td>82434</td>\n",
       "      <td>6879272.0</td>\n",
       "      <td>18.729167</td>\n",
       "      <td>0.0</td>\n",
       "      <td>2.158333</td>\n",
       "      <td>76.166667</td>\n",
       "      <td>0.192308</td>\n",
       "      <td>0.0</td>\n",
       "      <td>19.1875</td>\n",
       "      <td>21.3375</td>\n",
       "    </tr>\n",
       "    <tr>\n",
       "      <th>623581</th>\n",
       "      <td>26388</td>\n",
       "      <td>182320</td>\n",
       "      <td>6879272.0</td>\n",
       "      <td>18.729167</td>\n",
       "      <td>0.0</td>\n",
       "      <td>2.158333</td>\n",
       "      <td>76.166667</td>\n",
       "      <td>0.192308</td>\n",
       "      <td>0.0</td>\n",
       "      <td>19.1875</td>\n",
       "      <td>21.3375</td>\n",
       "    </tr>\n",
       "    <tr>\n",
       "      <th>623582</th>\n",
       "      <td>81772</td>\n",
       "      <td>204438</td>\n",
       "      <td>6879272.0</td>\n",
       "      <td>18.729167</td>\n",
       "      <td>0.0</td>\n",
       "      <td>2.158333</td>\n",
       "      <td>76.166667</td>\n",
       "      <td>0.192308</td>\n",
       "      <td>0.0</td>\n",
       "      <td>19.1875</td>\n",
       "      <td>21.3375</td>\n",
       "    </tr>\n",
       "    <tr>\n",
       "      <th>623583</th>\n",
       "      <td>92258</td>\n",
       "      <td>220745</td>\n",
       "      <td>6879272.0</td>\n",
       "      <td>18.729167</td>\n",
       "      <td>0.0</td>\n",
       "      <td>2.158333</td>\n",
       "      <td>76.166667</td>\n",
       "      <td>0.192308</td>\n",
       "      <td>0.0</td>\n",
       "      <td>19.1875</td>\n",
       "      <td>21.3375</td>\n",
       "    </tr>\n",
       "  </tbody>\n",
       "</table>\n",
       "</div>"
      ],
      "text/plain": [
       "        USER_ID  STORE_ID  traffic_total         기온  강수량        풍속         습도  \\\n",
       "623579    15521    182320      6879272.0  18.729167  0.0  2.158333  76.166667   \n",
       "623580    17651     82434      6879272.0  18.729167  0.0  2.158333  76.166667   \n",
       "623581    26388    182320      6879272.0  18.729167  0.0  2.158333  76.166667   \n",
       "623582    81772    204438      6879272.0  18.729167  0.0  2.158333  76.166667   \n",
       "623583    92258    220745      6879272.0  18.729167  0.0  2.158333  76.166667   \n",
       "\n",
       "            일조시간  적설량     지면온도     지중온도  \n",
       "623579  0.192308  0.0  19.1875  21.3375  \n",
       "623580  0.192308  0.0  19.1875  21.3375  \n",
       "623581  0.192308  0.0  19.1875  21.3375  \n",
       "623582  0.192308  0.0  19.1875  21.3375  \n",
       "623583  0.192308  0.0  19.1875  21.3375  "
      ]
     },
     "execution_count": 41,
     "metadata": {},
     "output_type": "execute_result"
    }
   ],
   "source": [
    "# test 데이터의 feature를 가져옵니다\n",
    "X_test = test[feature_names]\n",
    "\n",
    "print(X_test.shape)\n",
    "X_test.head()"
   ]
  },
  {
   "cell_type": "code",
   "execution_count": 42,
   "metadata": {},
   "outputs": [
    {
     "name": "stdout",
     "output_type": "stream",
     "text": [
      "(623579,)\n"
     ]
    },
    {
     "data": {
      "text/plain": [
       "0    1\n",
       "1    1\n",
       "2    1\n",
       "3    1\n",
       "4    1\n",
       "Name: COUNT, dtype: int64"
      ]
     },
     "execution_count": 42,
     "metadata": {},
     "output_type": "execute_result"
    }
   ],
   "source": [
    "# train 데이터의 label을 가져옵니다\n",
    "y_train = train[\"COUNT\"]\n",
    "\n",
    "print(y_train.shape)\n",
    "y_train.head()"
   ]
  },
  {
   "cell_type": "code",
   "execution_count": 43,
   "metadata": {},
   "outputs": [
    {
     "name": "stdout",
     "output_type": "stream",
     "text": [
      "(255692,)\n"
     ]
    },
    {
     "data": {
      "text/plain": [
       "623579    1\n",
       "623580    1\n",
       "623581    1\n",
       "623582    1\n",
       "623583    1\n",
       "Name: COUNT, dtype: int64"
      ]
     },
     "execution_count": 43,
     "metadata": {},
     "output_type": "execute_result"
    }
   ],
   "source": [
    "# test 데이터의 label을 가져옵니다 (맞혀야하는 실제 정답 값)\n",
    "y_test = test[\"COUNT\"]\n",
    "\n",
    "print(y_test.shape)\n",
    "y_test.head()"
   ]
  },
  {
   "cell_type": "markdown",
   "metadata": {},
   "source": [
    "### Use Random Forest"
   ]
  },
  {
   "cell_type": "code",
   "execution_count": 44,
   "metadata": {},
   "outputs": [
    {
     "data": {
      "text/plain": [
       "RandomForestRegressor(n_estimators=10, n_jobs=-1)"
      ]
     },
     "execution_count": 44,
     "metadata": {},
     "output_type": "execute_result"
    }
   ],
   "source": [
    "from sklearn.ensemble import RandomForestRegressor\n",
    "\n",
    "model = RandomForestRegressor(n_estimators=10,\n",
    "                              n_jobs=-1)\n",
    "model"
   ]
  },
  {
   "cell_type": "markdown",
   "metadata": {},
   "source": [
    "### Fit"
   ]
  },
  {
   "cell_type": "code",
   "execution_count": 45,
   "metadata": {},
   "outputs": [
    {
     "data": {
      "text/plain": [
       "RandomForestRegressor(n_estimators=10, n_jobs=-1)"
      ]
     },
     "execution_count": 45,
     "metadata": {},
     "output_type": "execute_result"
    }
   ],
   "source": [
    "model.fit(X_train, y_train)"
   ]
  },
  {
   "cell_type": "markdown",
   "metadata": {},
   "source": [
    "### Predict"
   ]
  },
  {
   "cell_type": "code",
   "execution_count": 46,
   "metadata": {},
   "outputs": [
    {
     "name": "stdout",
     "output_type": "stream",
     "text": [
      "(255692,)\n"
     ]
    },
    {
     "data": {
      "text/plain": [
       "array([1.1, 1.1, 1.1, ..., 1.1, 1.2, 1. ])"
      ]
     },
     "execution_count": 46,
     "metadata": {},
     "output_type": "execute_result"
    }
   ],
   "source": [
    "# 맞히려는 값의 예측 값 ⭐\n",
    "y_predict = model.predict(X_test)\n",
    "\n",
    "print(y_predict.shape)\n",
    "y_predict"
   ]
  },
  {
   "cell_type": "markdown",
   "metadata": {},
   "source": [
    "# Evaluation 1)MAE ⭐"
   ]
  },
  {
   "cell_type": "code",
   "execution_count": 49,
   "metadata": {},
   "outputs": [
    {
     "data": {
      "text/plain": [
       "0.08405307948625693"
      ]
     },
     "execution_count": 49,
     "metadata": {},
     "output_type": "execute_result"
    }
   ],
   "source": [
    "MAE = mean_absolute_error(y_test, y_predict)\n",
    "\n",
    "MAE"
   ]
  },
  {
   "cell_type": "code",
   "execution_count": null,
   "metadata": {},
   "outputs": [],
   "source": []
  },
  {
   "cell_type": "markdown",
   "metadata": {},
   "source": [
    "# Evaluation 2)MSE ⭐"
   ]
  },
  {
   "cell_type": "code",
   "execution_count": 50,
   "metadata": {},
   "outputs": [
    {
     "data": {
      "text/plain": [
       "0.23487848661671068"
      ]
     },
     "execution_count": 50,
     "metadata": {},
     "output_type": "execute_result"
    }
   ],
   "source": [
    "MSE = mean_squared_error(y_test, y_predict)\n",
    "\n",
    "MSE"
   ]
  },
  {
   "cell_type": "code",
   "execution_count": null,
   "metadata": {},
   "outputs": [],
   "source": []
  },
  {
   "cell_type": "code",
   "execution_count": null,
   "metadata": {},
   "outputs": [],
   "source": []
  }
 ],
 "metadata": {
  "kernelspec": {
   "display_name": "Python 3",
   "language": "python",
   "name": "python3"
  },
  "language_info": {
   "codemirror_mode": {
    "name": "ipython",
    "version": 3
   },
   "file_extension": ".py",
   "mimetype": "text/x-python",
   "name": "python",
   "nbconvert_exporter": "python",
   "pygments_lexer": "ipython3",
   "version": "3.8.5"
  }
 },
 "nbformat": 4,
 "nbformat_minor": 4
}
